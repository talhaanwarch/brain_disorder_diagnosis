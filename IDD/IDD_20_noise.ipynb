{
 "cells": [
  {
   "cell_type": "markdown",
   "metadata": {
    "id": "view-in-github"
   },
   "source": [
    "<a href=\"https://colab.research.google.com/github/talhaanwarch/IDDs_EEG_ML_classification/blob/master/electrode_selection.ipynb\" target=\"_parent\"><img src=\"https://colab.research.google.com/assets/colab-badge.svg\" alt=\"Open In Colab\"/></a>"
   ]
  },
  {
   "cell_type": "markdown",
   "metadata": {
    "id": "nAZkeuKAh84E"
   },
   "source": [
    "# Install Packages"
   ]
  },
  {
   "cell_type": "markdown",
   "metadata": {
    "id": "gZTedeQ8kjcX"
   },
   "source": [
    "In this approach data is segmented and feature are calculated for each segment. Then these features are averaged"
   ]
  },
  {
   "cell_type": "code",
   "execution_count": 1,
   "metadata": {
    "id": "E2dWHVU6--Do"
   },
   "outputs": [],
   "source": [
    "import warnings\n",
    "warnings.filterwarnings(\"ignore\", category=DeprecationWarning)"
   ]
  },
  {
   "cell_type": "code",
   "execution_count": 2,
   "metadata": {
    "colab": {
     "base_uri": "https://localhost:8080/"
    },
    "id": "T9bXPLMDCobm",
    "outputId": "4c77a373-871c-430c-b31d-6a352c463388"
   },
   "outputs": [
    {
     "name": "stdout",
     "output_type": "stream",
     "text": [
      "Collecting wfdb\n",
      "\u001b[?25l  Downloading https://files.pythonhosted.org/packages/f1/99/4b4749925cf4123643b512e27710bfaad4f048eba8b840c581780e2aada9/wfdb-3.2.0-py3-none-any.whl (119kB)\n",
      "\r",
      "\u001b[K     |██▊                             | 10kB 15.9MB/s eta 0:00:01\r",
      "\u001b[K     |█████▌                          | 20kB 10.8MB/s eta 0:00:01\r",
      "\u001b[K     |████████▎                       | 30kB 8.2MB/s eta 0:00:01\r",
      "\u001b[K     |███████████                     | 40kB 7.2MB/s eta 0:00:01\r",
      "\u001b[K     |█████████████▊                  | 51kB 4.5MB/s eta 0:00:01\r",
      "\u001b[K     |████████████████▌               | 61kB 4.4MB/s eta 0:00:01\r",
      "\u001b[K     |███████████████████▏            | 71kB 4.8MB/s eta 0:00:01\r",
      "\u001b[K     |██████████████████████          | 81kB 5.1MB/s eta 0:00:01\r",
      "\u001b[K     |████████████████████████▊       | 92kB 5.4MB/s eta 0:00:01\r",
      "\u001b[K     |███████████████████████████▍    | 102kB 5.6MB/s eta 0:00:01\r",
      "\u001b[K     |██████████████████████████████▏ | 112kB 5.6MB/s eta 0:00:01\r",
      "\u001b[K     |████████████████████████████████| 122kB 5.6MB/s \n",
      "\u001b[?25hRequirement already satisfied: python-dateutil>=2.4.2 in /usr/local/lib/python3.6/dist-packages (from wfdb) (2.8.1)\n",
      "Collecting threadpoolctl>=1.0.0\n",
      "  Downloading https://files.pythonhosted.org/packages/f7/12/ec3f2e203afa394a149911729357aa48affc59c20e2c1c8297a60f33f133/threadpoolctl-2.1.0-py3-none-any.whl\n",
      "Requirement already satisfied: matplotlib>=2.0.0 in /usr/local/lib/python3.6/dist-packages (from wfdb) (3.2.2)\n",
      "Requirement already satisfied: pytz>=2017.2 in /usr/local/lib/python3.6/dist-packages (from wfdb) (2018.9)\n",
      "Requirement already satisfied: idna>=2.2 in /usr/local/lib/python3.6/dist-packages (from wfdb) (2.10)\n",
      "Requirement already satisfied: chardet>=3.0.0 in /usr/local/lib/python3.6/dist-packages (from wfdb) (3.0.4)\n",
      "Requirement already satisfied: certifi>=2016.8.2 in /usr/local/lib/python3.6/dist-packages (from wfdb) (2020.12.5)\n",
      "Requirement already satisfied: pandas>=0.17.0 in /usr/local/lib/python3.6/dist-packages (from wfdb) (1.1.5)\n",
      "Requirement already satisfied: scipy>=0.17.0 in /usr/local/lib/python3.6/dist-packages (from wfdb) (1.4.1)\n",
      "Requirement already satisfied: joblib>=0.11 in /usr/local/lib/python3.6/dist-packages (from wfdb) (1.0.0)\n",
      "Requirement already satisfied: numpy>=1.10.1 in /usr/local/lib/python3.6/dist-packages (from wfdb) (1.19.5)\n",
      "Requirement already satisfied: scikit-learn>=0.18 in /usr/local/lib/python3.6/dist-packages (from wfdb) (0.22.2.post1)\n",
      "Requirement already satisfied: pyparsing>=2.0.4 in /usr/local/lib/python3.6/dist-packages (from wfdb) (2.4.7)\n",
      "Requirement already satisfied: requests>=2.8.1 in /usr/local/lib/python3.6/dist-packages (from wfdb) (2.23.0)\n",
      "Requirement already satisfied: cycler>=0.10.0 in /usr/local/lib/python3.6/dist-packages (from wfdb) (0.10.0)\n",
      "Requirement already satisfied: kiwisolver>=1.1.0 in /usr/local/lib/python3.6/dist-packages (from wfdb) (1.3.1)\n",
      "Requirement already satisfied: urllib3>=1.22 in /usr/local/lib/python3.6/dist-packages (from wfdb) (1.24.3)\n",
      "Requirement already satisfied: six>=1.5 in /usr/local/lib/python3.6/dist-packages (from python-dateutil>=2.4.2->wfdb) (1.15.0)\n",
      "Installing collected packages: threadpoolctl, wfdb\n",
      "Successfully installed threadpoolctl-2.1.0 wfdb-3.2.0\n",
      "Collecting mne\n",
      "\u001b[?25l  Downloading https://files.pythonhosted.org/packages/17/a8/7d8a10345082d4807907a268016b52dfa869b0c412cd84aa1d1de86e1e39/mne-0.22.0-py3-none-any.whl (6.9MB)\n",
      "\u001b[K     |████████████████████████████████| 6.9MB 5.0MB/s \n",
      "\u001b[?25hRequirement already satisfied: scipy>=0.17.1 in /usr/local/lib/python3.6/dist-packages (from mne) (1.4.1)\n",
      "Requirement already satisfied: numpy>=1.11.3 in /usr/local/lib/python3.6/dist-packages (from mne) (1.19.5)\n",
      "Installing collected packages: mne\n",
      "Successfully installed mne-0.22.0\n",
      "Collecting nitime\n",
      "\u001b[?25l  Downloading https://files.pythonhosted.org/packages/22/7e/62b14c3bec4c87b0810accbee581b8ae2ef0715ec64883eeb3786d47f773/nitime-0.9.tar.gz (6.2MB)\n",
      "\u001b[K     |████████████████████████████████| 6.2MB 3.6MB/s \n",
      "\u001b[?25hRequirement already satisfied: numpy in /usr/local/lib/python3.6/dist-packages (from nitime) (1.19.5)\n",
      "Requirement already satisfied: cython in /usr/local/lib/python3.6/dist-packages (from nitime) (0.29.21)\n",
      "Requirement already satisfied: scipy in /usr/local/lib/python3.6/dist-packages (from nitime) (1.4.1)\n",
      "Requirement already satisfied: matplotlib in /usr/local/lib/python3.6/dist-packages (from nitime) (3.2.2)\n",
      "Requirement already satisfied: networkx in /usr/local/lib/python3.6/dist-packages (from nitime) (2.5)\n",
      "Requirement already satisfied: nibabel in /usr/local/lib/python3.6/dist-packages (from nitime) (3.0.2)\n",
      "Requirement already satisfied: cycler>=0.10 in /usr/local/lib/python3.6/dist-packages (from matplotlib->nitime) (0.10.0)\n",
      "Requirement already satisfied: pyparsing!=2.0.4,!=2.1.2,!=2.1.6,>=2.0.1 in /usr/local/lib/python3.6/dist-packages (from matplotlib->nitime) (2.4.7)\n",
      "Requirement already satisfied: python-dateutil>=2.1 in /usr/local/lib/python3.6/dist-packages (from matplotlib->nitime) (2.8.1)\n",
      "Requirement already satisfied: kiwisolver>=1.0.1 in /usr/local/lib/python3.6/dist-packages (from matplotlib->nitime) (1.3.1)\n",
      "Requirement already satisfied: decorator>=4.3.0 in /usr/local/lib/python3.6/dist-packages (from networkx->nitime) (4.4.2)\n",
      "Requirement already satisfied: six in /usr/local/lib/python3.6/dist-packages (from cycler>=0.10->matplotlib->nitime) (1.15.0)\n",
      "Building wheels for collected packages: nitime\n",
      "  Building wheel for nitime (setup.py) ... \u001b[?25l\u001b[?25hdone\n",
      "  Created wheel for nitime: filename=nitime-0.9-cp36-cp36m-linux_x86_64.whl size=4030831 sha256=0aefda8045e5f53f3364d5ab7d95c7aff598d6f9109c477ba1bd6e579341210d\n",
      "  Stored in directory: /root/.cache/pip/wheels/9d/d6/a7/ecbf971b5b91880cbba499bb10d949e84266f24396a916ddb5\n",
      "Successfully built nitime\n",
      "Installing collected packages: nitime\n",
      "Successfully installed nitime-0.9\n",
      "Collecting nolds\n",
      "  Downloading https://files.pythonhosted.org/packages/67/28/60d734bb74181f3a36d685c63b18481789fd54d6c25124662e7195e2d5ed/nolds-0.5.2-py2.py3-none-any.whl\n",
      "Requirement already satisfied: setuptools in /usr/local/lib/python3.6/dist-packages (from nolds) (51.1.1)\n",
      "Requirement already satisfied: future in /usr/local/lib/python3.6/dist-packages (from nolds) (0.16.0)\n",
      "Requirement already satisfied: numpy in /usr/local/lib/python3.6/dist-packages (from nolds) (1.19.5)\n",
      "Installing collected packages: nolds\n",
      "Successfully installed nolds-0.5.2\n"
     ]
    }
   ],
   "source": [
    "!pip install wfdb\n",
    "!pip install mne\n",
    "!pip install nitime\n",
    "!pip install nolds"
   ]
  },
  {
   "cell_type": "code",
   "execution_count": 3,
   "metadata": {
    "colab": {
     "base_uri": "https://localhost:8080/"
    },
    "id": "wN2iOjELEkWh",
    "outputId": "549f27ae-945e-40c8-f7ae-bfd5d381b3cc"
   },
   "outputs": [
    {
     "name": "stdout",
     "output_type": "stream",
     "text": [
      "Collecting git+https://github.com/forrestbao/pyeeg.git\n",
      "  Cloning https://github.com/forrestbao/pyeeg.git to /tmp/pip-req-build-c3nemdwj\n",
      "  Running command git clone -q https://github.com/forrestbao/pyeeg.git /tmp/pip-req-build-c3nemdwj\n",
      "Requirement already satisfied: numpy>=1.9.2 in /usr/local/lib/python3.6/dist-packages (from pyeeg==0.4.4) (1.19.5)\n",
      "Building wheels for collected packages: pyeeg\n",
      "  Building wheel for pyeeg (setup.py) ... \u001b[?25l\u001b[?25hdone\n",
      "  Created wheel for pyeeg: filename=pyeeg-0.4.4-py2.py3-none-any.whl size=28123 sha256=a8948b6d4de1cd2923f77b7487ce0a6f1ce73e4be350168557964960c73fab7b\n",
      "  Stored in directory: /tmp/pip-ephem-wheel-cache-csy953fs/wheels/2d/3f/ad/106d4fc80b61d1ea1fc18e76e7439fd98aa043d83d58eae741\n",
      "Successfully built pyeeg\n",
      "Installing collected packages: pyeeg\n",
      "Successfully installed pyeeg-0.4.4\n",
      "Collecting git+https://github.com/raphaelvallat/entropy.git\n",
      "  Cloning https://github.com/raphaelvallat/entropy.git to /tmp/pip-req-build-bmah1c8q\n",
      "  Running command git clone -q https://github.com/raphaelvallat/entropy.git /tmp/pip-req-build-bmah1c8q\n",
      "Building wheels for collected packages: entropy\n",
      "  Building wheel for entropy (setup.py) ... \u001b[?25l\u001b[?25hdone\n",
      "  Created wheel for entropy: filename=entropy-0.1.2-cp36-none-any.whl size=15612 sha256=46c5b355de7bd7b41331bc27ee0311671e3ae7fb7b1c983e7baf79accc3cbc85\n",
      "  Stored in directory: /tmp/pip-ephem-wheel-cache-73npvh01/wheels/60/ed/d3/b715e38438f1f39edb1383aea79c578073953b25fa576fc71e\n",
      "Successfully built entropy\n",
      "Installing collected packages: entropy\n",
      "Successfully installed entropy-0.1.2\n"
     ]
    }
   ],
   "source": [
    "!pip install git+https://github.com/forrestbao/pyeeg.git\n",
    "!pip install git+https://github.com/raphaelvallat/entropy.git"
   ]
  },
  {
   "cell_type": "markdown",
   "metadata": {
    "id": "M49QbDhkDHIT"
   },
   "source": [
    "# Download data"
   ]
  },
  {
   "cell_type": "code",
   "execution_count": 4,
   "metadata": {
    "colab": {
     "base_uri": "https://localhost:8080/"
    },
    "id": "DJx67zwDEJjM",
    "outputId": "e89ae34f-d449-4ba1-f2f0-c59e0d67afc1"
   },
   "outputs": [
    {
     "name": "stdout",
     "output_type": "stream",
     "text": [
      "--2021-01-16 07:43:34--  https://md-datasets-cache-zipfiles-prod.s3.eu-west-1.amazonaws.com/fshy54ypyh-1.zip\n",
      "Resolving md-datasets-cache-zipfiles-prod.s3.eu-west-1.amazonaws.com (md-datasets-cache-zipfiles-prod.s3.eu-west-1.amazonaws.com)... 52.218.29.88\n",
      "Connecting to md-datasets-cache-zipfiles-prod.s3.eu-west-1.amazonaws.com (md-datasets-cache-zipfiles-prod.s3.eu-west-1.amazonaws.com)|52.218.29.88|:443... connected.\n",
      "HTTP request sent, awaiting response... 200 OK\n",
      "Length: 34220065 (33M) [application/octet-stream]\n",
      "Saving to: ‘fshy54ypyh-1.zip’\n",
      "\n",
      "fshy54ypyh-1.zip    100%[===================>]  32.63M  19.4MB/s    in 1.7s    \n",
      "\n",
      "2021-01-16 07:43:36 (19.4 MB/s) - ‘fshy54ypyh-1.zip’ saved [34220065/34220065]\n",
      "\n"
     ]
    }
   ],
   "source": [
    "!wget https://md-datasets-cache-zipfiles-prod.s3.eu-west-1.amazonaws.com/fshy54ypyh-1.zip"
   ]
  },
  {
   "cell_type": "code",
   "execution_count": 5,
   "metadata": {
    "id": "itGXVFVL-wGt"
   },
   "outputs": [],
   "source": [
    "%%capture \n",
    "!unzip fshy54ypyh-1.zip"
   ]
  },
  {
   "cell_type": "markdown",
   "metadata": {
    "id": "rCn0gh3kDMOI"
   },
   "source": [
    "# Read data"
   ]
  },
  {
   "cell_type": "code",
   "execution_count": 6,
   "metadata": {
    "id": "CfgtZg96ER8W"
   },
   "outputs": [],
   "source": [
    "from glob import glob\n",
    "import os\n",
    "import mne\n",
    "import re\n",
    "import numpy as np\n",
    "from sklearn.preprocessing import MaxAbsScaler\n",
    "import scipy.io\n"
   ]
  },
  {
   "cell_type": "code",
   "execution_count": 7,
   "metadata": {
    "id": "Fx9M98nnyfak"
   },
   "outputs": [],
   "source": [
    "IDD='/content/Data/Data/CleanData/Data/Data/CleanData/CleanData_IDD'\n",
    "TDC='/content/Data/CleanData/CleanData_TDC'\n",
    "!rm '/content/Data/Data/CleanData/Data/Data/CleanData/CleanData_IDD/Rest/NDS001_Rest_CD(1).mat'"
   ]
  },
  {
   "cell_type": "code",
   "execution_count": 8,
   "metadata": {
    "id": "DtgpsOM_K5fz"
   },
   "outputs": [],
   "source": [
    "from scipy import signal\n",
    "nyq = 0.5 * 128\n",
    "l=0.5\n",
    "low = l / nyq\n",
    "high = 50 / nyq\n",
    "b, a = signal.butter(3, [low,high], 'band')"
   ]
  },
  {
   "cell_type": "code",
   "execution_count": 65,
   "metadata": {
    "id": "4VI66v8B5Lj0"
   },
   "outputs": [],
   "source": [
    "IDD_rest=[]\n",
    "for i in glob(IDD+'/Rest/*.mat'):\n",
    "    data=scipy.io.loadmat(i)['clean_data'].T\n",
    "    mu, sigma = np.mean(data), np.std(data)\n",
    "    noise = np.random.normal(mu, sigma, data.shape)*0.2\n",
    "    data=data+noise\n",
    "    data=signal.filtfilt(b, a, data.T).T \n",
    "    IDD_rest.append(data)\n",
    "\n",
    "TDC_rest=[]\n",
    "for i in glob(TDC+'/Rest/*.mat'):\n",
    "    data=scipy.io.loadmat(i)['clean_data'].T\n",
    "    mu, sigma = np.mean(data), np.std(data)\n",
    "    noise = np.random.normal(mu, sigma, data.shape)*0.2\n",
    "    data=data+noise\n",
    "    data=signal.filtfilt(b, a, data.T).T \n",
    "    TDC_rest.append(data)"
   ]
  },
  {
   "cell_type": "code",
   "execution_count": 66,
   "metadata": {
    "colab": {
     "base_uri": "https://localhost:8080/"
    },
    "id": "gwZ-lYJM5Qr4",
    "outputId": "6dbb1ff4-8136-4657-edf0-973bc391303b"
   },
   "outputs": [
    {
     "data": {
      "text/plain": [
       "(7, 7)"
      ]
     },
     "execution_count": 66,
     "metadata": {
      "tags": []
     },
     "output_type": "execute_result"
    }
   ],
   "source": [
    "len(IDD_rest),len(TDC_rest)"
   ]
  },
  {
   "cell_type": "code",
   "execution_count": 67,
   "metadata": {
    "colab": {
     "base_uri": "https://localhost:8080/"
    },
    "id": "D_J3XqrmOn2o",
    "outputId": "6f37fe81-1c55-459b-f5d6-a26584a8ba28"
   },
   "outputs": [
    {
     "name": "stdout",
     "output_type": "stream",
     "text": [
      "(15360, 14) (15360, 14)\n"
     ]
    }
   ],
   "source": [
    "print(IDD_rest[0].shape,TDC_rest[0].shape)"
   ]
  },
  {
   "cell_type": "code",
   "execution_count": 68,
   "metadata": {
    "colab": {
     "base_uri": "https://localhost:8080/"
    },
    "id": "8PbU37CjJepD",
    "outputId": "710eacc6-15b5-479e-b526-3f0f02c34ceb"
   },
   "outputs": [
    {
     "data": {
      "text/plain": [
       "(215040, 14)"
      ]
     },
     "execution_count": 68,
     "metadata": {
      "tags": []
     },
     "output_type": "execute_result"
    }
   ],
   "source": [
    "X1=np.concatenate(TDC_rest)\n",
    "X2=np.concatenate(IDD_rest)\n",
    "X=np.concatenate((X1,X2))\n",
    "X.shape"
   ]
  },
  {
   "cell_type": "code",
   "execution_count": 69,
   "metadata": {
    "colab": {
     "base_uri": "https://localhost:8080/",
     "height": 613
    },
    "id": "zrdJh9QQJeuU",
    "outputId": "3474ce20-82ea-4370-8f52-995932969f15"
   },
   "outputs": [
    {
     "data": {
      "image/png": "[encoded data removed]",
      "text/plain": [
       "<Figure size 1440x720 with 1 Axes>"
      ]
     },
     "metadata": {
      "needs_background": "light",
      "tags": []
     },
     "output_type": "display_data"
    }
   ],
   "source": [
    "import matplotlib.pyplot as plt\n",
    "from sklearn.decomposition import PCA\n",
    "import pandas as pd\n",
    "plt.figure(figsize=(20,10))\n",
    "pca = PCA().fit(X)\n",
    "plt.axhline(0.95)\n",
    "plt.axvline(9)\n",
    "#Plotting the Cumulative Summation of the Explained Variance\n",
    "plt.plot(np.cumsum(pca.explained_variance_ratio_)[0:15])\n",
    "plt.xlabel('Number of Components')\n",
    "plt.ylabel('Variance (%)') #for each component\n",
    "plt.title('Pulsar Dataset Explained Variance')\n",
    "plt.show()"
   ]
  },
  {
   "cell_type": "code",
   "execution_count": 70,
   "metadata": {
    "colab": {
     "base_uri": "https://localhost:8080/"
    },
    "id": "CJUIMTJ5J3tE",
    "outputId": "989f8a10-bbe1-470e-90d4-0eb636494730"
   },
   "outputs": [
    {
     "data": {
      "text/plain": [
       "(215040, 14)"
      ]
     },
     "execution_count": 70,
     "metadata": {
      "tags": []
     },
     "output_type": "execute_result"
    }
   ],
   "source": [
    "channels=['AF3', 'F7', 'F3', 'FC5', 'T7', 'P7', 'O1', 'O2', 'P8', 'T8', 'FC6', 'F4', 'F8', 'AF4']\n",
    "df1 = pd.DataFrame.from_records(X)\n",
    "df1.shape"
   ]
  },
  {
   "cell_type": "code",
   "execution_count": 71,
   "metadata": {
    "colab": {
     "base_uri": "https://localhost:8080/",
     "height": 222
    },
    "id": "Md-Z-73hJ9Da",
    "outputId": "7c4fed7b-368f-472a-c5ec-634c8e687039"
   },
   "outputs": [
    {
     "data": {
      "text/html": [
       "<div>\n",
       "<style scoped>\n",
       "    .dataframe tbody tr th:only-of-type {\n",
       "        vertical-align: middle;\n",
       "    }\n",
       "\n",
       "    .dataframe tbody tr th {\n",
       "        vertical-align: top;\n",
       "    }\n",
       "\n",
       "    .dataframe thead th {\n",
       "        text-align: right;\n",
       "    }\n",
       "</style>\n",
       "<table border=\"1\" class=\"dataframe\">\n",
       "  <thead>\n",
       "    <tr style=\"text-align: right;\">\n",
       "      <th></th>\n",
       "      <th>AF3</th>\n",
       "      <th>F7</th>\n",
       "      <th>F3</th>\n",
       "      <th>FC5</th>\n",
       "      <th>T7</th>\n",
       "      <th>P7</th>\n",
       "      <th>O1</th>\n",
       "      <th>O2</th>\n",
       "      <th>P8</th>\n",
       "      <th>T8</th>\n",
       "      <th>FC6</th>\n",
       "      <th>F4</th>\n",
       "      <th>F8</th>\n",
       "      <th>AF4</th>\n",
       "    </tr>\n",
       "  </thead>\n",
       "  <tbody>\n",
       "    <tr>\n",
       "      <th>0</th>\n",
       "      <td>-3.843243</td>\n",
       "      <td>0.527196</td>\n",
       "      <td>-10.794113</td>\n",
       "      <td>-1.177101</td>\n",
       "      <td>0.427738</td>\n",
       "      <td>1.275810</td>\n",
       "      <td>2.367516</td>\n",
       "      <td>-14.591719</td>\n",
       "      <td>5.638370</td>\n",
       "      <td>-16.338168</td>\n",
       "      <td>-9.321809</td>\n",
       "      <td>5.082607</td>\n",
       "      <td>-1.751476</td>\n",
       "      <td>-0.171395</td>\n",
       "    </tr>\n",
       "    <tr>\n",
       "      <th>1</th>\n",
       "      <td>-4.694445</td>\n",
       "      <td>6.762549</td>\n",
       "      <td>-21.937563</td>\n",
       "      <td>-0.140860</td>\n",
       "      <td>13.155801</td>\n",
       "      <td>7.755729</td>\n",
       "      <td>6.488080</td>\n",
       "      <td>6.486960</td>\n",
       "      <td>-29.556531</td>\n",
       "      <td>-6.046923</td>\n",
       "      <td>-11.467562</td>\n",
       "      <td>11.524912</td>\n",
       "      <td>7.579917</td>\n",
       "      <td>-6.014858</td>\n",
       "    </tr>\n",
       "    <tr>\n",
       "      <th>2</th>\n",
       "      <td>-10.335380</td>\n",
       "      <td>11.578296</td>\n",
       "      <td>-21.561904</td>\n",
       "      <td>-2.673558</td>\n",
       "      <td>15.842382</td>\n",
       "      <td>12.787755</td>\n",
       "      <td>12.775338</td>\n",
       "      <td>8.923127</td>\n",
       "      <td>-37.848709</td>\n",
       "      <td>5.107547</td>\n",
       "      <td>-11.903104</td>\n",
       "      <td>14.726536</td>\n",
       "      <td>11.644679</td>\n",
       "      <td>-0.270660</td>\n",
       "    </tr>\n",
       "    <tr>\n",
       "      <th>3</th>\n",
       "      <td>-0.111957</td>\n",
       "      <td>12.014923</td>\n",
       "      <td>-28.128736</td>\n",
       "      <td>1.648822</td>\n",
       "      <td>13.335452</td>\n",
       "      <td>18.053102</td>\n",
       "      <td>9.173085</td>\n",
       "      <td>8.365238</td>\n",
       "      <td>-45.628419</td>\n",
       "      <td>10.447234</td>\n",
       "      <td>-15.978099</td>\n",
       "      <td>23.512217</td>\n",
       "      <td>23.481479</td>\n",
       "      <td>10.778133</td>\n",
       "    </tr>\n",
       "    <tr>\n",
       "      <th>4</th>\n",
       "      <td>11.873993</td>\n",
       "      <td>17.455438</td>\n",
       "      <td>-30.273390</td>\n",
       "      <td>-5.254458</td>\n",
       "      <td>19.967910</td>\n",
       "      <td>15.560491</td>\n",
       "      <td>0.937717</td>\n",
       "      <td>2.685983</td>\n",
       "      <td>-51.760761</td>\n",
       "      <td>10.505513</td>\n",
       "      <td>-17.768404</td>\n",
       "      <td>29.506540</td>\n",
       "      <td>28.864770</td>\n",
       "      <td>19.593383</td>\n",
       "    </tr>\n",
       "  </tbody>\n",
       "</table>\n",
       "</div>"
      ],
      "text/plain": [
       "         AF3         F7         F3  ...         F4         F8        AF4\n",
       "0  -3.843243   0.527196 -10.794113  ...   5.082607  -1.751476  -0.171395\n",
       "1  -4.694445   6.762549 -21.937563  ...  11.524912   7.579917  -6.014858\n",
       "2 -10.335380  11.578296 -21.561904  ...  14.726536  11.644679  -0.270660\n",
       "3  -0.111957  12.014923 -28.128736  ...  23.512217  23.481479  10.778133\n",
       "4  11.873993  17.455438 -30.273390  ...  29.506540  28.864770  19.593383\n",
       "\n",
       "[5 rows x 14 columns]"
      ]
     },
     "execution_count": 71,
     "metadata": {
      "tags": []
     },
     "output_type": "execute_result"
    }
   ],
   "source": [
    "df1.columns=channels\n",
    "df1.head()"
   ]
  },
  {
   "cell_type": "code",
   "execution_count": 15,
   "metadata": {
    "id": "RxwIL977J_P1"
   },
   "outputs": [],
   "source": []
  },
  {
   "cell_type": "code",
   "execution_count": null,
   "metadata": {
    "id": "Al0LtrhTJezq"
   },
   "outputs": [],
   "source": []
  },
  {
   "cell_type": "code",
   "execution_count": 72,
   "metadata": {
    "id": "u2ajJZbeEkAy"
   },
   "outputs": [],
   "source": [
    "ch=4"
   ]
  },
  {
   "cell_type": "code",
   "execution_count": 73,
   "metadata": {
    "colab": {
     "base_uri": "https://localhost:8080/"
    },
    "id": "4D_5Vg3yCswg",
    "outputId": "e7b8e49b-7509-477a-b8b3-6355ce0b0912"
   },
   "outputs": [
    {
     "name": "stdout",
     "output_type": "stream",
     "text": [
      "Index(['AF4', 'F7', 'T8', 'F8'], dtype='object')\n"
     ]
    }
   ],
   "source": [
    "X_1=df1.var()\n",
    "idx=X_1.sort_values()[-ch::].index\n",
    "\n",
    "print(idx)\n",
    "ch=len(idx)"
   ]
  },
  {
   "cell_type": "code",
   "execution_count": 74,
   "metadata": {
    "id": "uW66yvqADmlb"
   },
   "outputs": [],
   "source": [
    "indx=[]\n",
    "for i in idx:\n",
    "  indx.append(channels.index(i))\n",
    "indx=np.array(indx)  "
   ]
  },
  {
   "cell_type": "code",
   "execution_count": 75,
   "metadata": {
    "colab": {
     "base_uri": "https://localhost:8080/"
    },
    "id": "KZB4etN3I4s4",
    "outputId": "4180fa43-b0f1-43cb-f632-631785bc556b"
   },
   "outputs": [
    {
     "data": {
      "text/plain": [
       "array([13,  1,  9, 12])"
      ]
     },
     "execution_count": 75,
     "metadata": {
      "tags": []
     },
     "output_type": "execute_result"
    }
   ],
   "source": [
    "indx"
   ]
  },
  {
   "cell_type": "code",
   "execution_count": 76,
   "metadata": {
    "id": "SFKvvEyvEcC4"
   },
   "outputs": [],
   "source": [
    "IDD_reshaped=[]\n",
    "TDC_reshaped=[]\n",
    "for i in IDD_rest:\n",
    "  IDD_reshaped.append(i.reshape(-1,512,14)[:,:,indx])\n",
    "for i in TDC_rest:\n",
    "  TDC_reshaped.append(i.reshape(-1,512,14)[:,:,indx])"
   ]
  },
  {
   "cell_type": "code",
   "execution_count": 77,
   "metadata": {
    "colab": {
     "base_uri": "https://localhost:8080/"
    },
    "id": "GGV51Bp_MDHX",
    "outputId": "18927484-4969-408f-f203-d823762207b6"
   },
   "outputs": [
    {
     "data": {
      "text/plain": [
       "(7, 7)"
      ]
     },
     "execution_count": 77,
     "metadata": {
      "tags": []
     },
     "output_type": "execute_result"
    }
   ],
   "source": [
    "len(IDD_reshaped),len(TDC_reshaped)"
   ]
  },
  {
   "cell_type": "code",
   "execution_count": 78,
   "metadata": {
    "colab": {
     "base_uri": "https://localhost:8080/"
    },
    "id": "_8rXI4sQEe_p",
    "outputId": "5939c5cf-eef0-4991-bb52-48932a40b4a5"
   },
   "outputs": [
    {
     "data": {
      "text/plain": [
       "(30, 512, 4)"
      ]
     },
     "execution_count": 78,
     "metadata": {
      "tags": []
     },
     "output_type": "execute_result"
    }
   ],
   "source": [
    "IDD_reshaped[0].shape"
   ]
  },
  {
   "cell_type": "markdown",
   "metadata": {
    "id": "FVH5rTmQDPZ4"
   },
   "source": [
    "# Libraries"
   ]
  },
  {
   "cell_type": "code",
   "execution_count": 79,
   "metadata": {
    "id": "6vHod_4gETis"
   },
   "outputs": [],
   "source": [
    "from scipy import stats\n",
    "import pyeeg\n",
    "from entropy import *\n",
    "import pywt\n",
    "from nitime import algorithms as alg\n",
    "from sklearn import metrics\n",
    "from sklearn.model_selection import train_test_split\n",
    "from sklearn.preprocessing import StandardScaler,MaxAbsScaler\n",
    "from sklearn.svm import SVC\n",
    "from sklearn.linear_model import LogisticRegression\n",
    "from sklearn.neighbors import KNeighborsClassifier\n",
    "\n",
    "import nolds\n",
    "np.warnings.filterwarnings('ignore')"
   ]
  },
  {
   "cell_type": "markdown",
   "metadata": {
    "id": "XA0ZCARWd6T3"
   },
   "source": [
    "# Main Features"
   ]
  },
  {
   "cell_type": "code",
   "execution_count": 80,
   "metadata": {
    "id": "LacFqUQwFbZg"
   },
   "outputs": [],
   "source": [
    "\n",
    "from scipy import stats\n",
    "import pyeeg\n",
    "from entropy import *\n",
    "def mean(data):\n",
    "    return np.mean(data,axis=0)\n",
    "    \n",
    "def std(data):\n",
    "    return np.std(data,axis=0)\n",
    "\n",
    "def ptp(data):\n",
    "    return np.ptp(data,axis=0)\n",
    "\n",
    "def var(data):\n",
    "        return np.var(data,axis=0)\n",
    "\n",
    "def minim(data):\n",
    "      return np.min(data,axis=0)\n",
    "\n",
    "\n",
    "def maxim(data):\n",
    "      return np.max(data,axis=0)\n",
    "\n",
    "def argminim(data):\n",
    "      return np.argmin(data,axis=0)\n",
    "\n",
    "\n",
    "def argmaxim(data):\n",
    "      return np.argmax(data,axis=0)\n",
    "\n",
    "def mean_square(data):\n",
    "      return np.mean(data**2,axis=0)\n",
    "\n",
    "def rms(data): #root mean square\n",
    "      return  np.sqrt(np.mean(data**2,axis=0))  \n",
    "\n",
    "def abs_diffs_signal(data):\n",
    "    return np.sum(np.abs(np.diff(data,axis=0)),axis=0)\n",
    "\n",
    "\n",
    "def skewness(data):\n",
    "    return stats.skew(data,axis=0)\n",
    "\n",
    "def kurtosis(data):\n",
    "    return stats.kurtosis(data,axis=0)\n",
    "\n",
    "def zero_crossing(data):\n",
    "    return np.argmax(np.diff(np.sign(data),axis=0),axis=0)\n",
    "\n",
    "def app_epy(data):\n",
    "    result=[]\n",
    "    for i in data.T:\n",
    "        result.append(app_entropy(i, order=2, metric='chebyshev'))\n",
    "    return np.array(result)\n",
    "\n",
    "def perm_epy(data):\n",
    "    result=[]\n",
    "    for i in data.T:\n",
    "        result.append(perm_entropy(i, order=3, normalize=True))\n",
    "    return np.array(result)\n",
    "\n",
    "def svd_epy(data):\n",
    "    result=[]\n",
    "    for i in data.T:\n",
    "        result.append(svd_entropy(i, order=3, delay=1, normalize=True))\n",
    "    return np.array(result)\n",
    "\n",
    "def spectral_epy(data):\n",
    "    result=[]\n",
    "    for i in data.T:\n",
    "        result.append(spectral_entropy(i, 100, method='welch', normalize=True))\n",
    "    return np.array(result)\n",
    "\n",
    "def sample_epy(data):\n",
    "    result=[]\n",
    "    for i in data.T:\n",
    "        result.append(sample_entropy(i, order=2, metric='chebyshev'))\n",
    "    return np.array(result)\n",
    "\n",
    "\n",
    "def katz(data):\n",
    "    result=[]\n",
    "    for i in data.T:\n",
    "        result.append(katz_fd(i))\n",
    "    return np.array(result)\n",
    "\n",
    "def higuchi(data):\n",
    "    result=[]\n",
    "    for i in data.T:\n",
    "        result.append(higuchi_fd(i))\n",
    "    return np.array(result)\n",
    "\n",
    "\n",
    "def petrosian(data):\n",
    "    result=[]\n",
    "    for i in data.T:\n",
    "        result.append(petrosian_fd(i))\n",
    "    return np.array(result)\n",
    "\n",
    "def autogressiveModelParameters(data):\n",
    "    feature = []\n",
    "    for i in data.T:\n",
    "        coeff, sig = alg.AR_est_YW(i, order=5)\n",
    "        feature.append(np.mean(coeff))\n",
    "    return np.array(feature)\n",
    "\n",
    "def teager(x):\n",
    "    for i in range(len(x)-1):\n",
    "        return x[i]**2 - (x[i-1]*x[i+1])\n",
    "\n",
    "\n",
    "def lziv_complex(data):\n",
    "    result=[]\n",
    "    for i in data.T:\n",
    "        result.append(lziv_complexity(i))\n",
    "    return np.array(result)\n",
    "\n",
    "        \n",
    "def hjorth_mobility(data):\n",
    "    return np.divide(np.std(np.diff(data,axis=0),axis=0),np.std(data,axis=0))\n",
    "\n",
    "def hjorth_complexity(data):\n",
    "    return np.divide(hjorth_mobility(np.diff(data,axis=0)),  hjorth_mobility(data))      \n",
    "\n",
    "\n",
    "\n",
    "\n",
    "def concatenate_features(data):\n",
    "    return np.concatenate((mean(data),std(data),ptp(data),var(data),minim(data),maxim(data),argminim(data),argmaxim(data),\n",
    "                          mean_square(data),rms(data),abs_diffs_signal(data),\n",
    "                          skewness(data),kurtosis(data),zero_crossing(data),\n",
    "                          app_epy(data),perm_epy(data),svd_epy(data),spectral_epy(data),sample_epy(data),\n",
    "                          katz(data),higuchi(data),petrosian(data),teager(data),lziv_complex(data),\n",
    "                          hjorth_mobility(data),hjorth_complexity(data)),axis=0)"
   ]
  },
  {
   "cell_type": "code",
   "execution_count": 80,
   "metadata": {
    "id": "ypLpU9EziTkC"
   },
   "outputs": [],
   "source": []
  },
  {
   "cell_type": "code",
   "execution_count": 81,
   "metadata": {
    "id": "enEVrHoCWvtz"
   },
   "outputs": [],
   "source": [
    "features1=[]\n",
    "for f in IDD_reshaped:\n",
    "    feature=[]\n",
    "    for i in f:\n",
    "        feature.append(concatenate_features(i))\n",
    "    features1.append(np.mean(np.array(feature),axis=0))"
   ]
  },
  {
   "cell_type": "code",
   "execution_count": 82,
   "metadata": {
    "id": "RKWr72BTWvt5"
   },
   "outputs": [],
   "source": [
    "features2=[]\n",
    "for f in TDC_reshaped:\n",
    "    feature=[]\n",
    "    for i in f:\n",
    "        feature.append(concatenate_features(i))\n",
    "    features2.append(np.mean(np.array(feature),axis=0))"
   ]
  },
  {
   "cell_type": "code",
   "execution_count": 83,
   "metadata": {
    "colab": {
     "base_uri": "https://localhost:8080/"
    },
    "id": "3cVURnzepN0N",
    "outputId": "33d79ced-ef60-4e75-e804-c5af86666754"
   },
   "outputs": [
    {
     "data": {
      "text/plain": [
       "((14, 104), (14,))"
      ]
     },
     "execution_count": 83,
     "metadata": {
      "tags": []
     },
     "output_type": "execute_result"
    }
   ],
   "source": [
    "x1=np.array(features1)        \n",
    "x2=np.array(features2)      \n",
    "\n",
    "X=np.concatenate((x1,x2),axis=0)\n",
    "\n",
    "y=np.concatenate(((np.zeros(x1.shape[0])),(np.ones(x2.shape[0]))))\n",
    "X.shape,y.shape"
   ]
  },
  {
   "cell_type": "code",
   "execution_count": 84,
   "metadata": {
    "colab": {
     "base_uri": "https://localhost:8080/"
    },
    "id": "BjQOtDVzjbrK",
    "outputId": "3bcb43ad-1174-4b4d-dcca-3c3ec474e03a"
   },
   "outputs": [
    {
     "name": "stdout",
     "output_type": "stream",
     "text": [
      "              precision    recall  f1-score   support\n",
      "\n",
      "         0.0       0.50      0.50      0.50         2\n",
      "         1.0       0.00      0.00      0.00         1\n",
      "\n",
      "    accuracy                           0.33         3\n",
      "   macro avg       0.25      0.25      0.25         3\n",
      "weighted avg       0.33      0.33      0.33         3\n",
      "\n",
      "accuracy is  0.3333333333333333\n"
     ]
    }
   ],
   "source": [
    "X_train, X_test, y_train, y_test = train_test_split(X, y,test_size=0.2, random_state=42,stratify=y)\n",
    "sc=StandardScaler()\n",
    "X_train=sc.fit_transform(X_train)\n",
    "X_test=sc.transform(X_test)\n",
    "clf=SVC(kernel='rbf')\n",
    "clf.fit(X_train,y_train)\n",
    "y_pred = clf.predict(X_test)\n",
    "\n",
    "from sklearn.metrics import classification_report,accuracy_score\n",
    "print(classification_report(y_test,y_pred))\n",
    "print('accuracy is ',accuracy_score(y_test, y_pred))"
   ]
  },
  {
   "cell_type": "code",
   "execution_count": 85,
   "metadata": {
    "id": "GJBuPvNEToHn"
   },
   "outputs": [],
   "source": [
    "from sklearn.preprocessing import scale\n",
    "feature=X.copy()\n",
    "label=y.copy()\n",
    "feature=scale(feature)"
   ]
  },
  {
   "cell_type": "code",
   "execution_count": 86,
   "metadata": {
    "colab": {
     "base_uri": "https://localhost:8080/"
    },
    "id": "l3a10gQQ_kqJ",
    "outputId": "4ab28c95-94ad-4bac-8dfd-615f04bc09d6"
   },
   "outputs": [
    {
     "name": "stdout",
     "output_type": "stream",
     "text": [
      "accuracy 0.8\n",
      "f1 macro 0.8\n"
     ]
    }
   ],
   "source": [
    " from sklearn.model_selection import KFold,StratifiedKFold\n",
    "from sklearn.svm import SVC, LinearSVC, NuSVC\n",
    "from sklearn.model_selection import cross_val_score\n",
    "from sklearn.model_selection import GridSearchCV\n",
    "def svc_param_selection(X, y,scoring='accuracy'):\n",
    "    Cs = [ 0.1, 1, 10,15,20,25,30,40,50,60,70,100,120]\n",
    "    gammas = [0.0001,0.0005,0.001,0.005,0.008, 0.01, 0.1,0.3,0.5, 1]\n",
    "    param_grid = {'C': Cs, 'gamma' : gammas}\n",
    "    grid_search = GridSearchCV(SVC(kernel='rbf'), param_grid, cv=KFold(10),scoring=scoring)\n",
    "    grid_search.fit(X, y)\n",
    "    grid_search.best_params_\n",
    "    return grid_search.best_score_\n",
    "\n",
    "\n",
    "print('accuracy',svc_param_selection(feature,label))\n",
    "print('f1 macro',svc_param_selection(feature,label,scoring='f1_macro'))"
   ]
  },
  {
   "cell_type": "code",
   "execution_count": 87,
   "metadata": {
    "colab": {
     "base_uri": "https://localhost:8080/"
    },
    "id": "voO5CD9NP7cl",
    "outputId": "4a3e2dfa-1334-4cd7-9db9-a7054bf8da16"
   },
   "outputs": [
    {
     "data": {
      "text/plain": [
       "0.7142857142857143"
      ]
     },
     "execution_count": 87,
     "metadata": {
      "tags": []
     },
     "output_type": "execute_result"
    }
   ],
   "source": [
    "from sklearn.tree import DecisionTreeClassifier\n",
    "def dtree_param_selection(X,y,scoring='accuracy'):\n",
    "    #create a dictionary of all values we want to test\n",
    "    param_grid = { 'criterion':['gini','entropy'],'max_features':[\"auto\", \"sqrt\", \"log2\"],'max_depth': np.arange(2, 20),'random_state':[10,20,30,40,50]}\n",
    "    # decision tree model\n",
    "    dtree_model=DecisionTreeClassifier()\n",
    "    #use gridsearch to test all values\n",
    "    dtree_gscv = GridSearchCV(dtree_model, param_grid, cv=StratifiedKFold(7),scoring=scoring)\n",
    "    #fit model to data\n",
    "    dtree_gscv.fit(X, y)\n",
    "    #print(dtree_gscv.best_score_)\n",
    "    #print(dtree_gscv.best_estimator_)\n",
    "    return dtree_gscv.best_score_\n",
    "\n",
    "dtree_param_selection(feature,label,scoring='accuracy')\n",
    "dtree_param_selection(feature,label,scoring='f1_macro')"
   ]
  },
  {
   "cell_type": "code",
   "execution_count": 88,
   "metadata": {
    "id": "-pF-532Z4iEK"
   },
   "outputs": [],
   "source": [
    "feature_list=['mean','std','ptp','var','minim','maxim','argmin','argmax','mean_square','rms','abs_diffs_signal','skewness','kurtosis','zero_crossing',\n",
    "'app_epy','perm_epy','svd_epy','spectral_epy','sample_epy','katz','higuchi','petrosian','teager','lziv_complex',\n",
    "'hjorth_mobility','hjorth_complexity']"
   ]
  },
  {
   "cell_type": "code",
   "execution_count": 89,
   "metadata": {
    "colab": {
     "base_uri": "https://localhost:8080/"
    },
    "id": "6P73wA4E4llG",
    "outputId": "9f8ae191-6f27-4666-9fc4-d99b4697cafb"
   },
   "outputs": [
    {
     "name": "stdout",
     "output_type": "stream",
     "text": [
      "mean  :  0.7\n",
      "std  :  0.65\n",
      "ptp  :  0.6\n",
      "var  :  0.45\n",
      "minim  :  0.6\n",
      "maxim  :  0.7\n",
      "argmin  :  0.7\n",
      "argmax  :  0.65\n",
      "mean_square  :  0.45\n",
      "rms  :  0.65\n",
      "abs_diffs_signal  :  0.6\n",
      "skewness  :  0.55\n",
      "kurtosis  :  0.4\n",
      "zero_crossing  :  0.7\n",
      "app_epy  :  1.0\n",
      "perm_epy  :  0.75\n",
      "svd_epy  :  0.85\n",
      "spectral_epy  :  0.8\n",
      "sample_epy  :  1.0\n",
      "katz  :  0.85\n",
      "higuchi  :  0.8\n",
      "petrosian  :  0.75\n",
      "teager  :  0.05\n",
      "lziv_complex  :  0.8\n",
      "hjorth_mobility  :  0.6\n",
      "hjorth_complexity  :  0.85\n"
     ]
    }
   ],
   "source": [
    "feature_selected=[]\n",
    "feat_non_sorted=[]\n",
    "score_non_sorted=[]\n",
    "for i ,j in zip(range(0,feature.shape[1],ch),feature_list):\n",
    "  acc=svc_param_selection(feature[:,i:i+ch],label)\n",
    "  print(j,\" : \",acc)\n",
    "  feat_non_sorted.append(j)\n",
    "  score_non_sorted.append(acc)"
   ]
  },
  {
   "cell_type": "code",
   "execution_count": 90,
   "metadata": {
    "colab": {
     "base_uri": "https://localhost:8080/"
    },
    "id": "qIz9Ex424loX",
    "outputId": "d2b431e2-da10-41a0-ccd8-c6c413b1ad1d"
   },
   "outputs": [
    {
     "name": "stdout",
     "output_type": "stream",
     "text": [
      "['mean', 'std', 'ptp', 'var', 'minim', 'maxim', 'argmin', 'argmax', 'mean_square', 'rms', 'abs_diffs_signal', 'skewness', 'kurtosis', 'zero_crossing', 'app_epy', 'perm_epy', 'svd_epy', 'spectral_epy', 'sample_epy', 'katz', 'higuchi', 'petrosian', 'teager', 'lziv_complex', 'hjorth_mobility', 'hjorth_complexity']\n",
      "[0.7, 0.65, 0.6, 0.45, 0.6, 0.7, 0.7, 0.65, 0.45, 0.65, 0.6, 0.55, 0.4, 0.7, 1.0, 0.75, 0.85, 0.8, 1.0, 0.85, 0.8, 0.75, 0.05, 0.8, 0.6, 0.85]\n"
     ]
    }
   ],
   "source": [
    "print(feat_non_sorted)\n",
    "print(score_non_sorted)"
   ]
  },
  {
   "cell_type": "code",
   "execution_count": 91,
   "metadata": {
    "id": "wGaBeLj24lrX"
   },
   "outputs": [],
   "source": [
    "score,feat  = zip(*sorted(zip(score_non_sorted, feat_non_sorted),reverse=True))\n"
   ]
  },
  {
   "cell_type": "code",
   "execution_count": 92,
   "metadata": {
    "colab": {
     "base_uri": "https://localhost:8080/"
    },
    "id": "ZTPuv_z34us1",
    "outputId": "819a3222-9348-4ac2-e7fa-2f76707d4788"
   },
   "outputs": [
    {
     "name": "stdout",
     "output_type": "stream",
     "text": [
      "('sample_epy', 'app_epy', 'svd_epy', 'katz', 'hjorth_complexity', 'spectral_epy', 'lziv_complex', 'higuchi', 'petrosian', 'perm_epy', 'zero_crossing', 'mean', 'maxim', 'argmin', 'std', 'rms', 'argmax', 'ptp', 'minim', 'hjorth_mobility', 'abs_diffs_signal', 'skewness', 'var', 'mean_square', 'kurtosis', 'teager')\n",
      "(1.0, 1.0, 0.85, 0.85, 0.85, 0.8, 0.8, 0.8, 0.75, 0.75, 0.7, 0.7, 0.7, 0.7, 0.65, 0.65, 0.65, 0.6, 0.6, 0.6, 0.6, 0.55, 0.45, 0.45, 0.4, 0.05)\n"
     ]
    }
   ],
   "source": [
    "print(feat)\n",
    "print(score)"
   ]
  },
  {
   "cell_type": "code",
   "execution_count": 93,
   "metadata": {
    "id": "_LbTvYtcuVDc"
   },
   "outputs": [],
   "source": [
    "# for i, j in zip(feat,score):\n",
    "#   print(i,j)"
   ]
  },
  {
   "cell_type": "code",
   "execution_count": 94,
   "metadata": {
    "colab": {
     "base_uri": "https://localhost:8080/"
    },
    "id": "4tODTVwi4uwF",
    "outputId": "41392c8b-62f4-42fe-b3d3-e004976d5f13"
   },
   "outputs": [
    {
     "name": "stdout",
     "output_type": "stream",
     "text": [
      "1  :  1.0\n",
      "2  :  1.0\n",
      "3  :  1.0\n",
      "4  :  0.9333333333333332\n",
      "5  :  0.9\n",
      "6  :  0.8333333333333333\n",
      "7  :  0.8333333333333333\n",
      "8  :  0.8\n",
      "9  :  0.8333333333333333\n",
      "10  :  0.8333333333333333\n",
      "11  :  0.9\n",
      "12  :  0.9\n",
      "13  :  0.9\n",
      "14  :  0.8\n",
      "15  :  0.8\n",
      "16  :  0.8\n",
      "17  :  0.8\n",
      "18  :  0.8\n",
      "19  :  0.8\n"
     ]
    }
   ],
   "source": [
    "def del_item(a, b):\n",
    "     return [x for x in a if x not in b]\n",
    "\n",
    "\n",
    "\n",
    "#skf = StratifiedKFold(n_splits=10, random_state=2020, shuffle=False)\n",
    "acc=0\n",
    "deleted_item=[]\n",
    "for i in range(1,20):\n",
    "  feature_selected=list(feat[:i])\n",
    "  # feature_selected=del_item(feature_selected,deleted_item)\n",
    "\n",
    "  X_good=[]\n",
    "  for key,val in zip(feature_list,range(0,feature.shape[1],ch)):\n",
    "      for fe in feature_selected:\n",
    "          if key==fe:     \n",
    "              #print('key',key,'value',val,\":\",val+ch) \n",
    "              X_good.append(feature[:,val:val+ch])\n",
    "  good_feature=np.concatenate((X_good),axis=1)\n",
    "  #good_feature=np.concatenate((good_feature,non_eeg),1)\n",
    "\n",
    "\n",
    "  acc_new=svc_param_selection(good_feature,label,scoring='f1_macro')\n",
    "  print(i,' : ', acc_new)\n",
    "\n",
    "  # print(acc_new, good_feature.shape)\n",
    "  # if acc_new<(acc-0.01):\n",
    "  #   deleted_item.append(feature_selected.pop())\n",
    "  #   print('del item',deleted_item)\n",
    "  # else:\n",
    "  #   acc=acc_new\n"
   ]
  },
  {
   "cell_type": "code",
   "execution_count": 95,
   "metadata": {
    "colab": {
     "base_uri": "https://localhost:8080/"
    },
    "id": "D_8pLs4P4uzW",
    "outputId": "55e83252-c0ca-485d-fac4-1ae293c0ab1f"
   },
   "outputs": [
    {
     "name": "stdout",
     "output_type": "stream",
     "text": [
      "key app_epy value 56 : 60\n",
      "key svd_epy value 64 : 68\n",
      "key sample_epy value 72 : 76\n",
      "key katz value 76 : 80\n"
     ]
    }
   ],
   "source": [
    "feature_selected=feat[:4]\n",
    "X_good=[]\n",
    "for key,val in zip(feature_list,range(0,feature.shape[1],ch)):\n",
    "    for fe in feature_selected:\n",
    "        if key==fe:     \n",
    "            print('key',key,'value',val,\":\",val+ch) \n",
    "            X_good.append(feature[:,val:val+ch])"
   ]
  },
  {
   "cell_type": "code",
   "execution_count": 96,
   "metadata": {
    "colab": {
     "base_uri": "https://localhost:8080/"
    },
    "id": "qGjz4Vnz4u2j",
    "outputId": "3c33e3b8-547e-4fd5-d77f-98d373ae7b66"
   },
   "outputs": [
    {
     "data": {
      "text/plain": [
       "(14, 16)"
      ]
     },
     "execution_count": 96,
     "metadata": {
      "tags": []
     },
     "output_type": "execute_result"
    }
   ],
   "source": [
    "good_feature=np.concatenate((X_good),axis=1)\n",
    "good_feature.shape"
   ]
  },
  {
   "cell_type": "code",
   "execution_count": 97,
   "metadata": {
    "colab": {
     "base_uri": "https://localhost:8080/"
    },
    "id": "P4alC6LYG3vZ",
    "outputId": "693d5b82-ec6b-4ecf-be4a-98d4c4e7b0f1"
   },
   "outputs": [
    {
     "name": "stdout",
     "output_type": "stream",
     "text": [
      "{'C': 1, 'gamma': 0.1}\n"
     ]
    },
    {
     "data": {
      "text/plain": [
       "0.9166666666666666"
      ]
     },
     "execution_count": 97,
     "metadata": {
      "tags": []
     },
     "output_type": "execute_result"
    }
   ],
   "source": [
    "from sklearn.svm import SVC, LinearSVC, NuSVC\n",
    "from sklearn.model_selection import cross_val_score\n",
    "from sklearn.model_selection import GridSearchCV\n",
    "def svc_param_selection(X, y):\n",
    "    Cs = [ 0.1, 1, 10,15,20,25,30,40,50,60,70,100,120]\n",
    "    gammas = [0.0001,0.0005,0.001,0.005,0.008, 0.01, 0.1,0.3,0.5, 1]\n",
    "    param_grid = {'C': Cs, 'gamma' : gammas}\n",
    "    grid_search = GridSearchCV(SVC(kernel='rbf'), param_grid, cv=3)\n",
    "    grid_search.fit(X, y)\n",
    "    print(grid_search.best_params_)\n",
    "    return grid_search.best_score_\n",
    "\n",
    "\n",
    "svc_param_selection(good_feature,label)\n"
   ]
  },
  {
   "cell_type": "code",
   "execution_count": 98,
   "metadata": {
    "colab": {
     "base_uri": "https://localhost:8080/"
    },
    "id": "ZLOPVCSpG_vC",
    "outputId": "86253550-5e1d-4663-846e-6916c0db0c87"
   },
   "outputs": [
    {
     "name": "stdout",
     "output_type": "stream",
     "text": [
      "average accuracy :  0.9166666666666666 0.11785113019775792\n",
      "average precision :  1.0 0.0\n",
      "average recall :  0.8333333333333334 0.23570226039551584\n",
      "average f1 score :  0.8888888888888888 0.15713484026367724\n"
     ]
    }
   ],
   "source": [
    "clf = SVC(kernel=\"rbf\", C=1,gamma=0.1, probability=True)\n",
    "acc = cross_val_score(clf,good_feature,label,cv=3)\n",
    "precision = cross_val_score(clf,good_feature,label,cv=3,scoring='precision')\n",
    "recall = cross_val_score(clf,good_feature,label,cv=3,scoring='recall')\n",
    "f1 = cross_val_score(clf,good_feature,label,cv=3,scoring='f1')\n",
    "\n",
    "print('average accuracy : ',np.array(acc).mean(),np.std(np.array(acc)))\n",
    "print('average precision : ',np.array(precision).mean(),np.std(np.array(precision)))\n",
    "print('average recall : ',np.array(recall).mean(),np.std(np.array(recall)))\n",
    "print('average f1 score : ',np.array(f1).mean(),np.std(np.array(f1)))"
   ]
  },
  {
   "cell_type": "code",
   "execution_count": 99,
   "metadata": {
    "colab": {
     "base_uri": "https://localhost:8080/"
    },
    "id": "sFwJM6HRHDkN",
    "outputId": "ff95f8e6-b20c-457d-f9aa-a871dcfd6ed7"
   },
   "outputs": [
    {
     "name": "stdout",
     "output_type": "stream",
     "text": [
      "0.85\n"
     ]
    },
    {
     "data": {
      "text/plain": [
       "{'metric': 'minkowski', 'n_neighbors': 5, 'weights': 'uniform'}"
      ]
     },
     "execution_count": 99,
     "metadata": {
      "tags": []
     },
     "output_type": "execute_result"
    }
   ],
   "source": [
    "def knn_param_selection(X, y, nfolds):\n",
    "    n_neighbors  = [ 3,4,5,6,7,8,9]\n",
    "    weights  = ['uniform','distance']\n",
    "    metric=['minkowski','manhattan','euclidean']\n",
    "    param_grid = {'n_neighbors': n_neighbors, 'weights' : weights,'metric':metric}\n",
    "    grid_search =GridSearchCV( KNeighborsClassifier(), param_grid, cv=nfolds,n_jobs=-1)\n",
    "    grid_search.fit(X, y)\n",
    "    print(grid_search.best_score_)\n",
    "    return grid_search.best_params_\n",
    "\n",
    "\n",
    "knn_param_selection(good_feature,label,3)"
   ]
  },
  {
   "cell_type": "code",
   "execution_count": 100,
   "metadata": {
    "colab": {
     "base_uri": "https://localhost:8080/"
    },
    "id": "fZXBxo5NHlH4",
    "outputId": "cea7029b-f548-41e9-d5b1-beee3d5a2927"
   },
   "outputs": [
    {
     "name": "stdout",
     "output_type": "stream",
     "text": [
      "average accuracy :  0.85 0.10801234497346433\n",
      "average precision :  1.0 0.0\n",
      "average recall :  0.7222222222222222 0.20786985482077452\n",
      "average f1 score :  0.8222222222222223 0.13698697784375505\n"
     ]
    }
   ],
   "source": [
    "\n",
    "clf = KNeighborsClassifier(metric= 'minkowski', n_neighbors=5, weights= 'uniform')\n",
    "acc = cross_val_score(clf,good_feature,label,cv=3)\n",
    "precision = cross_val_score(clf,good_feature,label,cv=3,scoring='precision')\n",
    "recall = cross_val_score(clf,good_feature,label,cv=3,scoring='recall')\n",
    "f1 = cross_val_score(clf,good_feature,label,cv=3,scoring='f1')\n",
    "\n",
    "print('average accuracy : ',np.array(acc).mean(),np.std(np.array(acc)))\n",
    "print('average precision : ',np.array(precision).mean(),np.std(np.array(precision)))\n",
    "print('average recall : ',np.array(recall).mean(),np.std(np.array(recall)))\n",
    "print('average f1 score : ',np.array(f1).mean(),np.std(np.array(f1)))"
   ]
  },
  {
   "cell_type": "code",
   "execution_count": 101,
   "metadata": {
    "colab": {
     "base_uri": "https://localhost:8080/"
    },
    "id": "M2glsDq64u69",
    "outputId": "d4f3c453-2dbd-411b-8d31-c8b31d42b4f5"
   },
   "outputs": [
    {
     "name": "stdout",
     "output_type": "stream",
     "text": [
      "0.7666666666666666\n"
     ]
    },
    {
     "data": {
      "text/plain": [
       "{'C': 1, 'max_iter': 200}"
      ]
     },
     "execution_count": 101,
     "metadata": {
      "tags": []
     },
     "output_type": "execute_result"
    }
   ],
   "source": [
    "from sklearn.linear_model import LogisticRegression\n",
    "def logistic_param_selection(X, y, nfolds):\n",
    "    C= [0.001,0.05,0.1, 1,2,3,4,5,8, 10,12,15]\n",
    "    max_it= [200,300,400,500]\n",
    "    param_grid = {'C': C,'max_iter':max_it}\n",
    "    grid_search = GridSearchCV(LogisticRegression(), param_grid, cv=nfolds)\n",
    "    grid_search.fit(X, y)\n",
    "    print(grid_search.best_score_)\n",
    "    return grid_search.best_params_\n",
    "\n",
    "\n",
    "logistic_param_selection(good_feature,label,3)"
   ]
  },
  {
   "cell_type": "code",
   "execution_count": 102,
   "metadata": {
    "colab": {
     "base_uri": "https://localhost:8080/"
    },
    "id": "EZ-s-4iRGvZf",
    "outputId": "29f22b9d-3872-4995-f7a9-bf0ef970f179"
   },
   "outputs": [
    {
     "name": "stdout",
     "output_type": "stream",
     "text": [
      "average accuracy :  0.7666666666666666 0.20548046676563256\n",
      "average precision :  0.6666666666666666 0.4714045207910317\n",
      "average recall :  0.5555555555555555 0.41573970964154905\n",
      "average f1 score :  0.6 0.43204937989385733\n"
     ]
    }
   ],
   "source": [
    "clf = LogisticRegression(max_iter=200,C=1)\n",
    "acc = cross_val_score(clf,good_feature,label,cv=3)\n",
    "precision = cross_val_score(clf,good_feature,label,cv=3,scoring='precision')\n",
    "recall = cross_val_score(clf,good_feature,label,cv=3,scoring='recall')\n",
    "f1 = cross_val_score(clf,good_feature,label,cv=3,scoring='f1')\n",
    "\n",
    "print('average accuracy : ',np.array(acc).mean(),np.std(np.array(acc)))\n",
    "print('average precision : ',np.array(precision).mean(),np.std(np.array(precision)))\n",
    "print('average recall : ',np.array(recall).mean(),np.std(np.array(recall)))\n",
    "print('average f1 score : ',np.array(f1).mean(),np.std(np.array(f1)))"
   ]
  },
  {
   "cell_type": "code",
   "execution_count": 103,
   "metadata": {
    "colab": {
     "base_uri": "https://localhost:8080/"
    },
    "id": "u7PALs7DGwKB",
    "outputId": "8cc636f5-5157-40e9-bd51-339518386799"
   },
   "outputs": [
    {
     "name": "stdout",
     "output_type": "stream",
     "text": [
      "0.8666666666666667\n"
     ]
    },
    {
     "data": {
      "text/plain": [
       "{'criterion': 'gini',\n",
       " 'max_depth': 2,\n",
       " 'max_features': 'auto',\n",
       " 'random_state': 30}"
      ]
     },
     "execution_count": 103,
     "metadata": {
      "tags": []
     },
     "output_type": "execute_result"
    }
   ],
   "source": [
    "\n",
    "from sklearn.tree import DecisionTreeClassifier\n",
    "from sklearn.model_selection import StratifiedKFold\n",
    "#skf = StratifiedKFold(n_splits=10, random_state=2020, shuffle=False)\n",
    "def dtree_param_selection(X,y):\n",
    "    #create a dictionary of all values we want to test\n",
    "    param_grid = { 'criterion':['gini','entropy'],'max_features':[\"auto\", \"sqrt\", \"log2\"],'max_depth': np.arange(2, 20),'random_state':[10,20,30,40]}\n",
    "    # decision tree model\n",
    "    dtree_model=DecisionTreeClassifier()\n",
    "    #use gridsearch to test all values\n",
    "    dtree_gscv = GridSearchCV(dtree_model, param_grid, cv=3)\n",
    "    #fit model to data\n",
    "    dtree_gscv.fit(X, y)\n",
    "    print(dtree_gscv.best_score_)\n",
    "    #print(dtree_gscv.best_estimator_)\n",
    "    return dtree_gscv.best_params_\n",
    "\n",
    "dtree_param_selection(good_feature,label)"
   ]
  },
  {
   "cell_type": "code",
   "execution_count": 104,
   "metadata": {
    "colab": {
     "base_uri": "https://localhost:8080/"
    },
    "id": "UQPkE03EGyxa",
    "outputId": "34c9fd15-0590-4d0d-f13d-350c706ad268"
   },
   "outputs": [
    {
     "name": "stdout",
     "output_type": "stream",
     "text": [
      "average accuracy :  0.8666666666666667 0.09428090415820632\n",
      "average precision :  1.0 0.0\n",
      "average recall :  0.7222222222222222 0.20786985482077452\n",
      "average f1 score :  0.8222222222222223 0.13698697784375505\n"
     ]
    }
   ],
   "source": [
    "clf = DecisionTreeClassifier(criterion= 'gini', max_depth= 2, max_features= 'auto',random_state=30)\n",
    "acc = cross_val_score(clf,good_feature,label,cv=3)\n",
    "precision = cross_val_score(clf,good_feature,label,cv=3,scoring='precision')\n",
    "recall = cross_val_score(clf,good_feature,label,cv=3,scoring='recall')\n",
    "f1 = cross_val_score(clf,good_feature,label,cv=3,scoring='f1')\n",
    "\n",
    "print('average accuracy : ',np.array(acc).mean(),np.std(np.array(acc)))\n",
    "print('average precision : ',np.array(precision).mean(),np.std(np.array(precision)))\n",
    "print('average recall : ',np.array(recall).mean(),np.std(np.array(recall)))\n",
    "print('average f1 score : ',np.array(f1).mean(),np.std(np.array(f1)))"
   ]
  },
  {
   "cell_type": "code",
   "execution_count": null,
   "metadata": {
    "id": "DlVqYcNYIMoH"
   },
   "outputs": [],
   "source": []
  }
 ],
 "metadata": {
  "colab": {
   "collapsed_sections": [],
   "machine_shape": "hm",
   "name": "IDD_20_noise.ipynb",
   "provenance": []
  },
  "kernelspec": {
   "display_name": "Python 3",
   "language": "python",
   "name": "python3"
  },
  "language_info": {
   "codemirror_mode": {
    "name": "ipython",
    "version": 3
   },
   "file_extension": ".py",
   "mimetype": "text/x-python",
   "name": "python",
   "nbconvert_exporter": "python",
   "pygments_lexer": "ipython3",
   "version": "3.7.6"
  }
 },
 "nbformat": 4,
 "nbformat_minor": 1
}
