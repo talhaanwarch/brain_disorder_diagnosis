{
  "nbformat": 4,
  "nbformat_minor": 0,
  "metadata": {
    "colab": {
      "name": "electrode_selection_10_noise.ipynb",
      "provenance": [],
      "collapsed_sections": [],
      "machine_shape": "hm"
    },
    "kernelspec": {
      "name": "python3",
      "display_name": "Python 3"
    }
  },
  "cells": [
    {
      "cell_type": "markdown",
      "metadata": {
        "id": "view-in-github"
      },
      "source": [
        "<a href=\"https://colab.research.google.com/github/talhaanwarch/IDDs_EEG_ML_classification/blob/master/electrode_selection.ipynb\" target=\"_parent\"><img src=\"https://colab.research.google.com/assets/colab-badge.svg\" alt=\"Open In Colab\"/></a>"
      ]
    },
    {
      "cell_type": "markdown",
      "metadata": {
        "id": "nAZkeuKAh84E"
      },
      "source": [
        "# Install Packages"
      ]
    },
    {
      "cell_type": "markdown",
      "metadata": {
        "id": "gZTedeQ8kjcX"
      },
      "source": [
        "In this approach data is segmented and feature are calculated for each segment. Then these features are averaged"
      ]
    },
    {
      "cell_type": "code",
      "metadata": {
        "id": "E2dWHVU6--Do"
      },
      "source": [
        "import warnings\n",
        "warnings.filterwarnings(\"ignore\", category=DeprecationWarning)"
      ],
      "execution_count": 1,
      "outputs": []
    },
    {
      "cell_type": "code",
      "metadata": {
        "id": "T9bXPLMDCobm",
        "colab": {
          "base_uri": "https://localhost:8080/"
        },
        "outputId": "4c77a373-871c-430c-b31d-6a352c463388"
      },
      "source": [
        "!pip install wfdb\n",
        "!pip install mne\n",
        "!pip install nitime\n",
        "!pip install nolds"
      ],
      "execution_count": 2,
      "outputs": [
        {
          "output_type": "stream",
          "text": [
            "Collecting wfdb\n",
            "\u001b[?25l  Downloading https://files.pythonhosted.org/packages/f1/99/4b4749925cf4123643b512e27710bfaad4f048eba8b840c581780e2aada9/wfdb-3.2.0-py3-none-any.whl (119kB)\n",
            "\r\u001b[K     |██▊                             | 10kB 15.9MB/s eta 0:00:01\r\u001b[K     |█████▌                          | 20kB 10.8MB/s eta 0:00:01\r\u001b[K     |████████▎                       | 30kB 8.2MB/s eta 0:00:01\r\u001b[K     |███████████                     | 40kB 7.2MB/s eta 0:00:01\r\u001b[K     |█████████████▊                  | 51kB 4.5MB/s eta 0:00:01\r\u001b[K     |████████████████▌               | 61kB 4.4MB/s eta 0:00:01\r\u001b[K     |███████████████████▏            | 71kB 4.8MB/s eta 0:00:01\r\u001b[K     |██████████████████████          | 81kB 5.1MB/s eta 0:00:01\r\u001b[K     |████████████████████████▊       | 92kB 5.4MB/s eta 0:00:01\r\u001b[K     |███████████████████████████▍    | 102kB 5.6MB/s eta 0:00:01\r\u001b[K     |██████████████████████████████▏ | 112kB 5.6MB/s eta 0:00:01\r\u001b[K     |████████████████████████████████| 122kB 5.6MB/s \n",
            "\u001b[?25hRequirement already satisfied: python-dateutil>=2.4.2 in /usr/local/lib/python3.6/dist-packages (from wfdb) (2.8.1)\n",
            "Collecting threadpoolctl>=1.0.0\n",
            "  Downloading https://files.pythonhosted.org/packages/f7/12/ec3f2e203afa394a149911729357aa48affc59c20e2c1c8297a60f33f133/threadpoolctl-2.1.0-py3-none-any.whl\n",
            "Requirement already satisfied: matplotlib>=2.0.0 in /usr/local/lib/python3.6/dist-packages (from wfdb) (3.2.2)\n",
            "Requirement already satisfied: pytz>=2017.2 in /usr/local/lib/python3.6/dist-packages (from wfdb) (2018.9)\n",
            "Requirement already satisfied: idna>=2.2 in /usr/local/lib/python3.6/dist-packages (from wfdb) (2.10)\n",
            "Requirement already satisfied: chardet>=3.0.0 in /usr/local/lib/python3.6/dist-packages (from wfdb) (3.0.4)\n",
            "Requirement already satisfied: certifi>=2016.8.2 in /usr/local/lib/python3.6/dist-packages (from wfdb) (2020.12.5)\n",
            "Requirement already satisfied: pandas>=0.17.0 in /usr/local/lib/python3.6/dist-packages (from wfdb) (1.1.5)\n",
            "Requirement already satisfied: scipy>=0.17.0 in /usr/local/lib/python3.6/dist-packages (from wfdb) (1.4.1)\n",
            "Requirement already satisfied: joblib>=0.11 in /usr/local/lib/python3.6/dist-packages (from wfdb) (1.0.0)\n",
            "Requirement already satisfied: numpy>=1.10.1 in /usr/local/lib/python3.6/dist-packages (from wfdb) (1.19.5)\n",
            "Requirement already satisfied: scikit-learn>=0.18 in /usr/local/lib/python3.6/dist-packages (from wfdb) (0.22.2.post1)\n",
            "Requirement already satisfied: pyparsing>=2.0.4 in /usr/local/lib/python3.6/dist-packages (from wfdb) (2.4.7)\n",
            "Requirement already satisfied: requests>=2.8.1 in /usr/local/lib/python3.6/dist-packages (from wfdb) (2.23.0)\n",
            "Requirement already satisfied: cycler>=0.10.0 in /usr/local/lib/python3.6/dist-packages (from wfdb) (0.10.0)\n",
            "Requirement already satisfied: kiwisolver>=1.1.0 in /usr/local/lib/python3.6/dist-packages (from wfdb) (1.3.1)\n",
            "Requirement already satisfied: urllib3>=1.22 in /usr/local/lib/python3.6/dist-packages (from wfdb) (1.24.3)\n",
            "Requirement already satisfied: six>=1.5 in /usr/local/lib/python3.6/dist-packages (from python-dateutil>=2.4.2->wfdb) (1.15.0)\n",
            "Installing collected packages: threadpoolctl, wfdb\n",
            "Successfully installed threadpoolctl-2.1.0 wfdb-3.2.0\n",
            "Collecting mne\n",
            "\u001b[?25l  Downloading https://files.pythonhosted.org/packages/17/a8/7d8a10345082d4807907a268016b52dfa869b0c412cd84aa1d1de86e1e39/mne-0.22.0-py3-none-any.whl (6.9MB)\n",
            "\u001b[K     |████████████████████████████████| 6.9MB 5.0MB/s \n",
            "\u001b[?25hRequirement already satisfied: scipy>=0.17.1 in /usr/local/lib/python3.6/dist-packages (from mne) (1.4.1)\n",
            "Requirement already satisfied: numpy>=1.11.3 in /usr/local/lib/python3.6/dist-packages (from mne) (1.19.5)\n",
            "Installing collected packages: mne\n",
            "Successfully installed mne-0.22.0\n",
            "Collecting nitime\n",
            "\u001b[?25l  Downloading https://files.pythonhosted.org/packages/22/7e/62b14c3bec4c87b0810accbee581b8ae2ef0715ec64883eeb3786d47f773/nitime-0.9.tar.gz (6.2MB)\n",
            "\u001b[K     |████████████████████████████████| 6.2MB 3.6MB/s \n",
            "\u001b[?25hRequirement already satisfied: numpy in /usr/local/lib/python3.6/dist-packages (from nitime) (1.19.5)\n",
            "Requirement already satisfied: cython in /usr/local/lib/python3.6/dist-packages (from nitime) (0.29.21)\n",
            "Requirement already satisfied: scipy in /usr/local/lib/python3.6/dist-packages (from nitime) (1.4.1)\n",
            "Requirement already satisfied: matplotlib in /usr/local/lib/python3.6/dist-packages (from nitime) (3.2.2)\n",
            "Requirement already satisfied: networkx in /usr/local/lib/python3.6/dist-packages (from nitime) (2.5)\n",
            "Requirement already satisfied: nibabel in /usr/local/lib/python3.6/dist-packages (from nitime) (3.0.2)\n",
            "Requirement already satisfied: cycler>=0.10 in /usr/local/lib/python3.6/dist-packages (from matplotlib->nitime) (0.10.0)\n",
            "Requirement already satisfied: pyparsing!=2.0.4,!=2.1.2,!=2.1.6,>=2.0.1 in /usr/local/lib/python3.6/dist-packages (from matplotlib->nitime) (2.4.7)\n",
            "Requirement already satisfied: python-dateutil>=2.1 in /usr/local/lib/python3.6/dist-packages (from matplotlib->nitime) (2.8.1)\n",
            "Requirement already satisfied: kiwisolver>=1.0.1 in /usr/local/lib/python3.6/dist-packages (from matplotlib->nitime) (1.3.1)\n",
            "Requirement already satisfied: decorator>=4.3.0 in /usr/local/lib/python3.6/dist-packages (from networkx->nitime) (4.4.2)\n",
            "Requirement already satisfied: six in /usr/local/lib/python3.6/dist-packages (from cycler>=0.10->matplotlib->nitime) (1.15.0)\n",
            "Building wheels for collected packages: nitime\n",
            "  Building wheel for nitime (setup.py) ... \u001b[?25l\u001b[?25hdone\n",
            "  Created wheel for nitime: filename=nitime-0.9-cp36-cp36m-linux_x86_64.whl size=4030831 sha256=0aefda8045e5f53f3364d5ab7d95c7aff598d6f9109c477ba1bd6e579341210d\n",
            "  Stored in directory: /root/.cache/pip/wheels/9d/d6/a7/ecbf971b5b91880cbba499bb10d949e84266f24396a916ddb5\n",
            "Successfully built nitime\n",
            "Installing collected packages: nitime\n",
            "Successfully installed nitime-0.9\n",
            "Collecting nolds\n",
            "  Downloading https://files.pythonhosted.org/packages/67/28/60d734bb74181f3a36d685c63b18481789fd54d6c25124662e7195e2d5ed/nolds-0.5.2-py2.py3-none-any.whl\n",
            "Requirement already satisfied: setuptools in /usr/local/lib/python3.6/dist-packages (from nolds) (51.1.1)\n",
            "Requirement already satisfied: future in /usr/local/lib/python3.6/dist-packages (from nolds) (0.16.0)\n",
            "Requirement already satisfied: numpy in /usr/local/lib/python3.6/dist-packages (from nolds) (1.19.5)\n",
            "Installing collected packages: nolds\n",
            "Successfully installed nolds-0.5.2\n"
          ],
          "name": "stdout"
        }
      ]
    },
    {
      "cell_type": "code",
      "metadata": {
        "id": "wN2iOjELEkWh",
        "colab": {
          "base_uri": "https://localhost:8080/"
        },
        "outputId": "549f27ae-945e-40c8-f7ae-bfd5d381b3cc"
      },
      "source": [
        "!pip install git+https://github.com/forrestbao/pyeeg.git\n",
        "!pip install git+https://github.com/raphaelvallat/entropy.git"
      ],
      "execution_count": 3,
      "outputs": [
        {
          "output_type": "stream",
          "text": [
            "Collecting git+https://github.com/forrestbao/pyeeg.git\n",
            "  Cloning https://github.com/forrestbao/pyeeg.git to /tmp/pip-req-build-c3nemdwj\n",
            "  Running command git clone -q https://github.com/forrestbao/pyeeg.git /tmp/pip-req-build-c3nemdwj\n",
            "Requirement already satisfied: numpy>=1.9.2 in /usr/local/lib/python3.6/dist-packages (from pyeeg==0.4.4) (1.19.5)\n",
            "Building wheels for collected packages: pyeeg\n",
            "  Building wheel for pyeeg (setup.py) ... \u001b[?25l\u001b[?25hdone\n",
            "  Created wheel for pyeeg: filename=pyeeg-0.4.4-py2.py3-none-any.whl size=28123 sha256=a8948b6d4de1cd2923f77b7487ce0a6f1ce73e4be350168557964960c73fab7b\n",
            "  Stored in directory: /tmp/pip-ephem-wheel-cache-csy953fs/wheels/2d/3f/ad/106d4fc80b61d1ea1fc18e76e7439fd98aa043d83d58eae741\n",
            "Successfully built pyeeg\n",
            "Installing collected packages: pyeeg\n",
            "Successfully installed pyeeg-0.4.4\n",
            "Collecting git+https://github.com/raphaelvallat/entropy.git\n",
            "  Cloning https://github.com/raphaelvallat/entropy.git to /tmp/pip-req-build-bmah1c8q\n",
            "  Running command git clone -q https://github.com/raphaelvallat/entropy.git /tmp/pip-req-build-bmah1c8q\n",
            "Building wheels for collected packages: entropy\n",
            "  Building wheel for entropy (setup.py) ... \u001b[?25l\u001b[?25hdone\n",
            "  Created wheel for entropy: filename=entropy-0.1.2-cp36-none-any.whl size=15612 sha256=46c5b355de7bd7b41331bc27ee0311671e3ae7fb7b1c983e7baf79accc3cbc85\n",
            "  Stored in directory: /tmp/pip-ephem-wheel-cache-73npvh01/wheels/60/ed/d3/b715e38438f1f39edb1383aea79c578073953b25fa576fc71e\n",
            "Successfully built entropy\n",
            "Installing collected packages: entropy\n",
            "Successfully installed entropy-0.1.2\n"
          ],
          "name": "stdout"
        }
      ]
    },
    {
      "cell_type": "markdown",
      "metadata": {
        "id": "M49QbDhkDHIT"
      },
      "source": [
        "# Download data"
      ]
    },
    {
      "cell_type": "code",
      "metadata": {
        "id": "DJx67zwDEJjM",
        "colab": {
          "base_uri": "https://localhost:8080/"
        },
        "outputId": "e89ae34f-d449-4ba1-f2f0-c59e0d67afc1"
      },
      "source": [
        "!wget https://md-datasets-cache-zipfiles-prod.s3.eu-west-1.amazonaws.com/fshy54ypyh-1.zip"
      ],
      "execution_count": 4,
      "outputs": [
        {
          "output_type": "stream",
          "text": [
            "--2021-01-16 07:43:34--  https://md-datasets-cache-zipfiles-prod.s3.eu-west-1.amazonaws.com/fshy54ypyh-1.zip\n",
            "Resolving md-datasets-cache-zipfiles-prod.s3.eu-west-1.amazonaws.com (md-datasets-cache-zipfiles-prod.s3.eu-west-1.amazonaws.com)... 52.218.29.88\n",
            "Connecting to md-datasets-cache-zipfiles-prod.s3.eu-west-1.amazonaws.com (md-datasets-cache-zipfiles-prod.s3.eu-west-1.amazonaws.com)|52.218.29.88|:443... connected.\n",
            "HTTP request sent, awaiting response... 200 OK\n",
            "Length: 34220065 (33M) [application/octet-stream]\n",
            "Saving to: ‘fshy54ypyh-1.zip’\n",
            "\n",
            "fshy54ypyh-1.zip    100%[===================>]  32.63M  19.4MB/s    in 1.7s    \n",
            "\n",
            "2021-01-16 07:43:36 (19.4 MB/s) - ‘fshy54ypyh-1.zip’ saved [34220065/34220065]\n",
            "\n"
          ],
          "name": "stdout"
        }
      ]
    },
    {
      "cell_type": "code",
      "metadata": {
        "id": "itGXVFVL-wGt"
      },
      "source": [
        "%%capture \n",
        "!unzip fshy54ypyh-1.zip"
      ],
      "execution_count": 5,
      "outputs": []
    },
    {
      "cell_type": "markdown",
      "metadata": {
        "id": "rCn0gh3kDMOI"
      },
      "source": [
        "# Read data"
      ]
    },
    {
      "cell_type": "code",
      "metadata": {
        "id": "CfgtZg96ER8W"
      },
      "source": [
        "from glob import glob\n",
        "import os\n",
        "import mne\n",
        "import re\n",
        "import numpy as np\n",
        "from sklearn.preprocessing import MaxAbsScaler\n",
        "import scipy.io\n"
      ],
      "execution_count": 6,
      "outputs": []
    },
    {
      "cell_type": "code",
      "metadata": {
        "id": "Fx9M98nnyfak"
      },
      "source": [
        "IDD='/content/Data/Data/CleanData/Data/Data/CleanData/CleanData_IDD'\n",
        "TDC='/content/Data/CleanData/CleanData_TDC'\n",
        "!rm '/content/Data/Data/CleanData/Data/Data/CleanData/CleanData_IDD/Rest/NDS001_Rest_CD(1).mat'"
      ],
      "execution_count": 7,
      "outputs": []
    },
    {
      "cell_type": "code",
      "metadata": {
        "id": "DtgpsOM_K5fz"
      },
      "source": [
        "from scipy import signal\n",
        "nyq = 0.5 * 128\n",
        "l=0.5\n",
        "low = l / nyq\n",
        "high = 50 / nyq\n",
        "b, a = signal.butter(3, [low,high], 'band')"
      ],
      "execution_count": 8,
      "outputs": []
    },
    {
      "cell_type": "code",
      "metadata": {
        "id": "4VI66v8B5Lj0"
      },
      "source": [
        "IDD_rest=[]\n",
        "for i in glob(IDD+'/Rest/*.mat'):\n",
        "    data=scipy.io.loadmat(i)['clean_data'].T\n",
        "    mu, sigma = np.mean(data), np.std(data)\n",
        "    noise = np.random.normal(mu, sigma, data.shape)*0.1\n",
        "    data=data+noise\n",
        "    data=signal.filtfilt(b, a, data.T).T \n",
        "    IDD_rest.append(data)\n",
        "\n",
        "TDC_rest=[]\n",
        "for i in glob(TDC+'/Rest/*.mat'):\n",
        "    data=scipy.io.loadmat(i)['clean_data'].T\n",
        "    mu, sigma = np.mean(data), np.std(data)\n",
        "    noise = np.random.normal(mu, sigma, data.shape)*0.1\n",
        "    data=data+noise\n",
        "    data=signal.filtfilt(b, a, data.T).T \n",
        "    TDC_rest.append(data)"
      ],
      "execution_count": 9,
      "outputs": []
    },
    {
      "cell_type": "code",
      "metadata": {
        "id": "gwZ-lYJM5Qr4",
        "colab": {
          "base_uri": "https://localhost:8080/"
        },
        "outputId": "c6b198a1-cfd6-4822-f3e1-51538eaef442"
      },
      "source": [
        "len(IDD_rest),len(TDC_rest)"
      ],
      "execution_count": 10,
      "outputs": [
        {
          "output_type": "execute_result",
          "data": {
            "text/plain": [
              "(7, 7)"
            ]
          },
          "metadata": {
            "tags": []
          },
          "execution_count": 10
        }
      ]
    },
    {
      "cell_type": "code",
      "metadata": {
        "id": "D_J3XqrmOn2o",
        "colab": {
          "base_uri": "https://localhost:8080/"
        },
        "outputId": "ab682d15-e583-4ad2-f7a8-ae1482f8b0a7"
      },
      "source": [
        "print(IDD_rest[0].shape,TDC_rest[0].shape)"
      ],
      "execution_count": 11,
      "outputs": [
        {
          "output_type": "stream",
          "text": [
            "(15360, 14) (15360, 14)\n"
          ],
          "name": "stdout"
        }
      ]
    },
    {
      "cell_type": "code",
      "metadata": {
        "id": "8PbU37CjJepD",
        "colab": {
          "base_uri": "https://localhost:8080/"
        },
        "outputId": "9753fc4c-cbfe-4e85-c9cd-b1929a11bd6d"
      },
      "source": [
        "X1=np.concatenate(TDC_rest)\n",
        "X2=np.concatenate(IDD_rest)\n",
        "X=np.concatenate((X1,X2))\n",
        "X.shape"
      ],
      "execution_count": 12,
      "outputs": [
        {
          "output_type": "execute_result",
          "data": {
            "text/plain": [
              "(215040, 14)"
            ]
          },
          "metadata": {
            "tags": []
          },
          "execution_count": 12
        }
      ]
    },
    {
      "cell_type": "code",
      "metadata": {
        "id": "zrdJh9QQJeuU",
        "colab": {
          "base_uri": "https://localhost:8080/",
          "height": 613
        },
        "outputId": "4fad2a7b-0660-4f88-e51a-a032e25ceddb"
      },
      "source": [
        "import matplotlib.pyplot as plt\n",
        "from sklearn.decomposition import PCA\n",
        "import pandas as pd\n",
        "plt.figure(figsize=(20,10))\n",
        "pca = PCA().fit(X)\n",
        "plt.axhline(0.95)\n",
        "plt.axvline(9)\n",
        "#Plotting the Cumulative Summation of the Explained Variance\n",
        "plt.plot(np.cumsum(pca.explained_variance_ratio_)[0:15])\n",
        "plt.xlabel('Number of Components')\n",
        "plt.ylabel('Variance (%)') #for each component\n",
        "plt.title('Pulsar Dataset Explained Variance')\n",
        "plt.show()"
      ],
      "execution_count": 13,
      "outputs": [
        {
          "output_type": "display_data",
          "data": {
            "image/png": "[encoded data removed]",
            "text/plain": [
              "<Figure size 1440x720 with 1 Axes>"
            ]
          },
          "metadata": {
            "tags": [],
            "needs_background": "light"
          }
        }
      ]
    },
    {
      "cell_type": "code",
      "metadata": {
        "id": "CJUIMTJ5J3tE",
        "colab": {
          "base_uri": "https://localhost:8080/"
        },
        "outputId": "8345dfe7-8f19-4a4c-908d-e077f582a6e0"
      },
      "source": [
        "channels=['AF3', 'F7', 'F3', 'FC5', 'T7', 'P7', 'O1', 'O2', 'P8', 'T8', 'FC6', 'F4', 'F8', 'AF4']\n",
        "df1 = pd.DataFrame.from_records(X)\n",
        "df1.shape"
      ],
      "execution_count": 14,
      "outputs": [
        {
          "output_type": "execute_result",
          "data": {
            "text/plain": [
              "(215040, 14)"
            ]
          },
          "metadata": {
            "tags": []
          },
          "execution_count": 14
        }
      ]
    },
    {
      "cell_type": "code",
      "metadata": {
        "id": "Md-Z-73hJ9Da",
        "colab": {
          "base_uri": "https://localhost:8080/",
          "height": 222
        },
        "outputId": "f954fffa-eb33-4a0a-bc4b-671fee2cd29b"
      },
      "source": [
        "df1.columns=channels\n",
        "df1.head()"
      ],
      "execution_count": 15,
      "outputs": [
        {
          "output_type": "execute_result",
          "data": {
            "text/html": [
              "<div>\n",
              "<style scoped>\n",
              "    .dataframe tbody tr th:only-of-type {\n",
              "        vertical-align: middle;\n",
              "    }\n",
              "\n",
              "    .dataframe tbody tr th {\n",
              "        vertical-align: top;\n",
              "    }\n",
              "\n",
              "    .dataframe thead th {\n",
              "        text-align: right;\n",
              "    }\n",
              "</style>\n",
              "<table border=\"1\" class=\"dataframe\">\n",
              "  <thead>\n",
              "    <tr style=\"text-align: right;\">\n",
              "      <th></th>\n",
              "      <th>AF3</th>\n",
              "      <th>F7</th>\n",
              "      <th>F3</th>\n",
              "      <th>FC5</th>\n",
              "      <th>T7</th>\n",
              "      <th>P7</th>\n",
              "      <th>O1</th>\n",
              "      <th>O2</th>\n",
              "      <th>P8</th>\n",
              "      <th>T8</th>\n",
              "      <th>FC6</th>\n",
              "      <th>F4</th>\n",
              "      <th>F8</th>\n",
              "      <th>AF4</th>\n",
              "    </tr>\n",
              "  </thead>\n",
              "  <tbody>\n",
              "    <tr>\n",
              "      <th>0</th>\n",
              "      <td>-2.514403</td>\n",
              "      <td>-0.604321</td>\n",
              "      <td>-9.282661</td>\n",
              "      <td>0.359415</td>\n",
              "      <td>1.135314</td>\n",
              "      <td>0.903443</td>\n",
              "      <td>-0.517837</td>\n",
              "      <td>-14.203900</td>\n",
              "      <td>5.625896</td>\n",
              "      <td>-15.675325</td>\n",
              "      <td>-9.966220</td>\n",
              "      <td>6.231954</td>\n",
              "      <td>-3.783315</td>\n",
              "      <td>-3.456607</td>\n",
              "    </tr>\n",
              "    <tr>\n",
              "      <th>1</th>\n",
              "      <td>-9.809025</td>\n",
              "      <td>6.678496</td>\n",
              "      <td>-13.974000</td>\n",
              "      <td>-3.899658</td>\n",
              "      <td>5.835315</td>\n",
              "      <td>7.994321</td>\n",
              "      <td>2.405874</td>\n",
              "      <td>3.471582</td>\n",
              "      <td>-15.052242</td>\n",
              "      <td>6.130206</td>\n",
              "      <td>-7.335277</td>\n",
              "      <td>8.754278</td>\n",
              "      <td>5.157053</td>\n",
              "      <td>-10.121437</td>\n",
              "    </tr>\n",
              "    <tr>\n",
              "      <th>2</th>\n",
              "      <td>-12.707526</td>\n",
              "      <td>6.389234</td>\n",
              "      <td>-23.674607</td>\n",
              "      <td>-0.878337</td>\n",
              "      <td>8.728496</td>\n",
              "      <td>15.223244</td>\n",
              "      <td>6.869840</td>\n",
              "      <td>6.212857</td>\n",
              "      <td>-32.126068</td>\n",
              "      <td>16.141316</td>\n",
              "      <td>-16.726458</td>\n",
              "      <td>18.278786</td>\n",
              "      <td>11.832039</td>\n",
              "      <td>-2.402354</td>\n",
              "    </tr>\n",
              "    <tr>\n",
              "      <th>3</th>\n",
              "      <td>-0.176539</td>\n",
              "      <td>5.839005</td>\n",
              "      <td>-24.087408</td>\n",
              "      <td>2.234155</td>\n",
              "      <td>9.062720</td>\n",
              "      <td>19.396335</td>\n",
              "      <td>4.474637</td>\n",
              "      <td>2.802888</td>\n",
              "      <td>-38.158462</td>\n",
              "      <td>16.321928</td>\n",
              "      <td>-19.674607</td>\n",
              "      <td>24.655799</td>\n",
              "      <td>15.724530</td>\n",
              "      <td>7.128277</td>\n",
              "    </tr>\n",
              "    <tr>\n",
              "      <th>4</th>\n",
              "      <td>13.353271</td>\n",
              "      <td>15.755727</td>\n",
              "      <td>-15.475728</td>\n",
              "      <td>-6.252269</td>\n",
              "      <td>14.364589</td>\n",
              "      <td>16.927604</td>\n",
              "      <td>0.434085</td>\n",
              "      <td>-1.922395</td>\n",
              "      <td>-39.185962</td>\n",
              "      <td>16.803278</td>\n",
              "      <td>-13.187418</td>\n",
              "      <td>29.878745</td>\n",
              "      <td>19.996015</td>\n",
              "      <td>15.211574</td>\n",
              "    </tr>\n",
              "  </tbody>\n",
              "</table>\n",
              "</div>"
            ],
            "text/plain": [
              "         AF3         F7         F3  ...         F4         F8        AF4\n",
              "0  -2.514403  -0.604321  -9.282661  ...   6.231954  -3.783315  -3.456607\n",
              "1  -9.809025   6.678496 -13.974000  ...   8.754278   5.157053 -10.121437\n",
              "2 -12.707526   6.389234 -23.674607  ...  18.278786  11.832039  -2.402354\n",
              "3  -0.176539   5.839005 -24.087408  ...  24.655799  15.724530   7.128277\n",
              "4  13.353271  15.755727 -15.475728  ...  29.878745  19.996015  15.211574\n",
              "\n",
              "[5 rows x 14 columns]"
            ]
          },
          "metadata": {
            "tags": []
          },
          "execution_count": 15
        }
      ]
    },
    {
      "cell_type": "code",
      "metadata": {
        "id": "RxwIL977J_P1"
      },
      "source": [
        ""
      ],
      "execution_count": 15,
      "outputs": []
    },
    {
      "cell_type": "code",
      "metadata": {
        "id": "Al0LtrhTJezq"
      },
      "source": [
        ""
      ],
      "execution_count": null,
      "outputs": []
    },
    {
      "cell_type": "code",
      "metadata": {
        "id": "u2ajJZbeEkAy"
      },
      "source": [
        "ch=3"
      ],
      "execution_count": 16,
      "outputs": []
    },
    {
      "cell_type": "code",
      "metadata": {
        "id": "4D_5Vg3yCswg",
        "colab": {
          "base_uri": "https://localhost:8080/"
        },
        "outputId": "1c345dd9-9a21-4967-a1a0-0342371bd886"
      },
      "source": [
        "X_1=df1.var()\n",
        "idx=X_1.sort_values()[-ch::].index\n",
        "\n",
        "print(idx)\n",
        "ch=len(idx)"
      ],
      "execution_count": 17,
      "outputs": [
        {
          "output_type": "stream",
          "text": [
            "Index(['F7', 'T8', 'F8'], dtype='object')\n"
          ],
          "name": "stdout"
        }
      ]
    },
    {
      "cell_type": "code",
      "metadata": {
        "id": "uW66yvqADmlb"
      },
      "source": [
        "indx=[]\n",
        "for i in idx:\n",
        "  indx.append(channels.index(i))\n",
        "indx=np.array(indx)  "
      ],
      "execution_count": 18,
      "outputs": []
    },
    {
      "cell_type": "code",
      "metadata": {
        "id": "KZB4etN3I4s4",
        "colab": {
          "base_uri": "https://localhost:8080/"
        },
        "outputId": "a30a3d64-c8f1-4d29-c460-29bb9f420424"
      },
      "source": [
        "indx"
      ],
      "execution_count": 19,
      "outputs": [
        {
          "output_type": "execute_result",
          "data": {
            "text/plain": [
              "array([ 1,  9, 12])"
            ]
          },
          "metadata": {
            "tags": []
          },
          "execution_count": 19
        }
      ]
    },
    {
      "cell_type": "code",
      "metadata": {
        "id": "SFKvvEyvEcC4"
      },
      "source": [
        "IDD_reshaped=[]\n",
        "TDC_reshaped=[]\n",
        "for i in IDD_rest:\n",
        "  IDD_reshaped.append(i.reshape(-1,512,14)[:,:,indx])\n",
        "for i in TDC_rest:\n",
        "  TDC_reshaped.append(i.reshape(-1,512,14)[:,:,indx])"
      ],
      "execution_count": 20,
      "outputs": []
    },
    {
      "cell_type": "code",
      "metadata": {
        "id": "GGV51Bp_MDHX",
        "colab": {
          "base_uri": "https://localhost:8080/"
        },
        "outputId": "f1a6f6fd-2893-4099-a67e-9d268362b2b2"
      },
      "source": [
        "len(IDD_reshaped),len(TDC_reshaped)"
      ],
      "execution_count": 21,
      "outputs": [
        {
          "output_type": "execute_result",
          "data": {
            "text/plain": [
              "(7, 7)"
            ]
          },
          "metadata": {
            "tags": []
          },
          "execution_count": 21
        }
      ]
    },
    {
      "cell_type": "code",
      "metadata": {
        "id": "_8rXI4sQEe_p",
        "colab": {
          "base_uri": "https://localhost:8080/"
        },
        "outputId": "4ed2615f-7ed0-48a8-cf13-3d8d569e596d"
      },
      "source": [
        "IDD_reshaped[0].shape"
      ],
      "execution_count": 22,
      "outputs": [
        {
          "output_type": "execute_result",
          "data": {
            "text/plain": [
              "(30, 512, 3)"
            ]
          },
          "metadata": {
            "tags": []
          },
          "execution_count": 22
        }
      ]
    },
    {
      "cell_type": "markdown",
      "metadata": {
        "id": "FVH5rTmQDPZ4"
      },
      "source": [
        "# Libraries"
      ]
    },
    {
      "cell_type": "code",
      "metadata": {
        "id": "6vHod_4gETis"
      },
      "source": [
        "from scipy import stats\n",
        "import pyeeg\n",
        "from entropy import *\n",
        "import pywt\n",
        "from nitime import algorithms as alg\n",
        "from sklearn import metrics\n",
        "from sklearn.model_selection import train_test_split\n",
        "from sklearn.preprocessing import StandardScaler,MaxAbsScaler\n",
        "from sklearn.svm import SVC\n",
        "from sklearn.linear_model import LogisticRegression\n",
        "from sklearn.neighbors import KNeighborsClassifier\n",
        "\n",
        "import nolds\n",
        "np.warnings.filterwarnings('ignore')"
      ],
      "execution_count": 23,
      "outputs": []
    },
    {
      "cell_type": "markdown",
      "metadata": {
        "id": "XA0ZCARWd6T3"
      },
      "source": [
        "# Main Features"
      ]
    },
    {
      "cell_type": "code",
      "metadata": {
        "id": "LacFqUQwFbZg"
      },
      "source": [
        "\n",
        "from scipy import stats\n",
        "import pyeeg\n",
        "from entropy import *\n",
        "def mean(data):\n",
        "    return np.mean(data,axis=0)\n",
        "    \n",
        "def std(data):\n",
        "    return np.std(data,axis=0)\n",
        "\n",
        "def ptp(data):\n",
        "    return np.ptp(data,axis=0)\n",
        "\n",
        "def var(data):\n",
        "        return np.var(data,axis=0)\n",
        "\n",
        "def minim(data):\n",
        "      return np.min(data,axis=0)\n",
        "\n",
        "\n",
        "def maxim(data):\n",
        "      return np.max(data,axis=0)\n",
        "\n",
        "def argminim(data):\n",
        "      return np.argmin(data,axis=0)\n",
        "\n",
        "\n",
        "def argmaxim(data):\n",
        "      return np.argmax(data,axis=0)\n",
        "\n",
        "def mean_square(data):\n",
        "      return np.mean(data**2,axis=0)\n",
        "\n",
        "def rms(data): #root mean square\n",
        "      return  np.sqrt(np.mean(data**2,axis=0))  \n",
        "\n",
        "def abs_diffs_signal(data):\n",
        "    return np.sum(np.abs(np.diff(data,axis=0)),axis=0)\n",
        "\n",
        "\n",
        "def skewness(data):\n",
        "    return stats.skew(data,axis=0)\n",
        "\n",
        "def kurtosis(data):\n",
        "    return stats.kurtosis(data,axis=0)\n",
        "\n",
        "def zero_crossing(data):\n",
        "    return np.argmax(np.diff(np.sign(data),axis=0),axis=0)\n",
        "\n",
        "def app_epy(data):\n",
        "    result=[]\n",
        "    for i in data.T:\n",
        "        result.append(app_entropy(i, order=2, metric='chebyshev'))\n",
        "    return np.array(result)\n",
        "\n",
        "def perm_epy(data):\n",
        "    result=[]\n",
        "    for i in data.T:\n",
        "        result.append(perm_entropy(i, order=3, normalize=True))\n",
        "    return np.array(result)\n",
        "\n",
        "def svd_epy(data):\n",
        "    result=[]\n",
        "    for i in data.T:\n",
        "        result.append(svd_entropy(i, order=3, delay=1, normalize=True))\n",
        "    return np.array(result)\n",
        "\n",
        "def spectral_epy(data):\n",
        "    result=[]\n",
        "    for i in data.T:\n",
        "        result.append(spectral_entropy(i, 100, method='welch', normalize=True))\n",
        "    return np.array(result)\n",
        "\n",
        "def sample_epy(data):\n",
        "    result=[]\n",
        "    for i in data.T:\n",
        "        result.append(sample_entropy(i, order=2, metric='chebyshev'))\n",
        "    return np.array(result)\n",
        "\n",
        "\n",
        "def katz(data):\n",
        "    result=[]\n",
        "    for i in data.T:\n",
        "        result.append(katz_fd(i))\n",
        "    return np.array(result)\n",
        "\n",
        "def higuchi(data):\n",
        "    result=[]\n",
        "    for i in data.T:\n",
        "        result.append(higuchi_fd(i))\n",
        "    return np.array(result)\n",
        "\n",
        "\n",
        "def petrosian(data):\n",
        "    result=[]\n",
        "    for i in data.T:\n",
        "        result.append(petrosian_fd(i))\n",
        "    return np.array(result)\n",
        "\n",
        "def autogressiveModelParameters(data):\n",
        "    feature = []\n",
        "    for i in data.T:\n",
        "        coeff, sig = alg.AR_est_YW(i, order=5)\n",
        "        feature.append(np.mean(coeff))\n",
        "    return np.array(feature)\n",
        "\n",
        "def teager(x):\n",
        "    for i in range(len(x)-1):\n",
        "        return x[i]**2 - (x[i-1]*x[i+1])\n",
        "\n",
        "\n",
        "def lziv_complex(data):\n",
        "    result=[]\n",
        "    for i in data.T:\n",
        "        result.append(lziv_complexity(i))\n",
        "    return np.array(result)\n",
        "\n",
        "        \n",
        "def hjorth_mobility(data):\n",
        "    return np.divide(np.std(np.diff(data,axis=0),axis=0),np.std(data,axis=0))\n",
        "\n",
        "def hjorth_complexity(data):\n",
        "    return np.divide(hjorth_mobility(np.diff(data,axis=0)),  hjorth_mobility(data))      \n",
        "\n",
        "\n",
        "\n",
        "\n",
        "def concatenate_features(data):\n",
        "    return np.concatenate((mean(data),std(data),ptp(data),var(data),minim(data),maxim(data),argminim(data),argmaxim(data),\n",
        "                          mean_square(data),rms(data),abs_diffs_signal(data),\n",
        "                          skewness(data),kurtosis(data),zero_crossing(data),\n",
        "                          app_epy(data),perm_epy(data),svd_epy(data),spectral_epy(data),sample_epy(data),\n",
        "                          katz(data),higuchi(data),petrosian(data),teager(data),lziv_complex(data),\n",
        "                          hjorth_mobility(data),hjorth_complexity(data)),axis=0)"
      ],
      "execution_count": 24,
      "outputs": []
    },
    {
      "cell_type": "code",
      "metadata": {
        "id": "ypLpU9EziTkC"
      },
      "source": [
        ""
      ],
      "execution_count": 24,
      "outputs": []
    },
    {
      "cell_type": "code",
      "metadata": {
        "id": "enEVrHoCWvtz"
      },
      "source": [
        "features1=[]\n",
        "for f in IDD_reshaped:\n",
        "    feature=[]\n",
        "    for i in f:\n",
        "        feature.append(concatenate_features(i))\n",
        "    features1.append(np.mean(np.array(feature),axis=0))"
      ],
      "execution_count": 25,
      "outputs": []
    },
    {
      "cell_type": "code",
      "metadata": {
        "id": "RKWr72BTWvt5"
      },
      "source": [
        "features2=[]\n",
        "for f in TDC_reshaped:\n",
        "    feature=[]\n",
        "    for i in f:\n",
        "        feature.append(concatenate_features(i))\n",
        "    features2.append(np.mean(np.array(feature),axis=0))"
      ],
      "execution_count": 26,
      "outputs": []
    },
    {
      "cell_type": "code",
      "metadata": {
        "id": "3cVURnzepN0N",
        "colab": {
          "base_uri": "https://localhost:8080/"
        },
        "outputId": "254aaedf-584d-4dfb-e369-417c87a0302f"
      },
      "source": [
        "x1=np.array(features1)        \n",
        "x2=np.array(features2)      \n",
        "\n",
        "X=np.concatenate((x1,x2),axis=0)\n",
        "\n",
        "y=np.concatenate(((np.zeros(x1.shape[0])),(np.ones(x2.shape[0]))))\n",
        "X.shape,y.shape"
      ],
      "execution_count": 27,
      "outputs": [
        {
          "output_type": "execute_result",
          "data": {
            "text/plain": [
              "((14, 78), (14,))"
            ]
          },
          "metadata": {
            "tags": []
          },
          "execution_count": 27
        }
      ]
    },
    {
      "cell_type": "code",
      "metadata": {
        "id": "BjQOtDVzjbrK",
        "colab": {
          "base_uri": "https://localhost:8080/"
        },
        "outputId": "d74026d3-f78a-452f-9cef-fc8063c54461"
      },
      "source": [
        "X_train, X_test, y_train, y_test = train_test_split(X, y,test_size=0.2, random_state=42,stratify=y)\n",
        "sc=StandardScaler()\n",
        "X_train=sc.fit_transform(X_train)\n",
        "X_test=sc.transform(X_test)\n",
        "clf=SVC(kernel='rbf')\n",
        "clf.fit(X_train,y_train)\n",
        "y_pred = clf.predict(X_test)\n",
        "\n",
        "from sklearn.metrics import classification_report,accuracy_score\n",
        "print(classification_report(y_test,y_pred))\n",
        "print('accuracy is ',accuracy_score(y_test, y_pred))"
      ],
      "execution_count": 28,
      "outputs": [
        {
          "output_type": "stream",
          "text": [
            "              precision    recall  f1-score   support\n",
            "\n",
            "         0.0       0.67      1.00      0.80         2\n",
            "         1.0       0.00      0.00      0.00         1\n",
            "\n",
            "    accuracy                           0.67         3\n",
            "   macro avg       0.33      0.50      0.40         3\n",
            "weighted avg       0.44      0.67      0.53         3\n",
            "\n",
            "accuracy is  0.6666666666666666\n"
          ],
          "name": "stdout"
        }
      ]
    },
    {
      "cell_type": "code",
      "metadata": {
        "id": "GJBuPvNEToHn"
      },
      "source": [
        "from sklearn.preprocessing import scale\n",
        "feature=X.copy()\n",
        "label=y.copy()\n",
        "feature=scale(feature)"
      ],
      "execution_count": 29,
      "outputs": []
    },
    {
      "cell_type": "code",
      "metadata": {
        "id": "l3a10gQQ_kqJ",
        "colab": {
          "base_uri": "https://localhost:8080/"
        },
        "outputId": "38c050a2-5fbf-4e19-d13b-ef7fc3ea79d2"
      },
      "source": [
        " from sklearn.model_selection import KFold,StratifiedKFold\n",
        "from sklearn.svm import SVC, LinearSVC, NuSVC\n",
        "from sklearn.model_selection import cross_val_score\n",
        "from sklearn.model_selection import GridSearchCV\n",
        "def svc_param_selection(X, y,scoring='accuracy'):\n",
        "    Cs = [ 0.1, 1, 10,15,20,25,30,40,50,60,70,100,120]\n",
        "    gammas = [0.0001,0.0005,0.001,0.005,0.008, 0.01, 0.1,0.3,0.5, 1]\n",
        "    param_grid = {'C': Cs, 'gamma' : gammas}\n",
        "    grid_search = GridSearchCV(SVC(kernel='rbf'), param_grid, cv=KFold(10),scoring=scoring)\n",
        "    grid_search.fit(X, y)\n",
        "    grid_search.best_params_\n",
        "    return grid_search.best_score_\n",
        "\n",
        "\n",
        "print('accuracy',svc_param_selection(feature,label))\n",
        "print('f1 macro',svc_param_selection(feature,label,scoring='f1_macro'))"
      ],
      "execution_count": 30,
      "outputs": [
        {
          "output_type": "stream",
          "text": [
            "accuracy 0.75\n",
            "f1 macro 0.7333333333333333\n"
          ],
          "name": "stdout"
        }
      ]
    },
    {
      "cell_type": "code",
      "metadata": {
        "id": "voO5CD9NP7cl",
        "colab": {
          "base_uri": "https://localhost:8080/"
        },
        "outputId": "e288ba50-f7b2-4485-dd54-c65fd0e3a23b"
      },
      "source": [
        "from sklearn.tree import DecisionTreeClassifier\n",
        "def dtree_param_selection(X,y,scoring='accuracy'):\n",
        "    #create a dictionary of all values we want to test\n",
        "    param_grid = { 'criterion':['gini','entropy'],'max_features':[\"auto\", \"sqrt\", \"log2\"],'max_depth': np.arange(2, 20),'random_state':[10,20,30,40,50]}\n",
        "    # decision tree model\n",
        "    dtree_model=DecisionTreeClassifier()\n",
        "    #use gridsearch to test all values\n",
        "    dtree_gscv = GridSearchCV(dtree_model, param_grid, cv=StratifiedKFold(7),scoring=scoring)\n",
        "    #fit model to data\n",
        "    dtree_gscv.fit(X, y)\n",
        "    #print(dtree_gscv.best_score_)\n",
        "    #print(dtree_gscv.best_estimator_)\n",
        "    return dtree_gscv.best_score_\n",
        "\n",
        "dtree_param_selection(feature,label,scoring='accuracy')\n",
        "dtree_param_selection(feature,label,scoring='f1_macro')"
      ],
      "execution_count": 31,
      "outputs": [
        {
          "output_type": "execute_result",
          "data": {
            "text/plain": [
              "0.8095238095238095"
            ]
          },
          "metadata": {
            "tags": []
          },
          "execution_count": 31
        }
      ]
    },
    {
      "cell_type": "code",
      "metadata": {
        "id": "-pF-532Z4iEK"
      },
      "source": [
        "feature_list=['mean','std','ptp','var','minim','maxim','argmin','argmax','mean_square','rms','abs_diffs_signal','skewness','kurtosis','zero_crossing',\n",
        "'app_epy','perm_epy','svd_epy','spectral_epy','sample_epy','katz','higuchi','petrosian','teager','lziv_complex',\n",
        "'hjorth_mobility','hjorth_complexity']"
      ],
      "execution_count": 32,
      "outputs": []
    },
    {
      "cell_type": "code",
      "metadata": {
        "id": "6P73wA4E4llG",
        "colab": {
          "base_uri": "https://localhost:8080/"
        },
        "outputId": "b85506ab-a9f5-495b-f2dd-2098be4dd92d"
      },
      "source": [
        "feature_selected=[]\n",
        "feat_non_sorted=[]\n",
        "score_non_sorted=[]\n",
        "for i ,j in zip(range(0,feature.shape[1],ch),feature_list):\n",
        "  acc=svc_param_selection(feature[:,i:i+ch],label)\n",
        "  print(j,\" : \",acc)\n",
        "  feat_non_sorted.append(j)\n",
        "  score_non_sorted.append(acc)"
      ],
      "execution_count": 33,
      "outputs": [
        {
          "output_type": "stream",
          "text": [
            "mean  :  0.85\n",
            "std  :  0.7\n",
            "ptp  :  0.7\n",
            "var  :  0.45\n",
            "minim  :  0.6\n",
            "maxim  :  0.7\n",
            "argmin  :  0.75\n",
            "argmax  :  0.55\n",
            "mean_square  :  0.45\n",
            "rms  :  0.7\n",
            "abs_diffs_signal  :  0.65\n",
            "skewness  :  0.75\n",
            "kurtosis  :  0.45\n",
            "zero_crossing  :  0.6\n",
            "app_epy  :  0.9\n",
            "perm_epy  :  0.8\n",
            "svd_epy  :  0.75\n",
            "spectral_epy  :  0.85\n",
            "sample_epy  :  0.9\n",
            "katz  :  0.8\n",
            "higuchi  :  0.8\n",
            "petrosian  :  0.8\n",
            "teager  :  0.05\n",
            "lziv_complex  :  0.85\n",
            "hjorth_mobility  :  0.75\n",
            "hjorth_complexity  :  0.8\n"
          ],
          "name": "stdout"
        }
      ]
    },
    {
      "cell_type": "code",
      "metadata": {
        "id": "qIz9Ex424loX",
        "colab": {
          "base_uri": "https://localhost:8080/"
        },
        "outputId": "91fef992-5254-44f7-8ba7-8c29f1a8e5cf"
      },
      "source": [
        "print(feat_non_sorted)\n",
        "print(score_non_sorted)"
      ],
      "execution_count": 34,
      "outputs": [
        {
          "output_type": "stream",
          "text": [
            "['mean', 'std', 'ptp', 'var', 'minim', 'maxim', 'argmin', 'argmax', 'mean_square', 'rms', 'abs_diffs_signal', 'skewness', 'kurtosis', 'zero_crossing', 'app_epy', 'perm_epy', 'svd_epy', 'spectral_epy', 'sample_epy', 'katz', 'higuchi', 'petrosian', 'teager', 'lziv_complex', 'hjorth_mobility', 'hjorth_complexity']\n",
            "[0.85, 0.7, 0.7, 0.45, 0.6, 0.7, 0.75, 0.55, 0.45, 0.7, 0.65, 0.75, 0.45, 0.6, 0.9, 0.8, 0.75, 0.85, 0.9, 0.8, 0.8, 0.8, 0.05, 0.85, 0.75, 0.8]\n"
          ],
          "name": "stdout"
        }
      ]
    },
    {
      "cell_type": "code",
      "metadata": {
        "id": "wGaBeLj24lrX"
      },
      "source": [
        "score,feat  = zip(*sorted(zip(score_non_sorted, feat_non_sorted),reverse=True))\n"
      ],
      "execution_count": 35,
      "outputs": []
    },
    {
      "cell_type": "code",
      "metadata": {
        "id": "ZTPuv_z34us1",
        "colab": {
          "base_uri": "https://localhost:8080/"
        },
        "outputId": "d4cf87f4-09e7-458b-c09a-703bdd135367"
      },
      "source": [
        "print(feat)\n",
        "print(score)"
      ],
      "execution_count": 36,
      "outputs": [
        {
          "output_type": "stream",
          "text": [
            "('sample_epy', 'app_epy', 'spectral_epy', 'mean', 'lziv_complex', 'petrosian', 'perm_epy', 'katz', 'hjorth_complexity', 'higuchi', 'svd_epy', 'skewness', 'hjorth_mobility', 'argmin', 'std', 'rms', 'ptp', 'maxim', 'abs_diffs_signal', 'zero_crossing', 'minim', 'argmax', 'var', 'mean_square', 'kurtosis', 'teager')\n",
            "(0.9, 0.9, 0.85, 0.85, 0.85, 0.8, 0.8, 0.8, 0.8, 0.8, 0.75, 0.75, 0.75, 0.75, 0.7, 0.7, 0.7, 0.7, 0.65, 0.6, 0.6, 0.55, 0.45, 0.45, 0.45, 0.05)\n"
          ],
          "name": "stdout"
        }
      ]
    },
    {
      "cell_type": "code",
      "metadata": {
        "id": "_LbTvYtcuVDc"
      },
      "source": [
        "# for i, j in zip(feat,score):\r\n",
        "#   print(i,j)"
      ],
      "execution_count": 37,
      "outputs": []
    },
    {
      "cell_type": "code",
      "metadata": {
        "id": "4tODTVwi4uwF",
        "colab": {
          "base_uri": "https://localhost:8080/"
        },
        "outputId": "101e98a9-5784-48f4-de03-1d71e2e48945"
      },
      "source": [
        "def del_item(a, b):\n",
        "     return [x for x in a if x not in b]\n",
        "\n",
        "\n",
        "\n",
        "#skf = StratifiedKFold(n_splits=10, random_state=2020, shuffle=False)\n",
        "acc=0\n",
        "deleted_item=[]\n",
        "for i in range(1,20):\n",
        "  feature_selected=list(feat[:i])\n",
        "  # feature_selected=del_item(feature_selected,deleted_item)\n",
        "\n",
        "  X_good=[]\n",
        "  for key,val in zip(feature_list,range(0,feature.shape[1],ch)):\n",
        "      for fe in feature_selected:\n",
        "          if key==fe:     \n",
        "              #print('key',key,'value',val,\":\",val+ch) \n",
        "              X_good.append(feature[:,val:val+ch])\n",
        "  good_feature=np.concatenate((X_good),axis=1)\n",
        "  #good_feature=np.concatenate((good_feature,non_eeg),1)\n",
        "\n",
        "\n",
        "  acc_new=svc_param_selection(good_feature,label,scoring='f1_macro')\n",
        "  print(i,' : ', acc_new)\n",
        "\n",
        "  # print(acc_new, good_feature.shape)\n",
        "  # if acc_new<(acc-0.01):\n",
        "  #   deleted_item.append(feature_selected.pop())\n",
        "  #   print('del item',deleted_item)\n",
        "  # else:\n",
        "  #   acc=acc_new\n"
      ],
      "execution_count": 38,
      "outputs": [
        {
          "output_type": "stream",
          "text": [
            "1  :  0.9\n",
            "2  :  0.9\n",
            "3  :  0.9\n",
            "4  :  0.9\n",
            "5  :  0.8333333333333333\n",
            "6  :  0.8333333333333333\n",
            "7  :  0.8333333333333333\n",
            "8  :  0.8333333333333333\n",
            "9  :  0.8333333333333333\n",
            "10  :  0.8333333333333333\n",
            "11  :  0.8333333333333333\n",
            "12  :  0.8333333333333333\n",
            "13  :  0.8333333333333333\n",
            "14  :  0.8333333333333333\n",
            "15  :  0.8333333333333333\n",
            "16  :  0.8333333333333333\n",
            "17  :  0.8333333333333333\n",
            "18  :  0.8333333333333333\n",
            "19  :  0.8333333333333333\n"
          ],
          "name": "stdout"
        }
      ]
    },
    {
      "cell_type": "code",
      "metadata": {
        "id": "D_8pLs4P4uzW",
        "colab": {
          "base_uri": "https://localhost:8080/"
        },
        "outputId": "75a8ee41-f5cd-4000-fe2e-c65ddd1bd11f"
      },
      "source": [
        "feature_selected=feat[:4]\r\n",
        "X_good=[]\r\n",
        "for key,val in zip(feature_list,range(0,feature.shape[1],ch)):\r\n",
        "    for fe in feature_selected:\r\n",
        "        if key==fe:     \r\n",
        "            print('key',key,'value',val,\":\",val+ch) \r\n",
        "            X_good.append(feature[:,val:val+ch])"
      ],
      "execution_count": 39,
      "outputs": [
        {
          "output_type": "stream",
          "text": [
            "key mean value 0 : 3\n",
            "key app_epy value 42 : 45\n",
            "key spectral_epy value 51 : 54\n",
            "key sample_epy value 54 : 57\n"
          ],
          "name": "stdout"
        }
      ]
    },
    {
      "cell_type": "code",
      "metadata": {
        "id": "qGjz4Vnz4u2j",
        "colab": {
          "base_uri": "https://localhost:8080/"
        },
        "outputId": "d069e780-67f0-4788-b436-9f865a69303a"
      },
      "source": [
        "good_feature=np.concatenate((X_good),axis=1)\r\n",
        "good_feature.shape"
      ],
      "execution_count": 40,
      "outputs": [
        {
          "output_type": "execute_result",
          "data": {
            "text/plain": [
              "(14, 12)"
            ]
          },
          "metadata": {
            "tags": []
          },
          "execution_count": 40
        }
      ]
    },
    {
      "cell_type": "code",
      "metadata": {
        "colab": {
          "base_uri": "https://localhost:8080/"
        },
        "id": "P4alC6LYG3vZ",
        "outputId": "65b55603-6f3b-4991-b0a6-39d82a405836"
      },
      "source": [
        "from sklearn.svm import SVC, LinearSVC, NuSVC\r\n",
        "from sklearn.model_selection import cross_val_score\r\n",
        "from sklearn.model_selection import GridSearchCV\r\n",
        "def svc_param_selection(X, y):\r\n",
        "    Cs = [ 0.1, 1, 10,15,20,25,30,40,50,60,70,100,120]\r\n",
        "    gammas = [0.0001,0.0005,0.001,0.005,0.008, 0.01, 0.1,0.3,0.5, 1]\r\n",
        "    param_grid = {'C': Cs, 'gamma' : gammas}\r\n",
        "    grid_search = GridSearchCV(SVC(kernel='rbf'), param_grid, cv=3)\r\n",
        "    grid_search.fit(X, y)\r\n",
        "    print(grid_search.best_params_)\r\n",
        "    return grid_search.best_score_\r\n",
        "\r\n",
        "\r\n",
        "svc_param_selection(good_feature,label)\r\n"
      ],
      "execution_count": 54,
      "outputs": [
        {
          "output_type": "stream",
          "text": [
            "{'C': 1, 'gamma': 0.1}\n"
          ],
          "name": "stdout"
        },
        {
          "output_type": "execute_result",
          "data": {
            "text/plain": [
              "0.9166666666666666"
            ]
          },
          "metadata": {
            "tags": []
          },
          "execution_count": 54
        }
      ]
    },
    {
      "cell_type": "code",
      "metadata": {
        "colab": {
          "base_uri": "https://localhost:8080/"
        },
        "id": "ZLOPVCSpG_vC",
        "outputId": "85b0355f-e4c8-40dc-f287-e7d21bd710c4"
      },
      "source": [
        "clf = SVC(kernel=\"rbf\", C=1,gamma=0.1, probability=True)\r\n",
        "acc = cross_val_score(clf,good_feature,label,cv=3)\r\n",
        "precision = cross_val_score(clf,good_feature,label,cv=3,scoring='precision')\r\n",
        "recall = cross_val_score(clf,good_feature,label,cv=3,scoring='recall')\r\n",
        "f1 = cross_val_score(clf,good_feature,label,cv=3,scoring='f1')\r\n",
        "\r\n",
        "print('average accuracy : ',np.array(acc).mean(),np.std(np.array(acc)))\r\n",
        "print('average precision : ',np.array(precision).mean(),np.std(np.array(precision)))\r\n",
        "print('average recall : ',np.array(recall).mean(),np.std(np.array(recall)))\r\n",
        "print('average f1 score : ',np.array(f1).mean(),np.std(np.array(f1)))"
      ],
      "execution_count": 57,
      "outputs": [
        {
          "output_type": "stream",
          "text": [
            "average accuracy :  0.9166666666666666 0.11785113019775792\n",
            "average precision :  1.0 0.0\n",
            "average recall :  0.8333333333333334 0.23570226039551584\n",
            "average f1 score :  0.8888888888888888 0.15713484026367724\n"
          ],
          "name": "stdout"
        }
      ]
    },
    {
      "cell_type": "code",
      "metadata": {
        "colab": {
          "base_uri": "https://localhost:8080/"
        },
        "id": "sFwJM6HRHDkN",
        "outputId": "8cfe19d8-adc2-49b4-885f-432f0b33ca76"
      },
      "source": [
        "def knn_param_selection(X, y, nfolds):\r\n",
        "    n_neighbors  = [ 3,4,5,6,7,8,9]\r\n",
        "    weights  = ['uniform','distance']\r\n",
        "    metric=['minkowski','manhattan','euclidean']\r\n",
        "    param_grid = {'n_neighbors': n_neighbors, 'weights' : weights,'metric':metric}\r\n",
        "    grid_search =GridSearchCV( KNeighborsClassifier(), param_grid, cv=nfolds,n_jobs=-1)\r\n",
        "    grid_search.fit(X, y)\r\n",
        "    print(grid_search.best_score_)\r\n",
        "    return grid_search.best_params_\r\n",
        "\r\n",
        "\r\n",
        "knn_param_selection(good_feature,label,3)"
      ],
      "execution_count": 58,
      "outputs": [
        {
          "output_type": "stream",
          "text": [
            "0.8666666666666667\n"
          ],
          "name": "stdout"
        },
        {
          "output_type": "execute_result",
          "data": {
            "text/plain": [
              "{'metric': 'minkowski', 'n_neighbors': 3, 'weights': 'uniform'}"
            ]
          },
          "metadata": {
            "tags": []
          },
          "execution_count": 58
        }
      ]
    },
    {
      "cell_type": "code",
      "metadata": {
        "colab": {
          "base_uri": "https://localhost:8080/"
        },
        "id": "fZXBxo5NHlH4",
        "outputId": "35bef621-f8d9-4b2d-80c0-2e201e04c429"
      },
      "source": [
        "\r\n",
        "clf = KNeighborsClassifier(metric= 'minkowski', n_neighbors=3, weights= 'uniform')\r\n",
        "acc = cross_val_score(clf,good_feature,label,cv=3)\r\n",
        "precision = cross_val_score(clf,good_feature,label,cv=3,scoring='precision')\r\n",
        "recall = cross_val_score(clf,good_feature,label,cv=3,scoring='recall')\r\n",
        "f1 = cross_val_score(clf,good_feature,label,cv=3,scoring='f1')\r\n",
        "\r\n",
        "print('average accuracy : ',np.array(acc).mean(),np.std(np.array(acc)))\r\n",
        "print('average precision : ',np.array(precision).mean(),np.std(np.array(precision)))\r\n",
        "print('average recall : ',np.array(recall).mean(),np.std(np.array(recall)))\r\n",
        "print('average f1 score : ',np.array(f1).mean(),np.std(np.array(f1)))"
      ],
      "execution_count": 59,
      "outputs": [
        {
          "output_type": "stream",
          "text": [
            "average accuracy :  0.8666666666666667 0.18856180831641267\n",
            "average precision :  1.0 0.0\n",
            "average recall :  0.7777777777777777 0.3142696805273545\n",
            "average f1 score :  0.8333333333333334 0.23570226039551584\n"
          ],
          "name": "stdout"
        }
      ]
    },
    {
      "cell_type": "code",
      "metadata": {
        "id": "M2glsDq64u69",
        "colab": {
          "base_uri": "https://localhost:8080/"
        },
        "outputId": "de913ce1-8bff-4eef-f1c4-a576feb4ea5d"
      },
      "source": [
        "from sklearn.linear_model import LogisticRegression\r\n",
        "def logistic_param_selection(X, y, nfolds):\r\n",
        "    C= [0.001,0.05,0.1, 1,2,3,4,5,8, 10,12,15]\r\n",
        "    max_it= [200,300,400,500]\r\n",
        "    param_grid = {'C': C,'max_iter':max_it}\r\n",
        "    grid_search = GridSearchCV(LogisticRegression(), param_grid, cv=nfolds)\r\n",
        "    grid_search.fit(X, y)\r\n",
        "    print(grid_search.best_score_)\r\n",
        "    return grid_search.best_params_\r\n",
        "\r\n",
        "\r\n",
        "logistic_param_selection(good_feature,label,3)"
      ],
      "execution_count": 60,
      "outputs": [
        {
          "output_type": "stream",
          "text": [
            "0.9333333333333332\n"
          ],
          "name": "stdout"
        },
        {
          "output_type": "execute_result",
          "data": {
            "text/plain": [
              "{'C': 0.1, 'max_iter': 200}"
            ]
          },
          "metadata": {
            "tags": []
          },
          "execution_count": 60
        }
      ]
    },
    {
      "cell_type": "code",
      "metadata": {
        "colab": {
          "base_uri": "https://localhost:8080/"
        },
        "id": "EZ-s-4iRGvZf",
        "outputId": "479241db-5791-40c5-c6b1-2f05fac91b73"
      },
      "source": [
        "clf = LogisticRegression(max_iter=200,C=0.1)\r\n",
        "acc = cross_val_score(clf,good_feature,label,cv=3)\r\n",
        "precision = cross_val_score(clf,good_feature,label,cv=3,scoring='precision')\r\n",
        "recall = cross_val_score(clf,good_feature,label,cv=3,scoring='recall')\r\n",
        "f1 = cross_val_score(clf,good_feature,label,cv=3,scoring='f1')\r\n",
        "\r\n",
        "print('average accuracy : ',np.array(acc).mean(),np.std(np.array(acc)))\r\n",
        "print('average precision : ',np.array(precision).mean(),np.std(np.array(precision)))\r\n",
        "print('average recall : ',np.array(recall).mean(),np.std(np.array(recall)))\r\n",
        "print('average f1 score : ',np.array(f1).mean(),np.std(np.array(f1)))"
      ],
      "execution_count": 62,
      "outputs": [
        {
          "output_type": "stream",
          "text": [
            "average accuracy :  0.9333333333333332 0.09428090415820632\n",
            "average precision :  1.0 0.0\n",
            "average recall :  0.8888888888888888 0.15713484026367724\n",
            "average f1 score :  0.9333333333333332 0.09428090415820632\n"
          ],
          "name": "stdout"
        }
      ]
    },
    {
      "cell_type": "code",
      "metadata": {
        "colab": {
          "base_uri": "https://localhost:8080/"
        },
        "id": "u7PALs7DGwKB",
        "outputId": "71c54270-aa29-4a93-953d-a88ff2d76bf4"
      },
      "source": [
        "\r\n",
        "from sklearn.tree import DecisionTreeClassifier\r\n",
        "from sklearn.model_selection import StratifiedKFold\r\n",
        "#skf = StratifiedKFold(n_splits=10, random_state=2020, shuffle=False)\r\n",
        "def dtree_param_selection(X,y):\r\n",
        "    #create a dictionary of all values we want to test\r\n",
        "    param_grid = { 'criterion':['gini','entropy'],'max_features':[\"auto\", \"sqrt\", \"log2\"],'max_depth': np.arange(2, 20),'random_state':[10,20,30,40]}\r\n",
        "    # decision tree model\r\n",
        "    dtree_model=DecisionTreeClassifier()\r\n",
        "    #use gridsearch to test all values\r\n",
        "    dtree_gscv = GridSearchCV(dtree_model, param_grid, cv=3)\r\n",
        "    #fit model to data\r\n",
        "    dtree_gscv.fit(X, y)\r\n",
        "    print(dtree_gscv.best_score_)\r\n",
        "    #print(dtree_gscv.best_estimator_)\r\n",
        "    return dtree_gscv.best_params_\r\n",
        "\r\n",
        "dtree_param_selection(good_feature,label)"
      ],
      "execution_count": 63,
      "outputs": [
        {
          "output_type": "stream",
          "text": [
            "0.7166666666666667\n"
          ],
          "name": "stdout"
        },
        {
          "output_type": "execute_result",
          "data": {
            "text/plain": [
              "{'criterion': 'gini',\n",
              " 'max_depth': 2,\n",
              " 'max_features': 'auto',\n",
              " 'random_state': 20}"
            ]
          },
          "metadata": {
            "tags": []
          },
          "execution_count": 63
        }
      ]
    },
    {
      "cell_type": "code",
      "metadata": {
        "colab": {
          "base_uri": "https://localhost:8080/"
        },
        "id": "UQPkE03EGyxa",
        "outputId": "5204a3d4-c87a-493b-dd1e-f0ea74c9e35d"
      },
      "source": [
        "clf = DecisionTreeClassifier(criterion= 'gini', max_depth= 2, max_features= 'auto',random_state=20)\r\n",
        "acc = cross_val_score(clf,good_feature,label,cv=3)\r\n",
        "precision = cross_val_score(clf,good_feature,label,cv=3,scoring='precision')\r\n",
        "recall = cross_val_score(clf,good_feature,label,cv=3,scoring='recall')\r\n",
        "f1 = cross_val_score(clf,good_feature,label,cv=3,scoring='f1')\r\n",
        "\r\n",
        "print('average accuracy : ',np.array(acc).mean(),np.std(np.array(acc)))\r\n",
        "print('average precision : ',np.array(precision).mean(),np.std(np.array(precision)))\r\n",
        "print('average recall : ',np.array(recall).mean(),np.std(np.array(recall)))\r\n",
        "print('average f1 score : ',np.array(f1).mean(),np.std(np.array(f1)))"
      ],
      "execution_count": 64,
      "outputs": [
        {
          "output_type": "stream",
          "text": [
            "average accuracy :  0.7166666666666667 0.08498365855987977\n",
            "average precision :  0.8333333333333334 0.23570226039551584\n",
            "average recall :  0.7222222222222222 0.20786985482077452\n",
            "average f1 score :  0.7111111111111111 0.06285393610547094\n"
          ],
          "name": "stdout"
        }
      ]
    },
    {
      "cell_type": "code",
      "metadata": {
        "id": "DlVqYcNYIMoH"
      },
      "source": [
        ""
      ],
      "execution_count": null,
      "outputs": []
    }
  ]
}