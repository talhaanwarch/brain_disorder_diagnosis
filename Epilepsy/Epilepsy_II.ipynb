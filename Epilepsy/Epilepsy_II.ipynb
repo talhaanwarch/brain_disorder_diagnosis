{
  "nbformat": 4,
  "nbformat_minor": 0,
  "metadata": {
    "colab": {
      "name": "Epilepsy_v2.ipynb",
      "provenance": [],
      "collapsed_sections": [],
      "include_colab_link": true
    },
    "kernelspec": {
      "name": "python3",
      "display_name": "Python 3"
    }
  },
  "cells": [
    {
      "cell_type": "markdown",
      "metadata": {
        "id": "view-in-github",
        "colab_type": "text"
      },
      "source": [
        "<a href=\"https://colab.research.google.com/github/talhaanwarch/Epilepsy_classification/blob/master/Epilepsy_v2.ipynb\" target=\"_parent\"><img src=\"https://colab.research.google.com/assets/colab-badge.svg\" alt=\"Open In Colab\"/></a>"
      ]
    },
    {
      "cell_type": "code",
      "metadata": {
        "id": "D8cfmeAJhLeQ"
      },
      "source": [
        ""
      ],
      "execution_count": null,
      "outputs": []
    },
    {
      "cell_type": "code",
      "metadata": {
        "id": "y3zr3yOrhrpt"
      },
      "source": [
        "#https://zenodo.org/record/1252141"
      ],
      "execution_count": 1,
      "outputs": []
    },
    {
      "cell_type": "code",
      "metadata": {
        "id": "M4w4sm63mjOw",
        "colab": {
          "base_uri": "https://localhost:8080/"
        },
        "outputId": "f8737685-ea3a-41d2-bbbf-22ec66c59785"
      },
      "source": [
        "!pip install git+https://github.com/forrestbao/pyeeg.git\n",
        "!pip install git+https://github.com/talhaanwarch/entropy.git\n"
      ],
      "execution_count": 2,
      "outputs": [
        {
          "output_type": "stream",
          "text": [
            "Collecting git+https://github.com/forrestbao/pyeeg.git\n",
            "  Cloning https://github.com/forrestbao/pyeeg.git to /tmp/pip-req-build-lqt_ls4u\n",
            "  Running command git clone -q https://github.com/forrestbao/pyeeg.git /tmp/pip-req-build-lqt_ls4u\n",
            "Requirement already satisfied: numpy>=1.9.2 in /usr/local/lib/python3.6/dist-packages (from pyeeg==0.4.4) (1.19.4)\n",
            "Building wheels for collected packages: pyeeg\n",
            "  Building wheel for pyeeg (setup.py) ... \u001b[?25l\u001b[?25hdone\n",
            "  Created wheel for pyeeg: filename=pyeeg-0.4.4-py2.py3-none-any.whl size=28123 sha256=628ee3a2f7774a22717afcd047853745eb144f30ce995668dbde427fa2cea0d3\n",
            "  Stored in directory: /tmp/pip-ephem-wheel-cache-ngryrysk/wheels/2d/3f/ad/106d4fc80b61d1ea1fc18e76e7439fd98aa043d83d58eae741\n",
            "Successfully built pyeeg\n",
            "Installing collected packages: pyeeg\n",
            "Successfully installed pyeeg-0.4.4\n",
            "Collecting git+https://github.com/talhaanwarch/entropy.git\n",
            "  Cloning https://github.com/talhaanwarch/entropy.git to /tmp/pip-req-build-0a79ofyw\n",
            "  Running command git clone -q https://github.com/talhaanwarch/entropy.git /tmp/pip-req-build-0a79ofyw\n",
            "Building wheels for collected packages: entropy\n",
            "  Building wheel for entropy (setup.py) ... \u001b[?25l\u001b[?25hdone\n",
            "  Created wheel for entropy: filename=entropy-0.1.1-cp36-none-any.whl size=15448 sha256=6c111c827080118972f8d6fdc2463941f6a446c397ce224c960fc680cc48cad5\n",
            "  Stored in directory: /tmp/pip-ephem-wheel-cache-kgc9i9i0/wheels/79/43/63/3fa9c8c5f03fe3a78d71c1aeedca9577f2f32fb2156ff9ecf8\n",
            "Successfully built entropy\n",
            "Installing collected packages: entropy\n",
            "Successfully installed entropy-0.1.1\n"
          ],
          "name": "stdout"
        }
      ]
    },
    {
      "cell_type": "code",
      "metadata": {
        "id": "tCIeWAfNeXha",
        "colab": {
          "base_uri": "https://localhost:8080/"
        },
        "outputId": "bc03ae3c-4ee9-4e15-9438-fa71848c4e6f"
      },
      "source": [
        "!wget https://zenodo.org/record/1252141/files/EEGs_Nigeria.zip"
      ],
      "execution_count": 3,
      "outputs": [
        {
          "output_type": "stream",
          "text": [
            "--2020-12-24 02:00:47--  https://zenodo.org/record/1252141/files/EEGs_Nigeria.zip\n",
            "Resolving zenodo.org (zenodo.org)... 137.138.76.77\n",
            "Connecting to zenodo.org (zenodo.org)|137.138.76.77|:443... connected.\n",
            "HTTP request sent, awaiting response... 200 OK\n",
            "Length: 276402063 (264M) [application/octet-stream]\n",
            "Saving to: ‘EEGs_Nigeria.zip’\n",
            "\n",
            "EEGs_Nigeria.zip    100%[===================>] 263.60M  16.6MB/s    in 13s     \n",
            "\n",
            "2020-12-24 02:01:02 (19.5 MB/s) - ‘EEGs_Nigeria.zip’ saved [276402063/276402063]\n",
            "\n"
          ],
          "name": "stdout"
        }
      ]
    },
    {
      "cell_type": "code",
      "metadata": {
        "id": "YuDzw4mMemnf"
      },
      "source": [
        "from zipfile import ZipFile \n",
        "data = ZipFile('EEGs_Nigeria.zip')\n",
        "data.extractall()"
      ],
      "execution_count": 4,
      "outputs": []
    },
    {
      "cell_type": "code",
      "metadata": {
        "id": "8fa6X-_EfEbX"
      },
      "source": [
        "import pandas as pd"
      ],
      "execution_count": 5,
      "outputs": []
    },
    {
      "cell_type": "code",
      "metadata": {
        "id": "5shWief3foxh"
      },
      "source": [
        "meta=pd.read_csv('https://zenodo.org/record/1252141/files/metadata_nigeria.csv')"
      ],
      "execution_count": 6,
      "outputs": []
    },
    {
      "cell_type": "code",
      "metadata": {
        "id": "whX6qjfsfuHg",
        "colab": {
          "base_uri": "https://localhost:8080/",
          "height": 194
        },
        "outputId": "914c3f83-3ffc-4bb5-f84a-62e936e2d48d"
      },
      "source": [
        "meta.head()"
      ],
      "execution_count": 7,
      "outputs": [
        {
          "output_type": "execute_result",
          "data": {
            "text/html": [
              "<div>\n",
              "<style scoped>\n",
              "    .dataframe tbody tr th:only-of-type {\n",
              "        vertical-align: middle;\n",
              "    }\n",
              "\n",
              "    .dataframe tbody tr th {\n",
              "        vertical-align: top;\n",
              "    }\n",
              "\n",
              "    .dataframe thead th {\n",
              "        text-align: right;\n",
              "    }\n",
              "</style>\n",
              "<table border=\"1\" class=\"dataframe\">\n",
              "  <thead>\n",
              "    <tr style=\"text-align: right;\">\n",
              "      <th></th>\n",
              "      <th>subject.id</th>\n",
              "      <th>recordedPeriod</th>\n",
              "      <th>startTime</th>\n",
              "      <th>session.id</th>\n",
              "      <th>first_condition</th>\n",
              "      <th>remarks</th>\n",
              "      <th>Group</th>\n",
              "      <th>csv.file</th>\n",
              "    </tr>\n",
              "  </thead>\n",
              "  <tbody>\n",
              "    <tr>\n",
              "      <th>0</th>\n",
              "      <td>6</td>\n",
              "      <td>270</td>\n",
              "      <td>26/9/2016 13:13</td>\n",
              "      <td>1</td>\n",
              "      <td>open</td>\n",
              "      <td>NaN</td>\n",
              "      <td>control</td>\n",
              "      <td>signal-6-1.csv.gz</td>\n",
              "    </tr>\n",
              "    <tr>\n",
              "      <th>1</th>\n",
              "      <td>9</td>\n",
              "      <td>271</td>\n",
              "      <td>26/9/2016 13:30</td>\n",
              "      <td>1</td>\n",
              "      <td>closed</td>\n",
              "      <td>NaN</td>\n",
              "      <td>control</td>\n",
              "      <td>signal-9-1.csv.gz</td>\n",
              "    </tr>\n",
              "    <tr>\n",
              "      <th>2</th>\n",
              "      <td>10</td>\n",
              "      <td>272</td>\n",
              "      <td>26/9/2016 13:36</td>\n",
              "      <td>1</td>\n",
              "      <td>open</td>\n",
              "      <td>eyes closed at 2:40</td>\n",
              "      <td>control</td>\n",
              "      <td>signal-10-1.csv.gz</td>\n",
              "    </tr>\n",
              "    <tr>\n",
              "      <th>3</th>\n",
              "      <td>11</td>\n",
              "      <td>274</td>\n",
              "      <td>26/9/2016 13:42</td>\n",
              "      <td>2</td>\n",
              "      <td>closed</td>\n",
              "      <td>no.11.1 failed  &gt;&gt;  11.2 is the right one</td>\n",
              "      <td>control</td>\n",
              "      <td>signal-11-2.csv.gz</td>\n",
              "    </tr>\n",
              "    <tr>\n",
              "      <th>4</th>\n",
              "      <td>11</td>\n",
              "      <td>1</td>\n",
              "      <td>26/9/2016 13:42</td>\n",
              "      <td>1</td>\n",
              "      <td>closed</td>\n",
              "      <td>no.11.1 failed  &gt;&gt;  11.2 is the right one</td>\n",
              "      <td>control</td>\n",
              "      <td>signal-11-1.csv.gz</td>\n",
              "    </tr>\n",
              "  </tbody>\n",
              "</table>\n",
              "</div>"
            ],
            "text/plain": [
              "   subject.id  recordedPeriod  ...    Group            csv.file\n",
              "0           6             270  ...  control   signal-6-1.csv.gz\n",
              "1           9             271  ...  control   signal-9-1.csv.gz\n",
              "2          10             272  ...  control  signal-10-1.csv.gz\n",
              "3          11             274  ...  control  signal-11-2.csv.gz\n",
              "4          11               1  ...  control  signal-11-1.csv.gz\n",
              "\n",
              "[5 rows x 8 columns]"
            ]
          },
          "metadata": {
            "tags": []
          },
          "execution_count": 7
        }
      ]
    },
    {
      "cell_type": "code",
      "metadata": {
        "id": "PkqndaykgVrJ"
      },
      "source": [
        "EP_sub=meta['csv.file'][meta['Group']=='epilepsy']\n",
        "CT_sub=meta['csv.file'][meta['Group']=='control']"
      ],
      "execution_count": 8,
      "outputs": []
    },
    {
      "cell_type": "code",
      "metadata": {
        "id": "ead89uXRc7ro",
        "colab": {
          "base_uri": "https://localhost:8080/"
        },
        "outputId": "c94f6b69-050f-402f-c5ca-45a064f91edd"
      },
      "source": [
        "CT_sub"
      ],
      "execution_count": 9,
      "outputs": [
        {
          "output_type": "execute_result",
          "data": {
            "text/plain": [
              "0        signal-6-1.csv.gz\n",
              "1        signal-9-1.csv.gz\n",
              "2       signal-10-1.csv.gz\n",
              "3       signal-11-2.csv.gz\n",
              "4       signal-11-1.csv.gz\n",
              "              ...         \n",
              "161    signal-573-1.csv.gz\n",
              "162    signal-574-1.csv.gz\n",
              "163    signal-575-1.csv.gz\n",
              "164    signal-576-1.csv.gz\n",
              "165    signal-577-1.csv.gz\n",
              "Name: csv.file, Length: 97, dtype: object"
            ]
          },
          "metadata": {
            "tags": []
          },
          "execution_count": 9
        }
      ]
    },
    {
      "cell_type": "code",
      "metadata": {
        "id": "MxZIYVWvfvhx"
      },
      "source": [
        "Epilepsy=[]\n",
        "for i in EP_sub:\n",
        "  Epilepsy.append(pd.read_csv('EEGs_Nigeria/{}'.format(i), compression='gzip')) "
      ],
      "execution_count": 10,
      "outputs": []
    },
    {
      "cell_type": "code",
      "metadata": {
        "id": "DZzjXp1ahOiS"
      },
      "source": [
        "Control=[]\n",
        "for i in CT_sub:\n",
        "  try:\n",
        "    Control.append(pd.read_csv('EEGs_Nigeria/{}'.format(i), compression='gzip')) \n",
        "  except:\n",
        "      pass"
      ],
      "execution_count": 11,
      "outputs": []
    },
    {
      "cell_type": "code",
      "metadata": {
        "id": "keZ2ZJm-gGe8",
        "colab": {
          "base_uri": "https://localhost:8080/",
          "height": 231
        },
        "outputId": "11f3563b-1019-4dd6-b261-c5f4da6bded6"
      },
      "source": [
        "Epilepsy[0].head()"
      ],
      "execution_count": 12,
      "outputs": [
        {
          "output_type": "execute_result",
          "data": {
            "text/html": [
              "<div>\n",
              "<style scoped>\n",
              "    .dataframe tbody tr th:only-of-type {\n",
              "        vertical-align: middle;\n",
              "    }\n",
              "\n",
              "    .dataframe tbody tr th {\n",
              "        vertical-align: top;\n",
              "    }\n",
              "\n",
              "    .dataframe thead th {\n",
              "        text-align: right;\n",
              "    }\n",
              "</style>\n",
              "<table border=\"1\" class=\"dataframe\">\n",
              "  <thead>\n",
              "    <tr style=\"text-align: right;\">\n",
              "      <th></th>\n",
              "      <th>Unnamed: 0</th>\n",
              "      <th>AF3</th>\n",
              "      <th>AF4</th>\n",
              "      <th>F3</th>\n",
              "      <th>F4</th>\n",
              "      <th>F7</th>\n",
              "      <th>F8</th>\n",
              "      <th>FC5</th>\n",
              "      <th>FC6</th>\n",
              "      <th>O1</th>\n",
              "      <th>O2</th>\n",
              "      <th>P7</th>\n",
              "      <th>P8</th>\n",
              "      <th>T7</th>\n",
              "      <th>T8</th>\n",
              "      <th>COUNTER</th>\n",
              "      <th>INTERPOLATED</th>\n",
              "      <th>GYROX</th>\n",
              "      <th>GYROY</th>\n",
              "      <th>RAW_CQ</th>\n",
              "      <th>CQ_CMS</th>\n",
              "      <th>CQ_F7</th>\n",
              "      <th>CQ_T7</th>\n",
              "      <th>CQ_O2</th>\n",
              "      <th>CQ_FC6</th>\n",
              "      <th>CQ_AF4</th>\n",
              "      <th>CQ_F3</th>\n",
              "      <th>CQ_P7</th>\n",
              "      <th>CQ_P8</th>\n",
              "      <th>CQ_F4</th>\n",
              "      <th>CQ_AF3</th>\n",
              "      <th>CQ_FC5</th>\n",
              "      <th>CQ_O1</th>\n",
              "      <th>CQ_T8</th>\n",
              "      <th>CQ_F8</th>\n",
              "      <th>CQ_DRL</th>\n",
              "    </tr>\n",
              "  </thead>\n",
              "  <tbody>\n",
              "    <tr>\n",
              "      <th>0</th>\n",
              "      <td>1</td>\n",
              "      <td>4036</td>\n",
              "      <td>330.221053</td>\n",
              "      <td>4134</td>\n",
              "      <td>-213.473684</td>\n",
              "      <td>155.242105</td>\n",
              "      <td>3712</td>\n",
              "      <td>322.421053</td>\n",
              "      <td>3935</td>\n",
              "      <td>4169</td>\n",
              "      <td>67.547368</td>\n",
              "      <td>-74.505263</td>\n",
              "      <td>4170</td>\n",
              "      <td>3815</td>\n",
              "      <td>76.894737</td>\n",
              "      <td>46</td>\n",
              "      <td>0</td>\n",
              "      <td>1555</td>\n",
              "      <td>1771</td>\n",
              "      <td>0</td>\n",
              "      <td>4</td>\n",
              "      <td>4</td>\n",
              "      <td>4</td>\n",
              "      <td>4</td>\n",
              "      <td>4</td>\n",
              "      <td>4</td>\n",
              "      <td>4</td>\n",
              "      <td>4</td>\n",
              "      <td>4</td>\n",
              "      <td>4</td>\n",
              "      <td>4</td>\n",
              "      <td>4</td>\n",
              "      <td>4</td>\n",
              "      <td>4</td>\n",
              "      <td>4</td>\n",
              "      <td>4</td>\n",
              "    </tr>\n",
              "    <tr>\n",
              "      <th>1</th>\n",
              "      <td>2</td>\n",
              "      <td>4053</td>\n",
              "      <td>341.505263</td>\n",
              "      <td>4138</td>\n",
              "      <td>-211.936842</td>\n",
              "      <td>160.368421</td>\n",
              "      <td>3715</td>\n",
              "      <td>321.905263</td>\n",
              "      <td>3944</td>\n",
              "      <td>4173</td>\n",
              "      <td>80.368421</td>\n",
              "      <td>-65.778947</td>\n",
              "      <td>4173</td>\n",
              "      <td>3816</td>\n",
              "      <td>82.536842</td>\n",
              "      <td>47</td>\n",
              "      <td>0</td>\n",
              "      <td>1551</td>\n",
              "      <td>1771</td>\n",
              "      <td>0</td>\n",
              "      <td>4</td>\n",
              "      <td>4</td>\n",
              "      <td>4</td>\n",
              "      <td>4</td>\n",
              "      <td>4</td>\n",
              "      <td>4</td>\n",
              "      <td>4</td>\n",
              "      <td>4</td>\n",
              "      <td>4</td>\n",
              "      <td>4</td>\n",
              "      <td>4</td>\n",
              "      <td>4</td>\n",
              "      <td>4</td>\n",
              "      <td>4</td>\n",
              "      <td>4</td>\n",
              "      <td>4</td>\n",
              "    </tr>\n",
              "    <tr>\n",
              "      <th>2</th>\n",
              "      <td>3</td>\n",
              "      <td>4053</td>\n",
              "      <td>-344.757895</td>\n",
              "      <td>4137</td>\n",
              "      <td>-212.957895</td>\n",
              "      <td>156.778947</td>\n",
              "      <td>3713</td>\n",
              "      <td>322.421053</td>\n",
              "      <td>3939</td>\n",
              "      <td>4174</td>\n",
              "      <td>77.294737</td>\n",
              "      <td>-64.757895</td>\n",
              "      <td>4173</td>\n",
              "      <td>3816</td>\n",
              "      <td>82.021053</td>\n",
              "      <td>48</td>\n",
              "      <td>0</td>\n",
              "      <td>1555</td>\n",
              "      <td>1771</td>\n",
              "      <td>0</td>\n",
              "      <td>4</td>\n",
              "      <td>4</td>\n",
              "      <td>4</td>\n",
              "      <td>4</td>\n",
              "      <td>4</td>\n",
              "      <td>4</td>\n",
              "      <td>4</td>\n",
              "      <td>4</td>\n",
              "      <td>4</td>\n",
              "      <td>4</td>\n",
              "      <td>4</td>\n",
              "      <td>4</td>\n",
              "      <td>4</td>\n",
              "      <td>4</td>\n",
              "      <td>4</td>\n",
              "      <td>4</td>\n",
              "    </tr>\n",
              "    <tr>\n",
              "      <th>3</th>\n",
              "      <td>4</td>\n",
              "      <td>4044</td>\n",
              "      <td>343.557895</td>\n",
              "      <td>4136</td>\n",
              "      <td>-212.452632</td>\n",
              "      <td>147.042105</td>\n",
              "      <td>3713</td>\n",
              "      <td>323.452632</td>\n",
              "      <td>3930</td>\n",
              "      <td>4170</td>\n",
              "      <td>64.989474</td>\n",
              "      <td>-65.778947</td>\n",
              "      <td>4170</td>\n",
              "      <td>3813</td>\n",
              "      <td>75.863158</td>\n",
              "      <td>49</td>\n",
              "      <td>0</td>\n",
              "      <td>1555</td>\n",
              "      <td>1771</td>\n",
              "      <td>0</td>\n",
              "      <td>4</td>\n",
              "      <td>4</td>\n",
              "      <td>4</td>\n",
              "      <td>4</td>\n",
              "      <td>4</td>\n",
              "      <td>4</td>\n",
              "      <td>4</td>\n",
              "      <td>4</td>\n",
              "      <td>4</td>\n",
              "      <td>4</td>\n",
              "      <td>4</td>\n",
              "      <td>4</td>\n",
              "      <td>4</td>\n",
              "      <td>4</td>\n",
              "      <td>4</td>\n",
              "      <td>4</td>\n",
              "    </tr>\n",
              "    <tr>\n",
              "      <th>4</th>\n",
              "      <td>5</td>\n",
              "      <td>4049</td>\n",
              "      <td>-344.242105</td>\n",
              "      <td>4131</td>\n",
              "      <td>-213.989474</td>\n",
              "      <td>141.400000</td>\n",
              "      <td>3712</td>\n",
              "      <td>319.347368</td>\n",
              "      <td>3927</td>\n",
              "      <td>4170</td>\n",
              "      <td>62.421053</td>\n",
              "      <td>-62.189474</td>\n",
              "      <td>4166</td>\n",
              "      <td>3811</td>\n",
              "      <td>73.305263</td>\n",
              "      <td>50</td>\n",
              "      <td>0</td>\n",
              "      <td>1555</td>\n",
              "      <td>1771</td>\n",
              "      <td>0</td>\n",
              "      <td>4</td>\n",
              "      <td>4</td>\n",
              "      <td>4</td>\n",
              "      <td>4</td>\n",
              "      <td>4</td>\n",
              "      <td>4</td>\n",
              "      <td>4</td>\n",
              "      <td>4</td>\n",
              "      <td>4</td>\n",
              "      <td>4</td>\n",
              "      <td>4</td>\n",
              "      <td>4</td>\n",
              "      <td>4</td>\n",
              "      <td>4</td>\n",
              "      <td>4</td>\n",
              "      <td>4</td>\n",
              "    </tr>\n",
              "  </tbody>\n",
              "</table>\n",
              "</div>"
            ],
            "text/plain": [
              "   Unnamed: 0   AF3         AF4    F3  ...  CQ_O1  CQ_T8  CQ_F8  CQ_DRL\n",
              "0           1  4036  330.221053  4134  ...      4      4      4       4\n",
              "1           2  4053  341.505263  4138  ...      4      4      4       4\n",
              "2           3  4053 -344.757895  4137  ...      4      4      4       4\n",
              "3           4  4044  343.557895  4136  ...      4      4      4       4\n",
              "4           5  4049 -344.242105  4131  ...      4      4      4       4\n",
              "\n",
              "[5 rows x 36 columns]"
            ]
          },
          "metadata": {
            "tags": []
          },
          "execution_count": 12
        }
      ]
    },
    {
      "cell_type": "code",
      "metadata": {
        "id": "ZPQOYpEYvoOj"
      },
      "source": [
        "channels=Epilepsy[0].columns[1:15].tolist()\n"
      ],
      "execution_count": 13,
      "outputs": []
    },
    {
      "cell_type": "code",
      "metadata": {
        "id": "M23NxjjqgH4d"
      },
      "source": [
        "from scipy import signal\n",
        "nyq = 0.5 * 128\n",
        "l=0.3\n",
        "low = l / nyq\n",
        "high = 30 / nyq\n",
        "b, a = signal.butter(3, [low,high], 'band')"
      ],
      "execution_count": 14,
      "outputs": []
    },
    {
      "cell_type": "code",
      "metadata": {
        "id": "qwRTcDlRiS_n"
      },
      "source": [
        "EP_data=[]\n",
        "for EP in Epilepsy:\n",
        "  data=EP.iloc[:,1:15].values\n",
        "  EP_data.append(signal.filtfilt(b, a, data.T).T)\n"
      ],
      "execution_count": 15,
      "outputs": []
    },
    {
      "cell_type": "code",
      "metadata": {
        "id": "Q8FwDAZHih9q"
      },
      "source": [
        "CT_data=[]\n",
        "for CT in Control:\n",
        "  data=CT.iloc[:,1:15].values\n",
        "  CT_data.append(signal.filtfilt(b, a, data.T).T)\n"
      ],
      "execution_count": 16,
      "outputs": []
    },
    {
      "cell_type": "code",
      "metadata": {
        "id": "SU1qJ01KlxeU",
        "colab": {
          "base_uri": "https://localhost:8080/"
        },
        "outputId": "64591d91-010e-4ab4-b3e6-51463b5867e1"
      },
      "source": [
        "import numpy as np\n",
        "X1=np.concatenate(CT_data)\n",
        "X2=np.concatenate(EP_data)\n",
        "X=np.concatenate((X1,X2))\n",
        "X.shape"
      ],
      "execution_count": 17,
      "outputs": [
        {
          "output_type": "execute_result",
          "data": {
            "text/plain": [
              "(7342592, 14)"
            ]
          },
          "metadata": {
            "tags": []
          },
          "execution_count": 17
        }
      ]
    },
    {
      "cell_type": "code",
      "metadata": {
        "id": "BAooPsSDmEV0"
      },
      "source": [
        "\n",
        "import matplotlib.pyplot as plt\n",
        "from sklearn.decomposition import PCA\n",
        "import pandas as pd\n",
        "pca = PCA().fit(X)\n"
      ],
      "execution_count": 18,
      "outputs": []
    },
    {
      "cell_type": "code",
      "metadata": {
        "id": "jmDfyBwr1ZHd",
        "colab": {
          "base_uri": "https://localhost:8080/",
          "height": 362
        },
        "outputId": "c1ba5c4b-7039-40af-a71c-8128270d8319"
      },
      "source": [
        "plt.figure(figsize=(8,5))\n",
        "plt.rcParams.update({'font.size': 16})\n",
        "\n",
        "plt.axhline(95)\n",
        "plt.axvline(9)\n",
        "#Plotting the Cumulative Summation of the Explained Variance\n",
        "plt.plot(np.cumsum(pca.explained_variance_ratio_*100)[0:15],color='k')\n",
        "plt.xlabel('Number of Components',fontsize=16)\n",
        "plt.ylabel('Variance (%)',fontsize=16) #for each component\n",
        "plt.title('Epilepsy',fontsize=16)\n",
        "plt.show()"
      ],
      "execution_count": 19,
      "outputs": [
        {
          "output_type": "display_data",
          "data": {
            "image/png": "[encoded data removed]",
            "text/plain": [
              "<Figure size 576x360 with 1 Axes>"
            ]
          },
          "metadata": {
            "tags": [],
            "needs_background": "light"
          }
        }
      ]
    },
    {
      "cell_type": "code",
      "metadata": {
        "id": "Bl32DilZmG-O",
        "colab": {
          "base_uri": "https://localhost:8080/"
        },
        "outputId": "604c806e-332d-408a-c145-59ac50869355"
      },
      "source": [
        "df1 = pd.DataFrame.from_records(X)\n",
        "df1.columns=channels\n",
        "df1.shape"
      ],
      "execution_count": 20,
      "outputs": [
        {
          "output_type": "execute_result",
          "data": {
            "text/plain": [
              "(7342592, 14)"
            ]
          },
          "metadata": {
            "tags": []
          },
          "execution_count": 20
        }
      ]
    },
    {
      "cell_type": "code",
      "metadata": {
        "id": "5FiIvqikmRM7",
        "colab": {
          "base_uri": "https://localhost:8080/"
        },
        "outputId": "1065fae3-72ab-4de0-bf0f-aa244d002b01"
      },
      "source": [
        "ch=10\n",
        "X_1=df1.var()\n",
        "idx=X_1.sort_values()[-ch::].index\n",
        "\n",
        "print(idx)\n",
        "ch=len(idx)"
      ],
      "execution_count": 21,
      "outputs": [
        {
          "output_type": "stream",
          "text": [
            "Index(['O2', 'F7', 'AF3', 'FC6', 'T8', 'P8', 'F8', 'FC5', 'F4', 'AF4'], dtype='object')\n"
          ],
          "name": "stdout"
        }
      ]
    },
    {
      "cell_type": "code",
      "metadata": {
        "id": "tYRlgCC8mVf4"
      },
      "source": [
        "\n",
        "indx=[]\n",
        "for i in idx:\n",
        "  indx.append(channels.index(i))\n",
        "indx=np.array(indx)"
      ],
      "execution_count": 22,
      "outputs": []
    },
    {
      "cell_type": "code",
      "metadata": {
        "id": "EihIuVfTi8sp"
      },
      "source": [
        "def reshape(data):   \n",
        "    shape=data.ravel().shape[0]\n",
        "    s=shape%(14*1000)\n",
        "    if s!=0:\n",
        "        d=data.ravel()[s//2:-s//2].reshape(-1,1000,14)[:,:,indx]\n",
        "        #return np.swapaxes(d,1,2)   \n",
        "        return d\n",
        "    else: \n",
        "        d1=data.reshape(-1,1000,14)[:,:,indx]\n",
        "        #return np.swapaxes(d1,1,2)   \n",
        "        return d1"
      ],
      "execution_count": 23,
      "outputs": []
    },
    {
      "cell_type": "code",
      "metadata": {
        "id": "Qu7hgQwaj79H"
      },
      "source": [
        "\n",
        "EP_reshaped=[]\n",
        "for i in EP_data:\n",
        "    EP_reshaped.append(reshape(i))\n",
        "    \n",
        "    \n",
        "CT_reshaped=[]\n",
        "for i in CT_data:\n",
        "    CT_reshaped.append(reshape(i))"
      ],
      "execution_count": 24,
      "outputs": []
    },
    {
      "cell_type": "code",
      "metadata": {
        "id": "MJLu5j-ikfgs",
        "colab": {
          "base_uri": "https://localhost:8080/"
        },
        "outputId": "3d15fec5-e286-4f82-e9f2-1c884a5b47b3"
      },
      "source": [
        "EP_reshaped[0].shape"
      ],
      "execution_count": 25,
      "outputs": [
        {
          "output_type": "execute_result",
          "data": {
            "text/plain": [
              "(34, 1000, 10)"
            ]
          },
          "metadata": {
            "tags": []
          },
          "execution_count": 25
        }
      ]
    },
    {
      "cell_type": "code",
      "metadata": {
        "id": "AY2v6LNll0np"
      },
      "source": [
        "from scipy import stats\n",
        "import pyeeg\n",
        "from entropy import *\n",
        "def mean(data):\n",
        "    return np.mean(data,axis=0)\n",
        "    \n",
        "def std(data):\n",
        "    return np.std(data,axis=0)\n",
        "\n",
        "def ptp(data):\n",
        "    return np.ptp(data,axis=0)\n",
        "\n",
        "def var(data):\n",
        "        return np.var(data,axis=0)\n",
        "\n",
        "def minim(data):\n",
        "      return np.min(data,axis=0)\n",
        "\n",
        "\n",
        "def maxim(data):\n",
        "      return np.max(data,axis=0)\n",
        "\n",
        "def argminim(data):\n",
        "      return np.argmin(data,axis=0)\n",
        "\n",
        "\n",
        "def argmaxim(data):\n",
        "      return np.argmax(data,axis=0)\n",
        "\n",
        "def mean_square(data):\n",
        "      return np.mean(data**2,axis=0)\n",
        "\n",
        "def rms(data): #root mean square\n",
        "      return  np.sqrt(np.mean(data**2,axis=0))  \n",
        "\n",
        "def abs_diffs_signal(data):\n",
        "    return np.sum(np.abs(np.diff(data,axis=0)),axis=0)\n",
        "\n",
        "\n",
        "def skewness(data):\n",
        "    return stats.skew(data,axis=0)\n",
        "\n",
        "def kurtosis(data):\n",
        "    return stats.kurtosis(data,axis=0)\n",
        "\n",
        "def zero_crossing(data):\n",
        "    return np.argmax(np.diff(np.sign(data),axis=0),axis=0)\n",
        "\n",
        "def app_epy(data):\n",
        "    result=[]\n",
        "    for i in data.T:\n",
        "        result.append(app_entropy(i, order=2, metric='chebyshev'))\n",
        "    return np.array(result)\n",
        "\n",
        "def perm_epy(data):\n",
        "    result=[]\n",
        "    for i in data.T:\n",
        "        result.append(perm_entropy(i, order=3, normalize=True))\n",
        "    return np.array(result)\n",
        "\n",
        "def svd_epy(data):\n",
        "    result=[]\n",
        "    for i in data.T:\n",
        "        result.append(svd_entropy(i, order=3, delay=1, normalize=True))\n",
        "    return np.array(result)\n",
        "\n",
        "def spectral_epy(data):\n",
        "    result=[]\n",
        "    for i in data.T:\n",
        "        result.append(spectral_entropy(i, 100, method='welch', normalize=True))\n",
        "    return np.array(result)\n",
        "\n",
        "def sample_epy(data):\n",
        "    result=[]\n",
        "    for i in data.T:\n",
        "        result.append(sample_entropy(i, order=2, metric='chebyshev'))\n",
        "    return np.array(result)\n",
        "\n",
        "\n",
        "def katz(data):\n",
        "    result=[]\n",
        "    for i in data.T:\n",
        "        result.append(katz_fd(i))\n",
        "    return np.array(result)\n",
        "\n",
        "def higuchi(data):\n",
        "    result=[]\n",
        "    for i in data.T:\n",
        "        result.append(higuchi_fd(i))\n",
        "    return np.array(result)\n",
        "\n",
        "\n",
        "def petrosian(data):\n",
        "    result=[]\n",
        "    for i in data.T:\n",
        "        result.append(petrosian_fd(i))\n",
        "    return np.array(result)\n",
        "\n",
        "def autogressiveModelParameters(data):\n",
        "    feature = []\n",
        "    for i in data.T:\n",
        "        coeff, sig = alg.AR_est_YW(i, order=5)\n",
        "        feature.append(np.mean(coeff))\n",
        "    return np.array(feature)\n",
        "\n",
        "def teager(x):\n",
        "    for i in range(len(x)-1):\n",
        "        return x[i]**2 - (x[i-1]*x[i+1])\n",
        "\n",
        "\n",
        "def lziv_complex(data):\n",
        "    result=[]\n",
        "    for i in data.T:\n",
        "        result.append(lziv_complexity(i))\n",
        "    return np.array(result)\n",
        "\n",
        "        \n",
        "def hjorth_mobility(data):\n",
        "    return np.divide(np.std(np.diff(data,axis=0),axis=0),np.std(data,axis=0))\n",
        "\n",
        "def hjorth_complexity(data):\n",
        "    return np.divide(hjorth_mobility(np.diff(data,axis=0)),  hjorth_mobility(data))      \n",
        "\n",
        "\n",
        "\n",
        "\n",
        "def concatenate_features(data):\n",
        "    return np.concatenate((mean(data),std(data),ptp(data),var(data),minim(data),maxim(data),argminim(data),argmaxim(data),\n",
        "                          mean_square(data),rms(data),abs_diffs_signal(data),\n",
        "                          skewness(data),kurtosis(data),zero_crossing(data),\n",
        "                          app_epy(data),perm_epy(data),svd_epy(data),spectral_epy(data),sample_epy(data),\n",
        "                          katz(data),higuchi(data),petrosian(data),teager(data),lziv_complex(data),\n",
        "                          hjorth_mobility(data),hjorth_complexity(data)),axis=0)\n"
      ],
      "execution_count": 26,
      "outputs": []
    },
    {
      "cell_type": "code",
      "metadata": {
        "id": "uI8jiTkBl0nr"
      },
      "source": [
        "features1=[]\n",
        "for f in CT_reshaped:\n",
        "    feature=[]\n",
        "    for i in f:\n",
        "        feature.append(concatenate_features(i))\n",
        "    features1.append(np.mean(np.array(feature),axis=0))\n",
        "    "
      ],
      "execution_count": 27,
      "outputs": []
    },
    {
      "cell_type": "code",
      "metadata": {
        "id": "BGRhuu8kl0ns"
      },
      "source": [
        "\n",
        "features2=[]\n",
        "for f in EP_reshaped:\n",
        "    feature=[]\n",
        "    for i in f:\n",
        "        feature.append(concatenate_features(i))\n",
        "    features2.append(np.mean(np.array(feature),axis=0))"
      ],
      "execution_count": 28,
      "outputs": []
    },
    {
      "cell_type": "code",
      "metadata": {
        "id": "s-tgxVOcl0nu"
      },
      "source": [
        "x1=np.array(features1)        \n",
        "x2=np.array(features2)      \n",
        "\n",
        "X=np.concatenate((x1,x2),axis=0)\n",
        "y=np.concatenate(((np.zeros(x1.shape[0])),(np.ones(x2.shape[0]))))\n"
      ],
      "execution_count": 29,
      "outputs": []
    },
    {
      "cell_type": "code",
      "metadata": {
        "id": "dkkJ6WK6kSeu",
        "colab": {
          "base_uri": "https://localhost:8080/"
        },
        "outputId": "362cc176-2086-4808-9689-e7b403fdd4d5"
      },
      "source": [
        "X.shape,y.shape"
      ],
      "execution_count": 30,
      "outputs": [
        {
          "output_type": "execute_result",
          "data": {
            "text/plain": [
              "((221, 260), (221,))"
            ]
          },
          "metadata": {
            "tags": []
          },
          "execution_count": 30
        }
      ]
    },
    {
      "cell_type": "markdown",
      "metadata": {
        "id": "LZYSZkNumVde"
      },
      "source": [
        "#import libraries"
      ]
    },
    {
      "cell_type": "code",
      "metadata": {
        "id": "GJBuPvNEToHn"
      },
      "source": [
        "from scipy import stats\n",
        "import pyeeg\n",
        "from entropy import *\n",
        "import pywt\n",
        "#from nitime import algorithms as alg\n",
        "from sklearn import metrics\n",
        "from sklearn.model_selection import train_test_split\n",
        "from sklearn.preprocessing import StandardScaler,MaxAbsScaler\n",
        "from sklearn.preprocessing import StandardScaler,MaxAbsScaler\n",
        "from sklearn.svm import SVC\n",
        "from sklearn.linear_model import LogisticRegression\n",
        "from sklearn.neighbors import KNeighborsClassifier\n",
        "from sklearn.metrics import accuracy_score, log_loss\n",
        "from sklearn.neighbors import KNeighborsClassifier\n",
        "from sklearn.svm import SVC, LinearSVC, NuSVC\n",
        "from sklearn.tree import DecisionTreeClassifier\n",
        "from sklearn.ensemble import RandomForestClassifier, AdaBoostClassifier, GradientBoostingClassifier\n",
        "from sklearn.naive_bayes import GaussianNB\n",
        "from sklearn.discriminant_analysis import LinearDiscriminantAnalysis\n",
        "from sklearn.discriminant_analysis import QuadraticDiscriminantAnalysis\n",
        "from sklearn.linear_model import LogisticRegression\n",
        "import pandas as pd\n",
        "from sklearn.metrics import f1_score\n",
        "from sklearn.model_selection import cross_val_score\n",
        "#import nolds\n",
        "np.warnings.filterwarnings('ignore')"
      ],
      "execution_count": 31,
      "outputs": []
    },
    {
      "cell_type": "markdown",
      "metadata": {
        "id": "qH6vWOzfDUGK"
      },
      "source": [
        "# Classification"
      ]
    },
    {
      "cell_type": "code",
      "metadata": {
        "id": "694vALtLl8uF"
      },
      "source": [
        "#%% split data\n",
        "from sklearn.model_selection import train_test_split\n",
        "X_train, X_test, y_train, y_test = train_test_split(X, y,test_size=0.3, random_state=42,stratify=y)"
      ],
      "execution_count": 32,
      "outputs": []
    },
    {
      "cell_type": "code",
      "metadata": {
        "id": "ZnmTowVK4rSG"
      },
      "source": [
        "sc=StandardScaler()\n",
        "X_train=sc.fit_transform(X_train)\n",
        "X_test=sc.transform(X_test)"
      ],
      "execution_count": 33,
      "outputs": []
    },
    {
      "cell_type": "code",
      "metadata": {
        "id": "yVSRKVsvl9Xm",
        "colab": {
          "base_uri": "https://localhost:8080/"
        },
        "outputId": "12d6ff6e-ee25-44fd-f328-b97837872cd7"
      },
      "source": [
        "\n",
        "clf=SVC(kernel='rbf')\n",
        "clf.fit(X_train,y_train)\n",
        "y_pred = clf.predict(X_test)\n",
        "\n",
        "from sklearn.metrics import classification_report,accuracy_score\n",
        "print(classification_report(y_test,y_pred))\n",
        "print('accuracy is ',accuracy_score(y_test, y_pred))"
      ],
      "execution_count": 34,
      "outputs": [
        {
          "output_type": "stream",
          "text": [
            "              precision    recall  f1-score   support\n",
            "\n",
            "         0.0       0.72      0.64      0.68        28\n",
            "         1.0       0.76      0.82      0.79        39\n",
            "\n",
            "    accuracy                           0.75        67\n",
            "   macro avg       0.74      0.73      0.73        67\n",
            "weighted avg       0.74      0.75      0.74        67\n",
            "\n",
            "accuracy is  0.746268656716418\n"
          ],
          "name": "stdout"
        }
      ]
    },
    {
      "cell_type": "code",
      "metadata": {
        "id": "LQC-83Qc4b99"
      },
      "source": [
        ""
      ],
      "execution_count": 34,
      "outputs": []
    },
    {
      "cell_type": "markdown",
      "metadata": {
        "id": "kwnR2ya8xfjW"
      },
      "source": [
        "# Feature"
      ]
    },
    {
      "cell_type": "code",
      "metadata": {
        "id": "OvBKAAtRxeBt"
      },
      "source": [
        "feature_list=['mean','std','ptp','var','minim','maxim','argmin','argmax','mean_square','rms','abs_diffs_signal','skewness','kurtosis','zero_crossing',\n",
        "'app_epy','perm_epy','svd_epy','spectral_epy','sample_epy','katz','higuchi','petrosian','teager','lziv_complex',\n",
        "'hjorth_mobility','hjorth_complexity']"
      ],
      "execution_count": 35,
      "outputs": []
    },
    {
      "cell_type": "code",
      "metadata": {
        "id": "XKpJ0mh9xeCG"
      },
      "source": [
        "feature=X.copy()\n",
        "label=y.copy()\n",
        "from sklearn.preprocessing import scale,maxabs_scale\n",
        "feature=scale(feature)"
      ],
      "execution_count": 36,
      "outputs": []
    },
    {
      "cell_type": "code",
      "metadata": {
        "id": "ZLH7ioNXxeCM",
        "colab": {
          "base_uri": "https://localhost:8080/"
        },
        "outputId": "70f2d8ee-8fba-47d0-ec82-955226414ac3"
      },
      "source": [
        "from sklearn.svm import SVC, LinearSVC, NuSVC\n",
        "from sklearn.model_selection import cross_val_score\n",
        "from sklearn.model_selection import GridSearchCV\n",
        "def svc_param_selection(X, y):\n",
        "    Cs = [ 0.1, 1, 10,15,20,25,30,40,50,60,70,100,120]\n",
        "    gammas = [0.0001,0.0005,0.001,0.005,0.008, 0.01, 0.1,0.3,0.5, 1]\n",
        "    param_grid = {'C': Cs, 'gamma' : gammas}\n",
        "    grid_search = GridSearchCV(SVC(kernel='rbf'), param_grid, cv=10)\n",
        "    grid_search.fit(X, y)\n",
        "    print(grid_search.best_params_)\n",
        "    return grid_search.best_score_\n",
        "\n",
        "\n",
        "svc_param_selection(feature,label)\n"
      ],
      "execution_count": 37,
      "outputs": [
        {
          "output_type": "stream",
          "text": [
            "{'C': 120, 'gamma': 0.0005}\n"
          ],
          "name": "stdout"
        },
        {
          "output_type": "execute_result",
          "data": {
            "text/plain": [
              "0.792292490118577"
            ]
          },
          "metadata": {
            "tags": []
          },
          "execution_count": 37
        }
      ]
    },
    {
      "cell_type": "code",
      "metadata": {
        "id": "ceqo9QK4r9a5",
        "colab": {
          "base_uri": "https://localhost:8080/"
        },
        "outputId": "5998f7aa-98bd-49cf-cbf7-6042ca8a490d"
      },
      "source": [
        "clf = SVC(kernel=\"rbf\", C=10,gamma=0.008, probability=True)\n",
        "acc = cross_val_score(clf,feature,label,cv=10)\n",
        "precision = cross_val_score(clf,feature,label,cv=10,scoring='precision')\n",
        "recall = cross_val_score(clf,feature,label,cv=10,scoring='recall')\n",
        "f1 = cross_val_score(clf,feature,label,cv=10,scoring='f1')\n",
        "\n",
        "print('average accuracy : ',np.array(acc).mean(),np.std(np.array(acc)))\n",
        "print('average precision : ',np.array(precision).mean(),np.std(np.array(precision)))\n",
        "print('average recall : ',np.array(recall).mean(),np.std(np.array(recall)))\n",
        "print('average f1 score : ',np.array(f1).mean(),np.std(np.array(f1)))"
      ],
      "execution_count": 38,
      "outputs": [
        {
          "output_type": "stream",
          "text": [
            "average accuracy :  0.7152173913043478 0.11228862234964647\n",
            "average precision :  0.7228820117790705 0.10143914729401787\n",
            "average recall :  0.8365384615384615 0.1052239245287313\n",
            "average f1 score :  0.7725897856932339 0.09274287596059141\n"
          ],
          "name": "stdout"
        }
      ]
    },
    {
      "cell_type": "code",
      "metadata": {
        "id": "jtZbA3_SsPkD",
        "colab": {
          "base_uri": "https://localhost:8080/"
        },
        "outputId": "57c3171b-fb2a-4ee4-eff2-b41dfc4d1ddd"
      },
      "source": [
        "\n",
        "def knn_param_selection(X, y, nfolds):\n",
        "    n_neighbors  = [ 3,4,5,6,7,8,9]\n",
        "    weights  = ['uniform','distance']\n",
        "    metric=['minkowski','manhattan','euclidean']\n",
        "    param_grid = {'n_neighbors': n_neighbors, 'weights' : weights,'metric':metric}\n",
        "    grid_search =GridSearchCV( KNeighborsClassifier(), param_grid, cv=nfolds,n_jobs=-1)\n",
        "    grid_search.fit(X, y)\n",
        "    print(grid_search.best_score_)\n",
        "    return grid_search.best_params_\n",
        "\n",
        "\n",
        "knn_param_selection(feature,label,10)"
      ],
      "execution_count": 39,
      "outputs": [
        {
          "output_type": "stream",
          "text": [
            "0.7067193675889327\n"
          ],
          "name": "stdout"
        },
        {
          "output_type": "execute_result",
          "data": {
            "text/plain": [
              "{'metric': 'minkowski', 'n_neighbors': 4, 'weights': 'distance'}"
            ]
          },
          "metadata": {
            "tags": []
          },
          "execution_count": 39
        }
      ]
    },
    {
      "cell_type": "code",
      "metadata": {
        "id": "N-pw71NNsTLI",
        "colab": {
          "base_uri": "https://localhost:8080/"
        },
        "outputId": "6d9f807e-55ce-42ef-c592-89a6f95dd323"
      },
      "source": [
        "clf = KNeighborsClassifier(metric= 'minkowski', n_neighbors=3, weights= 'uniform')\n",
        "acc = cross_val_score(clf,feature,label,cv=10)\n",
        "precision = cross_val_score(clf,feature,label,cv=10,scoring='precision')\n",
        "recall = cross_val_score(clf,feature,label,cv=10,scoring='recall')\n",
        "f1 = cross_val_score(clf,feature,label,cv=10,scoring='f1')\n",
        "\n",
        "print('average accuracy : ',np.array(acc).mean(),np.std(np.array(acc)))\n",
        "print('average precision : ',np.array(precision).mean(),np.std(np.array(precision)))\n",
        "print('average recall : ',np.array(recall).mean(),np.std(np.array(recall)))\n",
        "print('average f1 score : ',np.array(f1).mean(),np.std(np.array(f1)))"
      ],
      "execution_count": 40,
      "outputs": [
        {
          "output_type": "stream",
          "text": [
            "average accuracy :  0.6885375494071145 0.12463510458135595\n",
            "average precision :  0.7224475524475524 0.11517223116248672\n",
            "average recall :  0.7730769230769232 0.16538461538461538\n",
            "average f1 score :  0.7371033219653909 0.11323055040959522\n"
          ],
          "name": "stdout"
        }
      ]
    },
    {
      "cell_type": "code",
      "metadata": {
        "id": "_eAKP9gascmZ",
        "colab": {
          "base_uri": "https://localhost:8080/"
        },
        "outputId": "b49dbff9-1c5b-4987-da45-6a5eaade52fd"
      },
      "source": [
        "\n",
        "from sklearn.linear_model import LogisticRegression\n",
        "def logistic_param_selection(X, y, nfolds):\n",
        "    C= [0.001,0.05,0.1, 1,2,3,4,5,8, 10,12,15]\n",
        "    max_it= [200,300,400,500]\n",
        "    param_grid = {'C': C,'max_iter':max_it}\n",
        "    grid_search = GridSearchCV(LogisticRegression(), param_grid, cv=nfolds)\n",
        "    grid_search.fit(X, y)\n",
        "    print(grid_search.best_score_)\n",
        "    return grid_search.best_params_\n",
        "\n",
        "\n",
        "logistic_param_selection(feature,label,10)"
      ],
      "execution_count": 41,
      "outputs": [
        {
          "output_type": "stream",
          "text": [
            "0.7519762845849802\n"
          ],
          "name": "stdout"
        },
        {
          "output_type": "execute_result",
          "data": {
            "text/plain": [
              "{'C': 2, 'max_iter': 200}"
            ]
          },
          "metadata": {
            "tags": []
          },
          "execution_count": 41
        }
      ]
    },
    {
      "cell_type": "code",
      "metadata": {
        "id": "tqB85ZVbsc5K",
        "colab": {
          "base_uri": "https://localhost:8080/"
        },
        "outputId": "ce4450e2-f1ad-497c-ceb8-4449a03f3687"
      },
      "source": [
        "\n",
        "clf = LogisticRegression(max_iter=200,C=0.1)\n",
        "acc = cross_val_score(clf,feature,label,cv=10)\n",
        "precision = cross_val_score(clf,feature,label,cv=10,scoring='precision')\n",
        "recall = cross_val_score(clf,feature,label,cv=10,scoring='recall')\n",
        "f1 = cross_val_score(clf,feature,label,cv=10,scoring='f1')\n",
        "\n",
        "print('average accuracy : ',np.array(acc).mean(),np.std(np.array(acc)))\n",
        "print('average precision : ',np.array(precision).mean(),np.std(np.array(precision)))\n",
        "print('average recall : ',np.array(recall).mean(),np.std(np.array(recall)))\n",
        "print('average f1 score : ',np.array(f1).mean(),np.std(np.array(f1)))"
      ],
      "execution_count": 42,
      "outputs": [
        {
          "output_type": "stream",
          "text": [
            "average accuracy :  0.7337944664031621 0.14338363477701085\n",
            "average precision :  0.7631113331113332 0.11729428831591283\n",
            "average recall :  0.7801282051282051 0.15884118698387317\n",
            "average f1 score :  0.7677342287342287 0.12917942609299382\n"
          ],
          "name": "stdout"
        }
      ]
    },
    {
      "cell_type": "code",
      "metadata": {
        "id": "nbm1ti97scvx",
        "colab": {
          "base_uri": "https://localhost:8080/"
        },
        "outputId": "6d984f4c-b422-44ac-8f13-57479b4f93b3"
      },
      "source": [
        "\n",
        "from sklearn.tree import DecisionTreeClassifier\n",
        "from sklearn.model_selection import StratifiedKFold\n",
        "#skf = StratifiedKFold(n_splits=10, random_state=2020, shuffle=False)\n",
        "def dtree_param_selection(X,y):\n",
        "    #create a dictionary of all values we want to test\n",
        "    param_grid = { 'criterion':['gini','entropy'],'max_features':[\"auto\", \"sqrt\", \"log2\"],'max_depth': np.arange(2, 20),'random_state':[10,20,30,40]}\n",
        "    # decision tree model\n",
        "    dtree_model=DecisionTreeClassifier()\n",
        "    #use gridsearch to test all values\n",
        "    dtree_gscv = GridSearchCV(dtree_model, param_grid, cv=10)\n",
        "    #fit model to data\n",
        "    dtree_gscv.fit(X, y)\n",
        "    print(dtree_gscv.best_score_)\n",
        "    #print(dtree_gscv.best_estimator_)\n",
        "    return dtree_gscv.best_params_\n",
        "\n",
        "dtree_param_selection(feature,label)"
      ],
      "execution_count": 43,
      "outputs": [
        {
          "output_type": "stream",
          "text": [
            "0.6794466403162056\n"
          ],
          "name": "stdout"
        },
        {
          "output_type": "execute_result",
          "data": {
            "text/plain": [
              "{'criterion': 'gini',\n",
              " 'max_depth': 7,\n",
              " 'max_features': 'auto',\n",
              " 'random_state': 40}"
            ]
          },
          "metadata": {
            "tags": []
          },
          "execution_count": 43
        }
      ]
    },
    {
      "cell_type": "code",
      "metadata": {
        "id": "ZdBn-dPuscsY",
        "colab": {
          "base_uri": "https://localhost:8080/"
        },
        "outputId": "7f534ad0-7519-4739-bdc9-0c59bb277999"
      },
      "source": [
        "clf = DecisionTreeClassifier(criterion= 'entropy', max_depth= 2, max_features= 'log2',random_state=10)\n",
        "acc = cross_val_score(clf,feature,label,cv=10)\n",
        "precision = cross_val_score(clf,feature,label,cv=10,scoring='precision')\n",
        "recall = cross_val_score(clf,feature,label,cv=10,scoring='recall')\n",
        "f1 = cross_val_score(clf,feature,label,cv=10,scoring='f1')\n",
        "\n",
        "print('average accuracy : ',np.array(acc).mean(),np.std(np.array(acc)))\n",
        "print('average precision : ',np.array(precision).mean(),np.std(np.array(precision)))\n",
        "print('average recall : ',np.array(recall).mean(),np.std(np.array(recall)))\n",
        "print('average f1 score : ',np.array(f1).mean(),np.std(np.array(f1)))"
      ],
      "execution_count": 44,
      "outputs": [
        {
          "output_type": "stream",
          "text": [
            "average accuracy :  0.575296442687747 0.12248963391129385\n",
            "average precision :  0.6280884148531208 0.09853135900498268\n",
            "average recall :  0.6480769230769232 0.2442374990660379\n",
            "average f1 score :  0.6154322316443972 0.15782321129978247\n"
          ],
          "name": "stdout"
        }
      ]
    },
    {
      "cell_type": "code",
      "metadata": {
        "id": "Ywex3nPbsciu"
      },
      "source": [
        ""
      ],
      "execution_count": 44,
      "outputs": []
    },
    {
      "cell_type": "code",
      "metadata": {
        "id": "oITEZyIrxeC4",
        "colab": {
          "base_uri": "https://localhost:8080/"
        },
        "outputId": "a17128ec-f5db-472f-e813-87e96985d0b1"
      },
      "source": [
        "feature_selected=[]\n",
        "feat_non_sorted=[]\n",
        "score_non_sorted=[]\n",
        "for i ,j in zip(range(0,feature.shape[1],ch),feature_list):\n",
        "  acc=svc_param_selection(feature[:,i:i+ch],label)\n",
        "  print(j,\" : \",acc)\n",
        "  feat_non_sorted.append(j)\n",
        "  score_non_sorted.append(acc)"
      ],
      "execution_count": 45,
      "outputs": [
        {
          "output_type": "stream",
          "text": [
            "{'C': 40, 'gamma': 0.01}\n",
            "mean  :  0.592687747035573\n",
            "{'C': 120, 'gamma': 0.01}\n",
            "std  :  0.6391304347826087\n",
            "{'C': 40, 'gamma': 0.005}\n",
            "ptp  :  0.6575098814229249\n",
            "{'C': 120, 'gamma': 0.01}\n",
            "var  :  0.5978260869565217\n",
            "{'C': 50, 'gamma': 0.005}\n",
            "minim  :  0.6575098814229249\n",
            "{'C': 20, 'gamma': 0.01}\n",
            "maxim  :  0.6252964426877471\n",
            "{'C': 70, 'gamma': 0.0005}\n",
            "argmin  :  0.592885375494071\n",
            "{'C': 40, 'gamma': 0.01}\n",
            "argmax  :  0.5881422924901185\n",
            "{'C': 120, 'gamma': 0.01}\n",
            "mean_square  :  0.5978260869565217\n",
            "{'C': 20, 'gamma': 0.005}\n",
            "rms  :  0.6393280632411067\n",
            "{'C': 50, 'gamma': 0.008}\n",
            "abs_diffs_signal  :  0.7294466403162055\n",
            "{'C': 20, 'gamma': 0.1}\n",
            "skewness  :  0.633201581027668\n",
            "{'C': 20, 'gamma': 0.005}\n",
            "kurtosis  :  0.6015810276679843\n",
            "{'C': 50, 'gamma': 0.01}\n",
            "zero_crossing  :  0.6788537549407114\n",
            "{'C': 20, 'gamma': 0.01}\n",
            "app_epy  :  0.7247035573122529\n",
            "{'C': 70, 'gamma': 0.001}\n",
            "perm_epy  :  0.6924901185770752\n",
            "{'C': 10, 'gamma': 0.01}\n",
            "svd_epy  :  0.6841897233201581\n",
            "{'C': 100, 'gamma': 0.01}\n",
            "spectral_epy  :  0.6972332015810276\n",
            "{'C': 120, 'gamma': 0.01}\n",
            "sample_epy  :  0.715810276679842\n",
            "{'C': 100, 'gamma': 0.01}\n",
            "katz  :  0.6887351778656127\n",
            "{'C': 70, 'gamma': 0.008}\n",
            "higuchi  :  0.6614624505928854\n",
            "{'C': 100, 'gamma': 0.001}\n",
            "petrosian  :  0.7061264822134388\n",
            "{'C': 25, 'gamma': 0.1}\n",
            "teager  :  0.5881422924901185\n",
            "{'C': 70, 'gamma': 0.0005}\n",
            "lziv_complex  :  0.7294466403162055\n",
            "{'C': 15, 'gamma': 0.01}\n",
            "hjorth_mobility  :  0.6978260869565217\n",
            "{'C': 50, 'gamma': 0.0005}\n",
            "hjorth_complexity  :  0.6749011857707511\n"
          ],
          "name": "stdout"
        }
      ]
    },
    {
      "cell_type": "code",
      "metadata": {
        "id": "cQbjpWUaxeC9"
      },
      "source": [
        "score,feat  = zip(*sorted(zip(score_non_sorted, feat_non_sorted),reverse=True))\n"
      ],
      "execution_count": 46,
      "outputs": []
    },
    {
      "cell_type": "code",
      "metadata": {
        "id": "w5G7TbKcxeDB",
        "colab": {
          "base_uri": "https://localhost:8080/"
        },
        "outputId": "9a005831-c9c9-46f4-a048-020a6fae8e29"
      },
      "source": [
        "acc=0\n",
        "deleted_item=[]\n",
        "for i in range(1,20):\n",
        "  feature_selected=list(feat[:i])\n",
        "  # feature_selected=del_item(feature_selected,deleted_item)\n",
        "\n",
        "  X_good=[]\n",
        "  for key,val in zip(feature_list,range(0,feature.shape[1],ch)):\n",
        "      for fe in feature_selected:\n",
        "          if key==fe:     \n",
        "              #print('key',key,'value',val,\":\",val+ch) \n",
        "              X_good.append(feature[:,val:val+ch])\n",
        "  good_feature=np.concatenate((X_good),axis=1)\n",
        "  #good_feature=np.concatenate((good_feature,non_eeg),1)\n",
        "\n",
        "\n",
        "  acc_new=svc_param_selection(good_feature,label)\n",
        "  print(i,' : ', acc_new)\n"
      ],
      "execution_count": 47,
      "outputs": [
        {
          "output_type": "stream",
          "text": [
            "{'C': 70, 'gamma': 0.0005}\n",
            "1  :  0.7294466403162055\n",
            "{'C': 25, 'gamma': 0.001}\n",
            "2  :  0.7786561264822134\n",
            "{'C': 120, 'gamma': 0.001}\n",
            "3  :  0.7792490118577075\n",
            "{'C': 120, 'gamma': 0.001}\n",
            "4  :  0.792490118577075\n",
            "{'C': 120, 'gamma': 0.0005}\n",
            "5  :  0.7794466403162055\n",
            "{'C': 60, 'gamma': 0.0005}\n",
            "6  :  0.7697628458498024\n",
            "{'C': 30, 'gamma': 0.001}\n",
            "7  :  0.8148221343873517\n",
            "{'C': 30, 'gamma': 0.001}\n",
            "8  :  0.8148221343873517\n",
            "{'C': 25, 'gamma': 0.001}\n",
            "9  :  0.8150197628458498\n",
            "{'C': 20, 'gamma': 0.001}\n",
            "10  :  0.8106719367588932\n",
            "{'C': 25, 'gamma': 0.001}\n",
            "11  :  0.8104743083003954\n",
            "{'C': 40, 'gamma': 0.0005}\n",
            "12  :  0.8195652173913043\n",
            "{'C': 100, 'gamma': 0.0001}\n",
            "13  :  0.8110671936758894\n",
            "{'C': 120, 'gamma': 0.0001}\n",
            "14  :  0.8112648221343874\n",
            "{'C': 120, 'gamma': 0.0001}\n",
            "15  :  0.8110671936758894\n",
            "{'C': 120, 'gamma': 0.0001}\n",
            "16  :  0.8067193675889328\n",
            "{'C': 120, 'gamma': 0.0001}\n",
            "17  :  0.8067193675889328\n",
            "{'C': 100, 'gamma': 0.0001}\n",
            "18  :  0.7976284584980238\n",
            "{'C': 20, 'gamma': 0.0005}\n",
            "19  :  0.7976284584980238\n"
          ],
          "name": "stdout"
        }
      ]
    },
    {
      "cell_type": "code",
      "metadata": {
        "id": "oBMVm4Bvs6Vc",
        "colab": {
          "base_uri": "https://localhost:8080/"
        },
        "outputId": "2ba07ec9-4ab2-4ee9-ca3d-d57a199a21fa"
      },
      "source": [
        "feature_selected=feat[:9]\n",
        "X_good=[]\n",
        "for key,val in zip(feature_list,range(0,feature.shape[1],ch)):\n",
        "    for fe in feature_selected:\n",
        "        if key==fe:     \n",
        "            print('key',key,'value',val,\":\",val+ch) \n",
        "            X_good.append(feature[:,val:val+ch])"
      ],
      "execution_count": 48,
      "outputs": [
        {
          "output_type": "stream",
          "text": [
            "key abs_diffs_signal value 100 : 110\n",
            "key app_epy value 140 : 150\n",
            "key perm_epy value 150 : 160\n",
            "key spectral_epy value 170 : 180\n",
            "key sample_epy value 180 : 190\n",
            "key katz value 190 : 200\n",
            "key petrosian value 210 : 220\n",
            "key lziv_complex value 230 : 240\n",
            "key hjorth_mobility value 240 : 250\n"
          ],
          "name": "stdout"
        }
      ]
    },
    {
      "cell_type": "code",
      "metadata": {
        "id": "iOCow5was9go",
        "colab": {
          "base_uri": "https://localhost:8080/"
        },
        "outputId": "0f62e355-2d8d-4da5-8ebc-573530f3e6dd"
      },
      "source": [
        "good_feature=np.concatenate((X_good),axis=1)\n",
        "good_feature.shape"
      ],
      "execution_count": 100,
      "outputs": [
        {
          "output_type": "execute_result",
          "data": {
            "text/plain": [
              "(221, 128)"
            ]
          },
          "metadata": {
            "tags": []
          },
          "execution_count": 100
        }
      ]
    },
    {
      "cell_type": "code",
      "metadata": {
        "id": "jCk_eHpztAh-",
        "colab": {
          "base_uri": "https://localhost:8080/"
        },
        "outputId": "8b4f648d-8cb7-45dd-89f9-86f2b640b14e"
      },
      "source": [
        "svc_param_selection(good_feature,label)\n"
      ],
      "execution_count": 50,
      "outputs": [
        {
          "output_type": "stream",
          "text": [
            "{'C': 25, 'gamma': 0.001}\n"
          ],
          "name": "stdout"
        },
        {
          "output_type": "execute_result",
          "data": {
            "text/plain": [
              "0.8150197628458498"
            ]
          },
          "metadata": {
            "tags": []
          },
          "execution_count": 50
        }
      ]
    },
    {
      "cell_type": "code",
      "metadata": {
        "id": "h-GEXTomtAs0",
        "colab": {
          "base_uri": "https://localhost:8080/"
        },
        "outputId": "32bd4653-eccf-4a30-d93f-1bc53aebfa9b"
      },
      "source": [
        "clf = SVC(kernel=\"rbf\", C=25,gamma=0.001, probability=True)\n",
        "acc = cross_val_score(clf,good_feature,label,cv=10)\n",
        "precision = cross_val_score(clf,good_feature,label,cv=10,scoring='precision')\n",
        "recall = cross_val_score(clf,good_feature,label,cv=10,scoring='recall')\n",
        "f1 = cross_val_score(clf,good_feature,label,cv=10,scoring='f1')\n",
        "\n",
        "print('average accuracy : ',np.array(acc).mean(),np.std(np.array(acc)))\n",
        "print('average precision : ',np.array(precision).mean(),np.std(np.array(precision)))\n",
        "print('average recall : ',np.array(recall).mean(),np.std(np.array(recall)))\n",
        "print('average f1 score : ',np.array(f1).mean(),np.std(np.array(f1)))"
      ],
      "execution_count": 51,
      "outputs": [
        {
          "output_type": "stream",
          "text": [
            "average accuracy :  0.8150197628458498 0.07769689391455793\n",
            "average precision :  0.8255611790170614 0.08442112955859137\n",
            "average recall :  0.8756410256410257 0.10479151839445869\n",
            "average f1 score :  0.8447779104675657 0.06774072229227102\n"
          ],
          "name": "stdout"
        }
      ]
    },
    {
      "cell_type": "code",
      "metadata": {
        "id": "dzzcQDEJtAqQ",
        "colab": {
          "base_uri": "https://localhost:8080/"
        },
        "outputId": "66041fa9-ae43-4dc4-eeb9-21e3f4eb6b62"
      },
      "source": [
        "knn_param_selection(good_feature,label,10)"
      ],
      "execution_count": 52,
      "outputs": [
        {
          "output_type": "stream",
          "text": [
            "0.6796442687747036\n"
          ],
          "name": "stdout"
        },
        {
          "output_type": "execute_result",
          "data": {
            "text/plain": [
              "{'metric': 'minkowski', 'n_neighbors': 6, 'weights': 'uniform'}"
            ]
          },
          "metadata": {
            "tags": []
          },
          "execution_count": 52
        }
      ]
    },
    {
      "cell_type": "code",
      "metadata": {
        "id": "TFcz1iyXtu3c",
        "colab": {
          "base_uri": "https://localhost:8080/"
        },
        "outputId": "e534cbff-961a-486f-be89-9ea715a8a165"
      },
      "source": [
        "clf = KNeighborsClassifier(metric= 'minkowski', n_neighbors=6, weights= 'uniform')\n",
        "acc = cross_val_score(clf,good_feature,label,cv=10)\n",
        "precision = cross_val_score(clf,good_feature,label,cv=10,scoring='precision')\n",
        "recall = cross_val_score(clf,good_feature,label,cv=10,scoring='recall')\n",
        "f1 = cross_val_score(clf,good_feature,label,cv=10,scoring='f1')\n",
        "\n",
        "print('average accuracy : ',np.array(acc).mean(),np.std(np.array(acc)))\n",
        "print('average precision : ',np.array(precision).mean(),np.std(np.array(precision)))\n",
        "print('average recall : ',np.array(recall).mean(),np.std(np.array(recall)))\n",
        "print('average f1 score : ',np.array(f1).mean(),np.std(np.array(f1)))"
      ],
      "execution_count": 53,
      "outputs": [
        {
          "output_type": "stream",
          "text": [
            "average accuracy :  0.6796442687747036 0.10759576463862368\n",
            "average precision :  0.7429453879453879 0.1201280708184419\n",
            "average recall :  0.6955128205128205 0.11578456325761823\n",
            "average f1 score :  0.7140914737436476 0.10233508332692709\n"
          ],
          "name": "stdout"
        }
      ]
    },
    {
      "cell_type": "code",
      "metadata": {
        "id": "aAmUlVzAtAm2",
        "colab": {
          "base_uri": "https://localhost:8080/"
        },
        "outputId": "be520e29-8f08-42da-f280-be64728605db"
      },
      "source": [
        "logistic_param_selection(good_feature,label,10)"
      ],
      "execution_count": 54,
      "outputs": [
        {
          "output_type": "stream",
          "text": [
            "0.7968379446640317\n"
          ],
          "name": "stdout"
        },
        {
          "output_type": "execute_result",
          "data": {
            "text/plain": [
              "{'C': 1, 'max_iter': 200}"
            ]
          },
          "metadata": {
            "tags": []
          },
          "execution_count": 54
        }
      ]
    },
    {
      "cell_type": "code",
      "metadata": {
        "id": "YbWLztzZtw0r",
        "colab": {
          "base_uri": "https://localhost:8080/"
        },
        "outputId": "2fef396b-556e-4e01-c4b2-350bfa513af0"
      },
      "source": [
        "\n",
        "clf = LogisticRegression(max_iter=200,C=1)\n",
        "acc = cross_val_score(clf,good_feature,label,cv=10)\n",
        "precision = cross_val_score(clf,good_feature,label,cv=10,scoring='precision')\n",
        "recall = cross_val_score(clf,good_feature,label,cv=10,scoring='recall')\n",
        "f1 = cross_val_score(clf,good_feature,label,cv=10,scoring='f1')\n",
        "\n",
        "print('average accuracy : ',np.array(acc).mean(),np.std(np.array(acc)))\n",
        "print('average precision : ',np.array(precision).mean(),np.std(np.array(precision)))\n",
        "print('average recall : ',np.array(recall).mean(),np.std(np.array(recall)))\n",
        "print('average f1 score : ',np.array(f1).mean(),np.std(np.array(f1)))"
      ],
      "execution_count": 55,
      "outputs": [
        {
          "output_type": "stream",
          "text": [
            "average accuracy :  0.7968379446640317 0.08750634653357357\n",
            "average precision :  0.8220908258408258 0.07852001608073533\n",
            "average recall :  0.8358974358974359 0.1423942910452802\n",
            "average f1 score :  0.8218586726172934 0.08405802590977393\n"
          ],
          "name": "stdout"
        }
      ]
    },
    {
      "cell_type": "code",
      "metadata": {
        "id": "PH2fEdjytxZI",
        "colab": {
          "base_uri": "https://localhost:8080/"
        },
        "outputId": "570dcb09-e34d-41e4-d2f2-0f9d8ba35586"
      },
      "source": [
        "dtree_param_selection(good_feature,label)"
      ],
      "execution_count": 56,
      "outputs": [
        {
          "output_type": "stream",
          "text": [
            "0.715612648221344\n"
          ],
          "name": "stdout"
        },
        {
          "output_type": "execute_result",
          "data": {
            "text/plain": [
              "{'criterion': 'entropy',\n",
              " 'max_depth': 3,\n",
              " 'max_features': 'log2',\n",
              " 'random_state': 10}"
            ]
          },
          "metadata": {
            "tags": []
          },
          "execution_count": 56
        }
      ]
    },
    {
      "cell_type": "code",
      "metadata": {
        "id": "L9RbEoCptxjV",
        "colab": {
          "base_uri": "https://localhost:8080/"
        },
        "outputId": "26e3520c-ed77-4788-e692-c67f9f9419b3"
      },
      "source": [
        "clf = DecisionTreeClassifier(criterion= 'entropy', max_depth= 3, max_features= 'log2',random_state=10)\n",
        "acc = cross_val_score(clf,good_feature,label,cv=10)\n",
        "precision = cross_val_score(clf,good_feature,label,cv=10,scoring='precision')\n",
        "recall = cross_val_score(clf,good_feature,label,cv=10,scoring='recall')\n",
        "f1 = cross_val_score(clf,good_feature,label,cv=10,scoring='f1')\n",
        "\n",
        "print('average accuracy : ',np.array(acc).mean(),np.std(np.array(acc)))\n",
        "print('average precision : ',np.array(precision).mean(),np.std(np.array(precision)))\n",
        "print('average recall : ',np.array(recall).mean(),np.std(np.array(recall)))\n",
        "print('average f1 score : ',np.array(f1).mean(),np.std(np.array(f1)))"
      ],
      "execution_count": 57,
      "outputs": [
        {
          "output_type": "stream",
          "text": [
            "average accuracy :  0.715612648221344 0.10270388010083821\n",
            "average precision :  0.7088569518716578 0.07775310556214832\n",
            "average recall :  0.8583333333333334 0.13833238278231436\n",
            "average f1 score :  0.7729668607254815 0.09631017138505021\n"
          ],
          "name": "stdout"
        }
      ]
    },
    {
      "cell_type": "code",
      "metadata": {
        "id": "70UPm2YsV6LF"
      },
      "source": [
        "from sklearn.ensemble import StackingClassifier,VotingClassifier \r\n",
        "\r\n",
        "estimators = [\r\n",
        "    ('SVM', SVC(kernel=\"rbf\", C=25,gamma=0.001, probability=True)),\r\n",
        "    ('KNN',KNeighborsClassifier(metric= 'minkowski', n_neighbors=6, weights= 'uniform')),\r\n",
        "    ('LR',  LogisticRegression(max_iter=200,C=1)),\r\n",
        "    ('DT',DecisionTreeClassifier(criterion= 'entropy', max_depth= 3, max_features= 'log2',random_state=10)),\r\n",
        "     ]\r\n",
        "\r\n",
        "#clf = StackingClassifier(estimators=estimators, final_estimator=SVC())\r\n",
        "clf=VotingClassifier(estimators,voting='hard',n_jobs=-1,weights=np.array([82,67,80,72])/np.sum([82,67,80,72]))"
      ],
      "execution_count": 106,
      "outputs": []
    },
    {
      "cell_type": "code",
      "metadata": {
        "colab": {
          "base_uri": "https://localhost:8080/"
        },
        "id": "8MMuhYrvWavm",
        "outputId": "0e669737-95f7-4bd5-f7a0-ff57b14b249c"
      },
      "source": [
        "np.array([82,67,80,72])/np.sum([82,67,80,72])"
      ],
      "execution_count": 107,
      "outputs": [
        {
          "output_type": "execute_result",
          "data": {
            "text/plain": [
              "array([0.27242525, 0.22259136, 0.26578073, 0.23920266])"
            ]
          },
          "metadata": {
            "tags": []
          },
          "execution_count": 107
        }
      ]
    },
    {
      "cell_type": "code",
      "metadata": {
        "colab": {
          "base_uri": "https://localhost:8080/"
        },
        "id": "h0tSp-6dWIif",
        "outputId": "333ef3fb-92fe-47da-c6a3-35ab19f73374"
      },
      "source": [
        "acc = cross_val_score(clf,good_feature,label,cv=10)\r\n",
        "precision = cross_val_score(clf,good_feature,label,cv=10,scoring='precision')\r\n",
        "recall = cross_val_score(clf,good_feature,label,cv=10,scoring='recall')\r\n",
        "f1 = cross_val_score(clf,good_feature,label,cv=10,scoring='f1')\r\n",
        "\r\n",
        "print('average accuracy : ',np.array(acc).mean(),np.std(np.array(acc)))\r\n",
        "print('average precision : ',np.array(precision).mean(),np.std(np.array(precision)))\r\n",
        "print('average recall : ',np.array(recall).mean(),np.std(np.array(recall)))\r\n",
        "print('average f1 score : ',np.array(f1).mean(),np.std(np.array(f1)))"
      ],
      "execution_count": 108,
      "outputs": [
        {
          "output_type": "stream",
          "text": [
            "average accuracy :  0.6110671936758895 0.11440895638811206\n",
            "average precision :  0.6205601343101342 0.08738990950572686\n",
            "average recall :  0.8724358974358974 0.12123521890831697\n",
            "average f1 score :  0.721503681339054 0.08528258543872451\n"
          ],
          "name": "stdout"
        }
      ]
    },
    {
      "cell_type": "markdown",
      "metadata": {
        "id": "7mYm1uCoxeDw"
      },
      "source": [
        "#Feature Selection"
      ]
    },
    {
      "cell_type": "markdown",
      "metadata": {
        "id": "fB5bw3IAm3k1"
      },
      "source": [
        "#feature"
      ]
    },
    {
      "cell_type": "code",
      "metadata": {
        "id": "SLeHnzkom4o3"
      },
      "source": [
        "feature_list=['mean','std','ptp','var','minim','maxim','argmin','argmax','mean_square','rms','abs_diffs_signal','skewness','kurtosis','zero_crossing',\n",
        "'app_epy','perm_epy','svd_epy','spectral_epy','sample_epy','katz','higuchi','petrosian','teager','lziv_complex',\n",
        "'hjorth_mobility','hjorth_complexity']"
      ],
      "execution_count": 58,
      "outputs": []
    },
    {
      "cell_type": "code",
      "metadata": {
        "id": "fFnQqg3-m58C"
      },
      "source": [
        "feature=X.copy()\n",
        "label=y.copy()\n",
        "from sklearn.preprocessing import scale,maxabs_scale\n",
        "feature=scale(feature)"
      ],
      "execution_count": 59,
      "outputs": []
    },
    {
      "cell_type": "code",
      "metadata": {
        "id": "2ECy-guhnBP5",
        "colab": {
          "base_uri": "https://localhost:8080/"
        },
        "outputId": "d751833d-c8f3-4646-92ec-65881a602d6d"
      },
      "source": [
        "from sklearn.svm import SVC, LinearSVC, NuSVC\n",
        "from sklearn.model_selection import cross_val_score\n",
        "from sklearn.model_selection import GridSearchCV\n",
        "def svc_param_selection(X, y):\n",
        "    Cs = [ 0.1, 1, 10,15,20,25,30,40,50,60,70,100,120]\n",
        "    gammas = [0.0001,0.0005,0.001,0.005,0.008, 0.01, 0.1,0.3,0.5, 1]\n",
        "    param_grid = {'C': Cs, 'gamma' : gammas}\n",
        "    grid_search = GridSearchCV(SVC(kernel='rbf'), param_grid, cv=10)\n",
        "    grid_search.fit(X, y)\n",
        "    grid_search.best_params_\n",
        "    return grid_search.best_score_\n",
        "\n",
        "\n",
        "svc_param_selection(feature,label)\n"
      ],
      "execution_count": 60,
      "outputs": [
        {
          "output_type": "execute_result",
          "data": {
            "text/plain": [
              "0.792292490118577"
            ]
          },
          "metadata": {
            "tags": []
          },
          "execution_count": 60
        }
      ]
    },
    {
      "cell_type": "code",
      "metadata": {
        "id": "TyDPrvAqnEZh",
        "colab": {
          "base_uri": "https://localhost:8080/"
        },
        "outputId": "da730bda-507a-4d89-d08b-799586ff0325"
      },
      "source": [
        "feature_selected=[]\n",
        "feat_non_sorted=[]\n",
        "score_non_sorted=[]\n",
        "for i ,j in zip(range(0,feature.shape[1],ch),feature_list):\n",
        "  acc=svc_param_selection(feature[:,i:i+ch],label)\n",
        "  print(j,\" : \",acc)\n",
        "  feat_non_sorted.append(j)\n",
        "  score_non_sorted.append(acc)"
      ],
      "execution_count": 61,
      "outputs": [
        {
          "output_type": "stream",
          "text": [
            "mean  :  0.592687747035573\n",
            "std  :  0.6391304347826087\n",
            "ptp  :  0.6575098814229249\n",
            "var  :  0.5978260869565217\n",
            "minim  :  0.6575098814229249\n",
            "maxim  :  0.6252964426877471\n",
            "argmin  :  0.592885375494071\n",
            "argmax  :  0.5881422924901185\n",
            "mean_square  :  0.5978260869565217\n",
            "rms  :  0.6393280632411067\n",
            "abs_diffs_signal  :  0.7294466403162055\n",
            "skewness  :  0.633201581027668\n",
            "kurtosis  :  0.6015810276679843\n",
            "zero_crossing  :  0.6788537549407114\n",
            "app_epy  :  0.7247035573122529\n",
            "perm_epy  :  0.6924901185770752\n",
            "svd_epy  :  0.6841897233201581\n",
            "spectral_epy  :  0.6972332015810276\n",
            "sample_epy  :  0.715810276679842\n",
            "katz  :  0.6887351778656127\n",
            "higuchi  :  0.6614624505928854\n",
            "petrosian  :  0.7061264822134388\n",
            "teager  :  0.5881422924901185\n",
            "lziv_complex  :  0.7294466403162055\n",
            "hjorth_mobility  :  0.6978260869565217\n",
            "hjorth_complexity  :  0.6749011857707511\n"
          ],
          "name": "stdout"
        }
      ]
    },
    {
      "cell_type": "code",
      "metadata": {
        "id": "Pxi0pjPJnGYi"
      },
      "source": [
        "score,feat  = zip(*sorted(zip(score_non_sorted, feat_non_sorted),reverse=True))\n"
      ],
      "execution_count": 62,
      "outputs": []
    },
    {
      "cell_type": "code",
      "metadata": {
        "id": "olxE7YdInIUF",
        "colab": {
          "base_uri": "https://localhost:8080/"
        },
        "outputId": "3175d159-350f-4cba-f43c-1c68b1786627"
      },
      "source": [
        "acc=0\n",
        "deleted_item=[]\n",
        "for i in range(1,20):\n",
        "  feature_selected=list(feat[:i])\n",
        "  # feature_selected=del_item(feature_selected,deleted_item)\n",
        "\n",
        "  X_good=[]\n",
        "  for key,val in zip(feature_list,range(0,feature.shape[1],ch)):\n",
        "      for fe in feature_selected:\n",
        "          if key==fe:     \n",
        "              #print('key',key,'value',val,\":\",val+ch) \n",
        "              X_good.append(feature[:,val:val+ch])\n",
        "  good_feature=np.concatenate((X_good),axis=1)\n",
        "  #good_feature=np.concatenate((good_feature,non_eeg),1)\n",
        "\n",
        "\n",
        "  acc_new=svc_param_selection(good_feature,label)\n",
        "  print(i,' : ', acc_new)\n"
      ],
      "execution_count": 63,
      "outputs": [
        {
          "output_type": "stream",
          "text": [
            "1  :  0.7294466403162055\n",
            "2  :  0.7786561264822134\n",
            "3  :  0.7792490118577075\n",
            "4  :  0.792490118577075\n",
            "5  :  0.7794466403162055\n",
            "6  :  0.7697628458498024\n",
            "7  :  0.8148221343873517\n",
            "8  :  0.8148221343873517\n",
            "9  :  0.8150197628458498\n",
            "10  :  0.8106719367588932\n",
            "11  :  0.8104743083003954\n",
            "12  :  0.8195652173913043\n",
            "13  :  0.8110671936758894\n",
            "14  :  0.8112648221343874\n",
            "15  :  0.8110671936758894\n",
            "16  :  0.8067193675889328\n",
            "17  :  0.8067193675889328\n",
            "18  :  0.7976284584980238\n",
            "19  :  0.7976284584980238\n"
          ],
          "name": "stdout"
        }
      ]
    },
    {
      "cell_type": "markdown",
      "metadata": {
        "id": "1ilVKM0cwbsp"
      },
      "source": [
        "#Feature Selection"
      ]
    },
    {
      "cell_type": "code",
      "metadata": {
        "id": "LKEtc0WdweXp"
      },
      "source": [
        "feature_list=['mean','std','ptp','var','minim','maxim','mean_square','rms','abs_diffs_signal','skewness','kurtosis','zero_crossing',\n",
        "'app_epy','perm_epy','svd_epy','spectral_epy','sample_epy','katz','higuchi','petrosian','hjorth_mobility','hjorth_complexity']"
      ],
      "execution_count": 64,
      "outputs": []
    },
    {
      "cell_type": "code",
      "metadata": {
        "id": "vSQRCn_Bwg-h"
      },
      "source": [
        "\n",
        "classifiers = [\n",
        "    KNeighborsClassifier(),\n",
        "    SVC(kernel=\"linear\"),\n",
        "    DecisionTreeClassifier(),\n",
        "    LogisticRegression()]"
      ],
      "execution_count": 65,
      "outputs": []
    },
    {
      "cell_type": "code",
      "metadata": {
        "id": "jYwsw1ykwmQL"
      },
      "source": [
        "X_all=X.copy()\n",
        "y_all=y.copy()\n",
        "clf_feature_selected=[]\n",
        "for clf in classifiers:\n",
        "    feature_selected=[]\n",
        "    for i in range(50):\n",
        "        randomize = np.arange(len(X_all))\n",
        "        np.random.shuffle(randomize)\n",
        "        X_all = X_all[randomize]\n",
        "        y_all = y_all[randomize]\n",
        "        for i,j in zip(range(0,X_all.shape[1],ch),feature_list):\n",
        "            X_new=X_all[:,i:i+ch]\n",
        "            y_new=y_all.copy()\n",
        "            X_train, X_test, y_train, y_test = train_test_split(X_new, y_all,test_size=0.2, random_state=42,stratify=y_all)\n",
        "            sc=StandardScaler()\n",
        "            X_train=sc.fit_transform(X_train)\n",
        "            X_test=sc.transform(X_test)\n",
        "\n",
        "            clf.fit(X_train,y_train)\n",
        "            y_pred = clf.predict(X_test)  \n",
        "            acc=metrics.accuracy_score(y_test, y_pred)\n",
        "      #print(\"Accuracy of \",j,metrics.accuracy_score(y_test, y_pred))\n",
        "            if acc>0.75:\n",
        "                feature_selected.append(j)\n",
        "    clf_feature_selected.append(feature_selected)        \n",
        " # print('-------------------------------------------------------------------')"
      ],
      "execution_count": 66,
      "outputs": []
    },
    {
      "cell_type": "code",
      "metadata": {
        "id": "7uX_2M1BxCMq",
        "colab": {
          "base_uri": "https://localhost:8080/"
        },
        "outputId": "7f5bdfe8-d50a-4a9a-f60f-bfbb8d760476"
      },
      "source": [
        "\n",
        "clf_list=['KNN','SVM','DT','LR']\n",
        "from collections import Counter\n",
        "clf_count=[]\n",
        "for i,j in zip(range(4),clf_list):\n",
        "    feature_selected=clf_feature_selected[i]\n",
        "    count= {x:feature_selected.count(x) for x in feature_selected}\n",
        "    c = Counter(count)\n",
        "    #print(c.most_common())\n",
        "    #clf_count.append(c.most_common(10))\n",
        "    print('==================================================================================================')\n",
        "    print(j,c.most_common(10))"
      ],
      "execution_count": 67,
      "outputs": [
        {
          "output_type": "stream",
          "text": [
            "==================================================================================================\n",
            "KNN [('kurtosis', 10), ('katz', 8), ('higuchi', 8), ('sample_epy', 8), ('svd_epy', 7), ('hjorth_complexity', 2), ('spectral_epy', 1), ('mean', 1), ('var', 1), ('abs_diffs_signal', 1)]\n",
            "==================================================================================================\n",
            "SVM [('spectral_epy', 23), ('hjorth_complexity', 22), ('higuchi', 19), ('svd_epy', 16), ('minim', 15), ('sample_epy', 15), ('std', 13), ('skewness', 13), ('kurtosis', 13), ('ptp', 9)]\n",
            "==================================================================================================\n",
            "DT [('svd_epy', 6), ('higuchi', 4), ('kurtosis', 2), ('petrosian', 2), ('minim', 1), ('std', 1), ('ptp', 1), ('spectral_epy', 1), ('sample_epy', 1)]\n",
            "==================================================================================================\n",
            "LR [('hjorth_complexity', 32), ('spectral_epy', 27), ('svd_epy', 22), ('higuchi', 14), ('minim', 12), ('std', 10), ('skewness', 10), ('kurtosis', 9), ('petrosian', 8), ('hjorth_mobility', 8)]\n"
          ],
          "name": "stdout"
        }
      ]
    },
    {
      "cell_type": "code",
      "metadata": {
        "id": "ZJb3MBDVxIMf"
      },
      "source": [
        "\n",
        "from collections import Counter\n",
        "clf_feature=[]\n",
        "for i in range(4):\n",
        "    feature_selected=clf_feature_selected[i]\n",
        "    count= {x:feature_selected.count(x) for x in feature_selected}\n",
        "    c = Counter(count)\n",
        "    c={k: v / total for total in (sum(c.values(), 0.0),) for k, v in c.items()}\n",
        "\n",
        "    for k,v in c.items():\n",
        "        if v>.1:\n",
        "            clf_feature.append(k)"
      ],
      "execution_count": 68,
      "outputs": []
    },
    {
      "cell_type": "code",
      "metadata": {
        "id": "ff_M_958xJeA",
        "colab": {
          "base_uri": "https://localhost:8080/"
        },
        "outputId": "5fe799cd-e664-4778-b34c-aeeaca2dfe25"
      },
      "source": [
        "\n",
        "count= {x:clf_feature.count(x) for x in clf_feature}\n",
        "c = Counter(count)\n",
        "print(c.most_common())\n",
        "good_feature=[]\n",
        "for i in range(len(c.keys())):\n",
        "      good_feature.append(c.most_common()[i][0])\n",
        "print('===============================================================================================================')\n",
        "print(good_feature)"
      ],
      "execution_count": 69,
      "outputs": [
        {
          "output_type": "stream",
          "text": [
            "[('svd_epy', 3), ('higuchi', 3), ('kurtosis', 2), ('spectral_epy', 2), ('hjorth_complexity', 2), ('katz', 1), ('sample_epy', 1), ('petrosian', 1)]\n",
            "===============================================================================================================\n",
            "['svd_epy', 'higuchi', 'kurtosis', 'spectral_epy', 'hjorth_complexity', 'katz', 'sample_epy', 'petrosian']\n"
          ],
          "name": "stdout"
        }
      ]
    },
    {
      "cell_type": "code",
      "metadata": {
        "id": "Ksx9XancxN_l",
        "colab": {
          "base_uri": "https://localhost:8080/"
        },
        "outputId": "1fabca38-79cd-4ee1-b072-82e82772f219"
      },
      "source": [
        "\n",
        "X_good=[]\n",
        "for key,val in zip(feature_list,range(0,X.shape[1],ch)):\n",
        "    for fe in good_feature:\n",
        "        if key==fe:     \n",
        "            print('key',key,'value',val,\":\",val+ch) \n",
        "            X_good.append(X[:,val:val+16])"
      ],
      "execution_count": 70,
      "outputs": [
        {
          "output_type": "stream",
          "text": [
            "key kurtosis value 100 : 110\n",
            "key svd_epy value 140 : 150\n",
            "key spectral_epy value 150 : 160\n",
            "key sample_epy value 160 : 170\n",
            "key katz value 170 : 180\n",
            "key higuchi value 180 : 190\n",
            "key petrosian value 190 : 200\n",
            "key hjorth_complexity value 210 : 220\n"
          ],
          "name": "stdout"
        }
      ]
    },
    {
      "cell_type": "code",
      "metadata": {
        "id": "j0fOCEyVxOcu"
      },
      "source": [
        "\n",
        "X=np.concatenate((X_good),axis=1)\n"
      ],
      "execution_count": 71,
      "outputs": []
    },
    {
      "cell_type": "markdown",
      "metadata": {
        "id": "eFXMlK6y4nJl"
      },
      "source": [
        "# Tuning"
      ]
    },
    {
      "cell_type": "code",
      "metadata": {
        "id": "NFHnpghp4ouW",
        "colab": {
          "base_uri": "https://localhost:8080/"
        },
        "outputId": "e203b3b6-d7e9-4279-dea8-42cbe6dd0716"
      },
      "source": [
        "from sklearn.model_selection import GridSearchCV\n",
        "from sklearn.pipeline import Pipeline\n",
        "\n",
        "clf = SVC(kernel=\"rbf\")\n",
        "Cs = [ 1,2,3,5,7,10,15,30,50,70,100]\n",
        "gammas = [0.001,0.01,0.02,0.03,0.04,0.05,0.1,0.3,0.5,0.8,1]\n",
        "pipe = Pipeline(steps=[('scaler', sc), ('classifier', clf)])\n",
        "estimator = GridSearchCV(pipe,\n",
        "                         dict(classifier__C=Cs,classifier__gamma=gammas),cv=5,n_jobs=-1,iid=False) \n",
        "\n",
        "results = estimator.fit(X,y)\n",
        "print(results.best_score_ )\n",
        "results.best_params_"
      ],
      "execution_count": 72,
      "outputs": [
        {
          "output_type": "stream",
          "text": [
            "0.7423232323232323\n"
          ],
          "name": "stdout"
        },
        {
          "output_type": "execute_result",
          "data": {
            "text/plain": [
              "{'classifier__C': 100, 'classifier__gamma': 0.001}"
            ]
          },
          "metadata": {
            "tags": []
          },
          "execution_count": 72
        }
      ]
    },
    {
      "cell_type": "markdown",
      "metadata": {
        "id": "w1SPkcT15ctM"
      },
      "source": [
        "### NuSVM"
      ]
    },
    {
      "cell_type": "code",
      "metadata": {
        "id": "oY8iAgrC5d4o",
        "colab": {
          "base_uri": "https://localhost:8080/"
        },
        "outputId": "bd57d401-95b7-4f1a-d0b1-3d291425a79e"
      },
      "source": [
        "from sklearn.svm import SVC, LinearSVC, NuSVC\n",
        "\n",
        "clf = NuSVC(kernel=\"rbf\")\n",
        "nu = [0.1,0.3,0.5,0.7]\n",
        "gammas = [0.001,0.01,0.02,0.03,0.04,0.05,0.1,0.3,0.5,0.8,1]\n",
        "pipe = Pipeline(steps=[('scaler', sc), ('classifier', clf)])\n",
        "estimator = GridSearchCV(pipe,\n",
        "                         dict(classifier__nu=nu,classifier__gamma=gammas),cv=5,n_jobs=-1,iid=False) \n",
        "\n",
        "results = estimator.fit(X,y)\n",
        "print(results.best_score_ )\n",
        "results.best_params_"
      ],
      "execution_count": 73,
      "outputs": [
        {
          "output_type": "stream",
          "text": [
            "0.7377777777777778\n"
          ],
          "name": "stdout"
        },
        {
          "output_type": "execute_result",
          "data": {
            "text/plain": [
              "{'classifier__gamma': 0.001, 'classifier__nu': 0.3}"
            ]
          },
          "metadata": {
            "tags": []
          },
          "execution_count": 73
        }
      ]
    },
    {
      "cell_type": "markdown",
      "metadata": {
        "id": "Cy_XSVAc5g7u"
      },
      "source": [
        "### LR"
      ]
    },
    {
      "cell_type": "code",
      "metadata": {
        "id": "FY2EcC5w5h__",
        "colab": {
          "base_uri": "https://localhost:8080/"
        },
        "outputId": "73df8b34-c484-406d-ba21-372975e86d86"
      },
      "source": [
        "clf = LogisticRegression()\n",
        "C = [ 1,2,3,5,7,10,15,30,50,70,100]\n",
        "penalty=[\"l1\",\"l2\"]\n",
        "pipe = Pipeline(steps=[('scaler', sc), ('classifier', clf)])\n",
        "estimator = GridSearchCV(pipe,\n",
        "                         dict(classifier__C=C,classifier__penalty=penalty),cv=5,n_jobs=-1,iid=False) \n",
        "\n",
        "results = estimator.fit(X,y)\n",
        "print(results.best_score_ )\n",
        "results.best_params_"
      ],
      "execution_count": 74,
      "outputs": [
        {
          "output_type": "stream",
          "text": [
            "0.7018181818181819\n"
          ],
          "name": "stdout"
        },
        {
          "output_type": "execute_result",
          "data": {
            "text/plain": [
              "{'classifier__C': 7, 'classifier__penalty': 'l2'}"
            ]
          },
          "metadata": {
            "tags": []
          },
          "execution_count": 74
        }
      ]
    },
    {
      "cell_type": "markdown",
      "metadata": {
        "id": "DUCnuJK25bR-"
      },
      "source": [
        "### KNN"
      ]
    },
    {
      "cell_type": "code",
      "metadata": {
        "id": "qmtHVZfA5Ooq",
        "colab": {
          "base_uri": "https://localhost:8080/"
        },
        "outputId": "2d0b4b78-83a9-4f2b-d5e9-2f7ff3477251"
      },
      "source": [
        "\n",
        "clf = KNeighborsClassifier()\n",
        "\n",
        "n_neighbors  = [ 3,4,5,6,7,8,9,11,13]\n",
        "weights  = ['uniform','distance']\n",
        "metric=['minkowski','manhattan','euclidean']\n",
        "pipe = Pipeline(steps=[('scaler', sc), ('classifier', clf)])\n",
        "estimator = GridSearchCV(pipe,\n",
        "                         dict(classifier__n_neighbors=n_neighbors,classifier__weights=weights,classifier__metric=metric),cv=5,n_jobs=-1,iid=False) \n",
        "results = estimator.fit(X,y)\n",
        "print(results.best_score_ )\n",
        "results.best_params_"
      ],
      "execution_count": 75,
      "outputs": [
        {
          "output_type": "stream",
          "text": [
            "0.6967676767676767\n"
          ],
          "name": "stdout"
        },
        {
          "output_type": "execute_result",
          "data": {
            "text/plain": [
              "{'classifier__metric': 'minkowski',\n",
              " 'classifier__n_neighbors': 11,\n",
              " 'classifier__weights': 'distance'}"
            ]
          },
          "metadata": {
            "tags": []
          },
          "execution_count": 75
        }
      ]
    },
    {
      "cell_type": "markdown",
      "metadata": {
        "id": "F43mLml3DaEE"
      },
      "source": [
        "# Cross Validation"
      ]
    },
    {
      "cell_type": "code",
      "metadata": {
        "id": "aPu2-pvOEE1G"
      },
      "source": [
        ""
      ],
      "execution_count": 75,
      "outputs": []
    },
    {
      "cell_type": "code",
      "metadata": {
        "id": "KqMYWYTSD5De"
      },
      "source": [
        "classifiers = [\n",
        "    KNeighborsClassifier(n_neighbors=8,weights='distance',metric='manhattan'),\n",
        "    SVC(kernel=\"rbf\",C=70,gamma=0.001),\n",
        "    NuSVC(nu=0.3,gamma=0.001),\n",
        "    DecisionTreeClassifier(),\n",
        "    RandomForestClassifier(),\n",
        "    AdaBoostClassifier(),\n",
        "    GradientBoostingClassifier(),\n",
        "    GaussianNB(),\n",
        "    LinearDiscriminantAnalysis(),\n",
        "    QuadraticDiscriminantAnalysis(),\n",
        "    LogisticRegression(C=3,penalty='l2')]"
      ],
      "execution_count": 76,
      "outputs": []
    },
    {
      "cell_type": "code",
      "metadata": {
        "id": "SV8b98tzOKjM"
      },
      "source": [
        "from sklearn.pipeline import Pipeline\n",
        "pipeline = Pipeline([('transformer', sc),('estimator', clf)])\n"
      ],
      "execution_count": 77,
      "outputs": []
    },
    {
      "cell_type": "code",
      "metadata": {
        "id": "KQqS9NjUD3Kc",
        "colab": {
          "base_uri": "https://localhost:8080/"
        },
        "outputId": "45ee41be-c72a-4c18-ae48-5dc3b8792a01"
      },
      "source": [
        "import warnings\n",
        "warnings.simplefilter(action='ignore', category=FutureWarning)\n",
        "\n",
        "accuracy=[]\n",
        "accuracy_std=[]\n",
        "f1_scores=[]\n",
        "f1_scores_std=[]\n",
        "for clfs in classifiers:\n",
        "    pipeline.set_params(estimator = clfs)\n",
        "    name = clfs.__class__.__name__\n",
        "    \n",
        "    print(\"=\"*30)\n",
        "    print(name)       \n",
        "    print('****Results****')\n",
        "    scores = cross_val_score(pipeline, X, y, cv=5)\n",
        "    #f1_score = cross_val_score(clf, X_rfe, y, cv=5,scoring='f1')\n",
        "    print(\"Accuracy: {:.4%}\".format(np.array(scores).mean()))\n",
        "    accuracy.append(np.array(scores).mean())\n",
        "    accuracy_std.append(np.array(scores).std())\n",
        "    #f1_scores.append(np.array(f1_score).mean())\n",
        "    #f1_scores_std.append(np.array(f1_score).std())\n"
      ],
      "execution_count": 78,
      "outputs": [
        {
          "output_type": "stream",
          "text": [
            "==============================\n",
            "KNeighborsClassifier\n",
            "****Results****\n",
            "Accuracy: 62.4848%\n",
            "==============================\n",
            "SVC\n",
            "****Results****\n",
            "Accuracy: 72.8586%\n",
            "==============================\n",
            "NuSVC\n",
            "****Results****\n",
            "Accuracy: 73.7778%\n",
            "==============================\n",
            "DecisionTreeClassifier\n",
            "****Results****\n",
            "Accuracy: 60.1919%\n",
            "==============================\n",
            "RandomForestClassifier\n",
            "****Results****\n",
            "Accuracy: 64.2525%\n",
            "==============================\n",
            "AdaBoostClassifier\n",
            "****Results****\n",
            "Accuracy: 67.8788%\n",
            "==============================\n",
            "GradientBoostingClassifier\n",
            "****Results****\n",
            "Accuracy: 66.9798%\n",
            "==============================\n",
            "GaussianNB\n",
            "****Results****\n",
            "Accuracy: 55.6061%\n",
            "==============================\n",
            "LinearDiscriminantAnalysis\n",
            "****Results****\n",
            "Accuracy: 66.9899%\n",
            "==============================\n",
            "QuadraticDiscriminantAnalysis\n",
            "****Results****\n",
            "Accuracy: 57.9192%\n",
            "==============================\n",
            "LogisticRegression\n",
            "****Results****\n",
            "Accuracy: 70.1717%\n"
          ],
          "name": "stdout"
        }
      ]
    },
    {
      "cell_type": "code",
      "metadata": {
        "id": "icpqu9V5D1EL",
        "colab": {
          "base_uri": "https://localhost:8080/",
          "height": 308
        },
        "outputId": "2e259807-3b78-49c3-bf86-c8f6005e2dc1"
      },
      "source": [
        "import matplotlib.pyplot as plt\n",
        "classifier=['KNN','SVC','nuSCV','DT','RF','Ada','GB','NB','LDA','QDA','LR']\n",
        "y_pos = np.arange(len(classifier))\n",
        "plt.bar(y_pos,np.array(accuracy))\n",
        "plt.xticks(y_pos, classifier)\n",
        "plt.ylabel('Accuracy')\n",
        "plt.title('Classifiers')"
      ],
      "execution_count": 79,
      "outputs": [
        {
          "output_type": "execute_result",
          "data": {
            "text/plain": [
              "Text(0.5, 1.0, 'Classifiers')"
            ]
          },
          "metadata": {
            "tags": []
          },
          "execution_count": 79
        },
        {
          "output_type": "display_data",
          "data": {
            "image/png": "[encoded data removed]",
            "text/plain": [
              "<Figure size 432x288 with 1 Axes>"
            ]
          },
          "metadata": {
            "tags": [],
            "needs_background": "light"
          }
        }
      ]
    },
    {
      "cell_type": "markdown",
      "metadata": {
        "id": "VBDXxRp2O5kO"
      },
      "source": [
        "# Principle Component Analysis"
      ]
    },
    {
      "cell_type": "code",
      "metadata": {
        "id": "qGWFC54TO44u",
        "colab": {
          "base_uri": "https://localhost:8080/",
          "height": 310
        },
        "outputId": "23d41ecc-9c6f-468f-ee4c-81f27fc25a37"
      },
      "source": [
        "from sklearn.decomposition import PCA\n",
        "import matplotlib.pyplot as plt\n",
        "from sklearn.decomposition import KernelPCA\n",
        "from sklearn.model_selection import cross_val_score\n",
        "\n",
        "#Fitting the PCA algorithm with our Data\n",
        "pca = PCA().fit(X_train)\n",
        "#Plotting the Cumulative Summation of the Explained Variance\n",
        "plt.figure()\n",
        "plt.plot(np.cumsum(pca.explained_variance_ratio_))\n",
        "plt.xlabel('Number of Components')\n",
        "plt.ylabel('Variance (%)') #for each component\n",
        "plt.title('EEG')\n",
        "plt.show()"
      ],
      "execution_count": 80,
      "outputs": [
        {
          "output_type": "display_data",
          "data": {
            "image/png": "[encoded data removed]",
            "text/plain": [
              "<Figure size 432x288 with 1 Axes>"
            ]
          },
          "metadata": {
            "tags": [],
            "needs_background": "light"
          }
        }
      ]
    },
    {
      "cell_type": "code",
      "metadata": {
        "id": "SN4VeHRtO__B"
      },
      "source": [
        "\n"
      ],
      "execution_count": 80,
      "outputs": []
    },
    {
      "cell_type": "code",
      "metadata": {
        "id": "2vhCPXYMohbm"
      },
      "source": [
        "clf = SVC(kernel='rbf')\n",
        "pca = PCA(n_components=5)\n",
        "\n",
        "#pipeline = Pipeline([('selector',pca), ('estimator', clf)])\n",
        "pipeline = Pipeline([('transformer', sc),('selector',pca), ('estimator', clf)])\n"
      ],
      "execution_count": 81,
      "outputs": []
    },
    {
      "cell_type": "code",
      "metadata": {
        "id": "mA0HWAG4ohbq",
        "colab": {
          "base_uri": "https://localhost:8080/"
        },
        "outputId": "5cecdb81-659b-43b7-80ef-ea2fbf4e8b4c"
      },
      "source": [
        "\n",
        "import warnings\n",
        "warnings.simplefilter(action='ignore', category=FutureWarning)\n",
        "\n",
        "accuracy_pca=[]\n",
        "std_pca=[]\n",
        "f1_scores=[]\n",
        "f1_scores_std=[]\n",
        "for clfs in classifiers:\n",
        "    pipeline.set_params(estimator = clfs)\n",
        "    name = clfs.__class__.__name__\n",
        "    \n",
        "    print(\"=\"*30)\n",
        "    print(name)       \n",
        "    print('****Results****')\n",
        "    scores = cross_val_score(pipeline, X, y, cv=5)\n",
        "    #f1_score = cross_val_score(clf, X_rfe, y, cv=5,scoring='f1')\n",
        "    print(\"Accuracy: {:.4%}\".format(np.array(scores).mean()))\n",
        "    accuracy_pca.append(np.array(scores).mean())\n",
        "    std_pca.append(np.array(scores).std())\n",
        "    #f1_scores.append(np.array(f1_score).mean())\n",
        "    #f1_scores_std.append(np.array(f1_score).std())\n"
      ],
      "execution_count": 82,
      "outputs": [
        {
          "output_type": "stream",
          "text": [
            "==============================\n",
            "KNeighborsClassifier\n",
            "****Results****\n",
            "Accuracy: 54.7172%\n",
            "==============================\n",
            "SVC\n",
            "****Results****\n",
            "Accuracy: 57.4646%\n",
            "==============================\n",
            "NuSVC\n",
            "****Results****\n",
            "Accuracy: 57.4545%\n",
            "==============================\n",
            "DecisionTreeClassifier\n",
            "****Results****\n",
            "Accuracy: 59.6970%\n",
            "==============================\n",
            "RandomForestClassifier\n",
            "****Results****\n",
            "Accuracy: 60.1717%\n",
            "==============================\n",
            "AdaBoostClassifier\n",
            "****Results****\n",
            "Accuracy: 52.5253%\n",
            "==============================\n",
            "GradientBoostingClassifier\n",
            "****Results****\n",
            "Accuracy: 59.7273%\n",
            "==============================\n",
            "GaussianNB\n",
            "****Results****\n",
            "Accuracy: 53.3939%\n",
            "==============================\n",
            "LinearDiscriminantAnalysis\n",
            "****Results****\n",
            "Accuracy: 56.1414%\n",
            "==============================\n",
            "QuadraticDiscriminantAnalysis\n",
            "****Results****\n",
            "Accuracy: 56.5253%\n",
            "==============================\n",
            "LogisticRegression\n",
            "****Results****\n",
            "Accuracy: 58.4141%\n"
          ],
          "name": "stdout"
        }
      ]
    },
    {
      "cell_type": "code",
      "metadata": {
        "id": "kejMrjKwEC03",
        "colab": {
          "base_uri": "https://localhost:8080/"
        },
        "outputId": "ea07f6cc-0de0-4691-fbb7-dccf0ebca946"
      },
      "source": [
        "from sklearn.model_selection import GridSearchCV\n",
        "\n",
        "clf = SVC(kernel=\"rbf\")\n",
        "n_components = [5,10,15,20]\n",
        "Cs = [0.001,0.1, 1,2,3,5,7,10,15,30]\n",
        "gammas = [0.001,0.01,0.02,0.03,0.04,0.05,0.1,0.3,0.5,0.8,1]\n",
        "pipe = Pipeline(steps=[('scalar',sc),('selector', pca), ('classifier', clf)])\n",
        "estimator = GridSearchCV(pipe,\n",
        "                         dict(selector__n_components=n_components,\n",
        "                              classifier__C=Cs,classifier__gamma=gammas),cv=5,n_jobs=-1,iid=False) \n",
        "\n",
        "results = estimator.fit(X,y)\n",
        "print(results.best_score_ )\n",
        "results.best_params_"
      ],
      "execution_count": 83,
      "outputs": [
        {
          "output_type": "stream",
          "text": [
            "0.7558585858585859\n"
          ],
          "name": "stdout"
        },
        {
          "output_type": "execute_result",
          "data": {
            "text/plain": [
              "{'classifier__C': 15, 'classifier__gamma': 0.001, 'selector__n_components': 20}"
            ]
          },
          "metadata": {
            "tags": []
          },
          "execution_count": 83
        }
      ]
    },
    {
      "cell_type": "code",
      "metadata": {
        "id": "c2PaVKiKhAyf",
        "colab": {
          "base_uri": "https://localhost:8080/"
        },
        "outputId": "46c03a2a-72ca-4409-b32e-4e6cd42aeb19"
      },
      "source": [
        "from sklearn.model_selection import GridSearchCV\n",
        "\n",
        "clf = KNeighborsClassifier()\n",
        "n_components = [5,10,15,20]\n",
        "n_neighbors  = [ 3,4,5,6,7,8,9]\n",
        "weights  = ['uniform','distance']\n",
        "metric=['minkowski','manhattan','euclidean']\n",
        "pipe = Pipeline(steps=[('scalar',sc),('selector', pca), ('classifier', clf)])\n",
        "estimator = GridSearchCV(pipe,\n",
        "                         dict(selector__n_components=n_components,\n",
        "                              classifier__n_neighbors=n_neighbors,classifier__weights=weights,classifier__metric=metric),cv=5,n_jobs=-1,iid=False) \n",
        "\n",
        "results = estimator.fit(X,y)\n",
        "print(results.best_score_ )\n",
        "results.best_params_"
      ],
      "execution_count": 84,
      "outputs": [
        {
          "output_type": "stream",
          "text": [
            "0.705959595959596\n"
          ],
          "name": "stdout"
        },
        {
          "output_type": "execute_result",
          "data": {
            "text/plain": [
              "{'classifier__metric': 'minkowski',\n",
              " 'classifier__n_neighbors': 3,\n",
              " 'classifier__weights': 'uniform',\n",
              " 'selector__n_components': 20}"
            ]
          },
          "metadata": {
            "tags": []
          },
          "execution_count": 84
        }
      ]
    },
    {
      "cell_type": "markdown",
      "metadata": {
        "id": "34K17oX2kI3Z"
      },
      "source": [
        "# RFE"
      ]
    },
    {
      "cell_type": "code",
      "metadata": {
        "id": "Effk-fW1km3b"
      },
      "source": [
        "from sklearn.feature_selection import RFE"
      ],
      "execution_count": 85,
      "outputs": []
    },
    {
      "cell_type": "code",
      "metadata": {
        "id": "X3joTTYvkPfz"
      },
      "source": [
        "\n",
        "clf = SVC(kernel='rbf')\n",
        "rfe=RFE(SVC(kernel='linear'),n_features_to_select=5,step=1,verbose=0)   \n",
        "\n",
        "#pipeline = Pipeline([('selector',rfe), ('estimator', clf)])\n",
        "pipeline = Pipeline([('transformer', sc),('selector',rfe), ('estimator', clf)])\n"
      ],
      "execution_count": 86,
      "outputs": []
    },
    {
      "cell_type": "code",
      "metadata": {
        "id": "S37vDSnpkpi-",
        "colab": {
          "base_uri": "https://localhost:8080/"
        },
        "outputId": "9c55fec6-181a-40d5-b16f-e2b537bc31d9"
      },
      "source": [
        "\n",
        "import warnings\n",
        "warnings.simplefilter(action='ignore', category=FutureWarning)\n",
        "\n",
        "accuracy_rfe=[]\n",
        "std_rfe=[]\n",
        "f1_scores=[]\n",
        "f1_scores_std=[]\n",
        "for clfs in classifiers:\n",
        "    pipeline.set_params(estimator = clfs)\n",
        "    name = clfs.__class__.__name__\n",
        "    \n",
        "    print(\"=\"*30)\n",
        "    print(name)       \n",
        "    print('****Results****')\n",
        "    scores = cross_val_score(pipeline, X, y, cv=5)\n",
        "    #f1_score = cross_val_score(clf, X_rfe, y, cv=5,scoring='f1')\n",
        "    print(\"Accuracy: {:.4%}\".format(np.array(scores).mean()))\n",
        "    accuracy_rfe.append(np.array(scores).mean())\n",
        "    std_rfe.append(np.array(scores).std())\n",
        "    #f1_scores.append(np.array(f1_score).mean())\n",
        "    #f1_scores_std.append(np.array(f1_score).std())\n"
      ],
      "execution_count": 87,
      "outputs": [
        {
          "output_type": "stream",
          "text": [
            "==============================\n",
            "KNeighborsClassifier\n",
            "****Results****\n",
            "Accuracy: 56.1212%\n",
            "==============================\n",
            "SVC\n",
            "****Results****\n",
            "Accuracy: 63.3434%\n",
            "==============================\n",
            "NuSVC\n",
            "****Results****\n",
            "Accuracy: 59.3232%\n",
            "==============================\n",
            "DecisionTreeClassifier\n",
            "****Results****\n",
            "Accuracy: 59.2525%\n",
            "==============================\n",
            "RandomForestClassifier\n",
            "****Results****\n",
            "Accuracy: 57.4949%\n",
            "==============================\n",
            "AdaBoostClassifier\n",
            "****Results****\n",
            "Accuracy: 58.3838%\n",
            "==============================\n",
            "GradientBoostingClassifier\n",
            "****Results****\n",
            "Accuracy: 57.0202%\n",
            "==============================\n",
            "GaussianNB\n",
            "****Results****\n",
            "Accuracy: 55.6869%\n",
            "==============================\n",
            "LinearDiscriminantAnalysis\n",
            "****Results****\n",
            "Accuracy: 63.3434%\n",
            "==============================\n",
            "QuadraticDiscriminantAnalysis\n",
            "****Results****\n",
            "Accuracy: 63.3131%\n",
            "==============================\n",
            "LogisticRegression\n",
            "****Results****\n",
            "Accuracy: 60.6162%\n"
          ],
          "name": "stdout"
        }
      ]
    },
    {
      "cell_type": "markdown",
      "metadata": {
        "id": "v5yNkL4arI5Z"
      },
      "source": [
        "# SKbest"
      ]
    },
    {
      "cell_type": "code",
      "metadata": {
        "id": "-5wEC_ForKGR"
      },
      "source": [
        "from sklearn.feature_selection import SelectKBest\n",
        "from sklearn.feature_selection import f_classif\n"
      ],
      "execution_count": 88,
      "outputs": []
    },
    {
      "cell_type": "code",
      "metadata": {
        "id": "r5vNJstWrtCD"
      },
      "source": [
        "\n",
        "clf = SVC(kernel='rbf')\n",
        "skbest=SelectKBest(f_classif, k=10)\n",
        "#pipeline = Pipeline([('selector',skbest), ('estimator', clf)])\n",
        "pipeline = Pipeline([('transformer', sc),('selector',rfe), ('estimator', clf)])\n"
      ],
      "execution_count": 89,
      "outputs": []
    },
    {
      "cell_type": "code",
      "metadata": {
        "id": "4VS9cTTirtCH",
        "colab": {
          "base_uri": "https://localhost:8080/"
        },
        "outputId": "7b80d8a9-ab82-405e-c693-0d1896952f81"
      },
      "source": [
        "\n",
        "import warnings\n",
        "warnings.simplefilter(action='ignore', category=FutureWarning)\n",
        "\n",
        "accuracy_kbest=[]\n",
        "std_kbest=[]\n",
        "f1_scores=[]\n",
        "f1_scores_std=[]\n",
        "for clfs in classifiers:\n",
        "    pipeline.set_params(estimator = clfs)\n",
        "    name = clfs.__class__.__name__\n",
        "    \n",
        "    print(\"=\"*30)\n",
        "    print(name)       \n",
        "    print('****Results****')\n",
        "    scores = cross_val_score(pipeline, X, y, cv=5)\n",
        "    #f1_score = cross_val_score(clf, X_rfe, y, cv=5,scoring='f1')\n",
        "    print(\"Accuracy: {:.4%}\".format(np.array(scores).mean()))\n",
        "    accuracy_kbest.append(np.array(scores).mean())\n",
        "    std_kbest.append(np.array(scores).std())\n",
        "    #f1_scores.append(np.array(f1_score).mean())\n",
        "    #f1_scores_std.append(np.array(f1_score).std())\n"
      ],
      "execution_count": 90,
      "outputs": [
        {
          "output_type": "stream",
          "text": [
            "==============================\n",
            "KNeighborsClassifier\n",
            "****Results****\n",
            "Accuracy: 56.1212%\n",
            "==============================\n",
            "SVC\n",
            "****Results****\n",
            "Accuracy: 63.3434%\n",
            "==============================\n",
            "NuSVC\n",
            "****Results****\n",
            "Accuracy: 59.3232%\n",
            "==============================\n",
            "DecisionTreeClassifier\n",
            "****Results****\n",
            "Accuracy: 60.1717%\n",
            "==============================\n",
            "RandomForestClassifier\n",
            "****Results****\n",
            "Accuracy: 56.5657%\n",
            "==============================\n",
            "AdaBoostClassifier\n",
            "****Results****\n",
            "Accuracy: 58.3838%\n",
            "==============================\n",
            "GradientBoostingClassifier\n",
            "****Results****\n",
            "Accuracy: 57.4747%\n",
            "==============================\n",
            "GaussianNB\n",
            "****Results****\n",
            "Accuracy: 55.6869%\n",
            "==============================\n",
            "LinearDiscriminantAnalysis\n",
            "****Results****\n",
            "Accuracy: 63.3434%\n",
            "==============================\n",
            "QuadraticDiscriminantAnalysis\n",
            "****Results****\n",
            "Accuracy: 63.3131%\n",
            "==============================\n",
            "LogisticRegression\n",
            "****Results****\n",
            "Accuracy: 60.6162%\n"
          ],
          "name": "stdout"
        }
      ]
    },
    {
      "cell_type": "code",
      "metadata": {
        "id": "Wbl3_Cs9rnNh"
      },
      "source": [
        ""
      ],
      "execution_count": 90,
      "outputs": []
    },
    {
      "cell_type": "markdown",
      "metadata": {
        "id": "N40_Zc8nsiU3"
      },
      "source": [
        "# VarianceThreshold"
      ]
    },
    {
      "cell_type": "code",
      "metadata": {
        "id": "hqPon3DushYn"
      },
      "source": [
        "from sklearn.feature_selection import VarianceThreshold\n",
        "clf = SVC(kernel='rbf')\n",
        "selector = VarianceThreshold(0.05)\n",
        "#pipeline = Pipeline([('selector',algo), ('estimator', clf)])\n",
        "pipeline = Pipeline([('transformer', sc),('selector',selector), ('estimator', clf)])\n"
      ],
      "execution_count": 91,
      "outputs": []
    },
    {
      "cell_type": "code",
      "metadata": {
        "id": "zH6sK58CshYp",
        "colab": {
          "base_uri": "https://localhost:8080/"
        },
        "outputId": "de0c9359-be01-4385-ce11-c6c4506ce2a2"
      },
      "source": [
        "\n",
        "import warnings\n",
        "warnings.simplefilter(action='ignore', category=FutureWarning)\n",
        "\n",
        "accuracy_var=[]\n",
        "std_var=[]\n",
        "f1_scores=[]\n",
        "f1_scores_std=[]\n",
        "for clfs in classifiers:\n",
        "    pipeline.set_params(estimator = clfs)\n",
        "    name = clfs.__class__.__name__\n",
        "    \n",
        "    print(\"=\"*30)\n",
        "    print(name)       \n",
        "    print('****Results****')\n",
        "    scores = cross_val_score(pipeline, X, y, cv=5)\n",
        "    #f1_score = cross_val_score(clf, X_rfe, y, cv=5,scoring='f1')\n",
        "    print(\"Accuracy: {:.4%}\".format(np.array(scores).mean()))\n",
        "    accuracy_var.append(np.array(scores).mean())\n",
        "    std_var.append(np.array(scores).std())\n",
        "    #f1_scores.append(np.array(f1_score).mean())\n",
        "    #f1_scores_std.append(np.array(f1_score).std())\n"
      ],
      "execution_count": 92,
      "outputs": [
        {
          "output_type": "stream",
          "text": [
            "==============================\n",
            "KNeighborsClassifier\n",
            "****Results****\n",
            "Accuracy: 62.4848%\n",
            "==============================\n",
            "SVC\n",
            "****Results****\n",
            "Accuracy: 72.8586%\n",
            "==============================\n",
            "NuSVC\n",
            "****Results****\n",
            "Accuracy: 73.7778%\n",
            "==============================\n",
            "DecisionTreeClassifier\n",
            "****Results****\n",
            "Accuracy: 59.7576%\n",
            "==============================\n",
            "RandomForestClassifier\n",
            "****Results****\n",
            "Accuracy: 71.9394%\n",
            "==============================\n",
            "AdaBoostClassifier\n",
            "****Results****\n",
            "Accuracy: 67.8788%\n",
            "==============================\n",
            "GradientBoostingClassifier\n",
            "****Results****\n",
            "Accuracy: 66.9697%\n",
            "==============================\n",
            "GaussianNB\n",
            "****Results****\n",
            "Accuracy: 55.6061%\n",
            "==============================\n",
            "LinearDiscriminantAnalysis\n",
            "****Results****\n",
            "Accuracy: 66.9899%\n",
            "==============================\n",
            "QuadraticDiscriminantAnalysis\n",
            "****Results****\n",
            "Accuracy: 57.9192%\n",
            "==============================\n",
            "LogisticRegression\n",
            "****Results****\n",
            "Accuracy: 70.1717%\n"
          ],
          "name": "stdout"
        }
      ]
    },
    {
      "cell_type": "markdown",
      "metadata": {
        "id": "utsqZIs_qvKn"
      },
      "source": [
        "# Result"
      ]
    },
    {
      "cell_type": "code",
      "metadata": {
        "id": "X9-EzT5grnQp",
        "colab": {
          "base_uri": "https://localhost:8080/"
        },
        "outputId": "adc7938d-bff9-4f96-f349-0dc50a43d1b9"
      },
      "source": [
        "len(accuracy),len(accuracy_pca),len(accuracy_rfe),len(accuracy_kbest),len(accuracy_var)"
      ],
      "execution_count": 93,
      "outputs": [
        {
          "output_type": "execute_result",
          "data": {
            "text/plain": [
              "(11, 11, 11, 11, 11)"
            ]
          },
          "metadata": {
            "tags": []
          },
          "execution_count": 93
        }
      ]
    },
    {
      "cell_type": "code",
      "metadata": {
        "id": "mtlBCPBtZjDm"
      },
      "source": [
        "result=pd.DataFrame([accuracy,accuracy_pca,accuracy_rfe,accuracy_kbest,accuracy_var],\n",
        "                    index=['Accuracy','PCA',\"RFE\",'kbest','VAR'],\n",
        "                    columns=['KNN','SVC','nuSCV','DT','RF','Ada','GB','NB','LDA','QDA','LR'])"
      ],
      "execution_count": 94,
      "outputs": []
    },
    {
      "cell_type": "code",
      "metadata": {
        "id": "oDxtmxamaD9y"
      },
      "source": [
        "result=result.T"
      ],
      "execution_count": 95,
      "outputs": []
    },
    {
      "cell_type": "code",
      "metadata": {
        "id": "H2iNzVqt8m7j",
        "colab": {
          "base_uri": "https://localhost:8080/",
          "height": 264
        },
        "outputId": "acc17a8a-7c77-4527-a43a-ff8e650607e9"
      },
      "source": [
        "\n",
        "def _color_red_or_green(val):\n",
        "    color = 'red' if val < 0.7 else 'green'\n",
        "    return 'color: %s' % color\n",
        "result.style.applymap(_color_red_or_green)"
      ],
      "execution_count": 96,
      "outputs": [
        {
          "output_type": "execute_result",
          "data": {
            "text/html": [
              "<style  type=\"text/css\" >\n",
              "#T_31a4a832_45a9_11eb_96c9_0242ac1c0002row0_col0,#T_31a4a832_45a9_11eb_96c9_0242ac1c0002row0_col1,#T_31a4a832_45a9_11eb_96c9_0242ac1c0002row0_col2,#T_31a4a832_45a9_11eb_96c9_0242ac1c0002row0_col3,#T_31a4a832_45a9_11eb_96c9_0242ac1c0002row0_col4,#T_31a4a832_45a9_11eb_96c9_0242ac1c0002row1_col1,#T_31a4a832_45a9_11eb_96c9_0242ac1c0002row1_col2,#T_31a4a832_45a9_11eb_96c9_0242ac1c0002row1_col3,#T_31a4a832_45a9_11eb_96c9_0242ac1c0002row2_col1,#T_31a4a832_45a9_11eb_96c9_0242ac1c0002row2_col2,#T_31a4a832_45a9_11eb_96c9_0242ac1c0002row2_col3,#T_31a4a832_45a9_11eb_96c9_0242ac1c0002row3_col0,#T_31a4a832_45a9_11eb_96c9_0242ac1c0002row3_col1,#T_31a4a832_45a9_11eb_96c9_0242ac1c0002row3_col2,#T_31a4a832_45a9_11eb_96c9_0242ac1c0002row3_col3,#T_31a4a832_45a9_11eb_96c9_0242ac1c0002row3_col4,#T_31a4a832_45a9_11eb_96c9_0242ac1c0002row4_col0,#T_31a4a832_45a9_11eb_96c9_0242ac1c0002row4_col1,#T_31a4a832_45a9_11eb_96c9_0242ac1c0002row4_col2,#T_31a4a832_45a9_11eb_96c9_0242ac1c0002row4_col3,#T_31a4a832_45a9_11eb_96c9_0242ac1c0002row5_col0,#T_31a4a832_45a9_11eb_96c9_0242ac1c0002row5_col1,#T_31a4a832_45a9_11eb_96c9_0242ac1c0002row5_col2,#T_31a4a832_45a9_11eb_96c9_0242ac1c0002row5_col3,#T_31a4a832_45a9_11eb_96c9_0242ac1c0002row5_col4,#T_31a4a832_45a9_11eb_96c9_0242ac1c0002row6_col0,#T_31a4a832_45a9_11eb_96c9_0242ac1c0002row6_col1,#T_31a4a832_45a9_11eb_96c9_0242ac1c0002row6_col2,#T_31a4a832_45a9_11eb_96c9_0242ac1c0002row6_col3,#T_31a4a832_45a9_11eb_96c9_0242ac1c0002row6_col4,#T_31a4a832_45a9_11eb_96c9_0242ac1c0002row7_col0,#T_31a4a832_45a9_11eb_96c9_0242ac1c0002row7_col1,#T_31a4a832_45a9_11eb_96c9_0242ac1c0002row7_col2,#T_31a4a832_45a9_11eb_96c9_0242ac1c0002row7_col3,#T_31a4a832_45a9_11eb_96c9_0242ac1c0002row7_col4,#T_31a4a832_45a9_11eb_96c9_0242ac1c0002row8_col0,#T_31a4a832_45a9_11eb_96c9_0242ac1c0002row8_col1,#T_31a4a832_45a9_11eb_96c9_0242ac1c0002row8_col2,#T_31a4a832_45a9_11eb_96c9_0242ac1c0002row8_col3,#T_31a4a832_45a9_11eb_96c9_0242ac1c0002row8_col4,#T_31a4a832_45a9_11eb_96c9_0242ac1c0002row9_col0,#T_31a4a832_45a9_11eb_96c9_0242ac1c0002row9_col1,#T_31a4a832_45a9_11eb_96c9_0242ac1c0002row9_col2,#T_31a4a832_45a9_11eb_96c9_0242ac1c0002row9_col3,#T_31a4a832_45a9_11eb_96c9_0242ac1c0002row9_col4,#T_31a4a832_45a9_11eb_96c9_0242ac1c0002row10_col1,#T_31a4a832_45a9_11eb_96c9_0242ac1c0002row10_col2,#T_31a4a832_45a9_11eb_96c9_0242ac1c0002row10_col3{\n",
              "            color:  red;\n",
              "        }#T_31a4a832_45a9_11eb_96c9_0242ac1c0002row1_col0,#T_31a4a832_45a9_11eb_96c9_0242ac1c0002row1_col4,#T_31a4a832_45a9_11eb_96c9_0242ac1c0002row2_col0,#T_31a4a832_45a9_11eb_96c9_0242ac1c0002row2_col4,#T_31a4a832_45a9_11eb_96c9_0242ac1c0002row4_col4,#T_31a4a832_45a9_11eb_96c9_0242ac1c0002row10_col0,#T_31a4a832_45a9_11eb_96c9_0242ac1c0002row10_col4{\n",
              "            color:  green;\n",
              "        }</style><table id=\"T_31a4a832_45a9_11eb_96c9_0242ac1c0002\" ><thead>    <tr>        <th class=\"blank level0\" ></th>        <th class=\"col_heading level0 col0\" >Accuracy</th>        <th class=\"col_heading level0 col1\" >PCA</th>        <th class=\"col_heading level0 col2\" >RFE</th>        <th class=\"col_heading level0 col3\" >kbest</th>        <th class=\"col_heading level0 col4\" >VAR</th>    </tr></thead><tbody>\n",
              "                <tr>\n",
              "                        <th id=\"T_31a4a832_45a9_11eb_96c9_0242ac1c0002level0_row0\" class=\"row_heading level0 row0\" >KNN</th>\n",
              "                        <td id=\"T_31a4a832_45a9_11eb_96c9_0242ac1c0002row0_col0\" class=\"data row0 col0\" >0.624848</td>\n",
              "                        <td id=\"T_31a4a832_45a9_11eb_96c9_0242ac1c0002row0_col1\" class=\"data row0 col1\" >0.547172</td>\n",
              "                        <td id=\"T_31a4a832_45a9_11eb_96c9_0242ac1c0002row0_col2\" class=\"data row0 col2\" >0.561212</td>\n",
              "                        <td id=\"T_31a4a832_45a9_11eb_96c9_0242ac1c0002row0_col3\" class=\"data row0 col3\" >0.561212</td>\n",
              "                        <td id=\"T_31a4a832_45a9_11eb_96c9_0242ac1c0002row0_col4\" class=\"data row0 col4\" >0.624848</td>\n",
              "            </tr>\n",
              "            <tr>\n",
              "                        <th id=\"T_31a4a832_45a9_11eb_96c9_0242ac1c0002level0_row1\" class=\"row_heading level0 row1\" >SVC</th>\n",
              "                        <td id=\"T_31a4a832_45a9_11eb_96c9_0242ac1c0002row1_col0\" class=\"data row1 col0\" >0.728586</td>\n",
              "                        <td id=\"T_31a4a832_45a9_11eb_96c9_0242ac1c0002row1_col1\" class=\"data row1 col1\" >0.574646</td>\n",
              "                        <td id=\"T_31a4a832_45a9_11eb_96c9_0242ac1c0002row1_col2\" class=\"data row1 col2\" >0.633434</td>\n",
              "                        <td id=\"T_31a4a832_45a9_11eb_96c9_0242ac1c0002row1_col3\" class=\"data row1 col3\" >0.633434</td>\n",
              "                        <td id=\"T_31a4a832_45a9_11eb_96c9_0242ac1c0002row1_col4\" class=\"data row1 col4\" >0.728586</td>\n",
              "            </tr>\n",
              "            <tr>\n",
              "                        <th id=\"T_31a4a832_45a9_11eb_96c9_0242ac1c0002level0_row2\" class=\"row_heading level0 row2\" >nuSCV</th>\n",
              "                        <td id=\"T_31a4a832_45a9_11eb_96c9_0242ac1c0002row2_col0\" class=\"data row2 col0\" >0.737778</td>\n",
              "                        <td id=\"T_31a4a832_45a9_11eb_96c9_0242ac1c0002row2_col1\" class=\"data row2 col1\" >0.574545</td>\n",
              "                        <td id=\"T_31a4a832_45a9_11eb_96c9_0242ac1c0002row2_col2\" class=\"data row2 col2\" >0.593232</td>\n",
              "                        <td id=\"T_31a4a832_45a9_11eb_96c9_0242ac1c0002row2_col3\" class=\"data row2 col3\" >0.593232</td>\n",
              "                        <td id=\"T_31a4a832_45a9_11eb_96c9_0242ac1c0002row2_col4\" class=\"data row2 col4\" >0.737778</td>\n",
              "            </tr>\n",
              "            <tr>\n",
              "                        <th id=\"T_31a4a832_45a9_11eb_96c9_0242ac1c0002level0_row3\" class=\"row_heading level0 row3\" >DT</th>\n",
              "                        <td id=\"T_31a4a832_45a9_11eb_96c9_0242ac1c0002row3_col0\" class=\"data row3 col0\" >0.601919</td>\n",
              "                        <td id=\"T_31a4a832_45a9_11eb_96c9_0242ac1c0002row3_col1\" class=\"data row3 col1\" >0.596970</td>\n",
              "                        <td id=\"T_31a4a832_45a9_11eb_96c9_0242ac1c0002row3_col2\" class=\"data row3 col2\" >0.592525</td>\n",
              "                        <td id=\"T_31a4a832_45a9_11eb_96c9_0242ac1c0002row3_col3\" class=\"data row3 col3\" >0.601717</td>\n",
              "                        <td id=\"T_31a4a832_45a9_11eb_96c9_0242ac1c0002row3_col4\" class=\"data row3 col4\" >0.597576</td>\n",
              "            </tr>\n",
              "            <tr>\n",
              "                        <th id=\"T_31a4a832_45a9_11eb_96c9_0242ac1c0002level0_row4\" class=\"row_heading level0 row4\" >RF</th>\n",
              "                        <td id=\"T_31a4a832_45a9_11eb_96c9_0242ac1c0002row4_col0\" class=\"data row4 col0\" >0.642525</td>\n",
              "                        <td id=\"T_31a4a832_45a9_11eb_96c9_0242ac1c0002row4_col1\" class=\"data row4 col1\" >0.601717</td>\n",
              "                        <td id=\"T_31a4a832_45a9_11eb_96c9_0242ac1c0002row4_col2\" class=\"data row4 col2\" >0.574949</td>\n",
              "                        <td id=\"T_31a4a832_45a9_11eb_96c9_0242ac1c0002row4_col3\" class=\"data row4 col3\" >0.565657</td>\n",
              "                        <td id=\"T_31a4a832_45a9_11eb_96c9_0242ac1c0002row4_col4\" class=\"data row4 col4\" >0.719394</td>\n",
              "            </tr>\n",
              "            <tr>\n",
              "                        <th id=\"T_31a4a832_45a9_11eb_96c9_0242ac1c0002level0_row5\" class=\"row_heading level0 row5\" >Ada</th>\n",
              "                        <td id=\"T_31a4a832_45a9_11eb_96c9_0242ac1c0002row5_col0\" class=\"data row5 col0\" >0.678788</td>\n",
              "                        <td id=\"T_31a4a832_45a9_11eb_96c9_0242ac1c0002row5_col1\" class=\"data row5 col1\" >0.525253</td>\n",
              "                        <td id=\"T_31a4a832_45a9_11eb_96c9_0242ac1c0002row5_col2\" class=\"data row5 col2\" >0.583838</td>\n",
              "                        <td id=\"T_31a4a832_45a9_11eb_96c9_0242ac1c0002row5_col3\" class=\"data row5 col3\" >0.583838</td>\n",
              "                        <td id=\"T_31a4a832_45a9_11eb_96c9_0242ac1c0002row5_col4\" class=\"data row5 col4\" >0.678788</td>\n",
              "            </tr>\n",
              "            <tr>\n",
              "                        <th id=\"T_31a4a832_45a9_11eb_96c9_0242ac1c0002level0_row6\" class=\"row_heading level0 row6\" >GB</th>\n",
              "                        <td id=\"T_31a4a832_45a9_11eb_96c9_0242ac1c0002row6_col0\" class=\"data row6 col0\" >0.669798</td>\n",
              "                        <td id=\"T_31a4a832_45a9_11eb_96c9_0242ac1c0002row6_col1\" class=\"data row6 col1\" >0.597273</td>\n",
              "                        <td id=\"T_31a4a832_45a9_11eb_96c9_0242ac1c0002row6_col2\" class=\"data row6 col2\" >0.570202</td>\n",
              "                        <td id=\"T_31a4a832_45a9_11eb_96c9_0242ac1c0002row6_col3\" class=\"data row6 col3\" >0.574747</td>\n",
              "                        <td id=\"T_31a4a832_45a9_11eb_96c9_0242ac1c0002row6_col4\" class=\"data row6 col4\" >0.669697</td>\n",
              "            </tr>\n",
              "            <tr>\n",
              "                        <th id=\"T_31a4a832_45a9_11eb_96c9_0242ac1c0002level0_row7\" class=\"row_heading level0 row7\" >NB</th>\n",
              "                        <td id=\"T_31a4a832_45a9_11eb_96c9_0242ac1c0002row7_col0\" class=\"data row7 col0\" >0.556061</td>\n",
              "                        <td id=\"T_31a4a832_45a9_11eb_96c9_0242ac1c0002row7_col1\" class=\"data row7 col1\" >0.533939</td>\n",
              "                        <td id=\"T_31a4a832_45a9_11eb_96c9_0242ac1c0002row7_col2\" class=\"data row7 col2\" >0.556869</td>\n",
              "                        <td id=\"T_31a4a832_45a9_11eb_96c9_0242ac1c0002row7_col3\" class=\"data row7 col3\" >0.556869</td>\n",
              "                        <td id=\"T_31a4a832_45a9_11eb_96c9_0242ac1c0002row7_col4\" class=\"data row7 col4\" >0.556061</td>\n",
              "            </tr>\n",
              "            <tr>\n",
              "                        <th id=\"T_31a4a832_45a9_11eb_96c9_0242ac1c0002level0_row8\" class=\"row_heading level0 row8\" >LDA</th>\n",
              "                        <td id=\"T_31a4a832_45a9_11eb_96c9_0242ac1c0002row8_col0\" class=\"data row8 col0\" >0.669899</td>\n",
              "                        <td id=\"T_31a4a832_45a9_11eb_96c9_0242ac1c0002row8_col1\" class=\"data row8 col1\" >0.561414</td>\n",
              "                        <td id=\"T_31a4a832_45a9_11eb_96c9_0242ac1c0002row8_col2\" class=\"data row8 col2\" >0.633434</td>\n",
              "                        <td id=\"T_31a4a832_45a9_11eb_96c9_0242ac1c0002row8_col3\" class=\"data row8 col3\" >0.633434</td>\n",
              "                        <td id=\"T_31a4a832_45a9_11eb_96c9_0242ac1c0002row8_col4\" class=\"data row8 col4\" >0.669899</td>\n",
              "            </tr>\n",
              "            <tr>\n",
              "                        <th id=\"T_31a4a832_45a9_11eb_96c9_0242ac1c0002level0_row9\" class=\"row_heading level0 row9\" >QDA</th>\n",
              "                        <td id=\"T_31a4a832_45a9_11eb_96c9_0242ac1c0002row9_col0\" class=\"data row9 col0\" >0.579192</td>\n",
              "                        <td id=\"T_31a4a832_45a9_11eb_96c9_0242ac1c0002row9_col1\" class=\"data row9 col1\" >0.565253</td>\n",
              "                        <td id=\"T_31a4a832_45a9_11eb_96c9_0242ac1c0002row9_col2\" class=\"data row9 col2\" >0.633131</td>\n",
              "                        <td id=\"T_31a4a832_45a9_11eb_96c9_0242ac1c0002row9_col3\" class=\"data row9 col3\" >0.633131</td>\n",
              "                        <td id=\"T_31a4a832_45a9_11eb_96c9_0242ac1c0002row9_col4\" class=\"data row9 col4\" >0.579192</td>\n",
              "            </tr>\n",
              "            <tr>\n",
              "                        <th id=\"T_31a4a832_45a9_11eb_96c9_0242ac1c0002level0_row10\" class=\"row_heading level0 row10\" >LR</th>\n",
              "                        <td id=\"T_31a4a832_45a9_11eb_96c9_0242ac1c0002row10_col0\" class=\"data row10 col0\" >0.701717</td>\n",
              "                        <td id=\"T_31a4a832_45a9_11eb_96c9_0242ac1c0002row10_col1\" class=\"data row10 col1\" >0.584141</td>\n",
              "                        <td id=\"T_31a4a832_45a9_11eb_96c9_0242ac1c0002row10_col2\" class=\"data row10 col2\" >0.606162</td>\n",
              "                        <td id=\"T_31a4a832_45a9_11eb_96c9_0242ac1c0002row10_col3\" class=\"data row10 col3\" >0.606162</td>\n",
              "                        <td id=\"T_31a4a832_45a9_11eb_96c9_0242ac1c0002row10_col4\" class=\"data row10 col4\" >0.701717</td>\n",
              "            </tr>\n",
              "    </tbody></table>"
            ],
            "text/plain": [
              "<pandas.io.formats.style.Styler at 0x7f10a548fc18>"
            ]
          },
          "metadata": {
            "tags": []
          },
          "execution_count": 96
        }
      ]
    },
    {
      "cell_type": "code",
      "metadata": {
        "id": "0-IOzjP1bGBu"
      },
      "source": [
        "#Higest accuracy 90% check PCA section or following code"
      ],
      "execution_count": 97,
      "outputs": []
    },
    {
      "cell_type": "code",
      "metadata": {
        "id": "l3a10gQQ_kqJ"
      },
      "source": [
        ""
      ],
      "execution_count": 97,
      "outputs": []
    }
  ]
}