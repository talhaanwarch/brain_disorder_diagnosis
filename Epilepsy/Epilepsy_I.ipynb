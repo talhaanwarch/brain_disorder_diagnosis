{
  "nbformat": 4,
  "nbformat_minor": 0,
  "metadata": {
    "colab": {
      "name": "Epilepsy_v1.ipynb",
      "provenance": [],
      "collapsed_sections": [],
      "include_colab_link": true
    },
    "kernelspec": {
      "name": "python3",
      "display_name": "Python 3"
    }
  },
  "cells": [
    {
      "cell_type": "markdown",
      "metadata": {
        "id": "view-in-github",
        "colab_type": "text"
      },
      "source": [
        "<a href=\"https://colab.research.google.com/github/talhaanwarch/Epilepsy_classification/blob/master/Epilepsy_v1.ipynb\" target=\"_parent\"><img src=\"https://colab.research.google.com/assets/colab-badge.svg\" alt=\"Open In Colab\"/></a>"
      ]
    },
    {
      "cell_type": "code",
      "metadata": {
        "id": "D8cfmeAJhLeQ"
      },
      "source": [
        ""
      ],
      "execution_count": null,
      "outputs": []
    },
    {
      "cell_type": "code",
      "metadata": {
        "id": "y3zr3yOrhrpt"
      },
      "source": [
        "#https://zenodo.org/record/1252141"
      ],
      "execution_count": 1,
      "outputs": []
    },
    {
      "cell_type": "code",
      "metadata": {
        "id": "M4w4sm63mjOw",
        "colab": {
          "base_uri": "https://localhost:8080/"
        },
        "outputId": "d3d21b96-1445-4ec2-8e27-ea5a9cf223fa"
      },
      "source": [
        "!pip install git+https://github.com/forrestbao/pyeeg.git\n",
        "!pip install git+https://github.com/talhaanwarch/entropy.git\n"
      ],
      "execution_count": 2,
      "outputs": [
        {
          "output_type": "stream",
          "text": [
            "Collecting git+https://github.com/forrestbao/pyeeg.git\n",
            "  Cloning https://github.com/forrestbao/pyeeg.git to /tmp/pip-req-build-voxnsise\n",
            "  Running command git clone -q https://github.com/forrestbao/pyeeg.git /tmp/pip-req-build-voxnsise\n",
            "Requirement already satisfied: numpy>=1.9.2 in /usr/local/lib/python3.6/dist-packages (from pyeeg==0.4.4) (1.19.4)\n",
            "Building wheels for collected packages: pyeeg\n",
            "  Building wheel for pyeeg (setup.py) ... \u001b[?25l\u001b[?25hdone\n",
            "  Created wheel for pyeeg: filename=pyeeg-0.4.4-py2.py3-none-any.whl size=28123 sha256=464bbdc5c8ec172bf0ac7e0c647fd1ed5cc1c9f86febcb2f66bd6cde3859e674\n",
            "  Stored in directory: /tmp/pip-ephem-wheel-cache-tks4563r/wheels/2d/3f/ad/106d4fc80b61d1ea1fc18e76e7439fd98aa043d83d58eae741\n",
            "Successfully built pyeeg\n",
            "Installing collected packages: pyeeg\n",
            "Successfully installed pyeeg-0.4.4\n",
            "Collecting git+https://github.com/talhaanwarch/entropy.git\n",
            "  Cloning https://github.com/talhaanwarch/entropy.git to /tmp/pip-req-build-qi1mkotw\n",
            "  Running command git clone -q https://github.com/talhaanwarch/entropy.git /tmp/pip-req-build-qi1mkotw\n",
            "Building wheels for collected packages: entropy\n",
            "  Building wheel for entropy (setup.py) ... \u001b[?25l\u001b[?25hdone\n",
            "  Created wheel for entropy: filename=entropy-0.1.1-cp36-none-any.whl size=15448 sha256=dd8e32d8a7aa3dfc16c2162f529423a88f2dd538489c600cd9edd9e2aa48e2ab\n",
            "  Stored in directory: /tmp/pip-ephem-wheel-cache-kljpk2lf/wheels/79/43/63/3fa9c8c5f03fe3a78d71c1aeedca9577f2f32fb2156ff9ecf8\n",
            "Successfully built entropy\n",
            "Installing collected packages: entropy\n",
            "Successfully installed entropy-0.1.1\n"
          ],
          "name": "stdout"
        }
      ]
    },
    {
      "cell_type": "code",
      "metadata": {
        "id": "tCIeWAfNeXha",
        "colab": {
          "base_uri": "https://localhost:8080/"
        },
        "outputId": "7a8f0199-afbf-4e71-a5e2-7e0fb9a33b17"
      },
      "source": [
        "!wget https://zenodo.org/record/1252141/files/EEGs_Guinea-Bissau.zip"
      ],
      "execution_count": 3,
      "outputs": [
        {
          "output_type": "stream",
          "text": [
            "--2020-12-24 02:02:55--  https://zenodo.org/record/1252141/files/EEGs_Guinea-Bissau.zip\n",
            "Resolving zenodo.org (zenodo.org)... 137.138.76.77\n",
            "Connecting to zenodo.org (zenodo.org)|137.138.76.77|:443... connected.\n",
            "HTTP request sent, awaiting response... 200 OK\n",
            "Length: 153973086 (147M) [application/octet-stream]\n",
            "Saving to: ‘EEGs_Guinea-Bissau.zip’\n",
            "\n",
            "EEGs_Guinea-Bissau. 100%[===================>] 146.84M  11.3MB/s    in 16s     \n",
            "\n",
            "2020-12-24 02:03:13 (9.24 MB/s) - ‘EEGs_Guinea-Bissau.zip’ saved [153973086/153973086]\n",
            "\n"
          ],
          "name": "stdout"
        }
      ]
    },
    {
      "cell_type": "code",
      "metadata": {
        "id": "YuDzw4mMemnf"
      },
      "source": [
        "from zipfile import ZipFile \n",
        "data = ZipFile('EEGs_Guinea-Bissau.zip')\n",
        "data.extractall()"
      ],
      "execution_count": 4,
      "outputs": []
    },
    {
      "cell_type": "code",
      "metadata": {
        "id": "8fa6X-_EfEbX"
      },
      "source": [
        "import pandas as pd"
      ],
      "execution_count": 5,
      "outputs": []
    },
    {
      "cell_type": "code",
      "metadata": {
        "id": "5shWief3foxh"
      },
      "source": [
        "meta=pd.read_csv('https://zenodo.org/record/1252141/files/metadata_guineabissau.csv')"
      ],
      "execution_count": 6,
      "outputs": []
    },
    {
      "cell_type": "code",
      "metadata": {
        "id": "whX6qjfsfuHg",
        "colab": {
          "base_uri": "https://localhost:8080/",
          "height": 194
        },
        "outputId": "73c23ef6-c72a-4452-ab69-b3628e8ac826"
      },
      "source": [
        "meta.head()"
      ],
      "execution_count": 7,
      "outputs": [
        {
          "output_type": "execute_result",
          "data": {
            "text/html": [
              "<div>\n",
              "<style scoped>\n",
              "    .dataframe tbody tr th:only-of-type {\n",
              "        vertical-align: middle;\n",
              "    }\n",
              "\n",
              "    .dataframe tbody tr th {\n",
              "        vertical-align: top;\n",
              "    }\n",
              "\n",
              "    .dataframe thead th {\n",
              "        text-align: right;\n",
              "    }\n",
              "</style>\n",
              "<table border=\"1\" class=\"dataframe\">\n",
              "  <thead>\n",
              "    <tr style=\"text-align: right;\">\n",
              "      <th></th>\n",
              "      <th>subject.id</th>\n",
              "      <th>Group</th>\n",
              "      <th>Eyes.condition</th>\n",
              "      <th>Remarks</th>\n",
              "      <th>recordedPeriod</th>\n",
              "      <th>startTime</th>\n",
              "    </tr>\n",
              "  </thead>\n",
              "  <tbody>\n",
              "    <tr>\n",
              "      <th>0</th>\n",
              "      <td>1</td>\n",
              "      <td>Epilepsy</td>\n",
              "      <td>closed-3min-then-open-2min</td>\n",
              "      <td>by 45s reposition electrodes</td>\n",
              "      <td>301</td>\n",
              "      <td>27/5/2020 14:33</td>\n",
              "    </tr>\n",
              "    <tr>\n",
              "      <th>1</th>\n",
              "      <td>2</td>\n",
              "      <td>Control</td>\n",
              "      <td>open-3min-then-closed-2min</td>\n",
              "      <td>NaN</td>\n",
              "      <td>309</td>\n",
              "      <td>26/5/2020 22:44</td>\n",
              "    </tr>\n",
              "    <tr>\n",
              "      <th>2</th>\n",
              "      <td>3</td>\n",
              "      <td>Epilepsy</td>\n",
              "      <td>closed-3min-then-open-2min</td>\n",
              "      <td>NaN</td>\n",
              "      <td>309</td>\n",
              "      <td>27/5/2020 14:26</td>\n",
              "    </tr>\n",
              "    <tr>\n",
              "      <th>3</th>\n",
              "      <td>4</td>\n",
              "      <td>Epilepsy</td>\n",
              "      <td>closed-3min-then-open-2min</td>\n",
              "      <td>Green lights not shown, but good EEG traces</td>\n",
              "      <td>299</td>\n",
              "      <td>27/5/2020 15:23</td>\n",
              "    </tr>\n",
              "    <tr>\n",
              "      <th>4</th>\n",
              "      <td>5</td>\n",
              "      <td>Control</td>\n",
              "      <td>closed-3min-then-open-2min</td>\n",
              "      <td>NaN</td>\n",
              "      <td>302</td>\n",
              "      <td>23/5/2020 19:09</td>\n",
              "    </tr>\n",
              "  </tbody>\n",
              "</table>\n",
              "</div>"
            ],
            "text/plain": [
              "   subject.id     Group  ... recordedPeriod        startTime\n",
              "0           1  Epilepsy  ...            301  27/5/2020 14:33\n",
              "1           2   Control  ...            309  26/5/2020 22:44\n",
              "2           3  Epilepsy  ...            309  27/5/2020 14:26\n",
              "3           4  Epilepsy  ...            299  27/5/2020 15:23\n",
              "4           5   Control  ...            302  23/5/2020 19:09\n",
              "\n",
              "[5 rows x 6 columns]"
            ]
          },
          "metadata": {
            "tags": []
          },
          "execution_count": 7
        }
      ]
    },
    {
      "cell_type": "code",
      "metadata": {
        "id": "PkqndaykgVrJ"
      },
      "source": [
        "EP_sub=meta['subject.id'][meta['Group']=='Epilepsy']\n",
        "CT_sub=meta['subject.id'][meta['Group']=='Control']"
      ],
      "execution_count": 8,
      "outputs": []
    },
    {
      "cell_type": "code",
      "metadata": {
        "id": "MxZIYVWvfvhx"
      },
      "source": [
        "Epilepsy=[]\n",
        "for i in EP_sub:\n",
        "  Epilepsy.append(pd.read_csv('EEGs_Guinea-Bissau/signal-{}.csv.gz'.format(i), compression='gzip')) "
      ],
      "execution_count": 9,
      "outputs": []
    },
    {
      "cell_type": "code",
      "metadata": {
        "id": "DZzjXp1ahOiS"
      },
      "source": [
        "Control=[]\n",
        "for i in CT_sub:\n",
        "  Control.append(pd.read_csv('EEGs_Guinea-Bissau/signal-{}.csv.gz'.format(i), compression='gzip')) "
      ],
      "execution_count": 10,
      "outputs": []
    },
    {
      "cell_type": "code",
      "metadata": {
        "id": "keZ2ZJm-gGe8",
        "colab": {
          "base_uri": "https://localhost:8080/",
          "height": 231
        },
        "outputId": "bbb97fc8-12f3-4347-bd21-641aa7512777"
      },
      "source": [
        "Epilepsy[0].head()"
      ],
      "execution_count": 11,
      "outputs": [
        {
          "output_type": "execute_result",
          "data": {
            "text/html": [
              "<div>\n",
              "<style scoped>\n",
              "    .dataframe tbody tr th:only-of-type {\n",
              "        vertical-align: middle;\n",
              "    }\n",
              "\n",
              "    .dataframe tbody tr th {\n",
              "        vertical-align: top;\n",
              "    }\n",
              "\n",
              "    .dataframe thead th {\n",
              "        text-align: right;\n",
              "    }\n",
              "</style>\n",
              "<table border=\"1\" class=\"dataframe\">\n",
              "  <thead>\n",
              "    <tr style=\"text-align: right;\">\n",
              "      <th></th>\n",
              "      <th>Unnamed: 0</th>\n",
              "      <th>AF3</th>\n",
              "      <th>AF4</th>\n",
              "      <th>F3</th>\n",
              "      <th>F4</th>\n",
              "      <th>F7</th>\n",
              "      <th>F8</th>\n",
              "      <th>FC5</th>\n",
              "      <th>FC6</th>\n",
              "      <th>O1</th>\n",
              "      <th>O2</th>\n",
              "      <th>P7</th>\n",
              "      <th>P8</th>\n",
              "      <th>T7</th>\n",
              "      <th>T8</th>\n",
              "      <th>COUNTER</th>\n",
              "      <th>INTERPOLATED</th>\n",
              "      <th>GYROX</th>\n",
              "      <th>GYROY</th>\n",
              "      <th>RAW_CQ</th>\n",
              "      <th>CQ_CMS</th>\n",
              "      <th>CQ_F7</th>\n",
              "      <th>CQ_T7</th>\n",
              "      <th>CQ_O2</th>\n",
              "      <th>CQ_FC6</th>\n",
              "      <th>CQ_AF4</th>\n",
              "      <th>CQ_F3</th>\n",
              "      <th>CQ_P7</th>\n",
              "      <th>CQ_P8</th>\n",
              "      <th>CQ_F4</th>\n",
              "      <th>CQ_AF3</th>\n",
              "      <th>CQ_FC5</th>\n",
              "      <th>CQ_O1</th>\n",
              "      <th>CQ_T8</th>\n",
              "      <th>CQ_F8</th>\n",
              "      <th>CQ_DRL</th>\n",
              "    </tr>\n",
              "  </thead>\n",
              "  <tbody>\n",
              "    <tr>\n",
              "      <th>0</th>\n",
              "      <td>1</td>\n",
              "      <td>4426.153846</td>\n",
              "      <td>3994.871795</td>\n",
              "      <td>4408.205128</td>\n",
              "      <td>3847.692308</td>\n",
              "      <td>4690.256410</td>\n",
              "      <td>3895.897436</td>\n",
              "      <td>4702.051282</td>\n",
              "      <td>3914.871795</td>\n",
              "      <td>4049.743590</td>\n",
              "      <td>4297.948718</td>\n",
              "      <td>4186.153846</td>\n",
              "      <td>4132.820513</td>\n",
              "      <td>4106.666667</td>\n",
              "      <td>4076.410256</td>\n",
              "      <td>28</td>\n",
              "      <td>0</td>\n",
              "      <td>1555</td>\n",
              "      <td>1751</td>\n",
              "      <td>0</td>\n",
              "      <td>4</td>\n",
              "      <td>4</td>\n",
              "      <td>4</td>\n",
              "      <td>4</td>\n",
              "      <td>4</td>\n",
              "      <td>4</td>\n",
              "      <td>4</td>\n",
              "      <td>4</td>\n",
              "      <td>4</td>\n",
              "      <td>4</td>\n",
              "      <td>4</td>\n",
              "      <td>4</td>\n",
              "      <td>4</td>\n",
              "      <td>4</td>\n",
              "      <td>4</td>\n",
              "      <td>4</td>\n",
              "    </tr>\n",
              "    <tr>\n",
              "      <th>1</th>\n",
              "      <td>2</td>\n",
              "      <td>4420.512821</td>\n",
              "      <td>3986.666667</td>\n",
              "      <td>4394.358974</td>\n",
              "      <td>3836.923077</td>\n",
              "      <td>4678.461538</td>\n",
              "      <td>3886.666667</td>\n",
              "      <td>4696.410256</td>\n",
              "      <td>3910.769231</td>\n",
              "      <td>4054.358974</td>\n",
              "      <td>4295.897436</td>\n",
              "      <td>4187.179487</td>\n",
              "      <td>4126.666667</td>\n",
              "      <td>4105.641026</td>\n",
              "      <td>4065.128205</td>\n",
              "      <td>29</td>\n",
              "      <td>0</td>\n",
              "      <td>1555</td>\n",
              "      <td>1755</td>\n",
              "      <td>0</td>\n",
              "      <td>4</td>\n",
              "      <td>4</td>\n",
              "      <td>4</td>\n",
              "      <td>4</td>\n",
              "      <td>4</td>\n",
              "      <td>4</td>\n",
              "      <td>4</td>\n",
              "      <td>4</td>\n",
              "      <td>4</td>\n",
              "      <td>4</td>\n",
              "      <td>4</td>\n",
              "      <td>4</td>\n",
              "      <td>4</td>\n",
              "      <td>4</td>\n",
              "      <td>4</td>\n",
              "      <td>4</td>\n",
              "    </tr>\n",
              "    <tr>\n",
              "      <th>2</th>\n",
              "      <td>3</td>\n",
              "      <td>4413.846154</td>\n",
              "      <td>3986.153846</td>\n",
              "      <td>4386.666667</td>\n",
              "      <td>3831.794872</td>\n",
              "      <td>4654.871795</td>\n",
              "      <td>3881.025641</td>\n",
              "      <td>4690.769231</td>\n",
              "      <td>3908.205128</td>\n",
              "      <td>4066.666667</td>\n",
              "      <td>4301.025641</td>\n",
              "      <td>4188.205128</td>\n",
              "      <td>4123.076923</td>\n",
              "      <td>4103.076923</td>\n",
              "      <td>4063.589744</td>\n",
              "      <td>30</td>\n",
              "      <td>0</td>\n",
              "      <td>1555</td>\n",
              "      <td>1755</td>\n",
              "      <td>0</td>\n",
              "      <td>4</td>\n",
              "      <td>4</td>\n",
              "      <td>4</td>\n",
              "      <td>4</td>\n",
              "      <td>4</td>\n",
              "      <td>4</td>\n",
              "      <td>4</td>\n",
              "      <td>4</td>\n",
              "      <td>4</td>\n",
              "      <td>4</td>\n",
              "      <td>4</td>\n",
              "      <td>4</td>\n",
              "      <td>4</td>\n",
              "      <td>4</td>\n",
              "      <td>4</td>\n",
              "      <td>4</td>\n",
              "    </tr>\n",
              "    <tr>\n",
              "      <th>3</th>\n",
              "      <td>4</td>\n",
              "      <td>4407.692308</td>\n",
              "      <td>3984.615385</td>\n",
              "      <td>4384.102564</td>\n",
              "      <td>3832.820513</td>\n",
              "      <td>4644.615385</td>\n",
              "      <td>3883.076923</td>\n",
              "      <td>4686.153846</td>\n",
              "      <td>3910.256410</td>\n",
              "      <td>4063.076923</td>\n",
              "      <td>4298.974359</td>\n",
              "      <td>4184.615385</td>\n",
              "      <td>4127.179487</td>\n",
              "      <td>4095.384615</td>\n",
              "      <td>4071.282051</td>\n",
              "      <td>31</td>\n",
              "      <td>0</td>\n",
              "      <td>1559</td>\n",
              "      <td>1751</td>\n",
              "      <td>0</td>\n",
              "      <td>4</td>\n",
              "      <td>4</td>\n",
              "      <td>4</td>\n",
              "      <td>4</td>\n",
              "      <td>4</td>\n",
              "      <td>4</td>\n",
              "      <td>4</td>\n",
              "      <td>4</td>\n",
              "      <td>4</td>\n",
              "      <td>4</td>\n",
              "      <td>4</td>\n",
              "      <td>4</td>\n",
              "      <td>4</td>\n",
              "      <td>4</td>\n",
              "      <td>4</td>\n",
              "      <td>4</td>\n",
              "    </tr>\n",
              "    <tr>\n",
              "      <th>4</th>\n",
              "      <td>5</td>\n",
              "      <td>4407.179487</td>\n",
              "      <td>3978.974359</td>\n",
              "      <td>4382.564103</td>\n",
              "      <td>3832.307692</td>\n",
              "      <td>4647.692308</td>\n",
              "      <td>3878.974359</td>\n",
              "      <td>4685.641026</td>\n",
              "      <td>3903.076923</td>\n",
              "      <td>4057.948718</td>\n",
              "      <td>4295.384615</td>\n",
              "      <td>4182.564103</td>\n",
              "      <td>4128.205128</td>\n",
              "      <td>4090.769231</td>\n",
              "      <td>4064.102564</td>\n",
              "      <td>32</td>\n",
              "      <td>0</td>\n",
              "      <td>1559</td>\n",
              "      <td>1759</td>\n",
              "      <td>0</td>\n",
              "      <td>4</td>\n",
              "      <td>4</td>\n",
              "      <td>4</td>\n",
              "      <td>4</td>\n",
              "      <td>4</td>\n",
              "      <td>4</td>\n",
              "      <td>4</td>\n",
              "      <td>4</td>\n",
              "      <td>4</td>\n",
              "      <td>4</td>\n",
              "      <td>4</td>\n",
              "      <td>4</td>\n",
              "      <td>4</td>\n",
              "      <td>4</td>\n",
              "      <td>4</td>\n",
              "      <td>4</td>\n",
              "    </tr>\n",
              "  </tbody>\n",
              "</table>\n",
              "</div>"
            ],
            "text/plain": [
              "   Unnamed: 0          AF3          AF4  ...  CQ_T8  CQ_F8  CQ_DRL\n",
              "0           1  4426.153846  3994.871795  ...      4      4       4\n",
              "1           2  4420.512821  3986.666667  ...      4      4       4\n",
              "2           3  4413.846154  3986.153846  ...      4      4       4\n",
              "3           4  4407.692308  3984.615385  ...      4      4       4\n",
              "4           5  4407.179487  3978.974359  ...      4      4       4\n",
              "\n",
              "[5 rows x 36 columns]"
            ]
          },
          "metadata": {
            "tags": []
          },
          "execution_count": 11
        }
      ]
    },
    {
      "cell_type": "code",
      "metadata": {
        "id": "DmwQ8qTM4oNG"
      },
      "source": [
        "channels=Epilepsy[0].columns[1:15].tolist()\n"
      ],
      "execution_count": 12,
      "outputs": []
    },
    {
      "cell_type": "code",
      "metadata": {
        "id": "tXRrjlE34odT"
      },
      "source": [
        ""
      ],
      "execution_count": 12,
      "outputs": []
    },
    {
      "cell_type": "code",
      "metadata": {
        "id": "M23NxjjqgH4d"
      },
      "source": [
        "from scipy import signal\n",
        "nyq = 0.5 * 128\n",
        "l=0.3\n",
        "low = l / nyq\n",
        "high = 30 / nyq\n",
        "b, a = signal.butter(3, [low,high], 'band')"
      ],
      "execution_count": 13,
      "outputs": []
    },
    {
      "cell_type": "code",
      "metadata": {
        "id": "qwRTcDlRiS_n"
      },
      "source": [
        "EP_data=[]\n",
        "for EP in Epilepsy:\n",
        "  data=EP.iloc[:,1:15].values\n",
        "  EP_data.append(signal.filtfilt(b, a, data.T).T)\n"
      ],
      "execution_count": 14,
      "outputs": []
    },
    {
      "cell_type": "code",
      "metadata": {
        "id": "Q8FwDAZHih9q"
      },
      "source": [
        "CT_data=[]\n",
        "for CT in Control:\n",
        "  data=CT.iloc[:,1:15].values\n",
        "  CT_data.append(signal.filtfilt(b, a, data.T).T)\n"
      ],
      "execution_count": 15,
      "outputs": []
    },
    {
      "cell_type": "code",
      "metadata": {
        "id": "SU1qJ01KlxeU",
        "colab": {
          "base_uri": "https://localhost:8080/"
        },
        "outputId": "3c6057d0-ae02-4d9d-b349-07f97b4de833"
      },
      "source": [
        "import numpy as np\n",
        "X1=np.concatenate(CT_data)\n",
        "X2=np.concatenate(EP_data)\n",
        "X=np.concatenate((X1,X2))\n",
        "X.shape"
      ],
      "execution_count": 16,
      "outputs": [
        {
          "output_type": "execute_result",
          "data": {
            "text/plain": [
              "(3850368, 14)"
            ]
          },
          "metadata": {
            "tags": []
          },
          "execution_count": 16
        }
      ]
    },
    {
      "cell_type": "code",
      "metadata": {
        "id": "BAooPsSDmEV0"
      },
      "source": [
        "\n",
        "import matplotlib.pyplot as plt\n",
        "from sklearn.decomposition import PCA\n",
        "import pandas as pd\n",
        "pca = PCA().fit(X)\n"
      ],
      "execution_count": 17,
      "outputs": []
    },
    {
      "cell_type": "code",
      "metadata": {
        "id": "jmDfyBwr1ZHd",
        "colab": {
          "base_uri": "https://localhost:8080/",
          "height": 362
        },
        "outputId": "5f6e6d39-dfa1-4af2-fd18-29ebe3095b65"
      },
      "source": [
        "plt.figure(figsize=(8,5))\n",
        "plt.rcParams.update({'font.size': 16})\n",
        "\n",
        "#plt.axhline(0.95)\n",
        "#plt.axvline(9)\n",
        "#Plotting the Cumulative Summation of the Explained Variance\n",
        "plt.plot(np.cumsum(pca.explained_variance_ratio_*100)[0:15],color='k')\n",
        "plt.xlabel('Number of Components',fontsize=16)\n",
        "plt.ylabel('Variance (%)',fontsize=16) #for each component\n",
        "plt.title('Epilepsy',fontsize=16)\n",
        "plt.show()"
      ],
      "execution_count": 18,
      "outputs": [
        {
          "output_type": "display_data",
          "data": {
            "image/png": "[encoded data removed]",
            "text/plain": [
              "<Figure size 576x360 with 1 Axes>"
            ]
          },
          "metadata": {
            "tags": [],
            "needs_background": "light"
          }
        }
      ]
    },
    {
      "cell_type": "code",
      "metadata": {
        "id": "Bl32DilZmG-O",
        "colab": {
          "base_uri": "https://localhost:8080/"
        },
        "outputId": "c1d0e316-ae95-49cf-b919-ad5d94f66cef"
      },
      "source": [
        "df1 = pd.DataFrame.from_records(X)\n",
        "df1.columns=channels\n",
        "df1.shape"
      ],
      "execution_count": 19,
      "outputs": [
        {
          "output_type": "execute_result",
          "data": {
            "text/plain": [
              "(3850368, 14)"
            ]
          },
          "metadata": {
            "tags": []
          },
          "execution_count": 19
        }
      ]
    },
    {
      "cell_type": "code",
      "metadata": {
        "id": "5FiIvqikmRM7",
        "colab": {
          "base_uri": "https://localhost:8080/"
        },
        "outputId": "4bdcf1c6-3369-4a60-a11f-d8dd5e41fff2"
      },
      "source": [
        "ch=8\n",
        "X_1=df1.var()\n",
        "idx=X_1.sort_values()[-ch::].index\n",
        "\n",
        "print(idx)\n",
        "ch=len(idx)"
      ],
      "execution_count": 20,
      "outputs": [
        {
          "output_type": "stream",
          "text": [
            "Index(['AF3', 'O2', 'F4', 'FC6', 'T8', 'AF4', 'F8', 'P8'], dtype='object')\n"
          ],
          "name": "stdout"
        }
      ]
    },
    {
      "cell_type": "code",
      "metadata": {
        "id": "tYRlgCC8mVf4"
      },
      "source": [
        "\n",
        "indx=[]\n",
        "for i in idx:\n",
        "  indx.append(channels.index(i))\n",
        "indx=np.array(indx)"
      ],
      "execution_count": 21,
      "outputs": []
    },
    {
      "cell_type": "code",
      "metadata": {
        "id": "EihIuVfTi8sp"
      },
      "source": [
        "def reshape(data):   \n",
        "    shape=data.ravel().shape[0]\n",
        "    s=shape%(14*1000)\n",
        "    if s!=0:\n",
        "        d=data.ravel()[s//2:-s//2].reshape(-1,1000,14)[:,:,indx]\n",
        "        #return np.swapaxes(d,1,2)   \n",
        "        return d\n",
        "    else: \n",
        "        d1=data.reshape(-1,1000,14)[:,:,indx]\n",
        "        #return np.swapaxes(d1,1,2)   \n",
        "        return d1"
      ],
      "execution_count": 22,
      "outputs": []
    },
    {
      "cell_type": "code",
      "metadata": {
        "id": "Qu7hgQwaj79H"
      },
      "source": [
        "\n",
        "EP_reshaped=[]\n",
        "for i in EP_data:\n",
        "    EP_reshaped.append(reshape(i))\n",
        "    \n",
        "    \n",
        "CT_reshaped=[]\n",
        "for i in CT_data:\n",
        "    CT_reshaped.append(reshape(i))"
      ],
      "execution_count": 23,
      "outputs": []
    },
    {
      "cell_type": "code",
      "metadata": {
        "id": "MJLu5j-ikfgs",
        "colab": {
          "base_uri": "https://localhost:8080/"
        },
        "outputId": "ba35df6e-3e9a-4885-f58a-5e9ce32d2deb"
      },
      "source": [
        "EP_reshaped[0].shape"
      ],
      "execution_count": 24,
      "outputs": [
        {
          "output_type": "execute_result",
          "data": {
            "text/plain": [
              "(38, 1000, 8)"
            ]
          },
          "metadata": {
            "tags": []
          },
          "execution_count": 24
        }
      ]
    },
    {
      "cell_type": "code",
      "metadata": {
        "id": "AY2v6LNll0np"
      },
      "source": [
        "from scipy import stats\n",
        "import pyeeg\n",
        "from entropy import *\n",
        "def mean(data):\n",
        "    return np.mean(data,axis=0)\n",
        "    \n",
        "def std(data):\n",
        "    return np.std(data,axis=0)\n",
        "\n",
        "def ptp(data):\n",
        "    return np.ptp(data,axis=0)\n",
        "\n",
        "def var(data):\n",
        "        return np.var(data,axis=0)\n",
        "\n",
        "def minim(data):\n",
        "      return np.min(data,axis=0)\n",
        "\n",
        "\n",
        "def maxim(data):\n",
        "      return np.max(data,axis=0)\n",
        "\n",
        "def argminim(data):\n",
        "      return np.argmin(data,axis=0)\n",
        "\n",
        "\n",
        "def argmaxim(data):\n",
        "      return np.argmax(data,axis=0)\n",
        "\n",
        "def mean_square(data):\n",
        "      return np.mean(data**2,axis=0)\n",
        "\n",
        "def rms(data): #root mean square\n",
        "      return  np.sqrt(np.mean(data**2,axis=0))  \n",
        "\n",
        "def abs_diffs_signal(data):\n",
        "    return np.sum(np.abs(np.diff(data,axis=0)),axis=0)\n",
        "\n",
        "\n",
        "def skewness(data):\n",
        "    return stats.skew(data,axis=0)\n",
        "\n",
        "def kurtosis(data):\n",
        "    return stats.kurtosis(data,axis=0)\n",
        "\n",
        "def zero_crossing(data):\n",
        "    return np.argmax(np.diff(np.sign(data),axis=0),axis=0)\n",
        "\n",
        "def app_epy(data):\n",
        "    result=[]\n",
        "    for i in data.T:\n",
        "        result.append(app_entropy(i, order=2, metric='chebyshev'))\n",
        "    return np.array(result)\n",
        "\n",
        "def perm_epy(data):\n",
        "    result=[]\n",
        "    for i in data.T:\n",
        "        result.append(perm_entropy(i, order=3, normalize=True))\n",
        "    return np.array(result)\n",
        "\n",
        "def svd_epy(data):\n",
        "    result=[]\n",
        "    for i in data.T:\n",
        "        result.append(svd_entropy(i, order=3, delay=1, normalize=True))\n",
        "    return np.array(result)\n",
        "\n",
        "def spectral_epy(data):\n",
        "    result=[]\n",
        "    for i in data.T:\n",
        "        result.append(spectral_entropy(i, 100, method='welch', normalize=True))\n",
        "    return np.array(result)\n",
        "\n",
        "def sample_epy(data):\n",
        "    result=[]\n",
        "    for i in data.T:\n",
        "        result.append(sample_entropy(i, order=2, metric='chebyshev'))\n",
        "    return np.array(result)\n",
        "\n",
        "\n",
        "def katz(data):\n",
        "    result=[]\n",
        "    for i in data.T:\n",
        "        result.append(katz_fd(i))\n",
        "    return np.array(result)\n",
        "\n",
        "def higuchi(data):\n",
        "    result=[]\n",
        "    for i in data.T:\n",
        "        result.append(higuchi_fd(i))\n",
        "    return np.array(result)\n",
        "\n",
        "\n",
        "def petrosian(data):\n",
        "    result=[]\n",
        "    for i in data.T:\n",
        "        result.append(petrosian_fd(i))\n",
        "    return np.array(result)\n",
        "\n",
        "def autogressiveModelParameters(data):\n",
        "    feature = []\n",
        "    for i in data.T:\n",
        "        coeff, sig = alg.AR_est_YW(i, order=5)\n",
        "        feature.append(np.mean(coeff))\n",
        "    return np.array(feature)\n",
        "\n",
        "def teager(x):\n",
        "    for i in range(len(x)-1):\n",
        "        return x[i]**2 - (x[i-1]*x[i+1])\n",
        "\n",
        "\n",
        "def lziv_complex(data):\n",
        "    result=[]\n",
        "    for i in data.T:\n",
        "        result.append(lziv_complexity(i))\n",
        "    return np.array(result)\n",
        "\n",
        "        \n",
        "def hjorth_mobility(data):\n",
        "    return np.divide(np.std(np.diff(data,axis=0),axis=0),np.std(data,axis=0))\n",
        "\n",
        "def hjorth_complexity(data):\n",
        "    return np.divide(hjorth_mobility(np.diff(data,axis=0)),  hjorth_mobility(data))      \n",
        "\n",
        "\n",
        "\n",
        "\n",
        "def concatenate_features(data):\n",
        "    return np.concatenate((mean(data),std(data),ptp(data),var(data),minim(data),maxim(data),argminim(data),argmaxim(data),\n",
        "                          mean_square(data),rms(data),abs_diffs_signal(data),\n",
        "                          skewness(data),kurtosis(data),zero_crossing(data),\n",
        "                          app_epy(data),perm_epy(data),svd_epy(data),spectral_epy(data),sample_epy(data),\n",
        "                          katz(data),higuchi(data),petrosian(data),teager(data),lziv_complex(data),\n",
        "                          hjorth_mobility(data),hjorth_complexity(data)),axis=0)\n"
      ],
      "execution_count": 25,
      "outputs": []
    },
    {
      "cell_type": "code",
      "metadata": {
        "id": "uI8jiTkBl0nr"
      },
      "source": [
        "features1=[]\n",
        "for f in CT_reshaped:\n",
        "    feature=[]\n",
        "    for i in f:\n",
        "        feature.append(concatenate_features(i))\n",
        "    features1.append(np.mean(np.array(feature),axis=0))\n",
        "    "
      ],
      "execution_count": 26,
      "outputs": []
    },
    {
      "cell_type": "code",
      "metadata": {
        "id": "BGRhuu8kl0ns"
      },
      "source": [
        "\n",
        "features2=[]\n",
        "for f in EP_reshaped:\n",
        "    feature=[]\n",
        "    for i in f:\n",
        "        feature.append(concatenate_features(i))\n",
        "    features2.append(np.mean(np.array(feature),axis=0))"
      ],
      "execution_count": 27,
      "outputs": []
    },
    {
      "cell_type": "code",
      "metadata": {
        "id": "s-tgxVOcl0nu"
      },
      "source": [
        "x1=np.array(features1)        \n",
        "x2=np.array(features2)      \n",
        "\n",
        "X=np.concatenate((x1,x2),axis=0)\n",
        "y=np.concatenate(((np.zeros(x1.shape[0])),(np.ones(x2.shape[0]))))\n"
      ],
      "execution_count": 28,
      "outputs": []
    },
    {
      "cell_type": "code",
      "metadata": {
        "id": "dkkJ6WK6kSeu",
        "colab": {
          "base_uri": "https://localhost:8080/"
        },
        "outputId": "13c86a47-59fe-4f34-ee1d-857ed4ff4d77"
      },
      "source": [
        "X.shape,y.shape"
      ],
      "execution_count": 29,
      "outputs": [
        {
          "output_type": "execute_result",
          "data": {
            "text/plain": [
              "((97, 208), (97,))"
            ]
          },
          "metadata": {
            "tags": []
          },
          "execution_count": 29
        }
      ]
    },
    {
      "cell_type": "markdown",
      "metadata": {
        "id": "LZYSZkNumVde"
      },
      "source": [
        "#import libraries"
      ]
    },
    {
      "cell_type": "code",
      "metadata": {
        "id": "GJBuPvNEToHn"
      },
      "source": [
        "from scipy import stats\n",
        "import pyeeg\n",
        "from entropy import *\n",
        "import pywt\n",
        "#from nitime import algorithms as alg\n",
        "from sklearn import metrics\n",
        "from sklearn.model_selection import train_test_split\n",
        "from sklearn.preprocessing import StandardScaler,MaxAbsScaler\n",
        "from sklearn.preprocessing import StandardScaler,MaxAbsScaler\n",
        "from sklearn.svm import SVC\n",
        "from sklearn.linear_model import LogisticRegression\n",
        "from sklearn.neighbors import KNeighborsClassifier\n",
        "from sklearn.metrics import accuracy_score, log_loss\n",
        "from sklearn.neighbors import KNeighborsClassifier\n",
        "from sklearn.svm import SVC, LinearSVC, NuSVC\n",
        "from sklearn.tree import DecisionTreeClassifier\n",
        "from sklearn.ensemble import RandomForestClassifier, AdaBoostClassifier, GradientBoostingClassifier\n",
        "from sklearn.naive_bayes import GaussianNB\n",
        "from sklearn.discriminant_analysis import LinearDiscriminantAnalysis\n",
        "from sklearn.discriminant_analysis import QuadraticDiscriminantAnalysis\n",
        "from sklearn.linear_model import LogisticRegression\n",
        "import pandas as pd\n",
        "from sklearn.metrics import f1_score\n",
        "from sklearn.model_selection import cross_val_score\n",
        "#import nolds\n",
        "np.warnings.filterwarnings('ignore')"
      ],
      "execution_count": 30,
      "outputs": []
    },
    {
      "cell_type": "markdown",
      "metadata": {
        "id": "qH6vWOzfDUGK"
      },
      "source": [
        "# Classification"
      ]
    },
    {
      "cell_type": "code",
      "metadata": {
        "id": "694vALtLl8uF"
      },
      "source": [
        "#%% split data\n",
        "from sklearn.model_selection import train_test_split\n",
        "X_train, X_test, y_train, y_test = train_test_split(X, y,test_size=0.3, random_state=42,stratify=y)"
      ],
      "execution_count": 31,
      "outputs": []
    },
    {
      "cell_type": "code",
      "metadata": {
        "id": "ZnmTowVK4rSG"
      },
      "source": [
        "sc=StandardScaler()\n",
        "X_train=sc.fit_transform(X_train)\n",
        "X_test=sc.transform(X_test)"
      ],
      "execution_count": 32,
      "outputs": []
    },
    {
      "cell_type": "code",
      "metadata": {
        "id": "yVSRKVsvl9Xm",
        "colab": {
          "base_uri": "https://localhost:8080/"
        },
        "outputId": "80c2040d-099e-4fb8-e2fc-677d13370d65"
      },
      "source": [
        "\n",
        "clf=SVC(kernel='rbf')\n",
        "clf.fit(X_train,y_train)\n",
        "y_pred = clf.predict(X_test)\n",
        "\n",
        "from sklearn.metrics import classification_report,accuracy_score\n",
        "print(classification_report(y_test,y_pred))\n",
        "print('accuracy is ',accuracy_score(y_test, y_pred))"
      ],
      "execution_count": 33,
      "outputs": [
        {
          "output_type": "stream",
          "text": [
            "              precision    recall  f1-score   support\n",
            "\n",
            "         0.0       0.83      0.71      0.77        14\n",
            "         1.0       0.78      0.88      0.82        16\n",
            "\n",
            "    accuracy                           0.80        30\n",
            "   macro avg       0.81      0.79      0.80        30\n",
            "weighted avg       0.80      0.80      0.80        30\n",
            "\n",
            "accuracy is  0.8\n"
          ],
          "name": "stdout"
        }
      ]
    },
    {
      "cell_type": "code",
      "metadata": {
        "id": "LQC-83Qc4b99"
      },
      "source": [
        ""
      ],
      "execution_count": 33,
      "outputs": []
    },
    {
      "cell_type": "markdown",
      "metadata": {
        "id": "fB5bw3IAm3k1"
      },
      "source": [
        "#feature"
      ]
    },
    {
      "cell_type": "code",
      "metadata": {
        "id": "SLeHnzkom4o3"
      },
      "source": [
        "feature_list=['mean','std','ptp','var','minim','maxim','argmin','argmax','mean_square','rms','abs_diffs_signal','skewness','kurtosis','zero_crossing',\n",
        "'app_epy','perm_epy','svd_epy','spectral_epy','sample_epy','katz','higuchi','petrosian','teager','lziv_complex',\n",
        "'hjorth_mobility','hjorth_complexity']"
      ],
      "execution_count": 34,
      "outputs": []
    },
    {
      "cell_type": "code",
      "metadata": {
        "id": "fFnQqg3-m58C"
      },
      "source": [
        "feature=X.copy()\n",
        "label=y.copy()\n",
        "from sklearn.preprocessing import scale,maxabs_scale\n",
        "feature=scale(feature)"
      ],
      "execution_count": 35,
      "outputs": []
    },
    {
      "cell_type": "code",
      "metadata": {
        "id": "2ECy-guhnBP5",
        "colab": {
          "base_uri": "https://localhost:8080/"
        },
        "outputId": "8e6e24c5-a63e-4bb3-93be-c28c984c2e2e"
      },
      "source": [
        "from sklearn.svm import SVC, LinearSVC, NuSVC\n",
        "from sklearn.model_selection import cross_val_score\n",
        "from sklearn.model_selection import GridSearchCV\n",
        "def svc_param_selection(X, y):\n",
        "    Cs = [ 0.1, 1, 10,15,20,25,30,40,50,60,70,100,120]\n",
        "    gammas = [0.0001,0.0005,0.001,0.005,0.008, 0.01, 0.1,0.3,0.5, 1]\n",
        "    param_grid = {'C': Cs, 'gamma' : gammas}\n",
        "    grid_search = GridSearchCV(SVC(kernel='rbf'), param_grid, cv=10)\n",
        "    grid_search.fit(X, y)\n",
        "    print(grid_search.best_params_)\n",
        "    return grid_search.best_score_\n",
        "\n",
        "\n",
        "svc_param_selection(feature,label)\n"
      ],
      "execution_count": 36,
      "outputs": [
        {
          "output_type": "stream",
          "text": [
            "{'C': 10, 'gamma': 0.008}\n"
          ],
          "name": "stdout"
        },
        {
          "output_type": "execute_result",
          "data": {
            "text/plain": [
              "0.7844444444444445"
            ]
          },
          "metadata": {
            "tags": []
          },
          "execution_count": 36
        }
      ]
    },
    {
      "cell_type": "code",
      "metadata": {
        "id": "ceqo9QK4r9a5",
        "colab": {
          "base_uri": "https://localhost:8080/"
        },
        "outputId": "7bd27cf9-47d4-4c07-9a2b-f0462d38de65"
      },
      "source": [
        "clf = SVC(kernel=\"rbf\", C=10,gamma=0.008, probability=True)\n",
        "acc = cross_val_score(clf,feature,label,cv=10)\n",
        "precision = cross_val_score(clf,feature,label,cv=10,scoring='precision')\n",
        "recall = cross_val_score(clf,feature,label,cv=10,scoring='recall')\n",
        "f1 = cross_val_score(clf,feature,label,cv=10,scoring='f1')\n",
        "\n",
        "print('average accuracy : ',np.array(acc).mean(),np.std(np.array(acc)))\n",
        "print('average precision : ',np.array(precision).mean(),np.std(np.array(precision)))\n",
        "print('average recall : ',np.array(recall).mean(),np.std(np.array(recall)))\n",
        "print('average f1 score : ',np.array(f1).mean(),np.std(np.array(f1)))"
      ],
      "execution_count": 37,
      "outputs": [
        {
          "output_type": "stream",
          "text": [
            "average accuracy :  0.7844444444444445 0.10543267701579076\n",
            "average precision :  0.7763095238095238 0.13866921970765925\n",
            "average recall :  0.8600000000000001 0.12806248474865697\n",
            "average f1 score :  0.8067055167055166 0.0974874115479646\n"
          ],
          "name": "stdout"
        }
      ]
    },
    {
      "cell_type": "code",
      "metadata": {
        "id": "jtZbA3_SsPkD",
        "colab": {
          "base_uri": "https://localhost:8080/"
        },
        "outputId": "8fe9d2be-0c1a-4cc2-c853-e4fb55030d3e"
      },
      "source": [
        "\n",
        "def knn_param_selection(X, y, nfolds):\n",
        "    n_neighbors  = [ 3,4,5,6,7,8,9]\n",
        "    weights  = ['uniform','distance']\n",
        "    metric=['minkowski','manhattan','euclidean']\n",
        "    param_grid = {'n_neighbors': n_neighbors, 'weights' : weights,'metric':metric}\n",
        "    grid_search =GridSearchCV( KNeighborsClassifier(), param_grid, cv=nfolds,n_jobs=-1)\n",
        "    grid_search.fit(X, y)\n",
        "    print(grid_search.best_score_)\n",
        "    return grid_search.best_params_\n",
        "\n",
        "\n",
        "knn_param_selection(feature,label,10)"
      ],
      "execution_count": 38,
      "outputs": [
        {
          "output_type": "stream",
          "text": [
            "0.6811111111111112\n"
          ],
          "name": "stdout"
        },
        {
          "output_type": "execute_result",
          "data": {
            "text/plain": [
              "{'metric': 'minkowski', 'n_neighbors': 3, 'weights': 'uniform'}"
            ]
          },
          "metadata": {
            "tags": []
          },
          "execution_count": 38
        }
      ]
    },
    {
      "cell_type": "code",
      "metadata": {
        "id": "N-pw71NNsTLI",
        "colab": {
          "base_uri": "https://localhost:8080/"
        },
        "outputId": "5511669b-6853-4a60-c82c-e452051dc5b5"
      },
      "source": [
        "clf = KNeighborsClassifier(metric= 'minkowski', n_neighbors=3, weights= 'uniform')\n",
        "acc = cross_val_score(clf,feature,label,cv=10)\n",
        "precision = cross_val_score(clf,feature,label,cv=10,scoring='precision')\n",
        "recall = cross_val_score(clf,feature,label,cv=10,scoring='recall')\n",
        "f1 = cross_val_score(clf,feature,label,cv=10,scoring='f1')\n",
        "\n",
        "print('average accuracy : ',np.array(acc).mean(),np.std(np.array(acc)))\n",
        "print('average precision : ',np.array(precision).mean(),np.std(np.array(precision)))\n",
        "print('average recall : ',np.array(recall).mean(),np.std(np.array(recall)))\n",
        "print('average f1 score : ',np.array(f1).mean(),np.std(np.array(f1)))"
      ],
      "execution_count": 39,
      "outputs": [
        {
          "output_type": "stream",
          "text": [
            "average accuracy :  0.6811111111111112 0.14948884098904142\n",
            "average precision :  0.7091666666666666 0.1883572993600785\n",
            "average recall :  0.7066666666666668 0.20264912204760885\n",
            "average f1 score :  0.6927311577311577 0.15403888868547042\n"
          ],
          "name": "stdout"
        }
      ]
    },
    {
      "cell_type": "code",
      "metadata": {
        "id": "_eAKP9gascmZ",
        "colab": {
          "base_uri": "https://localhost:8080/"
        },
        "outputId": "bab55e78-aa69-4ca7-9b8b-2c0466355cb3"
      },
      "source": [
        "\n",
        "from sklearn.linear_model import LogisticRegression\n",
        "def logistic_param_selection(X, y, nfolds):\n",
        "    C= [0.001,0.05,0.1, 1,2,3,4,5,8, 10,12,15]\n",
        "    max_it= [200,300,400,500]\n",
        "    param_grid = {'C': C,'max_iter':max_it}\n",
        "    grid_search = GridSearchCV(LogisticRegression(), param_grid, cv=nfolds)\n",
        "    grid_search.fit(X, y)\n",
        "    print(grid_search.best_score_)\n",
        "    return grid_search.best_params_\n",
        "\n",
        "\n",
        "logistic_param_selection(feature,label,10)"
      ],
      "execution_count": 40,
      "outputs": [
        {
          "output_type": "stream",
          "text": [
            "0.7733333333333333\n"
          ],
          "name": "stdout"
        },
        {
          "output_type": "execute_result",
          "data": {
            "text/plain": [
              "{'C': 0.1, 'max_iter': 200}"
            ]
          },
          "metadata": {
            "tags": []
          },
          "execution_count": 40
        }
      ]
    },
    {
      "cell_type": "code",
      "metadata": {
        "id": "tqB85ZVbsc5K",
        "colab": {
          "base_uri": "https://localhost:8080/"
        },
        "outputId": "ab670cf9-d0df-4b05-f906-19b2a5228a6a"
      },
      "source": [
        "\n",
        "clf = LogisticRegression(max_iter=200,C=0.1)\n",
        "acc = cross_val_score(clf,feature,label,cv=10)\n",
        "precision = cross_val_score(clf,feature,label,cv=10,scoring='precision')\n",
        "recall = cross_val_score(clf,feature,label,cv=10,scoring='recall')\n",
        "f1 = cross_val_score(clf,feature,label,cv=10,scoring='f1')\n",
        "\n",
        "print('average accuracy : ',np.array(acc).mean(),np.std(np.array(acc)))\n",
        "print('average precision : ',np.array(precision).mean(),np.std(np.array(precision)))\n",
        "print('average recall : ',np.array(recall).mean(),np.std(np.array(recall)))\n",
        "print('average f1 score : ',np.array(f1).mean(),np.std(np.array(f1)))"
      ],
      "execution_count": 41,
      "outputs": [
        {
          "output_type": "stream",
          "text": [
            "average accuracy :  0.7733333333333333 0.14437605218471813\n",
            "average precision :  0.7655952380952381 0.1361255776938865\n",
            "average recall :  0.82 0.20880613017821104\n",
            "average f1 score :  0.7805594405594405 0.15596357381838488\n"
          ],
          "name": "stdout"
        }
      ]
    },
    {
      "cell_type": "code",
      "metadata": {
        "id": "nbm1ti97scvx",
        "colab": {
          "base_uri": "https://localhost:8080/"
        },
        "outputId": "8924af70-7aaa-4606-fc00-bacd318dabf1"
      },
      "source": [
        "\n",
        "from sklearn.tree import DecisionTreeClassifier\n",
        "from sklearn.model_selection import StratifiedKFold\n",
        "#skf = StratifiedKFold(n_splits=10, random_state=2020, shuffle=False)\n",
        "def dtree_param_selection(X,y):\n",
        "    #create a dictionary of all values we want to test\n",
        "    param_grid = { 'criterion':['gini','entropy'],'max_features':[\"auto\", \"sqrt\", \"log2\"],'max_depth': np.arange(2, 20),'random_state':[10,20,30,40]}\n",
        "    # decision tree model\n",
        "    dtree_model=DecisionTreeClassifier()\n",
        "    #use gridsearch to test all values\n",
        "    dtree_gscv = GridSearchCV(dtree_model, param_grid, cv=10)\n",
        "    #fit model to data\n",
        "    dtree_gscv.fit(X, y)\n",
        "    print(dtree_gscv.best_score_)\n",
        "    #print(dtree_gscv.best_estimator_)\n",
        "    return dtree_gscv.best_params_\n",
        "\n",
        "dtree_param_selection(feature,label)"
      ],
      "execution_count": 42,
      "outputs": [
        {
          "output_type": "stream",
          "text": [
            "0.7722222222222224\n"
          ],
          "name": "stdout"
        },
        {
          "output_type": "execute_result",
          "data": {
            "text/plain": [
              "{'criterion': 'entropy',\n",
              " 'max_depth': 2,\n",
              " 'max_features': 'log2',\n",
              " 'random_state': 10}"
            ]
          },
          "metadata": {
            "tags": []
          },
          "execution_count": 42
        }
      ]
    },
    {
      "cell_type": "code",
      "metadata": {
        "id": "ZdBn-dPuscsY",
        "colab": {
          "base_uri": "https://localhost:8080/"
        },
        "outputId": "f944812b-77b4-41b7-812a-5417a282c060"
      },
      "source": [
        "clf = DecisionTreeClassifier(criterion= 'entropy', max_depth= 2, max_features= 'log2',random_state=10)\n",
        "acc = cross_val_score(clf,feature,label,cv=10)\n",
        "precision = cross_val_score(clf,feature,label,cv=10,scoring='precision')\n",
        "recall = cross_val_score(clf,feature,label,cv=10,scoring='recall')\n",
        "f1 = cross_val_score(clf,feature,label,cv=10,scoring='f1')\n",
        "\n",
        "print('average accuracy : ',np.array(acc).mean(),np.std(np.array(acc)))\n",
        "print('average precision : ',np.array(precision).mean(),np.std(np.array(precision)))\n",
        "print('average recall : ',np.array(recall).mean(),np.std(np.array(recall)))\n",
        "print('average f1 score : ',np.array(f1).mean(),np.std(np.array(f1)))"
      ],
      "execution_count": 43,
      "outputs": [
        {
          "output_type": "stream",
          "text": [
            "average accuracy :  0.7722222222222224 0.0925962962222252\n",
            "average precision :  0.8061904761904761 0.1092294180138171\n",
            "average recall :  0.7833333333333333 0.18929694486000911\n",
            "average f1 score :  0.7741669441669442 0.10962526447404955\n"
          ],
          "name": "stdout"
        }
      ]
    },
    {
      "cell_type": "code",
      "metadata": {
        "id": "Ywex3nPbsciu"
      },
      "source": [
        ""
      ],
      "execution_count": 43,
      "outputs": []
    },
    {
      "cell_type": "code",
      "metadata": {
        "id": "TyDPrvAqnEZh",
        "colab": {
          "base_uri": "https://localhost:8080/"
        },
        "outputId": "f5920856-6e47-411f-e611-ae0d05eab667"
      },
      "source": [
        "feature_selected=[]\n",
        "feat_non_sorted=[]\n",
        "score_non_sorted=[]\n",
        "for i ,j in zip(range(0,feature.shape[1],ch),feature_list):\n",
        "  acc=svc_param_selection(feature[:,i:i+ch],label)\n",
        "  print(j,\" : \",acc)\n",
        "  feat_non_sorted.append(j)\n",
        "  score_non_sorted.append(acc)"
      ],
      "execution_count": 44,
      "outputs": [
        {
          "output_type": "stream",
          "text": [
            "{'C': 40, 'gamma': 0.001}\n",
            "mean  :  0.5477777777777778\n",
            "{'C': 30, 'gamma': 0.1}\n",
            "std  :  0.6722222222222223\n",
            "{'C': 100, 'gamma': 0.1}\n",
            "ptp  :  0.6822222222222223\n",
            "{'C': 30, 'gamma': 0.5}\n",
            "var  :  0.5988888888888889\n",
            "{'C': 40, 'gamma': 0.3}\n",
            "minim  :  0.65\n",
            "{'C': 15, 'gamma': 0.008}\n",
            "maxim  :  0.6066666666666667\n",
            "{'C': 100, 'gamma': 0.1}\n",
            "argmin  :  0.53\n",
            "{'C': 10, 'gamma': 0.01}\n",
            "argmax  :  0.6088888888888888\n",
            "{'C': 30, 'gamma': 0.5}\n",
            "mean_square  :  0.6088888888888889\n",
            "{'C': 30, 'gamma': 0.1}\n",
            "rms  :  0.6722222222222223\n",
            "{'C': 25, 'gamma': 0.008}\n",
            "abs_diffs_signal  :  0.7\n",
            "{'C': 120, 'gamma': 0.008}\n",
            "skewness  :  0.7533333333333333\n",
            "{'C': 10, 'gamma': 1}\n",
            "kurtosis  :  0.6133333333333333\n",
            "{'C': 40, 'gamma': 0.008}\n",
            "zero_crossing  :  0.6488888888888888\n",
            "{'C': 100, 'gamma': 0.001}\n",
            "app_epy  :  0.7822222222222222\n",
            "{'C': 50, 'gamma': 0.008}\n",
            "perm_epy  :  0.8011111111111111\n",
            "{'C': 10, 'gamma': 0.1}\n",
            "svd_epy  :  0.7944444444444445\n",
            "{'C': 15, 'gamma': 0.005}\n",
            "spectral_epy  :  0.7033333333333334\n",
            "{'C': 30, 'gamma': 0.01}\n",
            "sample_epy  :  0.7733333333333333\n",
            "{'C': 60, 'gamma': 0.008}\n",
            "katz  :  0.7733333333333332\n",
            "{'C': 20, 'gamma': 0.01}\n",
            "higuchi  :  0.8144444444444445\n",
            "{'C': 60, 'gamma': 0.01}\n",
            "petrosian  :  0.8222222222222223\n",
            "{'C': 10, 'gamma': 0.005}\n",
            "teager  :  0.5577777777777777\n",
            "{'C': 40, 'gamma': 0.01}\n",
            "lziv_complex  :  0.7622222222222221\n",
            "{'C': 40, 'gamma': 0.01}\n",
            "hjorth_mobility  :  0.7944444444444445\n",
            "{'C': 70, 'gamma': 0.001}\n",
            "hjorth_complexity  :  0.7011111111111112\n"
          ],
          "name": "stdout"
        }
      ]
    },
    {
      "cell_type": "code",
      "metadata": {
        "id": "Pxi0pjPJnGYi"
      },
      "source": [
        "score,feat  = zip(*sorted(zip(score_non_sorted, feat_non_sorted),reverse=True))\n"
      ],
      "execution_count": 45,
      "outputs": []
    },
    {
      "cell_type": "code",
      "metadata": {
        "id": "olxE7YdInIUF",
        "colab": {
          "base_uri": "https://localhost:8080/"
        },
        "outputId": "764cbb41-999d-4103-c06d-cc67c46939aa"
      },
      "source": [
        "acc=0\n",
        "deleted_item=[]\n",
        "for i in range(1,20):\n",
        "  feature_selected=list(feat[:i])\n",
        "  # feature_selected=del_item(feature_selected,deleted_item)\n",
        "\n",
        "  X_good=[]\n",
        "  for key,val in zip(feature_list,range(0,feature.shape[1],ch)):\n",
        "      for fe in feature_selected:\n",
        "          if key==fe:     \n",
        "              #print('key',key,'value',val,\":\",val+ch) \n",
        "              X_good.append(feature[:,val:val+ch])\n",
        "  good_feature=np.concatenate((X_good),axis=1)\n",
        "  #good_feature=np.concatenate((good_feature,non_eeg),1)\n",
        "\n",
        "\n",
        "  acc_new=svc_param_selection(good_feature,label)\n",
        "  print(i,' : ', acc_new)\n"
      ],
      "execution_count": 46,
      "outputs": [
        {
          "output_type": "stream",
          "text": [
            "{'C': 60, 'gamma': 0.01}\n",
            "1  :  0.8222222222222223\n",
            "{'C': 60, 'gamma': 0.01}\n",
            "2  :  0.8155555555555555\n",
            "{'C': 15, 'gamma': 0.001}\n",
            "3  :  0.8144444444444445\n",
            "{'C': 1, 'gamma': 0.008}\n",
            "4  :  0.8244444444444445\n",
            "{'C': 15, 'gamma': 0.005}\n",
            "5  :  0.8266666666666665\n",
            "{'C': 15, 'gamma': 0.005}\n",
            "6  :  0.8266666666666665\n",
            "{'C': 10, 'gamma': 0.005}\n",
            "7  :  0.8255555555555556\n",
            "{'C': 10, 'gamma': 0.005}\n",
            "8  :  0.8355555555555556\n",
            "{'C': 15, 'gamma': 0.005}\n",
            "9  :  0.8255555555555556\n",
            "{'C': 10, 'gamma': 0.008}\n",
            "10  :  0.7744444444444444\n",
            "{'C': 70, 'gamma': 0.0001}\n",
            "11  :  0.7622222222222221\n",
            "{'C': 30, 'gamma': 0.0001}\n",
            "12  :  0.7711111111111111\n",
            "{'C': 10, 'gamma': 0.005}\n",
            "13  :  0.7833333333333334\n",
            "{'C': 10, 'gamma': 0.005}\n",
            "14  :  0.7944444444444445\n",
            "{'C': 10, 'gamma': 0.005}\n",
            "15  :  0.7944444444444445\n",
            "{'C': 10, 'gamma': 0.005}\n",
            "16  :  0.7944444444444445\n",
            "{'C': 10, 'gamma': 0.005}\n",
            "17  :  0.7944444444444445\n",
            "{'C': 15, 'gamma': 0.008}\n",
            "18  :  0.7833333333333334\n",
            "{'C': 10, 'gamma': 0.005}\n",
            "19  :  0.8033333333333333\n"
          ],
          "name": "stdout"
        }
      ]
    },
    {
      "cell_type": "code",
      "metadata": {
        "id": "oBMVm4Bvs6Vc",
        "colab": {
          "base_uri": "https://localhost:8080/"
        },
        "outputId": "8b5d7bef-c22f-48de-94e4-fd499e735f38"
      },
      "source": [
        "feature_selected=feat[:8]\n",
        "X_good=[]\n",
        "for key,val in zip(feature_list,range(0,feature.shape[1],ch)):\n",
        "    for fe in feature_selected:\n",
        "        if key==fe:     \n",
        "            print('key',key,'value',val,\":\",val+ch) \n",
        "            X_good.append(feature[:,val:val+ch])"
      ],
      "execution_count": 96,
      "outputs": [
        {
          "output_type": "stream",
          "text": [
            "key app_epy value 96 : 104\n",
            "key perm_epy value 104 : 112\n",
            "key svd_epy value 112 : 120\n",
            "key sample_epy value 128 : 136\n",
            "key katz value 136 : 144\n",
            "key higuchi value 144 : 152\n",
            "key petrosian value 152 : 160\n",
            "key hjorth_mobility value 160 : 168\n"
          ],
          "name": "stdout"
        }
      ]
    },
    {
      "cell_type": "code",
      "metadata": {
        "id": "iOCow5was9go",
        "colab": {
          "base_uri": "https://localhost:8080/"
        },
        "outputId": "ab0044b8-39ef-4b4e-e403-d2eab17c860d"
      },
      "source": [
        "good_feature=np.concatenate((X_good),axis=1)\n",
        "good_feature.shape"
      ],
      "execution_count": 97,
      "outputs": [
        {
          "output_type": "execute_result",
          "data": {
            "text/plain": [
              "(97, 64)"
            ]
          },
          "metadata": {
            "tags": []
          },
          "execution_count": 97
        }
      ]
    },
    {
      "cell_type": "code",
      "metadata": {
        "id": "jCk_eHpztAh-",
        "colab": {
          "base_uri": "https://localhost:8080/"
        },
        "outputId": "7d1ad9c3-b453-4288-f49b-4c08fedf8c33"
      },
      "source": [
        "svc_param_selection(good_feature,label)\n"
      ],
      "execution_count": 49,
      "outputs": [
        {
          "output_type": "stream",
          "text": [
            "{'C': 10, 'gamma': 0.005}\n"
          ],
          "name": "stdout"
        },
        {
          "output_type": "execute_result",
          "data": {
            "text/plain": [
              "0.8355555555555556"
            ]
          },
          "metadata": {
            "tags": []
          },
          "execution_count": 49
        }
      ]
    },
    {
      "cell_type": "code",
      "metadata": {
        "id": "h-GEXTomtAs0",
        "colab": {
          "base_uri": "https://localhost:8080/"
        },
        "outputId": "4e793038-c925-4ab8-e6f0-2a66c9bda69c"
      },
      "source": [
        "clf = SVC(kernel=\"rbf\", C=10,gamma=0.005, probability=True)\n",
        "acc = cross_val_score(clf,good_feature,label,cv=10)\n",
        "precision = cross_val_score(clf,good_feature,label,cv=10,scoring='precision')\n",
        "recall = cross_val_score(clf,good_feature,label,cv=10,scoring='recall')\n",
        "f1 = cross_val_score(clf,good_feature,label,cv=10,scoring='f1')\n",
        "\n",
        "print('average accuracy : ',np.array(acc).mean(),np.std(np.array(acc)))\n",
        "print('average precision : ',np.array(precision).mean(),np.std(np.array(precision)))\n",
        "print('average recall : ',np.array(recall).mean(),np.std(np.array(recall)))\n",
        "print('average f1 score : ',np.array(f1).mean(),np.std(np.array(f1)))"
      ],
      "execution_count": 50,
      "outputs": [
        {
          "output_type": "stream",
          "text": [
            "average accuracy :  0.8355555555555556 0.10631887745693945\n",
            "average precision :  0.8154761904761905 0.1138446349505741\n",
            "average recall :  0.9 0.1341640786499874\n",
            "average f1 score :  0.8493783993783992 0.10190033411853129\n"
          ],
          "name": "stdout"
        }
      ]
    },
    {
      "cell_type": "code",
      "metadata": {
        "id": "dzzcQDEJtAqQ",
        "colab": {
          "base_uri": "https://localhost:8080/"
        },
        "outputId": "8e95c84f-cb55-4c00-d2af-f646dd5e8865"
      },
      "source": [
        "knn_param_selection(good_feature,label,10)"
      ],
      "execution_count": 51,
      "outputs": [
        {
          "output_type": "stream",
          "text": [
            "0.7611111111111111\n"
          ],
          "name": "stdout"
        },
        {
          "output_type": "execute_result",
          "data": {
            "text/plain": [
              "{'metric': 'manhattan', 'n_neighbors': 5, 'weights': 'uniform'}"
            ]
          },
          "metadata": {
            "tags": []
          },
          "execution_count": 51
        }
      ]
    },
    {
      "cell_type": "code",
      "metadata": {
        "id": "TFcz1iyXtu3c",
        "colab": {
          "base_uri": "https://localhost:8080/"
        },
        "outputId": "73c794d5-bc9f-4e1d-a9d7-c945b4636e6f"
      },
      "source": [
        "clf = KNeighborsClassifier(metric= 'manhattan', n_neighbors=5, weights= 'uniform')\n",
        "acc = cross_val_score(clf,good_feature,label,cv=10)\n",
        "precision = cross_val_score(clf,good_feature,label,cv=10,scoring='precision')\n",
        "recall = cross_val_score(clf,good_feature,label,cv=10,scoring='recall')\n",
        "f1 = cross_val_score(clf,good_feature,label,cv=10,scoring='f1')\n",
        "\n",
        "print('average accuracy : ',np.array(acc).mean(),np.std(np.array(acc)))\n",
        "print('average precision : ',np.array(precision).mean(),np.std(np.array(precision)))\n",
        "print('average recall : ',np.array(recall).mean(),np.std(np.array(recall)))\n",
        "print('average f1 score : ',np.array(f1).mean(),np.std(np.array(f1)))"
      ],
      "execution_count": 52,
      "outputs": [
        {
          "output_type": "stream",
          "text": [
            "average accuracy :  0.7611111111111111 0.1266130490807755\n",
            "average precision :  0.8447619047619048 0.14398286620163245\n",
            "average recall :  0.7066666666666667 0.23888630489558557\n",
            "average f1 score :  0.7399422799422799 0.15634096963716046\n"
          ],
          "name": "stdout"
        }
      ]
    },
    {
      "cell_type": "code",
      "metadata": {
        "id": "aAmUlVzAtAm2",
        "colab": {
          "base_uri": "https://localhost:8080/"
        },
        "outputId": "32a0393b-aef0-4194-901c-be3c90f9594c"
      },
      "source": [
        "logistic_param_selection(good_feature,label,10)"
      ],
      "execution_count": 53,
      "outputs": [
        {
          "output_type": "stream",
          "text": [
            "0.7911111111111111\n"
          ],
          "name": "stdout"
        },
        {
          "output_type": "execute_result",
          "data": {
            "text/plain": [
              "{'C': 2, 'max_iter': 200}"
            ]
          },
          "metadata": {
            "tags": []
          },
          "execution_count": 53
        }
      ]
    },
    {
      "cell_type": "code",
      "metadata": {
        "id": "YbWLztzZtw0r",
        "colab": {
          "base_uri": "https://localhost:8080/"
        },
        "outputId": "17946093-776a-4e2f-8298-62054dff3b83"
      },
      "source": [
        "\n",
        "clf = LogisticRegression(max_iter=200,C=2)\n",
        "acc = cross_val_score(clf,good_feature,label,cv=10)\n",
        "precision = cross_val_score(clf,good_feature,label,cv=10,scoring='precision')\n",
        "recall = cross_val_score(clf,good_feature,label,cv=10,scoring='recall')\n",
        "f1 = cross_val_score(clf,good_feature,label,cv=10,scoring='f1')\n",
        "\n",
        "print('average accuracy : ',np.array(acc).mean(),np.std(np.array(acc)))\n",
        "print('average precision : ',np.array(precision).mean(),np.std(np.array(precision)))\n",
        "print('average recall : ',np.array(recall).mean(),np.std(np.array(recall)))\n",
        "print('average f1 score : ',np.array(f1).mean(),np.std(np.array(f1)))"
      ],
      "execution_count": 54,
      "outputs": [
        {
          "output_type": "stream",
          "text": [
            "average accuracy :  0.7911111111111111 0.12026719224653162\n",
            "average precision :  0.7795238095238094 0.09885512430272408\n",
            "average recall :  0.8399999999999999 0.17435595774162696\n",
            "average f1 score :  0.8018181818181818 0.11897326288670919\n"
          ],
          "name": "stdout"
        }
      ]
    },
    {
      "cell_type": "code",
      "metadata": {
        "id": "PH2fEdjytxZI",
        "colab": {
          "base_uri": "https://localhost:8080/"
        },
        "outputId": "e77f5b51-4c9f-4e2c-8fa9-3730b226a9e6"
      },
      "source": [
        "dtree_param_selection(good_feature,label)"
      ],
      "execution_count": 55,
      "outputs": [
        {
          "output_type": "stream",
          "text": [
            "0.7422222222222222\n"
          ],
          "name": "stdout"
        },
        {
          "output_type": "execute_result",
          "data": {
            "text/plain": [
              "{'criterion': 'gini',\n",
              " 'max_depth': 4,\n",
              " 'max_features': 'auto',\n",
              " 'random_state': 10}"
            ]
          },
          "metadata": {
            "tags": []
          },
          "execution_count": 55
        }
      ]
    },
    {
      "cell_type": "code",
      "metadata": {
        "id": "L9RbEoCptxjV",
        "colab": {
          "base_uri": "https://localhost:8080/"
        },
        "outputId": "9be59785-f5af-4c0c-b2ff-872d58079ede"
      },
      "source": [
        "clf = DecisionTreeClassifier(criterion= 'gini', max_depth= 4, max_features= 'auto',random_state=10)\n",
        "acc = cross_val_score(clf,good_feature,label,cv=10)\n",
        "precision = cross_val_score(clf,good_feature,label,cv=10,scoring='precision')\n",
        "recall = cross_val_score(clf,good_feature,label,cv=10,scoring='recall')\n",
        "f1 = cross_val_score(clf,good_feature,label,cv=10,scoring='f1')\n",
        "\n",
        "print('average accuracy : ',np.array(acc).mean(),np.std(np.array(acc)))\n",
        "print('average precision : ',np.array(precision).mean(),np.std(np.array(precision)))\n",
        "print('average recall : ',np.array(recall).mean(),np.std(np.array(recall)))\n",
        "print('average f1 score : ',np.array(f1).mean(),np.std(np.array(f1)))"
      ],
      "execution_count": 56,
      "outputs": [
        {
          "output_type": "stream",
          "text": [
            "average accuracy :  0.7422222222222222 0.13570119680686246\n",
            "average precision :  0.7988095238095239 0.15194599380705504\n",
            "average recall :  0.7 0.22360679774997896\n",
            "average f1 score :  0.7244505494505494 0.1554684923252672\n"
          ],
          "name": "stdout"
        }
      ]
    },
    {
      "cell_type": "code",
      "metadata": {
        "colab": {
          "base_uri": "https://localhost:8080/"
        },
        "id": "IP5l-HXuJFOU",
        "outputId": "65cba47b-5142-46cf-8f1b-f4c19190d5c6"
      },
      "source": [
        "len(good_feature),len(label)"
      ],
      "execution_count": 98,
      "outputs": [
        {
          "output_type": "execute_result",
          "data": {
            "text/plain": [
              "(97, 97)"
            ]
          },
          "metadata": {
            "tags": []
          },
          "execution_count": 98
        }
      ]
    },
    {
      "cell_type": "code",
      "metadata": {
        "id": "voFEgm2yIjUk"
      },
      "source": [
        "from sklearn.ensemble import StackingClassifier,VotingClassifier \r\n",
        "\r\n",
        "estimators = [\r\n",
        "    ('SVM',SVC(kernel=\"rbf\", C=10,gamma=0.005, probability=True)),\r\n",
        "    ('KNN',KNeighborsClassifier(metric= 'manhattan', n_neighbors=5, weights= 'uniform')),\r\n",
        "    ('LR',  LogisticRegression(max_iter=200,C=2)),\r\n",
        "    ('DT',DecisionTreeClassifier(criterion= 'gini', max_depth= 4, max_features= 'auto',random_state=10)),\r\n",
        "     ]\r\n",
        "\r\n",
        "#clf = StackingClassifier(estimators=estimators, final_estimator=SVC())\r\n",
        "clf=VotingClassifier(estimators,voting='hard',n_jobs=-1,weights=[0.4,0.15,0.3,0.15])"
      ],
      "execution_count": 101,
      "outputs": []
    },
    {
      "cell_type": "code",
      "metadata": {
        "colab": {
          "base_uri": "https://localhost:8080/"
        },
        "id": "z_WV1Ft6Iwe7",
        "outputId": "e06bc03e-1a2c-45fc-d8c9-e86282709c3c"
      },
      "source": [
        "acc = cross_val_score(clf,good_feature,label,cv=10)\r\n",
        "precision = cross_val_score(clf,good_feature,label,cv=10,scoring='precision')\r\n",
        "recall = cross_val_score(clf,good_feature,label,cv=10,scoring='recall')\r\n",
        "f1 = cross_val_score(clf,good_feature,label,cv=10,scoring='f1')\r\n",
        "\r\n",
        "print('average accuracy : ',np.array(acc).mean(),np.std(np.array(acc)))\r\n",
        "print('average precision : ',np.array(precision).mean(),np.std(np.array(precision)))\r\n",
        "print('average recall : ',np.array(recall).mean(),np.std(np.array(recall)))\r\n",
        "print('average f1 score : ',np.array(f1).mean(),np.std(np.array(f1)))"
      ],
      "execution_count": 102,
      "outputs": [
        {
          "output_type": "stream",
          "text": [
            "average accuracy :  0.8133333333333332 0.13359234102390344\n",
            "average precision :  0.820595238095238 0.15859006218275232\n",
            "average recall :  0.86 0.12806248474865697\n",
            "average f1 score :  0.8307614607614608 0.11562305450281185\n"
          ],
          "name": "stdout"
        }
      ]
    },
    {
      "cell_type": "markdown",
      "metadata": {
        "id": "1ilVKM0cwbsp"
      },
      "source": [
        "#Feature Selection"
      ]
    },
    {
      "cell_type": "code",
      "metadata": {
        "id": "LKEtc0WdweXp"
      },
      "source": [
        "feature_list=['mean','std','ptp','var','minim','maxim','mean_square','rms','abs_diffs_signal','skewness','kurtosis','zero_crossing',\n",
        "'app_epy','perm_epy','svd_epy','spectral_epy','sample_epy','katz','higuchi','petrosian','hjorth_mobility','hjorth_complexity']"
      ],
      "execution_count": 57,
      "outputs": []
    },
    {
      "cell_type": "code",
      "metadata": {
        "id": "vSQRCn_Bwg-h"
      },
      "source": [
        "\n",
        "classifiers = [\n",
        "    KNeighborsClassifier(),\n",
        "    SVC(kernel=\"linear\"),\n",
        "    DecisionTreeClassifier(),\n",
        "    LogisticRegression()]"
      ],
      "execution_count": 58,
      "outputs": []
    },
    {
      "cell_type": "code",
      "metadata": {
        "id": "jYwsw1ykwmQL"
      },
      "source": [
        "X_all=X.copy()\n",
        "y_all=y.copy()\n",
        "clf_feature_selected=[]\n",
        "for clf in classifiers:\n",
        "    feature_selected=[]\n",
        "    for i in range(50):\n",
        "        randomize = np.arange(len(X_all))\n",
        "        np.random.shuffle(randomize)\n",
        "        X_all = X_all[randomize]\n",
        "        y_all = y_all[randomize]\n",
        "        for i,j in zip(range(0,X_all.shape[1],ch),feature_list):\n",
        "            X_new=X_all[:,i:i+ch]\n",
        "            y_new=y_all.copy()\n",
        "            X_train, X_test, y_train, y_test = train_test_split(X_new, y_all,test_size=0.2, random_state=42,stratify=y_all)\n",
        "            sc=StandardScaler()\n",
        "            X_train=sc.fit_transform(X_train)\n",
        "            X_test=sc.transform(X_test)\n",
        "\n",
        "            clf.fit(X_train,y_train)\n",
        "            y_pred = clf.predict(X_test)  \n",
        "            acc=metrics.accuracy_score(y_test, y_pred)\n",
        "      #print(\"Accuracy of \",j,metrics.accuracy_score(y_test, y_pred))\n",
        "            if acc>0.75:\n",
        "                feature_selected.append(j)\n",
        "    clf_feature_selected.append(feature_selected)        \n",
        " # print('-------------------------------------------------------------------')"
      ],
      "execution_count": 59,
      "outputs": []
    },
    {
      "cell_type": "code",
      "metadata": {
        "id": "7uX_2M1BxCMq",
        "colab": {
          "base_uri": "https://localhost:8080/"
        },
        "outputId": "826dc64f-a03e-45c9-ffaf-ca92544d8c04"
      },
      "source": [
        "\n",
        "clf_list=['KNN','SVM','DT','LR']\n",
        "from collections import Counter\n",
        "clf_count=[]\n",
        "for i,j in zip(range(4),clf_list):\n",
        "    feature_selected=clf_feature_selected[i]\n",
        "    count= {x:feature_selected.count(x) for x in feature_selected}\n",
        "    c = Counter(count)\n",
        "    #print(c.most_common())\n",
        "    #clf_count.append(c.most_common(10))\n",
        "    print('==================================================================================================')\n",
        "    print(j,c.most_common(10))"
      ],
      "execution_count": 60,
      "outputs": [
        {
          "output_type": "stream",
          "text": [
            "==================================================================================================\n",
            "KNN [('hjorth_mobility', 22), ('sample_epy', 13), ('hjorth_complexity', 12), ('svd_epy', 8), ('spectral_epy', 7), ('zero_crossing', 5), ('petrosian', 4), ('higuchi', 3), ('app_epy', 1), ('katz', 1)]\n",
            "==================================================================================================\n",
            "SVM [('hjorth_mobility', 33), ('sample_epy', 25), ('svd_epy', 23), ('petrosian', 20), ('higuchi', 18), ('spectral_epy', 16), ('hjorth_complexity', 14), ('kurtosis', 6), ('katz', 6), ('perm_epy', 5)]\n",
            "==================================================================================================\n",
            "DT [('zero_crossing', 12), ('spectral_epy', 8), ('sample_epy', 7), ('hjorth_mobility', 7), ('hjorth_complexity', 6), ('petrosian', 4), ('katz', 3), ('higuchi', 2), ('svd_epy', 1), ('app_epy', 1)]\n",
            "==================================================================================================\n",
            "LR [('petrosian', 32), ('hjorth_mobility', 32), ('sample_epy', 32), ('higuchi', 31), ('svd_epy', 30), ('hjorth_complexity', 20), ('katz', 15), ('spectral_epy', 11), ('perm_epy', 7), ('kurtosis', 6)]\n"
          ],
          "name": "stdout"
        }
      ]
    },
    {
      "cell_type": "code",
      "metadata": {
        "id": "ZJb3MBDVxIMf"
      },
      "source": [
        "\n",
        "from collections import Counter\n",
        "clf_feature=[]\n",
        "for i in range(4):\n",
        "    feature_selected=clf_feature_selected[i]\n",
        "    count= {x:feature_selected.count(x) for x in feature_selected}\n",
        "    c = Counter(count)\n",
        "    c={k: v / total for total in (sum(c.values(), 0.0),) for k, v in c.items()}\n",
        "\n",
        "    for k,v in c.items():\n",
        "        if v>.1:\n",
        "            clf_feature.append(k)"
      ],
      "execution_count": 61,
      "outputs": []
    },
    {
      "cell_type": "code",
      "metadata": {
        "id": "ff_M_958xJeA",
        "colab": {
          "base_uri": "https://localhost:8080/"
        },
        "outputId": "640f9cae-f6a8-4e71-9e61-552ce39293e3"
      },
      "source": [
        "\n",
        "count= {x:clf_feature.count(x) for x in clf_feature}\n",
        "c = Counter(count)\n",
        "print(c.most_common())\n",
        "good_feature=[]\n",
        "for i in range(len(c.keys())):\n",
        "      good_feature.append(c.most_common()[i][0])\n",
        "print('===============================================================================================================')\n",
        "print(good_feature)"
      ],
      "execution_count": 62,
      "outputs": [
        {
          "output_type": "stream",
          "text": [
            "[('sample_epy', 4), ('hjorth_mobility', 4), ('svd_epy', 3), ('hjorth_complexity', 2), ('higuchi', 2), ('petrosian', 2), ('spectral_epy', 1), ('zero_crossing', 1)]\n",
            "===============================================================================================================\n",
            "['sample_epy', 'hjorth_mobility', 'svd_epy', 'hjorth_complexity', 'higuchi', 'petrosian', 'spectral_epy', 'zero_crossing']\n"
          ],
          "name": "stdout"
        }
      ]
    },
    {
      "cell_type": "code",
      "metadata": {
        "id": "Ksx9XancxN_l",
        "colab": {
          "base_uri": "https://localhost:8080/"
        },
        "outputId": "003c898b-89e9-4e6b-8197-e7c1241b0f65"
      },
      "source": [
        "\n",
        "X_good=[]\n",
        "for key,val in zip(feature_list,range(0,X.shape[1],ch)):\n",
        "    for fe in good_feature:\n",
        "        if key==fe:     \n",
        "            print('key',key,'value',val,\":\",val+ch) \n",
        "            X_good.append(X[:,val:val+16])"
      ],
      "execution_count": 63,
      "outputs": [
        {
          "output_type": "stream",
          "text": [
            "key zero_crossing value 88 : 96\n",
            "key svd_epy value 112 : 120\n",
            "key spectral_epy value 120 : 128\n",
            "key sample_epy value 128 : 136\n",
            "key higuchi value 144 : 152\n",
            "key petrosian value 152 : 160\n",
            "key hjorth_mobility value 160 : 168\n",
            "key hjorth_complexity value 168 : 176\n"
          ],
          "name": "stdout"
        }
      ]
    },
    {
      "cell_type": "code",
      "metadata": {
        "id": "j0fOCEyVxOcu"
      },
      "source": [
        "\n",
        "X=np.concatenate((X_good),axis=1)\n"
      ],
      "execution_count": 64,
      "outputs": []
    },
    {
      "cell_type": "markdown",
      "metadata": {
        "id": "eFXMlK6y4nJl"
      },
      "source": [
        "# Tuning"
      ]
    },
    {
      "cell_type": "code",
      "metadata": {
        "id": "NFHnpghp4ouW",
        "colab": {
          "base_uri": "https://localhost:8080/"
        },
        "outputId": "87d1505e-23ea-48df-db9c-9005b138d6ae"
      },
      "source": [
        "from sklearn.model_selection import GridSearchCV\n",
        "from sklearn.pipeline import Pipeline\n",
        "\n",
        "clf = SVC(kernel=\"rbf\")\n",
        "Cs = [ 1,2,3,5,7,10,15,30,50,70,100]\n",
        "gammas = [0.001,0.01,0.02,0.03,0.04,0.05,0.1,0.3,0.5,0.8,1]\n",
        "pipe = Pipeline(steps=[('scaler', sc), ('classifier', clf)])\n",
        "estimator = GridSearchCV(pipe,\n",
        "                         dict(classifier__C=Cs,classifier__gamma=gammas),cv=5,n_jobs=-1,iid=False) \n",
        "\n",
        "results = estimator.fit(X,y)\n",
        "print(results.best_score_ )\n",
        "results.best_params_"
      ],
      "execution_count": 65,
      "outputs": [
        {
          "output_type": "stream",
          "text": [
            "0.7936842105263159\n"
          ],
          "name": "stdout"
        },
        {
          "output_type": "execute_result",
          "data": {
            "text/plain": [
              "{'classifier__C': 30, 'classifier__gamma': 0.001}"
            ]
          },
          "metadata": {
            "tags": []
          },
          "execution_count": 65
        }
      ]
    },
    {
      "cell_type": "markdown",
      "metadata": {
        "id": "w1SPkcT15ctM"
      },
      "source": [
        "### NuSVM"
      ]
    },
    {
      "cell_type": "code",
      "metadata": {
        "id": "oY8iAgrC5d4o",
        "colab": {
          "base_uri": "https://localhost:8080/"
        },
        "outputId": "31f6b668-c5ae-48e6-eb0a-b61e9791c3f6"
      },
      "source": [
        "from sklearn.svm import SVC, LinearSVC, NuSVC\n",
        "\n",
        "clf = NuSVC(kernel=\"rbf\")\n",
        "nu = [0.1,0.3,0.5,0.7]\n",
        "gammas = [0.001,0.01,0.02,0.03,0.04,0.05,0.1,0.3,0.5,0.8,1]\n",
        "pipe = Pipeline(steps=[('scaler', sc), ('classifier', clf)])\n",
        "estimator = GridSearchCV(pipe,\n",
        "                         dict(classifier__nu=nu,classifier__gamma=gammas),cv=5,n_jobs=-1,iid=False) \n",
        "\n",
        "results = estimator.fit(X,y)\n",
        "print(results.best_score_ )\n",
        "results.best_params_"
      ],
      "execution_count": 66,
      "outputs": [
        {
          "output_type": "stream",
          "text": [
            "0.7942105263157895\n"
          ],
          "name": "stdout"
        },
        {
          "output_type": "execute_result",
          "data": {
            "text/plain": [
              "{'classifier__gamma': 0.001, 'classifier__nu': 0.1}"
            ]
          },
          "metadata": {
            "tags": []
          },
          "execution_count": 66
        }
      ]
    },
    {
      "cell_type": "markdown",
      "metadata": {
        "id": "Cy_XSVAc5g7u"
      },
      "source": [
        "### LR"
      ]
    },
    {
      "cell_type": "code",
      "metadata": {
        "id": "FY2EcC5w5h__",
        "colab": {
          "base_uri": "https://localhost:8080/"
        },
        "outputId": "54ddf346-2fdd-4934-ef86-4350b11ae0ea"
      },
      "source": [
        "clf = LogisticRegression()\n",
        "C = [ 1,2,3,5,7,10,15,30,50,70,100]\n",
        "penalty=[\"l1\",\"l2\"]\n",
        "pipe = Pipeline(steps=[('scaler', sc), ('classifier', clf)])\n",
        "estimator = GridSearchCV(pipe,\n",
        "                         dict(classifier__C=C,classifier__penalty=penalty),cv=5,n_jobs=-1,iid=False) \n",
        "\n",
        "results = estimator.fit(X,y)\n",
        "print(results.best_score_ )\n",
        "results.best_params_"
      ],
      "execution_count": 67,
      "outputs": [
        {
          "output_type": "stream",
          "text": [
            "0.7531578947368421\n"
          ],
          "name": "stdout"
        },
        {
          "output_type": "execute_result",
          "data": {
            "text/plain": [
              "{'classifier__C': 3, 'classifier__penalty': 'l2'}"
            ]
          },
          "metadata": {
            "tags": []
          },
          "execution_count": 67
        }
      ]
    },
    {
      "cell_type": "markdown",
      "metadata": {
        "id": "DUCnuJK25bR-"
      },
      "source": [
        "### KNN"
      ]
    },
    {
      "cell_type": "code",
      "metadata": {
        "id": "qmtHVZfA5Ooq",
        "colab": {
          "base_uri": "https://localhost:8080/"
        },
        "outputId": "231e9888-c672-4136-f4cd-47000d13f381"
      },
      "source": [
        "\n",
        "clf = KNeighborsClassifier()\n",
        "\n",
        "n_neighbors  = [ 3,4,5,6,7,8,9,11,13]\n",
        "weights  = ['uniform','distance']\n",
        "metric=['minkowski','manhattan','euclidean']\n",
        "pipe = Pipeline(steps=[('scaler', sc), ('classifier', clf)])\n",
        "estimator = GridSearchCV(pipe,\n",
        "                         dict(classifier__n_neighbors=n_neighbors,classifier__weights=weights,classifier__metric=metric),cv=5,n_jobs=-1,iid=False) \n",
        "results = estimator.fit(X,y)\n",
        "print(results.best_score_ )\n",
        "results.best_params_"
      ],
      "execution_count": 68,
      "outputs": [
        {
          "output_type": "stream",
          "text": [
            "0.7626315789473683\n"
          ],
          "name": "stdout"
        },
        {
          "output_type": "execute_result",
          "data": {
            "text/plain": [
              "{'classifier__metric': 'minkowski',\n",
              " 'classifier__n_neighbors': 5,\n",
              " 'classifier__weights': 'uniform'}"
            ]
          },
          "metadata": {
            "tags": []
          },
          "execution_count": 68
        }
      ]
    },
    {
      "cell_type": "markdown",
      "metadata": {
        "id": "F43mLml3DaEE"
      },
      "source": [
        "# Cross Validation"
      ]
    },
    {
      "cell_type": "code",
      "metadata": {
        "id": "aPu2-pvOEE1G"
      },
      "source": [
        ""
      ],
      "execution_count": 68,
      "outputs": []
    },
    {
      "cell_type": "code",
      "metadata": {
        "id": "KqMYWYTSD5De"
      },
      "source": [
        "classifiers = [\n",
        "    KNeighborsClassifier(n_neighbors=8,weights='distance',metric='manhattan'),\n",
        "    SVC(kernel=\"rbf\",C=70,gamma=0.001),\n",
        "    NuSVC(nu=0.3,gamma=0.001),\n",
        "    DecisionTreeClassifier(),\n",
        "    RandomForestClassifier(),\n",
        "    AdaBoostClassifier(),\n",
        "    GradientBoostingClassifier(),\n",
        "    GaussianNB(),\n",
        "    LinearDiscriminantAnalysis(),\n",
        "    QuadraticDiscriminantAnalysis(),\n",
        "    LogisticRegression(C=3,penalty='l2')]"
      ],
      "execution_count": 69,
      "outputs": []
    },
    {
      "cell_type": "code",
      "metadata": {
        "id": "SV8b98tzOKjM"
      },
      "source": [
        "from sklearn.pipeline import Pipeline\n",
        "pipeline = Pipeline([('transformer', sc),('estimator', clf)])\n"
      ],
      "execution_count": 70,
      "outputs": []
    },
    {
      "cell_type": "code",
      "metadata": {
        "id": "KQqS9NjUD3Kc",
        "colab": {
          "base_uri": "https://localhost:8080/"
        },
        "outputId": "728f6eba-aadf-4517-c8e7-74a623ff3b9d"
      },
      "source": [
        "import warnings\n",
        "warnings.simplefilter(action='ignore', category=FutureWarning)\n",
        "\n",
        "accuracy=[]\n",
        "accuracy_std=[]\n",
        "f1_scores=[]\n",
        "f1_scores_std=[]\n",
        "for clfs in classifiers:\n",
        "    pipeline.set_params(estimator = clfs)\n",
        "    name = clfs.__class__.__name__\n",
        "    \n",
        "    print(\"=\"*30)\n",
        "    print(name)       \n",
        "    print('****Results****')\n",
        "    scores = cross_val_score(pipeline, X, y, cv=5)\n",
        "    #f1_score = cross_val_score(clf, X_rfe, y, cv=5,scoring='f1')\n",
        "    print(\"Accuracy: {:.4%}\".format(np.array(scores).mean()))\n",
        "    accuracy.append(np.array(scores).mean())\n",
        "    accuracy_std.append(np.array(scores).std())\n",
        "    #f1_scores.append(np.array(f1_score).mean())\n",
        "    #f1_scores_std.append(np.array(f1_score).std())\n"
      ],
      "execution_count": 71,
      "outputs": [
        {
          "output_type": "stream",
          "text": [
            "==============================\n",
            "KNeighborsClassifier\n",
            "****Results****\n",
            "Accuracy: 70.1053%\n",
            "==============================\n",
            "SVC\n",
            "****Results****\n",
            "Accuracy: 75.2632%\n",
            "==============================\n",
            "NuSVC\n",
            "****Results****\n",
            "Accuracy: 75.2632%\n",
            "==============================\n",
            "DecisionTreeClassifier\n",
            "****Results****\n",
            "Accuracy: 69.2105%\n",
            "==============================\n",
            "RandomForestClassifier\n",
            "****Results****\n",
            "Accuracy: 71.1579%\n",
            "==============================\n",
            "AdaBoostClassifier\n",
            "****Results****\n",
            "Accuracy: 68.0526%\n",
            "==============================\n",
            "GradientBoostingClassifier\n",
            "****Results****\n",
            "Accuracy: 75.3158%\n",
            "==============================\n",
            "GaussianNB\n",
            "****Results****\n",
            "Accuracy: 70.1053%\n",
            "==============================\n",
            "LinearDiscriminantAnalysis\n",
            "****Results****\n",
            "Accuracy: 64.0526%\n",
            "==============================\n",
            "QuadraticDiscriminantAnalysis\n",
            "****Results****\n",
            "Accuracy: 59.8421%\n",
            "==============================\n",
            "LogisticRegression\n",
            "****Results****\n",
            "Accuracy: 75.3158%\n"
          ],
          "name": "stdout"
        }
      ]
    },
    {
      "cell_type": "code",
      "metadata": {
        "id": "icpqu9V5D1EL",
        "colab": {
          "base_uri": "https://localhost:8080/",
          "height": 308
        },
        "outputId": "0eb59be3-4683-4513-f96e-e9f9926a2e20"
      },
      "source": [
        "import matplotlib.pyplot as plt\n",
        "classifier=['KNN','SVC','nuSCV','DT','RF','Ada','GB','NB','LDA','QDA','LR']\n",
        "y_pos = np.arange(len(classifier))\n",
        "plt.bar(y_pos,np.array(accuracy))\n",
        "plt.xticks(y_pos, classifier)\n",
        "plt.ylabel('Accuracy')\n",
        "plt.title('Classifiers')"
      ],
      "execution_count": 72,
      "outputs": [
        {
          "output_type": "execute_result",
          "data": {
            "text/plain": [
              "Text(0.5, 1.0, 'Classifiers')"
            ]
          },
          "metadata": {
            "tags": []
          },
          "execution_count": 72
        },
        {
          "output_type": "display_data",
          "data": {
            "image/png": "[encoded data removed]",
            "text/plain": [
              "<Figure size 432x288 with 1 Axes>"
            ]
          },
          "metadata": {
            "tags": [],
            "needs_background": "light"
          }
        }
      ]
    },
    {
      "cell_type": "markdown",
      "metadata": {
        "id": "VBDXxRp2O5kO"
      },
      "source": [
        "# Principle Component Analysis"
      ]
    },
    {
      "cell_type": "code",
      "metadata": {
        "id": "qGWFC54TO44u",
        "colab": {
          "base_uri": "https://localhost:8080/",
          "height": 310
        },
        "outputId": "ad401896-5739-48b3-f73e-971216663932"
      },
      "source": [
        "from sklearn.decomposition import PCA\n",
        "import matplotlib.pyplot as plt\n",
        "from sklearn.decomposition import KernelPCA\n",
        "from sklearn.model_selection import cross_val_score\n",
        "\n",
        "#Fitting the PCA algorithm with our Data\n",
        "pca = PCA().fit(X_train)\n",
        "#Plotting the Cumulative Summation of the Explained Variance\n",
        "plt.figure()\n",
        "plt.plot(np.cumsum(pca.explained_variance_ratio_))\n",
        "plt.xlabel('Number of Components')\n",
        "plt.ylabel('Variance (%)') #for each component\n",
        "plt.title('EEG')\n",
        "plt.show()"
      ],
      "execution_count": 73,
      "outputs": [
        {
          "output_type": "display_data",
          "data": {
            "image/png": "[encoded data removed]",
            "text/plain": [
              "<Figure size 432x288 with 1 Axes>"
            ]
          },
          "metadata": {
            "tags": [],
            "needs_background": "light"
          }
        }
      ]
    },
    {
      "cell_type": "code",
      "metadata": {
        "id": "SN4VeHRtO__B"
      },
      "source": [
        "\n"
      ],
      "execution_count": 73,
      "outputs": []
    },
    {
      "cell_type": "code",
      "metadata": {
        "id": "2vhCPXYMohbm"
      },
      "source": [
        "clf = SVC(kernel='rbf')\n",
        "pca = PCA(n_components=5)\n",
        "\n",
        "#pipeline = Pipeline([('selector',pca), ('estimator', clf)])\n",
        "pipeline = Pipeline([('transformer', sc),('selector',pca), ('estimator', clf)])\n"
      ],
      "execution_count": 74,
      "outputs": []
    },
    {
      "cell_type": "code",
      "metadata": {
        "id": "mA0HWAG4ohbq",
        "colab": {
          "base_uri": "https://localhost:8080/"
        },
        "outputId": "a041bef2-e76e-47df-effe-017aa0818158"
      },
      "source": [
        "\n",
        "import warnings\n",
        "warnings.simplefilter(action='ignore', category=FutureWarning)\n",
        "\n",
        "accuracy_pca=[]\n",
        "std_pca=[]\n",
        "f1_scores=[]\n",
        "f1_scores_std=[]\n",
        "for clfs in classifiers:\n",
        "    pipeline.set_params(estimator = clfs)\n",
        "    name = clfs.__class__.__name__\n",
        "    \n",
        "    print(\"=\"*30)\n",
        "    print(name)       \n",
        "    print('****Results****')\n",
        "    scores = cross_val_score(pipeline, X, y, cv=5)\n",
        "    #f1_score = cross_val_score(clf, X_rfe, y, cv=5,scoring='f1')\n",
        "    print(\"Accuracy: {:.4%}\".format(np.array(scores).mean()))\n",
        "    accuracy_pca.append(np.array(scores).mean())\n",
        "    std_pca.append(np.array(scores).std())\n",
        "    #f1_scores.append(np.array(f1_score).mean())\n",
        "    #f1_scores_std.append(np.array(f1_score).std())\n"
      ],
      "execution_count": 75,
      "outputs": [
        {
          "output_type": "stream",
          "text": [
            "==============================\n",
            "KNeighborsClassifier\n",
            "****Results****\n",
            "Accuracy: 69.0000%\n",
            "==============================\n",
            "SVC\n",
            "****Results****\n",
            "Accuracy: 74.2105%\n",
            "==============================\n",
            "NuSVC\n",
            "****Results****\n",
            "Accuracy: 74.3158%\n",
            "==============================\n",
            "DecisionTreeClassifier\n",
            "****Results****\n",
            "Accuracy: 73.2632%\n",
            "==============================\n",
            "RandomForestClassifier\n",
            "****Results****\n",
            "Accuracy: 80.4737%\n",
            "==============================\n",
            "AdaBoostClassifier\n",
            "****Results****\n",
            "Accuracy: 70.1053%\n",
            "==============================\n",
            "GradientBoostingClassifier\n",
            "****Results****\n",
            "Accuracy: 82.4737%\n",
            "==============================\n",
            "GaussianNB\n",
            "****Results****\n",
            "Accuracy: 76.3158%\n",
            "==============================\n",
            "LinearDiscriminantAnalysis\n",
            "****Results****\n",
            "Accuracy: 73.2632%\n",
            "==============================\n",
            "QuadraticDiscriminantAnalysis\n",
            "****Results****\n",
            "Accuracy: 77.3158%\n",
            "==============================\n",
            "LogisticRegression\n",
            "****Results****\n",
            "Accuracy: 72.2632%\n"
          ],
          "name": "stdout"
        }
      ]
    },
    {
      "cell_type": "code",
      "metadata": {
        "id": "kejMrjKwEC03",
        "colab": {
          "base_uri": "https://localhost:8080/"
        },
        "outputId": "6eeaead8-0d5c-469e-ddde-95ee9c086e40"
      },
      "source": [
        "from sklearn.model_selection import GridSearchCV\n",
        "\n",
        "clf = SVC(kernel=\"rbf\")\n",
        "n_components = [5,10,15,20]\n",
        "Cs = [0.001,0.1, 1,2,3,5,7,10,15,30]\n",
        "gammas = [0.001,0.01,0.02,0.03,0.04,0.05,0.1,0.3,0.5,0.8,1]\n",
        "pipe = Pipeline(steps=[('scalar',sc),('selector', pca), ('classifier', clf)])\n",
        "estimator = GridSearchCV(pipe,\n",
        "                         dict(selector__n_components=n_components,\n",
        "                              classifier__C=Cs,classifier__gamma=gammas),cv=5,n_jobs=-1,iid=False) \n",
        "\n",
        "results = estimator.fit(X,y)\n",
        "print(results.best_score_ )\n",
        "results.best_params_"
      ],
      "execution_count": 76,
      "outputs": [
        {
          "output_type": "stream",
          "text": [
            "0.7842105263157896\n"
          ],
          "name": "stdout"
        },
        {
          "output_type": "execute_result",
          "data": {
            "text/plain": [
              "{'classifier__C': 3, 'classifier__gamma': 0.01, 'selector__n_components': 20}"
            ]
          },
          "metadata": {
            "tags": []
          },
          "execution_count": 76
        }
      ]
    },
    {
      "cell_type": "code",
      "metadata": {
        "id": "c2PaVKiKhAyf",
        "colab": {
          "base_uri": "https://localhost:8080/"
        },
        "outputId": "6f29de25-2074-43d3-b807-53befdffee53"
      },
      "source": [
        "from sklearn.model_selection import GridSearchCV\n",
        "\n",
        "clf = KNeighborsClassifier()\n",
        "n_components = [5,10,15,20]\n",
        "n_neighbors  = [ 3,4,5,6,7,8,9]\n",
        "weights  = ['uniform','distance']\n",
        "metric=['minkowski','manhattan','euclidean']\n",
        "pipe = Pipeline(steps=[('scalar',sc),('selector', pca), ('classifier', clf)])\n",
        "estimator = GridSearchCV(pipe,\n",
        "                         dict(selector__n_components=n_components,\n",
        "                              classifier__n_neighbors=n_neighbors,classifier__weights=weights,classifier__metric=metric),cv=5,n_jobs=-1,iid=False) \n",
        "\n",
        "results = estimator.fit(X,y)\n",
        "print(results.best_score_ )\n",
        "results.best_params_"
      ],
      "execution_count": 77,
      "outputs": [
        {
          "output_type": "stream",
          "text": [
            "0.7942105263157895\n"
          ],
          "name": "stdout"
        },
        {
          "output_type": "execute_result",
          "data": {
            "text/plain": [
              "{'classifier__metric': 'manhattan',\n",
              " 'classifier__n_neighbors': 4,\n",
              " 'classifier__weights': 'distance',\n",
              " 'selector__n_components': 10}"
            ]
          },
          "metadata": {
            "tags": []
          },
          "execution_count": 77
        }
      ]
    },
    {
      "cell_type": "markdown",
      "metadata": {
        "id": "34K17oX2kI3Z"
      },
      "source": [
        "# RFE"
      ]
    },
    {
      "cell_type": "code",
      "metadata": {
        "id": "Effk-fW1km3b"
      },
      "source": [
        "from sklearn.feature_selection import RFE"
      ],
      "execution_count": 78,
      "outputs": []
    },
    {
      "cell_type": "code",
      "metadata": {
        "id": "X3joTTYvkPfz"
      },
      "source": [
        "\n",
        "clf = SVC(kernel='rbf')\n",
        "rfe=RFE(SVC(kernel='linear'),n_features_to_select=5,step=1,verbose=0)   \n",
        "\n",
        "#pipeline = Pipeline([('selector',rfe), ('estimator', clf)])\n",
        "pipeline = Pipeline([('transformer', sc),('selector',rfe), ('estimator', clf)])\n"
      ],
      "execution_count": 79,
      "outputs": []
    },
    {
      "cell_type": "code",
      "metadata": {
        "id": "S37vDSnpkpi-",
        "colab": {
          "base_uri": "https://localhost:8080/"
        },
        "outputId": "dea65002-42fc-45f6-c3a3-7f565679f753"
      },
      "source": [
        "\n",
        "import warnings\n",
        "warnings.simplefilter(action='ignore', category=FutureWarning)\n",
        "\n",
        "accuracy_rfe=[]\n",
        "std_rfe=[]\n",
        "f1_scores=[]\n",
        "f1_scores_std=[]\n",
        "for clfs in classifiers:\n",
        "    pipeline.set_params(estimator = clfs)\n",
        "    name = clfs.__class__.__name__\n",
        "    \n",
        "    print(\"=\"*30)\n",
        "    print(name)       \n",
        "    print('****Results****')\n",
        "    scores = cross_val_score(pipeline, X, y, cv=5)\n",
        "    #f1_score = cross_val_score(clf, X_rfe, y, cv=5,scoring='f1')\n",
        "    print(\"Accuracy: {:.4%}\".format(np.array(scores).mean()))\n",
        "    accuracy_rfe.append(np.array(scores).mean())\n",
        "    std_rfe.append(np.array(scores).std())\n",
        "    #f1_scores.append(np.array(f1_score).mean())\n",
        "    #f1_scores_std.append(np.array(f1_score).std())\n"
      ],
      "execution_count": 80,
      "outputs": [
        {
          "output_type": "stream",
          "text": [
            "==============================\n",
            "KNeighborsClassifier\n",
            "****Results****\n",
            "Accuracy: 78.4211%\n",
            "==============================\n",
            "SVC\n",
            "****Results****\n",
            "Accuracy: 81.4211%\n",
            "==============================\n",
            "NuSVC\n",
            "****Results****\n",
            "Accuracy: 74.0000%\n",
            "==============================\n",
            "DecisionTreeClassifier\n",
            "****Results****\n",
            "Accuracy: 79.3684%\n",
            "==============================\n",
            "RandomForestClassifier\n",
            "****Results****\n",
            "Accuracy: 80.5263%\n",
            "==============================\n",
            "AdaBoostClassifier\n",
            "****Results****\n",
            "Accuracy: 76.2105%\n",
            "==============================\n",
            "GradientBoostingClassifier\n",
            "****Results****\n",
            "Accuracy: 77.2105%\n",
            "==============================\n",
            "GaussianNB\n",
            "****Results****\n",
            "Accuracy: 70.1053%\n",
            "==============================\n",
            "LinearDiscriminantAnalysis\n",
            "****Results****\n",
            "Accuracy: 79.3684%\n",
            "==============================\n",
            "QuadraticDiscriminantAnalysis\n",
            "****Results****\n",
            "Accuracy: 67.1579%\n",
            "==============================\n",
            "LogisticRegression\n",
            "****Results****\n",
            "Accuracy: 79.3684%\n"
          ],
          "name": "stdout"
        }
      ]
    },
    {
      "cell_type": "markdown",
      "metadata": {
        "id": "v5yNkL4arI5Z"
      },
      "source": [
        "# SKbest"
      ]
    },
    {
      "cell_type": "code",
      "metadata": {
        "id": "-5wEC_ForKGR"
      },
      "source": [
        "from sklearn.feature_selection import SelectKBest\n",
        "from sklearn.feature_selection import f_classif\n"
      ],
      "execution_count": 81,
      "outputs": []
    },
    {
      "cell_type": "code",
      "metadata": {
        "id": "r5vNJstWrtCD"
      },
      "source": [
        "\n",
        "clf = SVC(kernel='rbf')\n",
        "skbest=SelectKBest(f_classif, k=10)\n",
        "#pipeline = Pipeline([('selector',skbest), ('estimator', clf)])\n",
        "pipeline = Pipeline([('transformer', sc),('selector',rfe), ('estimator', clf)])\n"
      ],
      "execution_count": 82,
      "outputs": []
    },
    {
      "cell_type": "code",
      "metadata": {
        "id": "4VS9cTTirtCH",
        "colab": {
          "base_uri": "https://localhost:8080/"
        },
        "outputId": "9fdb2fcc-6daf-43e7-fd09-91858866af8f"
      },
      "source": [
        "\n",
        "import warnings\n",
        "warnings.simplefilter(action='ignore', category=FutureWarning)\n",
        "\n",
        "accuracy_kbest=[]\n",
        "std_kbest=[]\n",
        "f1_scores=[]\n",
        "f1_scores_std=[]\n",
        "for clfs in classifiers:\n",
        "    pipeline.set_params(estimator = clfs)\n",
        "    name = clfs.__class__.__name__\n",
        "    \n",
        "    print(\"=\"*30)\n",
        "    print(name)       \n",
        "    print('****Results****')\n",
        "    scores = cross_val_score(pipeline, X, y, cv=5)\n",
        "    #f1_score = cross_val_score(clf, X_rfe, y, cv=5,scoring='f1')\n",
        "    print(\"Accuracy: {:.4%}\".format(np.array(scores).mean()))\n",
        "    accuracy_kbest.append(np.array(scores).mean())\n",
        "    std_kbest.append(np.array(scores).std())\n",
        "    #f1_scores.append(np.array(f1_score).mean())\n",
        "    #f1_scores_std.append(np.array(f1_score).std())\n"
      ],
      "execution_count": 83,
      "outputs": [
        {
          "output_type": "stream",
          "text": [
            "==============================\n",
            "KNeighborsClassifier\n",
            "****Results****\n",
            "Accuracy: 78.4211%\n",
            "==============================\n",
            "SVC\n",
            "****Results****\n",
            "Accuracy: 81.4211%\n",
            "==============================\n",
            "NuSVC\n",
            "****Results****\n",
            "Accuracy: 74.0000%\n",
            "==============================\n",
            "DecisionTreeClassifier\n",
            "****Results****\n",
            "Accuracy: 78.3684%\n",
            "==============================\n",
            "RandomForestClassifier\n",
            "****Results****\n",
            "Accuracy: 79.4737%\n",
            "==============================\n",
            "AdaBoostClassifier\n",
            "****Results****\n",
            "Accuracy: 76.2105%\n",
            "==============================\n",
            "GradientBoostingClassifier\n",
            "****Results****\n",
            "Accuracy: 78.2632%\n",
            "==============================\n",
            "GaussianNB\n",
            "****Results****\n",
            "Accuracy: 70.1053%\n",
            "==============================\n",
            "LinearDiscriminantAnalysis\n",
            "****Results****\n",
            "Accuracy: 79.3684%\n",
            "==============================\n",
            "QuadraticDiscriminantAnalysis\n",
            "****Results****\n",
            "Accuracy: 67.1579%\n",
            "==============================\n",
            "LogisticRegression\n",
            "****Results****\n",
            "Accuracy: 79.3684%\n"
          ],
          "name": "stdout"
        }
      ]
    },
    {
      "cell_type": "code",
      "metadata": {
        "id": "Wbl3_Cs9rnNh"
      },
      "source": [
        ""
      ],
      "execution_count": 83,
      "outputs": []
    },
    {
      "cell_type": "markdown",
      "metadata": {
        "id": "N40_Zc8nsiU3"
      },
      "source": [
        "# VarianceThreshold"
      ]
    },
    {
      "cell_type": "code",
      "metadata": {
        "id": "hqPon3DushYn"
      },
      "source": [
        "from sklearn.feature_selection import VarianceThreshold\n",
        "clf = SVC(kernel='rbf')\n",
        "selector = VarianceThreshold(0.05)\n",
        "#pipeline = Pipeline([('selector',algo), ('estimator', clf)])\n",
        "pipeline = Pipeline([('transformer', sc),('selector',selector), ('estimator', clf)])\n"
      ],
      "execution_count": 84,
      "outputs": []
    },
    {
      "cell_type": "code",
      "metadata": {
        "id": "zH6sK58CshYp",
        "colab": {
          "base_uri": "https://localhost:8080/"
        },
        "outputId": "8443b392-62ed-4442-c8f0-8ffa0dc63bda"
      },
      "source": [
        "\n",
        "import warnings\n",
        "warnings.simplefilter(action='ignore', category=FutureWarning)\n",
        "\n",
        "accuracy_var=[]\n",
        "std_var=[]\n",
        "f1_scores=[]\n",
        "f1_scores_std=[]\n",
        "for clfs in classifiers:\n",
        "    pipeline.set_params(estimator = clfs)\n",
        "    name = clfs.__class__.__name__\n",
        "    \n",
        "    print(\"=\"*30)\n",
        "    print(name)       \n",
        "    print('****Results****')\n",
        "    scores = cross_val_score(pipeline, X, y, cv=5)\n",
        "    #f1_score = cross_val_score(clf, X_rfe, y, cv=5,scoring='f1')\n",
        "    print(\"Accuracy: {:.4%}\".format(np.array(scores).mean()))\n",
        "    accuracy_var.append(np.array(scores).mean())\n",
        "    std_var.append(np.array(scores).std())\n",
        "    #f1_scores.append(np.array(f1_score).mean())\n",
        "    #f1_scores_std.append(np.array(f1_score).std())\n"
      ],
      "execution_count": 85,
      "outputs": [
        {
          "output_type": "stream",
          "text": [
            "==============================\n",
            "KNeighborsClassifier\n",
            "****Results****\n",
            "Accuracy: 70.1053%\n",
            "==============================\n",
            "SVC\n",
            "****Results****\n",
            "Accuracy: 75.2632%\n",
            "==============================\n",
            "NuSVC\n",
            "****Results****\n",
            "Accuracy: 75.2632%\n",
            "==============================\n",
            "DecisionTreeClassifier\n",
            "****Results****\n",
            "Accuracy: 72.4211%\n",
            "==============================\n",
            "RandomForestClassifier\n",
            "****Results****\n",
            "Accuracy: 75.2105%\n",
            "==============================\n",
            "AdaBoostClassifier\n",
            "****Results****\n",
            "Accuracy: 68.0526%\n",
            "==============================\n",
            "GradientBoostingClassifier\n",
            "****Results****\n",
            "Accuracy: 76.3684%\n",
            "==============================\n",
            "GaussianNB\n",
            "****Results****\n",
            "Accuracy: 70.1053%\n",
            "==============================\n",
            "LinearDiscriminantAnalysis\n",
            "****Results****\n",
            "Accuracy: 64.0526%\n",
            "==============================\n",
            "QuadraticDiscriminantAnalysis\n",
            "****Results****\n",
            "Accuracy: 59.8421%\n",
            "==============================\n",
            "LogisticRegression\n",
            "****Results****\n",
            "Accuracy: 75.3158%\n"
          ],
          "name": "stdout"
        }
      ]
    },
    {
      "cell_type": "markdown",
      "metadata": {
        "id": "utsqZIs_qvKn"
      },
      "source": [
        "# Result"
      ]
    },
    {
      "cell_type": "code",
      "metadata": {
        "id": "X9-EzT5grnQp",
        "colab": {
          "base_uri": "https://localhost:8080/"
        },
        "outputId": "85b27f94-750d-4dbd-8a57-5c98e7d963e9"
      },
      "source": [
        "len(accuracy),len(accuracy_pca),len(accuracy_rfe),len(accuracy_kbest),len(accuracy_var)"
      ],
      "execution_count": 86,
      "outputs": [
        {
          "output_type": "execute_result",
          "data": {
            "text/plain": [
              "(11, 11, 11, 11, 11)"
            ]
          },
          "metadata": {
            "tags": []
          },
          "execution_count": 86
        }
      ]
    },
    {
      "cell_type": "code",
      "metadata": {
        "id": "mtlBCPBtZjDm"
      },
      "source": [
        "result=pd.DataFrame([accuracy,accuracy_pca,accuracy_rfe,accuracy_kbest,accuracy_var],\n",
        "                    index=['Accuracy','PCA',\"RFE\",'kbest','VAR'],\n",
        "                    columns=['KNN','SVC','nuSCV','DT','RF','Ada','GB','NB','LDA','QDA','LR'])"
      ],
      "execution_count": 87,
      "outputs": []
    },
    {
      "cell_type": "code",
      "metadata": {
        "id": "oDxtmxamaD9y"
      },
      "source": [
        "result=result.T"
      ],
      "execution_count": 88,
      "outputs": []
    },
    {
      "cell_type": "code",
      "metadata": {
        "id": "H2iNzVqt8m7j",
        "colab": {
          "base_uri": "https://localhost:8080/",
          "height": 264
        },
        "outputId": "e2b38564-8bec-4dd0-8208-c89a67aabcce"
      },
      "source": [
        "\n",
        "def _color_red_or_green(val):\n",
        "    color = 'red' if val < 0.8 else 'green'\n",
        "    return 'color: %s' % color\n",
        "result.style.applymap(_color_red_or_green)"
      ],
      "execution_count": 91,
      "outputs": [
        {
          "output_type": "execute_result",
          "data": {
            "text/html": [
              "<style  type=\"text/css\" >\n",
              "#T_2fe27046_45a5_11eb_ba5f_0242ac1c0002row0_col0,#T_2fe27046_45a5_11eb_ba5f_0242ac1c0002row0_col1,#T_2fe27046_45a5_11eb_ba5f_0242ac1c0002row0_col2,#T_2fe27046_45a5_11eb_ba5f_0242ac1c0002row0_col3,#T_2fe27046_45a5_11eb_ba5f_0242ac1c0002row0_col4,#T_2fe27046_45a5_11eb_ba5f_0242ac1c0002row1_col0,#T_2fe27046_45a5_11eb_ba5f_0242ac1c0002row1_col1,#T_2fe27046_45a5_11eb_ba5f_0242ac1c0002row1_col4,#T_2fe27046_45a5_11eb_ba5f_0242ac1c0002row2_col0,#T_2fe27046_45a5_11eb_ba5f_0242ac1c0002row2_col1,#T_2fe27046_45a5_11eb_ba5f_0242ac1c0002row2_col2,#T_2fe27046_45a5_11eb_ba5f_0242ac1c0002row2_col3,#T_2fe27046_45a5_11eb_ba5f_0242ac1c0002row2_col4,#T_2fe27046_45a5_11eb_ba5f_0242ac1c0002row3_col0,#T_2fe27046_45a5_11eb_ba5f_0242ac1c0002row3_col1,#T_2fe27046_45a5_11eb_ba5f_0242ac1c0002row3_col2,#T_2fe27046_45a5_11eb_ba5f_0242ac1c0002row3_col3,#T_2fe27046_45a5_11eb_ba5f_0242ac1c0002row3_col4,#T_2fe27046_45a5_11eb_ba5f_0242ac1c0002row4_col0,#T_2fe27046_45a5_11eb_ba5f_0242ac1c0002row4_col3,#T_2fe27046_45a5_11eb_ba5f_0242ac1c0002row4_col4,#T_2fe27046_45a5_11eb_ba5f_0242ac1c0002row5_col0,#T_2fe27046_45a5_11eb_ba5f_0242ac1c0002row5_col1,#T_2fe27046_45a5_11eb_ba5f_0242ac1c0002row5_col2,#T_2fe27046_45a5_11eb_ba5f_0242ac1c0002row5_col3,#T_2fe27046_45a5_11eb_ba5f_0242ac1c0002row5_col4,#T_2fe27046_45a5_11eb_ba5f_0242ac1c0002row6_col0,#T_2fe27046_45a5_11eb_ba5f_0242ac1c0002row6_col2,#T_2fe27046_45a5_11eb_ba5f_0242ac1c0002row6_col3,#T_2fe27046_45a5_11eb_ba5f_0242ac1c0002row6_col4,#T_2fe27046_45a5_11eb_ba5f_0242ac1c0002row7_col0,#T_2fe27046_45a5_11eb_ba5f_0242ac1c0002row7_col1,#T_2fe27046_45a5_11eb_ba5f_0242ac1c0002row7_col2,#T_2fe27046_45a5_11eb_ba5f_0242ac1c0002row7_col3,#T_2fe27046_45a5_11eb_ba5f_0242ac1c0002row7_col4,#T_2fe27046_45a5_11eb_ba5f_0242ac1c0002row8_col0,#T_2fe27046_45a5_11eb_ba5f_0242ac1c0002row8_col1,#T_2fe27046_45a5_11eb_ba5f_0242ac1c0002row8_col2,#T_2fe27046_45a5_11eb_ba5f_0242ac1c0002row8_col3,#T_2fe27046_45a5_11eb_ba5f_0242ac1c0002row8_col4,#T_2fe27046_45a5_11eb_ba5f_0242ac1c0002row9_col0,#T_2fe27046_45a5_11eb_ba5f_0242ac1c0002row9_col1,#T_2fe27046_45a5_11eb_ba5f_0242ac1c0002row9_col2,#T_2fe27046_45a5_11eb_ba5f_0242ac1c0002row9_col3,#T_2fe27046_45a5_11eb_ba5f_0242ac1c0002row9_col4,#T_2fe27046_45a5_11eb_ba5f_0242ac1c0002row10_col0,#T_2fe27046_45a5_11eb_ba5f_0242ac1c0002row10_col1,#T_2fe27046_45a5_11eb_ba5f_0242ac1c0002row10_col2,#T_2fe27046_45a5_11eb_ba5f_0242ac1c0002row10_col3,#T_2fe27046_45a5_11eb_ba5f_0242ac1c0002row10_col4{\n",
              "            color:  red;\n",
              "        }#T_2fe27046_45a5_11eb_ba5f_0242ac1c0002row1_col2,#T_2fe27046_45a5_11eb_ba5f_0242ac1c0002row1_col3,#T_2fe27046_45a5_11eb_ba5f_0242ac1c0002row4_col1,#T_2fe27046_45a5_11eb_ba5f_0242ac1c0002row4_col2,#T_2fe27046_45a5_11eb_ba5f_0242ac1c0002row6_col1{\n",
              "            color:  green;\n",
              "        }</style><table id=\"T_2fe27046_45a5_11eb_ba5f_0242ac1c0002\" ><thead>    <tr>        <th class=\"blank level0\" ></th>        <th class=\"col_heading level0 col0\" >Accuracy</th>        <th class=\"col_heading level0 col1\" >PCA</th>        <th class=\"col_heading level0 col2\" >RFE</th>        <th class=\"col_heading level0 col3\" >kbest</th>        <th class=\"col_heading level0 col4\" >VAR</th>    </tr></thead><tbody>\n",
              "                <tr>\n",
              "                        <th id=\"T_2fe27046_45a5_11eb_ba5f_0242ac1c0002level0_row0\" class=\"row_heading level0 row0\" >KNN</th>\n",
              "                        <td id=\"T_2fe27046_45a5_11eb_ba5f_0242ac1c0002row0_col0\" class=\"data row0 col0\" >0.701053</td>\n",
              "                        <td id=\"T_2fe27046_45a5_11eb_ba5f_0242ac1c0002row0_col1\" class=\"data row0 col1\" >0.690000</td>\n",
              "                        <td id=\"T_2fe27046_45a5_11eb_ba5f_0242ac1c0002row0_col2\" class=\"data row0 col2\" >0.784211</td>\n",
              "                        <td id=\"T_2fe27046_45a5_11eb_ba5f_0242ac1c0002row0_col3\" class=\"data row0 col3\" >0.784211</td>\n",
              "                        <td id=\"T_2fe27046_45a5_11eb_ba5f_0242ac1c0002row0_col4\" class=\"data row0 col4\" >0.701053</td>\n",
              "            </tr>\n",
              "            <tr>\n",
              "                        <th id=\"T_2fe27046_45a5_11eb_ba5f_0242ac1c0002level0_row1\" class=\"row_heading level0 row1\" >SVC</th>\n",
              "                        <td id=\"T_2fe27046_45a5_11eb_ba5f_0242ac1c0002row1_col0\" class=\"data row1 col0\" >0.752632</td>\n",
              "                        <td id=\"T_2fe27046_45a5_11eb_ba5f_0242ac1c0002row1_col1\" class=\"data row1 col1\" >0.742105</td>\n",
              "                        <td id=\"T_2fe27046_45a5_11eb_ba5f_0242ac1c0002row1_col2\" class=\"data row1 col2\" >0.814211</td>\n",
              "                        <td id=\"T_2fe27046_45a5_11eb_ba5f_0242ac1c0002row1_col3\" class=\"data row1 col3\" >0.814211</td>\n",
              "                        <td id=\"T_2fe27046_45a5_11eb_ba5f_0242ac1c0002row1_col4\" class=\"data row1 col4\" >0.752632</td>\n",
              "            </tr>\n",
              "            <tr>\n",
              "                        <th id=\"T_2fe27046_45a5_11eb_ba5f_0242ac1c0002level0_row2\" class=\"row_heading level0 row2\" >nuSCV</th>\n",
              "                        <td id=\"T_2fe27046_45a5_11eb_ba5f_0242ac1c0002row2_col0\" class=\"data row2 col0\" >0.752632</td>\n",
              "                        <td id=\"T_2fe27046_45a5_11eb_ba5f_0242ac1c0002row2_col1\" class=\"data row2 col1\" >0.743158</td>\n",
              "                        <td id=\"T_2fe27046_45a5_11eb_ba5f_0242ac1c0002row2_col2\" class=\"data row2 col2\" >0.740000</td>\n",
              "                        <td id=\"T_2fe27046_45a5_11eb_ba5f_0242ac1c0002row2_col3\" class=\"data row2 col3\" >0.740000</td>\n",
              "                        <td id=\"T_2fe27046_45a5_11eb_ba5f_0242ac1c0002row2_col4\" class=\"data row2 col4\" >0.752632</td>\n",
              "            </tr>\n",
              "            <tr>\n",
              "                        <th id=\"T_2fe27046_45a5_11eb_ba5f_0242ac1c0002level0_row3\" class=\"row_heading level0 row3\" >DT</th>\n",
              "                        <td id=\"T_2fe27046_45a5_11eb_ba5f_0242ac1c0002row3_col0\" class=\"data row3 col0\" >0.692105</td>\n",
              "                        <td id=\"T_2fe27046_45a5_11eb_ba5f_0242ac1c0002row3_col1\" class=\"data row3 col1\" >0.732632</td>\n",
              "                        <td id=\"T_2fe27046_45a5_11eb_ba5f_0242ac1c0002row3_col2\" class=\"data row3 col2\" >0.793684</td>\n",
              "                        <td id=\"T_2fe27046_45a5_11eb_ba5f_0242ac1c0002row3_col3\" class=\"data row3 col3\" >0.783684</td>\n",
              "                        <td id=\"T_2fe27046_45a5_11eb_ba5f_0242ac1c0002row3_col4\" class=\"data row3 col4\" >0.724211</td>\n",
              "            </tr>\n",
              "            <tr>\n",
              "                        <th id=\"T_2fe27046_45a5_11eb_ba5f_0242ac1c0002level0_row4\" class=\"row_heading level0 row4\" >RF</th>\n",
              "                        <td id=\"T_2fe27046_45a5_11eb_ba5f_0242ac1c0002row4_col0\" class=\"data row4 col0\" >0.711579</td>\n",
              "                        <td id=\"T_2fe27046_45a5_11eb_ba5f_0242ac1c0002row4_col1\" class=\"data row4 col1\" >0.804737</td>\n",
              "                        <td id=\"T_2fe27046_45a5_11eb_ba5f_0242ac1c0002row4_col2\" class=\"data row4 col2\" >0.805263</td>\n",
              "                        <td id=\"T_2fe27046_45a5_11eb_ba5f_0242ac1c0002row4_col3\" class=\"data row4 col3\" >0.794737</td>\n",
              "                        <td id=\"T_2fe27046_45a5_11eb_ba5f_0242ac1c0002row4_col4\" class=\"data row4 col4\" >0.752105</td>\n",
              "            </tr>\n",
              "            <tr>\n",
              "                        <th id=\"T_2fe27046_45a5_11eb_ba5f_0242ac1c0002level0_row5\" class=\"row_heading level0 row5\" >Ada</th>\n",
              "                        <td id=\"T_2fe27046_45a5_11eb_ba5f_0242ac1c0002row5_col0\" class=\"data row5 col0\" >0.680526</td>\n",
              "                        <td id=\"T_2fe27046_45a5_11eb_ba5f_0242ac1c0002row5_col1\" class=\"data row5 col1\" >0.701053</td>\n",
              "                        <td id=\"T_2fe27046_45a5_11eb_ba5f_0242ac1c0002row5_col2\" class=\"data row5 col2\" >0.762105</td>\n",
              "                        <td id=\"T_2fe27046_45a5_11eb_ba5f_0242ac1c0002row5_col3\" class=\"data row5 col3\" >0.762105</td>\n",
              "                        <td id=\"T_2fe27046_45a5_11eb_ba5f_0242ac1c0002row5_col4\" class=\"data row5 col4\" >0.680526</td>\n",
              "            </tr>\n",
              "            <tr>\n",
              "                        <th id=\"T_2fe27046_45a5_11eb_ba5f_0242ac1c0002level0_row6\" class=\"row_heading level0 row6\" >GB</th>\n",
              "                        <td id=\"T_2fe27046_45a5_11eb_ba5f_0242ac1c0002row6_col0\" class=\"data row6 col0\" >0.753158</td>\n",
              "                        <td id=\"T_2fe27046_45a5_11eb_ba5f_0242ac1c0002row6_col1\" class=\"data row6 col1\" >0.824737</td>\n",
              "                        <td id=\"T_2fe27046_45a5_11eb_ba5f_0242ac1c0002row6_col2\" class=\"data row6 col2\" >0.772105</td>\n",
              "                        <td id=\"T_2fe27046_45a5_11eb_ba5f_0242ac1c0002row6_col3\" class=\"data row6 col3\" >0.782632</td>\n",
              "                        <td id=\"T_2fe27046_45a5_11eb_ba5f_0242ac1c0002row6_col4\" class=\"data row6 col4\" >0.763684</td>\n",
              "            </tr>\n",
              "            <tr>\n",
              "                        <th id=\"T_2fe27046_45a5_11eb_ba5f_0242ac1c0002level0_row7\" class=\"row_heading level0 row7\" >NB</th>\n",
              "                        <td id=\"T_2fe27046_45a5_11eb_ba5f_0242ac1c0002row7_col0\" class=\"data row7 col0\" >0.701053</td>\n",
              "                        <td id=\"T_2fe27046_45a5_11eb_ba5f_0242ac1c0002row7_col1\" class=\"data row7 col1\" >0.763158</td>\n",
              "                        <td id=\"T_2fe27046_45a5_11eb_ba5f_0242ac1c0002row7_col2\" class=\"data row7 col2\" >0.701053</td>\n",
              "                        <td id=\"T_2fe27046_45a5_11eb_ba5f_0242ac1c0002row7_col3\" class=\"data row7 col3\" >0.701053</td>\n",
              "                        <td id=\"T_2fe27046_45a5_11eb_ba5f_0242ac1c0002row7_col4\" class=\"data row7 col4\" >0.701053</td>\n",
              "            </tr>\n",
              "            <tr>\n",
              "                        <th id=\"T_2fe27046_45a5_11eb_ba5f_0242ac1c0002level0_row8\" class=\"row_heading level0 row8\" >LDA</th>\n",
              "                        <td id=\"T_2fe27046_45a5_11eb_ba5f_0242ac1c0002row8_col0\" class=\"data row8 col0\" >0.640526</td>\n",
              "                        <td id=\"T_2fe27046_45a5_11eb_ba5f_0242ac1c0002row8_col1\" class=\"data row8 col1\" >0.732632</td>\n",
              "                        <td id=\"T_2fe27046_45a5_11eb_ba5f_0242ac1c0002row8_col2\" class=\"data row8 col2\" >0.793684</td>\n",
              "                        <td id=\"T_2fe27046_45a5_11eb_ba5f_0242ac1c0002row8_col3\" class=\"data row8 col3\" >0.793684</td>\n",
              "                        <td id=\"T_2fe27046_45a5_11eb_ba5f_0242ac1c0002row8_col4\" class=\"data row8 col4\" >0.640526</td>\n",
              "            </tr>\n",
              "            <tr>\n",
              "                        <th id=\"T_2fe27046_45a5_11eb_ba5f_0242ac1c0002level0_row9\" class=\"row_heading level0 row9\" >QDA</th>\n",
              "                        <td id=\"T_2fe27046_45a5_11eb_ba5f_0242ac1c0002row9_col0\" class=\"data row9 col0\" >0.598421</td>\n",
              "                        <td id=\"T_2fe27046_45a5_11eb_ba5f_0242ac1c0002row9_col1\" class=\"data row9 col1\" >0.773158</td>\n",
              "                        <td id=\"T_2fe27046_45a5_11eb_ba5f_0242ac1c0002row9_col2\" class=\"data row9 col2\" >0.671579</td>\n",
              "                        <td id=\"T_2fe27046_45a5_11eb_ba5f_0242ac1c0002row9_col3\" class=\"data row9 col3\" >0.671579</td>\n",
              "                        <td id=\"T_2fe27046_45a5_11eb_ba5f_0242ac1c0002row9_col4\" class=\"data row9 col4\" >0.598421</td>\n",
              "            </tr>\n",
              "            <tr>\n",
              "                        <th id=\"T_2fe27046_45a5_11eb_ba5f_0242ac1c0002level0_row10\" class=\"row_heading level0 row10\" >LR</th>\n",
              "                        <td id=\"T_2fe27046_45a5_11eb_ba5f_0242ac1c0002row10_col0\" class=\"data row10 col0\" >0.753158</td>\n",
              "                        <td id=\"T_2fe27046_45a5_11eb_ba5f_0242ac1c0002row10_col1\" class=\"data row10 col1\" >0.722632</td>\n",
              "                        <td id=\"T_2fe27046_45a5_11eb_ba5f_0242ac1c0002row10_col2\" class=\"data row10 col2\" >0.793684</td>\n",
              "                        <td id=\"T_2fe27046_45a5_11eb_ba5f_0242ac1c0002row10_col3\" class=\"data row10 col3\" >0.793684</td>\n",
              "                        <td id=\"T_2fe27046_45a5_11eb_ba5f_0242ac1c0002row10_col4\" class=\"data row10 col4\" >0.753158</td>\n",
              "            </tr>\n",
              "    </tbody></table>"
            ],
            "text/plain": [
              "<pandas.io.formats.style.Styler at 0x7fb82ef60dd8>"
            ]
          },
          "metadata": {
            "tags": []
          },
          "execution_count": 91
        }
      ]
    },
    {
      "cell_type": "code",
      "metadata": {
        "id": "0-IOzjP1bGBu"
      },
      "source": [
        "#Higest accuracy 90% check PCA section or following code"
      ],
      "execution_count": 90,
      "outputs": []
    },
    {
      "cell_type": "code",
      "metadata": {
        "id": "l3a10gQQ_kqJ"
      },
      "source": [
        ""
      ],
      "execution_count": 90,
      "outputs": []
    }
  ]
}