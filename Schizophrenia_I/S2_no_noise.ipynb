{
  "nbformat": 4,
  "nbformat_minor": 0,
  "metadata": {
    "kernelspec": {
      "display_name": "Python 3",
      "language": "python",
      "name": "python3"
    },
    "language_info": {
      "codemirror_mode": {
        "name": "ipython",
        "version": 3
      },
      "file_extension": ".py",
      "mimetype": "text/x-python",
      "name": "python",
      "nbconvert_exporter": "python",
      "pygments_lexer": "ipython3",
      "version": "3.7.1"
    },
    "colab": {
      "name": "classification_condition_2_v1.ipynb",
      "provenance": [],
      "collapsed_sections": [],
      "include_colab_link": true
    }
  },
  "cells": [
    {
      "cell_type": "markdown",
      "metadata": {
        "id": "view-in-github",
        "colab_type": "text"
      },
      "source": [
        "<a href=\"https://colab.research.google.com/github/talhaanwarch/schizophrenia64/blob/master/classification_condition_2_v1.ipynb\" target=\"_parent\"><img src=\"https://colab.research.google.com/assets/colab-badge.svg\" alt=\"Open In Colab\"/></a>"
      ]
    },
    {
      "cell_type": "markdown",
      "metadata": {
        "id": "d1V9A86cejRj"
      },
      "source": [
        "https://www.ncbi.nlm.nih.gov/pubmed/21752709"
      ]
    },
    {
      "cell_type": "code",
      "metadata": {
        "id": "CLUFPzSl212G",
        "colab": {
          "base_uri": "https://localhost:8080/"
        },
        "outputId": "c7842f36-cbde-4e38-b40d-250ee6c9df2c"
      },
      "source": [
        "from google.colab import drive\n",
        "drive.mount('/content/drive',force_remount=True)"
      ],
      "execution_count": 1,
      "outputs": [
        {
          "output_type": "stream",
          "text": [
            "Mounted at /content/drive\n"
          ],
          "name": "stdout"
        }
      ]
    },
    {
      "cell_type": "code",
      "metadata": {
        "id": "BitRtTGT4Qyb",
        "colab": {
          "base_uri": "https://localhost:8080/"
        },
        "outputId": "97288334-60b9-418a-d336-c24a5bb0d064"
      },
      "source": [
        "!pip install --upgrade numba\n",
        "!pip install git+https://github.com/forrestbao/pyeeg.git\n",
        "!pip install git+https://github.com/raphaelvallat/entropy.git\n"
      ],
      "execution_count": 2,
      "outputs": [
        {
          "output_type": "stream",
          "text": [
            "Collecting numba\n",
            "\u001b[?25l  Downloading https://files.pythonhosted.org/packages/60/a5/a065e1e23a5ced6da6628bba7efec4de98f8970a59e034bb0639866631da/numba-0.52.0-cp36-cp36m-manylinux2014_x86_64.whl (3.1MB)\n",
            "\u001b[K     |████████████████████████████████| 3.2MB 13.5MB/s \n",
            "\u001b[?25hRequirement already satisfied, skipping upgrade: setuptools in /usr/local/lib/python3.6/dist-packages (from numba) (50.3.2)\n",
            "Requirement already satisfied, skipping upgrade: numpy>=1.15 in /usr/local/lib/python3.6/dist-packages (from numba) (1.19.4)\n",
            "Collecting llvmlite<0.36,>=0.35.0\n",
            "\u001b[?25l  Downloading https://files.pythonhosted.org/packages/9f/94/f05040ee3ec199c827a38426d78d0af9274c1e18ec9a592bb40954c952c8/llvmlite-0.35.0-cp36-cp36m-manylinux2010_x86_64.whl (25.3MB)\n",
            "\u001b[K     |████████████████████████████████| 25.3MB 1.7MB/s \n",
            "\u001b[?25hInstalling collected packages: llvmlite, numba\n",
            "  Found existing installation: llvmlite 0.31.0\n",
            "    Uninstalling llvmlite-0.31.0:\n",
            "      Successfully uninstalled llvmlite-0.31.0\n",
            "  Found existing installation: numba 0.48.0\n",
            "    Uninstalling numba-0.48.0:\n",
            "      Successfully uninstalled numba-0.48.0\n",
            "Successfully installed llvmlite-0.35.0 numba-0.52.0\n",
            "Collecting git+https://github.com/forrestbao/pyeeg.git\n",
            "  Cloning https://github.com/forrestbao/pyeeg.git to /tmp/pip-req-build-xwanvh3l\n",
            "  Running command git clone -q https://github.com/forrestbao/pyeeg.git /tmp/pip-req-build-xwanvh3l\n",
            "Requirement already satisfied: numpy>=1.9.2 in /usr/local/lib/python3.6/dist-packages (from pyeeg==0.4.4) (1.19.4)\n",
            "Building wheels for collected packages: pyeeg\n",
            "  Building wheel for pyeeg (setup.py) ... \u001b[?25l\u001b[?25hdone\n",
            "  Created wheel for pyeeg: filename=pyeeg-0.4.4-py2.py3-none-any.whl size=28123 sha256=06ed4235d12d6cdc5fc81ff95b6baba23f10034efb56b446f1e653db99e79c6c\n",
            "  Stored in directory: /tmp/pip-ephem-wheel-cache-mtw3cfe0/wheels/2d/3f/ad/106d4fc80b61d1ea1fc18e76e7439fd98aa043d83d58eae741\n",
            "Successfully built pyeeg\n",
            "Installing collected packages: pyeeg\n",
            "Successfully installed pyeeg-0.4.4\n",
            "Collecting git+https://github.com/raphaelvallat/entropy.git\n",
            "  Cloning https://github.com/raphaelvallat/entropy.git to /tmp/pip-req-build-7_ybrss1\n",
            "  Running command git clone -q https://github.com/raphaelvallat/entropy.git /tmp/pip-req-build-7_ybrss1\n",
            "Building wheels for collected packages: entropy\n",
            "  Building wheel for entropy (setup.py) ... \u001b[?25l\u001b[?25hdone\n",
            "  Created wheel for entropy: filename=entropy-0.1.2-cp36-none-any.whl size=15612 sha256=26ac55c5e6140fbababd974dcc6c2a2ba52904516c693e6d444395bb01059be0\n",
            "  Stored in directory: /tmp/pip-ephem-wheel-cache-97rmvdp7/wheels/60/ed/d3/b715e38438f1f39edb1383aea79c578073953b25fa576fc71e\n",
            "Successfully built entropy\n",
            "Installing collected packages: entropy\n",
            "Successfully installed entropy-0.1.2\n"
          ],
          "name": "stdout"
        }
      ]
    },
    {
      "cell_type": "code",
      "metadata": {
        "id": "M0d2K51X2255",
        "colab": {
          "base_uri": "https://localhost:8080/"
        },
        "outputId": "5d418e26-a5b6-4500-84ca-ce8ae1c89e10"
      },
      "source": [
        "cd /content/drive/My Drive/dataset/Schizophrenia"
      ],
      "execution_count": 3,
      "outputs": [
        {
          "output_type": "stream",
          "text": [
            "/content/drive/My Drive/dataset/Schizophrenia\n"
          ],
          "name": "stdout"
        }
      ]
    },
    {
      "cell_type": "code",
      "metadata": {
        "id": "c4VF2wMU2a9c"
      },
      "source": [
        "import numpy as np\n",
        "from glob import glob"
      ],
      "execution_count": 4,
      "outputs": []
    },
    {
      "cell_type": "code",
      "metadata": {
        "id": "65gRe7Tm2a9j"
      },
      "source": [
        "import pickle\n",
        "import numpy as np\n",
        "from sklearn import metrics\n",
        "from sklearn.model_selection import train_test_split\n",
        "from sklearn.preprocessing import StandardScaler,MaxAbsScaler\n",
        "from sklearn.svm import SVC\n",
        "from sklearn.linear_model import LogisticRegression\n",
        "from sklearn.neighbors import KNeighborsClassifier"
      ],
      "execution_count": 5,
      "outputs": []
    },
    {
      "cell_type": "code",
      "metadata": {
        "id": "841F2uFr2a9m"
      },
      "source": [
        "from sklearn.metrics import accuracy_score, log_loss\n",
        "from sklearn.neighbors import KNeighborsClassifier\n",
        "from sklearn.svm import SVC, LinearSVC, NuSVC\n",
        "from sklearn.tree import DecisionTreeClassifier\n",
        "from sklearn.ensemble import RandomForestClassifier, AdaBoostClassifier, GradientBoostingClassifier\n",
        "from sklearn.naive_bayes import GaussianNB\n",
        "from sklearn.discriminant_analysis import LinearDiscriminantAnalysis\n",
        "from sklearn.discriminant_analysis import QuadraticDiscriminantAnalysis\n",
        "from sklearn.linear_model import LogisticRegression\n",
        "import pandas as pd\n",
        "from sklearn.metrics import f1_score\n",
        "from sklearn.model_selection import cross_val_score\n",
        "import matplotlib.pyplot as plt\n",
        "from sklearn.decomposition import PCA\n",
        "from scipy import signal\n"
      ],
      "execution_count": 6,
      "outputs": []
    },
    {
      "cell_type": "markdown",
      "metadata": {
        "id": "HrcQgBt6_2M4"
      },
      "source": [
        "# Read Data"
      ]
    },
    {
      "cell_type": "code",
      "metadata": {
        "id": "3xiWQHeDNrrp",
        "colab": {
          "base_uri": "https://localhost:8080/"
        },
        "outputId": "4e44037f-41d9-4077-cc2b-14274ce1d182"
      },
      "source": [
        "ls"
      ],
      "execution_count": 7,
      "outputs": [
        {
          "output_type": "stream",
          "text": [
            " demographic.csv         feature_acc_1_v1_manual.csv   feature_acc_3_v1.csv\n",
            " ERPdata.csv             feature_acc_2_pca.csv         feature_acc_v1.csv\n",
            "\u001b[0m\u001b[01;34m'extended features'\u001b[0m/     feature_acc_2_v1_manual.csv   pca.eps\n",
            " feature_acc_1_pca.csv   feature_acc_3_pca.csv         raw.csv\n"
          ],
          "name": "stdout"
        }
      ]
    },
    {
      "cell_type": "code",
      "metadata": {
        "id": "UQJ35Q7Dkq1f"
      },
      "source": [
        "import pandas as pd\n",
        "raw=pd.read_csv('raw.csv')"
      ],
      "execution_count": 8,
      "outputs": []
    },
    {
      "cell_type": "code",
      "metadata": {
        "id": "AlNifFsKNlPN"
      },
      "source": [
        "\n",
        "group=raw.groupby(['condition'])\n",
        "\n",
        "data=group.get_group((2))\n",
        "\n",
        "\n",
        "\n"
      ],
      "execution_count": 9,
      "outputs": []
    },
    {
      "cell_type": "code",
      "metadata": {
        "id": "sOGboirLlOLk",
        "colab": {
          "base_uri": "https://localhost:8080/"
        },
        "outputId": "4540e59e-c538-4423-d60d-bdd34e9c8a05"
      },
      "source": [
        "data=data.iloc[:,2::]\n",
        "data.columns\n"
      ],
      "execution_count": 10,
      "outputs": [
        {
          "output_type": "execute_result",
          "data": {
            "text/plain": [
              "Index(['Fp1', 'AF7', 'AF3', 'F1', 'F3', 'F5', 'F7', 'FT7', 'FC5', 'FC3', 'FC1',\n",
              "       'C1', 'C3', 'C5', 'T7', 'TP7', 'CP5', 'CP3', 'CP1', 'P1', 'P3', 'P5',\n",
              "       'P7', 'P9', 'PO7', 'PO3', 'O1', 'Iz', 'Oz', 'POz', 'Pz', 'CPz', 'Fpz',\n",
              "       'Fp2', 'AF8', 'AF4', 'AFz', 'Fz', 'F2', 'F4', 'F6', 'F8', 'FT8', 'FC6',\n",
              "       'FC4', 'FC2', 'FCz', 'Cz', 'C2', 'C4', 'C6', 'T8', 'TP8', 'CP6', 'CP4',\n",
              "       'CP2', 'P2', 'P4', 'P6', 'P8', 'P10', 'PO8', 'PO4', 'O2', 'group'],\n",
              "      dtype='object')"
            ]
          },
          "metadata": {
            "tags": []
          },
          "execution_count": 10
        }
      ]
    },
    {
      "cell_type": "code",
      "metadata": {
        "id": "1Rd2Mlzrl5p4",
        "colab": {
          "base_uri": "https://localhost:8080/"
        },
        "outputId": "740e328b-47a5-4d5c-adfb-1e148997dd99"
      },
      "source": [
        "data.shape"
      ],
      "execution_count": 11,
      "outputs": [
        {
          "output_type": "execute_result",
          "data": {
            "text/plain": [
              "(248832, 65)"
            ]
          },
          "metadata": {
            "tags": []
          },
          "execution_count": 11
        }
      ]
    },
    {
      "cell_type": "code",
      "metadata": {
        "id": "olRSppU0ko2b"
      },
      "source": [
        "label=data['group'].values\n",
        "X=data.iloc[:,0:64].values\n"
      ],
      "execution_count": 12,
      "outputs": []
    },
    {
      "cell_type": "code",
      "metadata": {
        "id": "apBV__zADYEX",
        "colab": {
          "base_uri": "https://localhost:8080/",
          "height": 621
        },
        "outputId": "79b6b4b3-baf3-4e3c-9932-7fd163164067"
      },
      "source": [
        "plt.figure(figsize=(20,10))\n",
        "pca = PCA().fit(X)\n",
        "plt.axhline(0.95)\n",
        "plt.axvline(12)\n",
        "#Plotting the Cumulative Summation of the Explained Variance\n",
        "plt.plot(np.cumsum(pca.explained_variance_ratio_)[0:15])\n",
        "plt.xlabel('Number of Components')\n",
        "plt.ylabel('Variance (%)') #for each component\n",
        "plt.title('Pulsar Dataset Explained Variance')\n",
        "plt.show()"
      ],
      "execution_count": 13,
      "outputs": [
        {
          "output_type": "display_data",
          "data": {
            "image/png": "[encoded data removed]",
            "text/plain": [
              "<Figure size 1440x720 with 1 Axes>"
            ]
          },
          "metadata": {
            "tags": [],
            "needs_background": "light"
          }
        }
      ]
    },
    {
      "cell_type": "code",
      "metadata": {
        "id": "q0LGyqIIb1jG",
        "colab": {
          "base_uri": "https://localhost:8080/"
        },
        "outputId": "b8f78bbf-87e5-4719-e127-89f48f522e29"
      },
      "source": [
        "X_1=data.var()\n",
        "idx=X_1.sort_values()[-12::].index\n",
        "print(idx)\n",
        "ch=len(idx)"
      ],
      "execution_count": 14,
      "outputs": [
        {
          "output_type": "stream",
          "text": [
            "Index(['Fz', 'F6', 'AF4', 'F4', 'F3', 'AF8', 'Fp2', 'AF7', 'AFz', 'AF3', 'Fp1',\n",
            "       'Fpz'],\n",
            "      dtype='object')\n"
          ],
          "name": "stdout"
        }
      ]
    },
    {
      "cell_type": "code",
      "metadata": {
        "id": "hwU3YLbCn_2f",
        "colab": {
          "base_uri": "https://localhost:8080/"
        },
        "outputId": "9ec3f066-2cc3-4fcd-fd0c-e99e1c97d9a4"
      },
      "source": [
        "label=label.reshape(-1,3072)\n",
        "label.shape"
      ],
      "execution_count": 15,
      "outputs": [
        {
          "output_type": "execute_result",
          "data": {
            "text/plain": [
              "(81, 3072)"
            ]
          },
          "metadata": {
            "tags": []
          },
          "execution_count": 15
        }
      ]
    },
    {
      "cell_type": "code",
      "metadata": {
        "id": "bb_Hh_2foSU1"
      },
      "source": [
        "label=np.mean(label,axis=1)"
      ],
      "execution_count": 16,
      "outputs": []
    },
    {
      "cell_type": "code",
      "metadata": {
        "id": "gLxAWiUAmjVR",
        "colab": {
          "base_uri": "https://localhost:8080/"
        },
        "outputId": "4ce057ab-7096-4baa-f5b1-39d9f4054000"
      },
      "source": [
        "X_data=data[idx].values.reshape(-1,3072,ch)\n",
        "X_data.shape"
      ],
      "execution_count": 17,
      "outputs": [
        {
          "output_type": "execute_result",
          "data": {
            "text/plain": [
              "(81, 3072, 12)"
            ]
          },
          "metadata": {
            "tags": []
          },
          "execution_count": 17
        }
      ]
    },
    {
      "cell_type": "markdown",
      "metadata": {
        "id": "f5ryNeW52a-G"
      },
      "source": [
        "# Feature Calculation"
      ]
    },
    {
      "cell_type": "code",
      "metadata": {
        "id": "o8C0CXGb2a-H"
      },
      "source": [
        "from scipy import stats\n",
        "import pyeeg\n",
        "from entropy import *\n",
        "def mean(data):\n",
        "    return np.mean(data,axis=0)\n",
        "    \n",
        "def std(data):\n",
        "    return np.std(data,axis=0)\n",
        "\n",
        "def ptp(data):\n",
        "    return np.ptp(data,axis=0)\n",
        "\n",
        "def var(data):\n",
        "        return np.var(data,axis=0)\n",
        "\n",
        "def minim(data):\n",
        "      return np.min(data,axis=0)\n",
        "\n",
        "\n",
        "def maxim(data):\n",
        "      return np.max(data,axis=0)\n",
        "\n",
        "def argminim(data):\n",
        "      return np.argmin(data,axis=0)\n",
        "\n",
        "\n",
        "def argmaxim(data):\n",
        "      return np.argmax(data,axis=0)\n",
        "\n",
        "def mean_square(data):\n",
        "      return np.mean(data**2,axis=0)\n",
        "\n",
        "def rms(data): #root mean square\n",
        "      return  np.sqrt(np.mean(data**2,axis=0))  \n",
        "\n",
        "def abs_diffs_signal(data):\n",
        "    return np.sum(np.abs(np.diff(data,axis=0)),axis=0)\n",
        "\n",
        "\n",
        "def skewness(data):\n",
        "    return stats.skew(data,axis=0)\n",
        "\n",
        "def kurtosis(data):\n",
        "    return stats.kurtosis(data,axis=0)\n",
        "\n",
        "def zero_crossing(data):\n",
        "    return np.argmax(np.diff(np.sign(data),axis=0),axis=0)\n",
        "\n",
        "def app_epy(data):\n",
        "    result=[]\n",
        "    for i in data.T:\n",
        "        result.append(app_entropy(i, order=2, metric='chebyshev'))\n",
        "    return np.array(result)\n",
        "\n",
        "def perm_epy(data):\n",
        "    result=[]\n",
        "    for i in data.T:\n",
        "        result.append(perm_entropy(i, order=3, normalize=True))\n",
        "    return np.array(result)\n",
        "\n",
        "def svd_epy(data):\n",
        "    result=[]\n",
        "    for i in data.T:\n",
        "        result.append(svd_entropy(i, order=3, delay=1, normalize=True))\n",
        "    return np.array(result)\n",
        "\n",
        "def spectral_epy(data):\n",
        "    result=[]\n",
        "    for i in data.T:\n",
        "        result.append(spectral_entropy(i, 100, method='welch', normalize=True))\n",
        "    return np.array(result)\n",
        "\n",
        "def sample_epy(data):\n",
        "    result=[]\n",
        "    for i in data.T:\n",
        "        result.append(sample_entropy(i, order=2, metric='chebyshev'))\n",
        "    return np.array(result)\n",
        "\n",
        "\n",
        "def katz(data):\n",
        "    result=[]\n",
        "    for i in data.T:\n",
        "        result.append(katz_fd(i))\n",
        "    return np.array(result)\n",
        "\n",
        "def higuchi(data):\n",
        "    result=[]\n",
        "    for i in data.T:\n",
        "        result.append(higuchi_fd(i))\n",
        "    return np.array(result)\n",
        "\n",
        "\n",
        "def petrosian(data):\n",
        "    result=[]\n",
        "    for i in data.T:\n",
        "        result.append(petrosian_fd(i))\n",
        "    return np.array(result)\n",
        "\n",
        "def autogressiveModelParameters(data):\n",
        "    feature = []\n",
        "    for i in data.T:\n",
        "        coeff, sig = alg.AR_est_YW(i, order=5)\n",
        "        feature.append(np.mean(coeff))\n",
        "    return np.array(feature)\n",
        "\n",
        "def teager(x):\n",
        "    for i in range(len(x)-1):\n",
        "        return x[i]**2 - (x[i-1]*x[i+1])\n",
        "\n",
        "\n",
        "def lziv_complex(data):\n",
        "    result=[]\n",
        "    for i in data.T:\n",
        "        result.append(lziv_complexity(i))\n",
        "    return np.array(result)\n",
        "\n",
        "        \n",
        "def hjorth_mobility(data):\n",
        "    return np.divide(np.std(np.diff(data,axis=0),axis=0),np.std(data,axis=0))\n",
        "\n",
        "def hjorth_complexity(data):\n",
        "    return np.divide(hjorth_mobility(np.diff(data,axis=0)),  hjorth_mobility(data))      \n",
        "\n",
        "\n",
        "\n",
        "\n",
        "def concatenate_features(data):\n",
        "    return np.concatenate((mean(data),std(data),ptp(data),var(data),minim(data),maxim(data),argminim(data),argmaxim(data),\n",
        "                          mean_square(data),rms(data),abs_diffs_signal(data),\n",
        "                          skewness(data),kurtosis(data),zero_crossing(data),\n",
        "                          app_epy(data),perm_epy(data),svd_epy(data),spectral_epy(data),sample_epy(data),\n",
        "                          katz(data),higuchi(data),petrosian(data),teager(data),lziv_complex(data),\n",
        "                          hjorth_mobility(data),hjorth_complexity(data)),axis=0)"
      ],
      "execution_count": 18,
      "outputs": []
    },
    {
      "cell_type": "code",
      "metadata": {
        "id": "v9NoaxInrqQl",
        "colab": {
          "base_uri": "https://localhost:8080/"
        },
        "outputId": "38979981-c261-4de7-d8c9-1e8f1351ff3a"
      },
      "source": [
        "X_var=X_data.copy()\n",
        "ch"
      ],
      "execution_count": 19,
      "outputs": [
        {
          "output_type": "execute_result",
          "data": {
            "text/plain": [
              "12"
            ]
          },
          "metadata": {
            "tags": []
          },
          "execution_count": 19
        }
      ]
    },
    {
      "cell_type": "code",
      "metadata": {
        "id": "PNiCROQRn9Vm"
      },
      "source": [
        "from scipy import signal\n",
        "nyq = 0.5 * 1024\n",
        "l=0.1\n",
        "low = l / nyq\n",
        "high = 60/ nyq\n",
        "b, a = signal.butter(3, [low,high], 'band')"
      ],
      "execution_count": 20,
      "outputs": []
    },
    {
      "cell_type": "code",
      "metadata": {
        "id": "4cGUc_pg2a-L"
      },
      "source": [
        "features=[]\n",
        "for i in range(len(X_var)):\n",
        "    data=X_var[i,:,:]\n",
        "    data=signal.filtfilt(b, a, data.T).T\n",
        "    data=data[1200:1700,:]\n",
        "    features.append(concatenate_features(data))\n",
        "    \n",
        "\n"
      ],
      "execution_count": 21,
      "outputs": []
    },
    {
      "cell_type": "code",
      "metadata": {
        "id": "UJvSX8Q52a-R",
        "colab": {
          "base_uri": "https://localhost:8080/"
        },
        "outputId": "dcf2766e-ab98-4908-ab4d-6d5affdfc85d"
      },
      "source": [
        "feature=np.array(features)\n",
        "from sklearn.preprocessing import scale,maxabs_scale\n",
        "feature=scale(feature)\n",
        "feature.shape,label.shape"
      ],
      "execution_count": 22,
      "outputs": [
        {
          "output_type": "execute_result",
          "data": {
            "text/plain": [
              "((81, 312), (81,))"
            ]
          },
          "metadata": {
            "tags": []
          },
          "execution_count": 22
        }
      ]
    },
    {
      "cell_type": "code",
      "metadata": {
        "id": "P1XnSb-p-NJH"
      },
      "source": [
        "# dem=pd.read_csv('demographic.csv')\n",
        "# print(dem.head())\n",
        "# from sklearn import preprocessing\n",
        "# le = preprocessing.LabelEncoder()\n",
        "# dem[' gender']=le.fit_transform(dem[' gender'])\n",
        "# print(dem.head())\n",
        "# non_eeg=dem[[' gender', ' age']].values\n",
        "# feature=np.concatenate((feature,non_eeg),1)"
      ],
      "execution_count": 23,
      "outputs": []
    },
    {
      "cell_type": "code",
      "metadata": {
        "id": "fjtNgIq1tvw2",
        "colab": {
          "base_uri": "https://localhost:8080/"
        },
        "outputId": "e5e648ec-3fef-4811-898c-c8cd7533fb42"
      },
      "source": [
        "\n",
        "\n",
        "\n",
        "from sklearn.svm import SVC, LinearSVC, NuSVC\n",
        "from sklearn.model_selection import cross_val_score\n",
        "from sklearn.model_selection import GridSearchCV\n",
        "def svc_param_selection(X, y):\n",
        "    Cs = [ 0.1, 1, 10,15,20,25,30,40,50,60,70,100,120]\n",
        "    gammas = [0.0001,0.0005,0.001,0.005,0.008, 0.01, 0.1,0.3,0.5, 1]\n",
        "    param_grid = {'C': Cs, 'gamma' : gammas}\n",
        "    grid_search = GridSearchCV(SVC(kernel='rbf'), param_grid, cv=10)\n",
        "    grid_search.fit(X, y)\n",
        "    grid_search.best_params_\n",
        "    return grid_search.best_score_\n",
        "\n",
        "\n",
        "svc_param_selection(feature,label)\n",
        "\n",
        "\n"
      ],
      "execution_count": 24,
      "outputs": [
        {
          "output_type": "execute_result",
          "data": {
            "text/plain": [
              "0.6569444444444444"
            ]
          },
          "metadata": {
            "tags": []
          },
          "execution_count": 24
        }
      ]
    },
    {
      "cell_type": "code",
      "metadata": {
        "id": "C6MMF3xOgem9",
        "colab": {
          "base_uri": "https://localhost:8080/"
        },
        "outputId": "568b00f1-75e7-41f1-fdff-04b0525814e3"
      },
      "source": [
        "def dtree_param_selection(X,y):\n",
        "    #create a dictionary of all values we want to test\n",
        "    param_grid = { 'criterion':['gini','entropy'],'max_features':[\"auto\", \"sqrt\", \"log2\"],'max_depth': np.arange(2, 20),'random_state':[10,20,30,40,50]}\n",
        "    # decision tree model\n",
        "    dtree_model=DecisionTreeClassifier()\n",
        "    #use gridsearch to test all values\n",
        "    dtree_gscv = GridSearchCV(dtree_model, param_grid, cv=10)\n",
        "    #fit model to data\n",
        "    dtree_gscv.fit(X, y)\n",
        "    #print(dtree_gscv.best_score_)\n",
        "    #print(dtree_gscv.best_estimator_)\n",
        "    return dtree_gscv.best_score_\n",
        "print(dtree_param_selection(feature,label))"
      ],
      "execution_count": 25,
      "outputs": [
        {
          "output_type": "stream",
          "text": [
            "0.6805555555555556\n"
          ],
          "name": "stdout"
        }
      ]
    },
    {
      "cell_type": "code",
      "metadata": {
        "id": "N0NPG_8YQX5Q"
      },
      "source": [
        ""
      ],
      "execution_count": 25,
      "outputs": []
    },
    {
      "cell_type": "code",
      "metadata": {
        "id": "oHEXuelZqE0_"
      },
      "source": [
        "\n",
        "feature_list=['mean','std','ptp','var','minim','maxim','argmin','argmax','mean_square','rms','abs_diffs_signal','skewness','kurtosis','zero_crossing',\n",
        "'app_epy','perm_epy','svd_epy','spectral_epy','sample_epy','katz','higuchi','petrosian','teager','lziv_complex',\n",
        "'hjorth_mobility','hjorth_complexity']"
      ],
      "execution_count": 26,
      "outputs": []
    },
    {
      "cell_type": "code",
      "metadata": {
        "id": "6-C6tNBTBT0a",
        "colab": {
          "base_uri": "https://localhost:8080/"
        },
        "outputId": "9c63f030-5903-4141-df32-3f3dd81a0573"
      },
      "source": [
        "feature_selected=[]\n",
        "feat_non_sorted=[]\n",
        "score_non_sorted=[]\n",
        "for i ,j in zip(range(0,feature.shape[1],ch),feature_list):\n",
        "  acc=svc_param_selection(feature[:,i:i+ch],label)\n",
        "  print(j,\" : \",acc)\n",
        "  feat_non_sorted.append(j)\n",
        "  score_non_sorted.append(acc)\n",
        "  #if acc>0.67:\n",
        "   # feature_selected.append(j)\n"
      ],
      "execution_count": 27,
      "outputs": [
        {
          "output_type": "stream",
          "text": [
            "mean  :  0.6305555555555555\n",
            "std  :  0.7277777777777777\n",
            "ptp  :  0.7166666666666666\n",
            "var  :  0.7041666666666666\n",
            "minim  :  0.7180555555555556\n",
            "maxim  :  0.6541666666666666\n",
            "argmin  :  0.6055555555555555\n",
            "argmax  :  0.7027777777777777\n",
            "mean_square  :  0.6930555555555555\n",
            "rms  :  0.7041666666666666\n",
            "abs_diffs_signal  :  0.6194444444444445\n",
            "skewness  :  0.6180555555555556\n",
            "kurtosis  :  0.6541666666666666\n",
            "zero_crossing  :  0.6069444444444445\n",
            "app_epy  :  0.6055555555555555\n",
            "perm_epy  :  0.6680555555555555\n",
            "svd_epy  :  0.6305555555555555\n",
            "spectral_epy  :  0.6055555555555555\n",
            "sample_epy  :  0.6055555555555555\n",
            "katz  :  0.6569444444444444\n",
            "higuchi  :  0.6916666666666667\n",
            "petrosian  :  0.6944444444444444\n",
            "teager  :  0.6402777777777777\n",
            "lziv_complex  :  0.6055555555555555\n",
            "hjorth_mobility  :  0.6055555555555555\n",
            "hjorth_complexity  :  0.6416666666666666\n"
          ],
          "name": "stdout"
        }
      ]
    },
    {
      "cell_type": "code",
      "metadata": {
        "id": "ly9GhnZkt_o5",
        "colab": {
          "base_uri": "https://localhost:8080/"
        },
        "outputId": "fcb4add1-aadf-4c7b-e46c-e6bbdc7bda3e"
      },
      "source": [
        "\n",
        "print(feat_non_sorted)\n",
        "print(score_non_sorted)"
      ],
      "execution_count": 28,
      "outputs": [
        {
          "output_type": "stream",
          "text": [
            "['mean', 'std', 'ptp', 'var', 'minim', 'maxim', 'argmin', 'argmax', 'mean_square', 'rms', 'abs_diffs_signal', 'skewness', 'kurtosis', 'zero_crossing', 'app_epy', 'perm_epy', 'svd_epy', 'spectral_epy', 'sample_epy', 'katz', 'higuchi', 'petrosian', 'teager', 'lziv_complex', 'hjorth_mobility', 'hjorth_complexity']\n",
            "[0.6305555555555555, 0.7277777777777777, 0.7166666666666666, 0.7041666666666666, 0.7180555555555556, 0.6541666666666666, 0.6055555555555555, 0.7027777777777777, 0.6930555555555555, 0.7041666666666666, 0.6194444444444445, 0.6180555555555556, 0.6541666666666666, 0.6069444444444445, 0.6055555555555555, 0.6680555555555555, 0.6305555555555555, 0.6055555555555555, 0.6055555555555555, 0.6569444444444444, 0.6916666666666667, 0.6944444444444444, 0.6402777777777777, 0.6055555555555555, 0.6055555555555555, 0.6416666666666666]\n"
          ],
          "name": "stdout"
        }
      ]
    },
    {
      "cell_type": "code",
      "metadata": {
        "id": "sHImIvikuPoE"
      },
      "source": [
        "score,feat  = zip(*sorted(zip(score_non_sorted, feat_non_sorted),reverse=True))"
      ],
      "execution_count": 29,
      "outputs": []
    },
    {
      "cell_type": "code",
      "metadata": {
        "id": "YNHrSbY7uUiB",
        "colab": {
          "base_uri": "https://localhost:8080/"
        },
        "outputId": "e2818329-9042-4561-b3d4-21ffdaed165a"
      },
      "source": [
        "print(feat)\n",
        "print(score)"
      ],
      "execution_count": 30,
      "outputs": [
        {
          "output_type": "stream",
          "text": [
            "('std', 'minim', 'ptp', 'var', 'rms', 'argmax', 'petrosian', 'mean_square', 'higuchi', 'perm_epy', 'katz', 'maxim', 'kurtosis', 'hjorth_complexity', 'teager', 'svd_epy', 'mean', 'abs_diffs_signal', 'skewness', 'zero_crossing', 'spectral_epy', 'sample_epy', 'lziv_complex', 'hjorth_mobility', 'argmin', 'app_epy')\n",
            "(0.7277777777777777, 0.7180555555555556, 0.7166666666666666, 0.7041666666666666, 0.7041666666666666, 0.7027777777777777, 0.6944444444444444, 0.6930555555555555, 0.6916666666666667, 0.6680555555555555, 0.6569444444444444, 0.6541666666666666, 0.6541666666666666, 0.6416666666666666, 0.6402777777777777, 0.6305555555555555, 0.6305555555555555, 0.6194444444444445, 0.6180555555555556, 0.6069444444444445, 0.6055555555555555, 0.6055555555555555, 0.6055555555555555, 0.6055555555555555, 0.6055555555555555, 0.6055555555555555)\n"
          ],
          "name": "stdout"
        }
      ]
    },
    {
      "cell_type": "code",
      "metadata": {
        "id": "1gzGBIQ6uVeW",
        "colab": {
          "base_uri": "https://localhost:8080/"
        },
        "outputId": "dad732d4-13b9-41d5-8d2e-5a0e2ecf0196"
      },
      "source": [
        "def del_item(a, b):\n",
        "     return [x for x in a if x not in b]\n",
        "\n",
        "\n",
        "\n",
        "#skf = StratifiedKFold(n_splits=10, random_state=2020, shuffle=False)\n",
        "acc=0\n",
        "deleted_item=[]\n",
        "for i in range(1,20):\n",
        "  feature_selected=list(feat[:i])\n",
        "  # feature_selected=del_item(feature_selected,deleted_item)\n",
        "\n",
        "  X_good=[]\n",
        "  for key,val in zip(feature_list,range(0,feature.shape[1],ch)):\n",
        "      for fe in feature_selected:\n",
        "          if key==fe:     \n",
        "              #print('key',key,'value',val,\":\",val+ch) \n",
        "              X_good.append(feature[:,val:val+ch])\n",
        "  good_feature=np.concatenate((X_good),axis=1)\n",
        "  #good_feature=np.concatenate((good_feature,non_eeg),1)\n",
        "\n",
        "\n",
        "  acc_new=svc_param_selection(good_feature,label)\n",
        "  print(i,' : ', acc_new)\n",
        "\n",
        "  # print(acc_new, good_feature.shape)\n",
        "  # if acc_new<(acc-0.01):\n",
        "  #   deleted_item.append(feature_selected.pop())\n",
        "  #   print('del item',deleted_item)\n",
        "  # else:\n",
        "  #   acc=acc_new\n"
      ],
      "execution_count": 31,
      "outputs": [
        {
          "output_type": "stream",
          "text": [
            "1  :  0.7277777777777777\n",
            "2  :  0.7541666666666667\n",
            "3  :  0.7166666666666666\n",
            "4  :  0.7166666666666666\n",
            "5  :  0.7541666666666667\n",
            "6  :  0.8138888888888889\n",
            "7  :  0.7319444444444445\n",
            "8  :  0.7319444444444445\n",
            "9  :  0.7194444444444444\n",
            "10  :  0.7069444444444445\n",
            "11  :  0.7041666666666666\n",
            "12  :  0.6944444444444444\n",
            "13  :  0.6819444444444445\n",
            "14  :  0.6694444444444445\n",
            "15  :  0.6680555555555555\n",
            "16  :  0.6680555555555555\n",
            "17  :  0.6680555555555555\n",
            "18  :  0.6569444444444444\n",
            "19  :  0.6569444444444444\n"
          ],
          "name": "stdout"
        }
      ]
    },
    {
      "cell_type": "code",
      "metadata": {
        "id": "NaDt8t63hwwF"
      },
      "source": [
        "# Result Section"
      ],
      "execution_count": 32,
      "outputs": []
    },
    {
      "cell_type": "code",
      "metadata": {
        "id": "37N2yEdjKiQ2",
        "colab": {
          "base_uri": "https://localhost:8080/"
        },
        "outputId": "46ce9a37-7077-4ec8-b8d8-089c50b740b4"
      },
      "source": [
        "feature_selected=feat[:6]\n",
        "X_good=[]\n",
        "for key,val in zip(feature_list,range(0,feature.shape[1],ch)):\n",
        "    for fe in feature_selected:\n",
        "        if key==fe:     \n",
        "            print('key',key,'value',val,\":\",val+ch) \n",
        "            X_good.append(feature[:,val:val+ch])"
      ],
      "execution_count": 33,
      "outputs": [
        {
          "output_type": "stream",
          "text": [
            "key std value 12 : 24\n",
            "key ptp value 24 : 36\n",
            "key var value 36 : 48\n",
            "key minim value 48 : 60\n",
            "key argmax value 84 : 96\n",
            "key rms value 108 : 120\n"
          ],
          "name": "stdout"
        }
      ]
    },
    {
      "cell_type": "code",
      "metadata": {
        "id": "LBnaDZuoLEz5",
        "colab": {
          "base_uri": "https://localhost:8080/"
        },
        "outputId": "7a57a140-7f74-4492-c6ba-c06cb38b3699"
      },
      "source": [
        "good_feature=np.concatenate((X_good),axis=1)\n",
        "good_feature.shape"
      ],
      "execution_count": 34,
      "outputs": [
        {
          "output_type": "execute_result",
          "data": {
            "text/plain": [
              "(81, 72)"
            ]
          },
          "metadata": {
            "tags": []
          },
          "execution_count": 34
        }
      ]
    },
    {
      "cell_type": "code",
      "metadata": {
        "id": "4kHzUWB-LFRd",
        "colab": {
          "base_uri": "https://localhost:8080/"
        },
        "outputId": "15ecd5e6-5ae7-4300-d52f-471be3614088"
      },
      "source": [
        "def svc_param_selection(X, y, nfolds):\n",
        "    Cs = [ 0.1, 1, 10,15,20,25,30,40,50,60,70,80,100,120]\n",
        "    gammas = [0.0001,0.0005,0.001,0.005,0.008, 0.01, 0.1,0.3,0.5, 1]\n",
        "    param_grid = {'C': Cs, 'gamma' : gammas}\n",
        "    grid_search = GridSearchCV(SVC(kernel='rbf'), param_grid, cv=nfolds)\n",
        "    grid_search.fit(X, y)\n",
        "    print(grid_search.best_score_)\n",
        "    return grid_search.best_params_\n",
        "\n",
        "\n",
        "svc_param_selection(good_feature,label,10)"
      ],
      "execution_count": 35,
      "outputs": [
        {
          "output_type": "stream",
          "text": [
            "0.8138888888888889\n"
          ],
          "name": "stdout"
        },
        {
          "output_type": "execute_result",
          "data": {
            "text/plain": [
              "{'C': 30, 'gamma': 0.001}"
            ]
          },
          "metadata": {
            "tags": []
          },
          "execution_count": 35
        }
      ]
    },
    {
      "cell_type": "code",
      "metadata": {
        "id": "J1KC2XM6LJ4d",
        "colab": {
          "base_uri": "https://localhost:8080/"
        },
        "outputId": "cfbffcb6-7c40-42bf-ab9f-c986b0150c30"
      },
      "source": [
        "clf = SVC(kernel=\"rbf\", C=30,gamma=0.001, probability=True)\n",
        "acc = cross_val_score(clf,good_feature,label,cv=10)\n",
        "precision = cross_val_score(clf,good_feature,label,cv=10,scoring='precision')\n",
        "recall = cross_val_score(clf,good_feature,label,cv=10,scoring='recall')\n",
        "f1 = cross_val_score(clf,good_feature,label,cv=10,scoring='f1')\n",
        "\n",
        "print('average accuracy : ',np.array(acc).mean(),np.std(np.array(acc)))\n",
        "print('average precision : ',np.array(precision).mean(),np.std(np.array(precision)))\n",
        "print('average recall : ',np.array(recall).mean(),np.std(np.array(recall)))\n",
        "print('average f1 score : ',np.array(f1).mean(),np.std(np.array(f1)))"
      ],
      "execution_count": 36,
      "outputs": [
        {
          "output_type": "stream",
          "text": [
            "average accuracy :  0.8138888888888889 0.1611589967151143\n",
            "average precision :  0.8042857142857143 0.141684872779712\n",
            "average recall :  0.9400000000000001 0.12806248474865697\n",
            "average f1 score :  0.8625252525252524 0.12220089136843344\n"
          ],
          "name": "stdout"
        }
      ]
    },
    {
      "cell_type": "code",
      "metadata": {
        "id": "NH217Zq1LW4V",
        "colab": {
          "base_uri": "https://localhost:8080/"
        },
        "outputId": "755ca405-d6fa-4ff3-95cb-8d1366b9eaa5"
      },
      "source": [
        "def knn_param_selection(X, y, nfolds):\n",
        "    n_neighbors  = [ 3,4,5,6,7,8,9]\n",
        "    weights  = ['uniform','distance']\n",
        "    metric=['minkowski','manhattan','euclidean']\n",
        "    param_grid = {'n_neighbors': n_neighbors, 'weights' : weights,'metric':metric}\n",
        "    grid_search =GridSearchCV( KNeighborsClassifier(), param_grid, cv=nfolds,n_jobs=-1)\n",
        "    grid_search.fit(X, y)\n",
        "    print(grid_search.best_score_)\n",
        "    return grid_search.best_params_\n",
        "\n",
        "\n",
        "knn_param_selection(good_feature,label,10)"
      ],
      "execution_count": 37,
      "outputs": [
        {
          "output_type": "stream",
          "text": [
            "0.6666666666666666\n"
          ],
          "name": "stdout"
        },
        {
          "output_type": "execute_result",
          "data": {
            "text/plain": [
              "{'metric': 'minkowski', 'n_neighbors': 8, 'weights': 'distance'}"
            ]
          },
          "metadata": {
            "tags": []
          },
          "execution_count": 37
        }
      ]
    },
    {
      "cell_type": "code",
      "metadata": {
        "id": "JYrVr8vvLX5-",
        "colab": {
          "base_uri": "https://localhost:8080/"
        },
        "outputId": "20952424-4006-4378-f205-75fc90d183ae"
      },
      "source": [
        "clf = KNeighborsClassifier(metric= 'minkowski', n_neighbors=8, weights= 'distance')\n",
        "acc = cross_val_score(clf,good_feature,label,cv=10)\n",
        "precision = cross_val_score(clf,good_feature,label,cv=10,scoring='precision')\n",
        "recall = cross_val_score(clf,good_feature,label,cv=10,scoring='recall')\n",
        "f1 = cross_val_score(clf,good_feature,label,cv=10,scoring='f1')\n",
        "\n",
        "print('average accuracy : ',np.array(acc).mean(),np.std(np.array(acc)))\n",
        "print('average precision : ',np.array(precision).mean(),np.std(np.array(precision)))\n",
        "print('average recall : ',np.array(recall).mean(),np.std(np.array(recall)))\n",
        "print('average f1 score : ',np.array(f1).mean(),np.std(np.array(f1)))"
      ],
      "execution_count": 38,
      "outputs": [
        {
          "output_type": "stream",
          "text": [
            "average accuracy :  0.6666666666666666 0.125\n",
            "average precision :  0.6849999999999998 0.07753135566408674\n",
            "average recall :  0.8400000000000001 0.19595917942265423\n",
            "average f1 score :  0.7438461538461538 0.11833442788688567\n"
          ],
          "name": "stdout"
        }
      ]
    },
    {
      "cell_type": "code",
      "metadata": {
        "id": "mfagVjquLaLu",
        "colab": {
          "base_uri": "https://localhost:8080/"
        },
        "outputId": "00c2d7c2-b960-4a6e-dcda-bdcc4ea92f17"
      },
      "source": [
        "from sklearn.linear_model import LogisticRegression\n",
        "def logistic_param_selection(X, y, nfolds):\n",
        "    C= [0.001,0.05,0.1, 1,2,3,4,5,8, 10,12,15]\n",
        "    max_it= [200,300,400,500]\n",
        "    param_grid = {'C': C,'max_iter':max_it}\n",
        "    grid_search = GridSearchCV(LogisticRegression(), param_grid, cv=nfolds)\n",
        "    grid_search.fit(X, y)\n",
        "    print(grid_search.best_score_)\n",
        "    return grid_search.best_params_\n",
        "\n",
        "\n",
        "logistic_param_selection(good_feature,label,10)"
      ],
      "execution_count": 39,
      "outputs": [
        {
          "output_type": "stream",
          "text": [
            "0.7527777777777778\n"
          ],
          "name": "stdout"
        },
        {
          "output_type": "execute_result",
          "data": {
            "text/plain": [
              "{'C': 0.1, 'max_iter': 200}"
            ]
          },
          "metadata": {
            "tags": []
          },
          "execution_count": 39
        }
      ]
    },
    {
      "cell_type": "code",
      "metadata": {
        "id": "vsWEiHrpLaO0",
        "colab": {
          "base_uri": "https://localhost:8080/"
        },
        "outputId": "f33e9179-1cd8-4fd1-b4ae-30420ff73b74"
      },
      "source": [
        "clf = LogisticRegression(max_iter=200,C=0.1)\n",
        "acc = cross_val_score(clf,good_feature,label,cv=10)\n",
        "precision = cross_val_score(clf,good_feature,label,cv=10,scoring='precision')\n",
        "recall = cross_val_score(clf,good_feature,label,cv=10,scoring='recall')\n",
        "f1 = cross_val_score(clf,good_feature,label,cv=10,scoring='f1')\n",
        "\n",
        "print('average accuracy : ',np.array(acc).mean(),np.std(np.array(acc)))\n",
        "print('average precision : ',np.array(precision).mean(),np.std(np.array(precision)))\n",
        "print('average recall : ',np.array(recall).mean(),np.std(np.array(recall)))\n",
        "print('average f1 score : ',np.array(f1).mean(),np.std(np.array(f1)))"
      ],
      "execution_count": 40,
      "outputs": [
        {
          "output_type": "stream",
          "text": [
            "average accuracy :  0.7527777777777778 0.11211353372561425\n",
            "average precision :  0.795952380952381 0.1421811386593742\n",
            "average recall :  0.8350000000000002 0.12257650672131262\n",
            "average f1 score :  0.8043939393939394 0.08639052390245593\n"
          ],
          "name": "stdout"
        }
      ]
    },
    {
      "cell_type": "code",
      "metadata": {
        "id": "2f5nwvMnLaSA",
        "colab": {
          "base_uri": "https://localhost:8080/"
        },
        "outputId": "6e49db01-2ea2-4c2a-a79e-758c666f7a32"
      },
      "source": [
        "from sklearn.tree import DecisionTreeClassifier\n",
        "from sklearn.model_selection import StratifiedKFold\n",
        "#skf = StratifiedKFold(n_splits=10, random_state=2020, shuffle=False)\n",
        "def dtree_param_selection(X,y):\n",
        "    #create a dictionary of all values we want to test\n",
        "    param_grid = { 'criterion':['gini','entropy'],'max_features':[\"auto\", \"sqrt\", \"log2\"],'max_depth': np.arange(2, 20),'random_state':[10,20,30,40]}\n",
        "    # decision tree model\n",
        "    dtree_model=DecisionTreeClassifier()\n",
        "    #use gridsearch to test all values\n",
        "    dtree_gscv = GridSearchCV(dtree_model, param_grid, cv=10)\n",
        "    #fit model to data\n",
        "    dtree_gscv.fit(X, y)\n",
        "    print(dtree_gscv.best_score_)\n",
        "    #print(dtree_gscv.best_estimator_)\n",
        "    return dtree_gscv.best_params_\n",
        "\n",
        "dtree_param_selection(good_feature,label)"
      ],
      "execution_count": 41,
      "outputs": [
        {
          "output_type": "stream",
          "text": [
            "0.7402777777777778\n"
          ],
          "name": "stdout"
        },
        {
          "output_type": "execute_result",
          "data": {
            "text/plain": [
              "{'criterion': 'gini',\n",
              " 'max_depth': 3,\n",
              " 'max_features': 'auto',\n",
              " 'random_state': 10}"
            ]
          },
          "metadata": {
            "tags": []
          },
          "execution_count": 41
        }
      ]
    },
    {
      "cell_type": "code",
      "metadata": {
        "id": "F8Kmob2oLaVl",
        "colab": {
          "base_uri": "https://localhost:8080/"
        },
        "outputId": "17cc8df0-45f3-4dff-e860-4e0e4b342f71"
      },
      "source": [
        "clf = DecisionTreeClassifier(criterion= 'gini', max_depth= 3, max_features= 'auto',random_state=10)\n",
        "acc = cross_val_score(clf,good_feature,label,cv=10)\n",
        "precision = cross_val_score(clf,good_feature,label,cv=10,scoring='precision')\n",
        "recall = cross_val_score(clf,good_feature,label,cv=10,scoring='recall')\n",
        "f1 = cross_val_score(clf,good_feature,label,cv=10,scoring='f1')\n",
        "\n",
        "print('average accuracy : ',np.array(acc).mean(),np.std(np.array(acc)))\n",
        "print('average precision : ',np.array(precision).mean(),np.std(np.array(precision)))\n",
        "print('average recall : ',np.array(recall).mean(),np.std(np.array(recall)))\n",
        "print('average f1 score : ',np.array(f1).mean(),np.std(np.array(f1)))"
      ],
      "execution_count": 42,
      "outputs": [
        {
          "output_type": "stream",
          "text": [
            "average accuracy :  0.7402777777777778 0.13103487661263655\n",
            "average precision :  0.7983333333333333 0.11701139545645402\n",
            "average recall :  0.78 0.18867962264113208\n",
            "average f1 score :  0.7753030303030303 0.12703088494546338\n"
          ],
          "name": "stdout"
        }
      ]
    },
    {
      "cell_type": "code",
      "metadata": {
        "colab": {
          "base_uri": "https://localhost:8080/"
        },
        "id": "tRxRT4ROZt5L",
        "outputId": "b50b4091-7929-4ccc-d001-16c0b5d4b8b8"
      },
      "source": [
        "\r\n",
        "from sklearn.ensemble import RandomForestClassifier\r\n",
        "def rf_param_selection(X, y):\r\n",
        "    n_estimators = [50,100,150 ]\r\n",
        "    max_depth = [5, 8, 15,]\r\n",
        "    min_samples_split = [2, 5, 10, ]\r\n",
        "    min_samples_leaf = [1, 2, 5] \r\n",
        "    max_features = ['auto', 'sqrt']\r\n",
        "    random_state=[10,20,30,40]\r\n",
        "    \r\n",
        "    param_grid = dict(n_estimators = n_estimators, max_depth = max_depth,max_features=max_features,  \r\n",
        "              min_samples_split = min_samples_split,\r\n",
        "             min_samples_leaf = min_samples_leaf,random_state=random_state)\r\n",
        "    grid_search = GridSearchCV(RandomForestClassifier(n_jobs = -1), param_grid, cv=10,n_jobs = -1)\r\n",
        "    grid_search.fit(X, y)\r\n",
        "    print(grid_search.best_score_)\r\n",
        "    print( grid_search.best_params_)\r\n",
        "\r\n",
        "rf_param_selection(good_feature,label)"
      ],
      "execution_count": 63,
      "outputs": [
        {
          "output_type": "stream",
          "text": [
            "0.7652777777777777\n",
            "{'max_depth': 5, 'max_features': 'auto', 'min_samples_leaf': 2, 'min_samples_split': 10, 'n_estimators': 50, 'random_state': 10}\n"
          ],
          "name": "stdout"
        }
      ]
    },
    {
      "cell_type": "code",
      "metadata": {
        "id": "0aFUd2ScLaYW",
        "colab": {
          "base_uri": "https://localhost:8080/"
        },
        "outputId": "32286ae3-480e-464c-e3e2-67717d4a2ebd"
      },
      "source": [
        "clf = RandomForestClassifier(max_depth= 5,max_features= 'auto',random_state= 10, min_samples_leaf= 2, min_samples_split= 10, n_estimators= 50,n_jobs=-1)\n",
        "acc = cross_val_score(clf,good_feature,label,cv=10)\n",
        "precision = cross_val_score(clf,good_feature,label,cv=10,scoring='precision')\n",
        "recall = cross_val_score(clf,good_feature,label,cv=10,scoring='recall')\n",
        "f1 = cross_val_score(clf,good_feature,label,cv=10,scoring='f1')\n",
        "\n",
        "print('average accuracy : ',np.array(acc).mean(),np.std(np.array(acc)))\n",
        "print('average precision : ',np.array(precision).mean(),np.std(np.array(precision)))\n",
        "print('average recall : ',np.array(recall).mean(),np.std(np.array(recall)))\n",
        "print('average f1 score : ',np.array(f1).mean(),np.std(np.array(f1)))"
      ],
      "execution_count": 64,
      "outputs": [
        {
          "output_type": "stream",
          "text": [
            "average accuracy :  0.7652777777777777 0.14197270864500686\n",
            "average precision :  0.7942857142857143 0.13965944975103514\n",
            "average recall :  0.86 0.2009975124224178\n",
            "average f1 score :  0.8077272727272726 0.13435977154403916\n"
          ],
          "name": "stdout"
        }
      ]
    },
    {
      "cell_type": "code",
      "metadata": {
        "colab": {
          "base_uri": "https://localhost:8080/"
        },
        "id": "fYYglUFjYivJ",
        "outputId": "7b2bfdb5-e990-49f3-d34a-006cea010f37"
      },
      "source": [
        "np.array([81,66,75,74])/(([81+66+75+74]))"
      ],
      "execution_count": 76,
      "outputs": [
        {
          "output_type": "execute_result",
          "data": {
            "text/plain": [
              "array([0.27364865, 0.22297297, 0.25337838, 0.25      ])"
            ]
          },
          "metadata": {
            "tags": []
          },
          "execution_count": 76
        }
      ]
    },
    {
      "cell_type": "code",
      "metadata": {
        "id": "PiqSW4noNM0Q"
      },
      "source": [
        "\r\n",
        "from sklearn.ensemble import StackingClassifier,VotingClassifier \r\n",
        "\r\n",
        "estimators = [\r\n",
        "    ('SVM',SVC(kernel=\"rbf\", C=30,gamma=0.001, probability=True)),\r\n",
        "    ('KNN',KNeighborsClassifier(metric= 'minkowski', n_neighbors=8, weights= 'distance')),\r\n",
        "    ('LR',  LogisticRegression(max_iter=200,C=0.1)),\r\n",
        "    ('DT', DecisionTreeClassifier(criterion= 'gini', max_depth= 3, max_features= 'auto',random_state=10)),\r\n",
        "    #('RF',RandomForestClassifier(max_depth= 5,max_features= 'auto',random_state= 10, min_samples_leaf= 2, min_samples_split= 10, n_estimators= 50,n_jobs=-1))\r\n",
        "     ]\r\n",
        "\r\n",
        "#clf = StackingClassifier(estimators=estimators, final_estimator=SVC())\r\n",
        "clf=VotingClassifier(estimators,voting='hard',n_jobs=-1,weights=np.array([0.3, 0.2, 0.25 , 0.25]))"
      ],
      "execution_count": 77,
      "outputs": []
    },
    {
      "cell_type": "code",
      "metadata": {
        "colab": {
          "base_uri": "https://localhost:8080/"
        },
        "id": "Ih13N3B9Xpqg",
        "outputId": "ec3cd336-f112-4e0d-d447-9f10bb5b40ec"
      },
      "source": [
        "acc = cross_val_score(clf,good_feature,label,cv=10)\r\n",
        "precision = cross_val_score(clf,good_feature,label,cv=10,scoring='precision')\r\n",
        "recall = cross_val_score(clf,good_feature,label,cv=10,scoring='recall')\r\n",
        "f1 = cross_val_score(clf,good_feature,label,cv=10,scoring='f1')\r\n",
        "\r\n",
        "print('average accuracy : ',np.array(acc).mean(),np.std(np.array(acc)))\r\n",
        "print('average precision : ',np.array(precision).mean(),np.std(np.array(precision)))\r\n",
        "print('average recall : ',np.array(recall).mean(),np.std(np.array(recall)))\r\n",
        "print('average f1 score : ',np.array(f1).mean(),np.std(np.array(f1)))"
      ],
      "execution_count": 78,
      "outputs": [
        {
          "output_type": "stream",
          "text": [
            "average accuracy :  0.8138888888888889 0.1611589967151143\n",
            "average precision :  0.8042857142857143 0.141684872779712\n",
            "average recall :  0.9400000000000001 0.12806248474865697\n",
            "average f1 score :  0.8625252525252524 0.12220089136843344\n"
          ],
          "name": "stdout"
        }
      ]
    },
    {
      "cell_type": "code",
      "metadata": {
        "id": "_bGGm91AY-TU"
      },
      "source": [
        ""
      ],
      "execution_count": null,
      "outputs": []
    }
  ]
}