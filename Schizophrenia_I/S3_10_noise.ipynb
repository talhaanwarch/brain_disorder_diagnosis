{
  "nbformat": 4,
  "nbformat_minor": 0,
  "metadata": {
    "kernelspec": {
      "display_name": "Python 3",
      "language": "python",
      "name": "python3"
    },
    "language_info": {
      "codemirror_mode": {
        "name": "ipython",
        "version": 3
      },
      "file_extension": ".py",
      "mimetype": "text/x-python",
      "name": "python",
      "nbconvert_exporter": "python",
      "pygments_lexer": "ipython3",
      "version": "3.7.1"
    },
    "colab": {
      "name": "condition_3_v1_gaussian.ipynb",
      "provenance": [],
      "collapsed_sections": [],
      "include_colab_link": true
    }
  },
  "cells": [
    {
      "cell_type": "markdown",
      "metadata": {
        "id": "view-in-github",
        "colab_type": "text"
      },
      "source": [
        "<a href=\"https://colab.research.google.com/github/talhaanwarch/schizophrenia64/blob/master/condition_3_v1_gaussian.ipynb\" target=\"_parent\"><img src=\"https://colab.research.google.com/assets/colab-badge.svg\" alt=\"Open In Colab\"/></a>"
      ]
    },
    {
      "cell_type": "markdown",
      "metadata": {
        "id": "d1V9A86cejRj"
      },
      "source": [
        "https://www.ncbi.nlm.nih.gov/pubmed/21752709"
      ]
    },
    {
      "cell_type": "code",
      "metadata": {
        "id": "CLUFPzSl212G",
        "outputId": "d9ba0f4c-f26e-420b-d02b-584759203329",
        "colab": {
          "base_uri": "https://localhost:8080/",
          "height": 33
        }
      },
      "source": [
        "from google.colab import drive\n",
        "drive.mount('/content/drive',force_remount=True)"
      ],
      "execution_count": 1,
      "outputs": [
        {
          "output_type": "stream",
          "text": [
            "Mounted at /content/drive\n"
          ],
          "name": "stdout"
        }
      ]
    },
    {
      "cell_type": "code",
      "metadata": {
        "id": "BitRtTGT4Qyb",
        "outputId": "8705d151-521e-4929-8df2-146b16af4746",
        "colab": {
          "base_uri": "https://localhost:8080/",
          "height": 633
        }
      },
      "source": [
        "!pip install --upgrade numba\n",
        "!pip install git+https://github.com/forrestbao/pyeeg.git\n",
        "!pip install git+https://github.com/raphaelvallat/entropy.git\n"
      ],
      "execution_count": 2,
      "outputs": [
        {
          "output_type": "stream",
          "text": [
            "Collecting numba\n",
            "\u001b[?25l  Downloading https://files.pythonhosted.org/packages/48/78/31f620c3469287f4255d9a1054bee713cd3596fda2711c392ce3021b3c98/numba-0.51.2-cp36-cp36m-manylinux2014_x86_64.whl (3.1MB)\n",
            "\u001b[K     |████████████████████████████████| 3.1MB 5.4MB/s \n",
            "\u001b[?25hCollecting llvmlite<0.35,>=0.34.0.dev0\n",
            "\u001b[?25l  Downloading https://files.pythonhosted.org/packages/f3/b7/8a91b513f165e0affdeb975c1fef307c39d1051ce71e8aec1da9dcb317ad/llvmlite-0.34.0-cp36-cp36m-manylinux2010_x86_64.whl (24.6MB)\n",
            "\u001b[K     |████████████████████████████████| 24.6MB 1.5MB/s \n",
            "\u001b[?25hRequirement already satisfied, skipping upgrade: numpy>=1.15 in /usr/local/lib/python3.6/dist-packages (from numba) (1.18.5)\n",
            "Requirement already satisfied, skipping upgrade: setuptools in /usr/local/lib/python3.6/dist-packages (from numba) (50.3.0)\n",
            "Installing collected packages: llvmlite, numba\n",
            "  Found existing installation: llvmlite 0.31.0\n",
            "    Uninstalling llvmlite-0.31.0:\n",
            "      Successfully uninstalled llvmlite-0.31.0\n",
            "  Found existing installation: numba 0.48.0\n",
            "    Uninstalling numba-0.48.0:\n",
            "      Successfully uninstalled numba-0.48.0\n",
            "Successfully installed llvmlite-0.34.0 numba-0.51.2\n",
            "Collecting git+https://github.com/forrestbao/pyeeg.git\n",
            "  Cloning https://github.com/forrestbao/pyeeg.git to /tmp/pip-req-build-8l23oofe\n",
            "  Running command git clone -q https://github.com/forrestbao/pyeeg.git /tmp/pip-req-build-8l23oofe\n",
            "Requirement already satisfied: numpy>=1.9.2 in /usr/local/lib/python3.6/dist-packages (from pyeeg==0.4.4) (1.18.5)\n",
            "Building wheels for collected packages: pyeeg\n",
            "  Building wheel for pyeeg (setup.py) ... \u001b[?25l\u001b[?25hdone\n",
            "  Created wheel for pyeeg: filename=pyeeg-0.4.4-py2.py3-none-any.whl size=28122 sha256=0cceef10b90f5876ca8a023899af03b5a9655a4b9664c641dd1a2f1e88f11a45\n",
            "  Stored in directory: /tmp/pip-ephem-wheel-cache-fig9p51n/wheels/2d/3f/ad/106d4fc80b61d1ea1fc18e76e7439fd98aa043d83d58eae741\n",
            "Successfully built pyeeg\n",
            "Installing collected packages: pyeeg\n",
            "Successfully installed pyeeg-0.4.4\n",
            "Collecting git+https://github.com/raphaelvallat/entropy.git\n",
            "  Cloning https://github.com/raphaelvallat/entropy.git to /tmp/pip-req-build-9reemacy\n",
            "  Running command git clone -q https://github.com/raphaelvallat/entropy.git /tmp/pip-req-build-9reemacy\n",
            "Building wheels for collected packages: entropy\n",
            "  Building wheel for entropy (setup.py) ... \u001b[?25l\u001b[?25hdone\n",
            "  Created wheel for entropy: filename=entropy-0.1.2-cp36-none-any.whl size=15611 sha256=c47666aa25a26622a33d22e2fda84b59f88320d0f3d3297923f8d2c4a50dd252\n",
            "  Stored in directory: /tmp/pip-ephem-wheel-cache-rw4w_3rx/wheels/60/ed/d3/b715e38438f1f39edb1383aea79c578073953b25fa576fc71e\n",
            "Successfully built entropy\n",
            "Installing collected packages: entropy\n",
            "Successfully installed entropy-0.1.2\n"
          ],
          "name": "stdout"
        }
      ]
    },
    {
      "cell_type": "code",
      "metadata": {
        "id": "M0d2K51X2255",
        "outputId": "9b679035-9849-4846-8d3d-f3d89193e7a1",
        "colab": {
          "base_uri": "https://localhost:8080/",
          "height": 33
        }
      },
      "source": [
        "cd /content/drive/My Drive/dataset/Schizophrenia"
      ],
      "execution_count": 3,
      "outputs": [
        {
          "output_type": "stream",
          "text": [
            "/content/drive/My Drive/dataset/Schizophrenia\n"
          ],
          "name": "stdout"
        }
      ]
    },
    {
      "cell_type": "code",
      "metadata": {
        "id": "c4VF2wMU2a9c"
      },
      "source": [
        "import numpy as np\n",
        "from glob import glob"
      ],
      "execution_count": 4,
      "outputs": []
    },
    {
      "cell_type": "code",
      "metadata": {
        "id": "65gRe7Tm2a9j"
      },
      "source": [
        "import pickle\n",
        "import numpy as np\n",
        "from sklearn import metrics\n",
        "from sklearn.model_selection import train_test_split\n",
        "from sklearn.preprocessing import StandardScaler,MaxAbsScaler\n",
        "from sklearn.svm import SVC\n",
        "from sklearn.linear_model import LogisticRegression\n",
        "from sklearn.neighbors import KNeighborsClassifier"
      ],
      "execution_count": 5,
      "outputs": []
    },
    {
      "cell_type": "code",
      "metadata": {
        "id": "841F2uFr2a9m"
      },
      "source": [
        "from sklearn.metrics import accuracy_score, log_loss\n",
        "from sklearn.neighbors import KNeighborsClassifier\n",
        "from sklearn.svm import SVC, LinearSVC, NuSVC\n",
        "from sklearn.tree import DecisionTreeClassifier\n",
        "from sklearn.ensemble import RandomForestClassifier, AdaBoostClassifier, GradientBoostingClassifier\n",
        "from sklearn.naive_bayes import GaussianNB\n",
        "from sklearn.discriminant_analysis import LinearDiscriminantAnalysis\n",
        "from sklearn.discriminant_analysis import QuadraticDiscriminantAnalysis\n",
        "from sklearn.linear_model import LogisticRegression\n",
        "import pandas as pd\n",
        "from sklearn.metrics import f1_score\n",
        "from sklearn.model_selection import cross_val_score\n",
        "import matplotlib.pyplot as plt\n",
        "from sklearn.decomposition import PCA\n",
        "from scipy import signal\n"
      ],
      "execution_count": 6,
      "outputs": []
    },
    {
      "cell_type": "markdown",
      "metadata": {
        "id": "HrcQgBt6_2M4"
      },
      "source": [
        "# Read Data"
      ]
    },
    {
      "cell_type": "code",
      "metadata": {
        "id": "3xiWQHeDNrrp",
        "outputId": "c0c65a36-ed91-4f04-fc75-58942f37671c",
        "colab": {
          "base_uri": "https://localhost:8080/",
          "height": 83
        }
      },
      "source": [
        "ls"
      ],
      "execution_count": 7,
      "outputs": [
        {
          "output_type": "stream",
          "text": [
            " demographic.csv         feature_acc_1_v1_manual.csv   feature_acc_3_v1.csv\n",
            " ERPdata.csv             feature_acc_2_pca.csv         feature_acc_v1.csv\n",
            "\u001b[0m\u001b[01;34m'extended features'\u001b[0m/     feature_acc_2_v1_manual.csv   pca.eps\n",
            " feature_acc_1_pca.csv   feature_acc_3_pca.csv         raw.csv\n"
          ],
          "name": "stdout"
        }
      ]
    },
    {
      "cell_type": "code",
      "metadata": {
        "id": "UQJ35Q7Dkq1f"
      },
      "source": [
        "import pandas as pd\n",
        "raw=pd.read_csv('raw.csv')"
      ],
      "execution_count": 8,
      "outputs": []
    },
    {
      "cell_type": "code",
      "metadata": {
        "id": "AlNifFsKNlPN"
      },
      "source": [
        "\n",
        "group=raw.groupby(['condition'])\n",
        "\n",
        "data=group.get_group((3))\n",
        "\n",
        "\n",
        "\n"
      ],
      "execution_count": 9,
      "outputs": []
    },
    {
      "cell_type": "code",
      "metadata": {
        "id": "sOGboirLlOLk",
        "outputId": "4b1da5ce-21e6-41fb-97e4-8c8eb0731540",
        "colab": {
          "base_uri": "https://localhost:8080/",
          "height": 133
        }
      },
      "source": [
        "data=data.iloc[:,3::]\n",
        "data.columns\n"
      ],
      "execution_count": 10,
      "outputs": [
        {
          "output_type": "execute_result",
          "data": {
            "text/plain": [
              "Index(['AF7', 'AF3', 'F1', 'F3', 'F5', 'F7', 'FT7', 'FC5', 'FC3', 'FC1', 'C1',\n",
              "       'C3', 'C5', 'T7', 'TP7', 'CP5', 'CP3', 'CP1', 'P1', 'P3', 'P5', 'P7',\n",
              "       'P9', 'PO7', 'PO3', 'O1', 'Iz', 'Oz', 'POz', 'Pz', 'CPz', 'Fpz', 'Fp2',\n",
              "       'AF8', 'AF4', 'AFz', 'Fz', 'F2', 'F4', 'F6', 'F8', 'FT8', 'FC6', 'FC4',\n",
              "       'FC2', 'FCz', 'Cz', 'C2', 'C4', 'C6', 'T8', 'TP8', 'CP6', 'CP4', 'CP2',\n",
              "       'P2', 'P4', 'P6', 'P8', 'P10', 'PO8', 'PO4', 'O2', 'group'],\n",
              "      dtype='object')"
            ]
          },
          "metadata": {
            "tags": []
          },
          "execution_count": 10
        }
      ]
    },
    {
      "cell_type": "code",
      "metadata": {
        "id": "1Rd2Mlzrl5p4",
        "outputId": "4b681cff-fd93-4088-8dd3-23a795572516",
        "colab": {
          "base_uri": "https://localhost:8080/",
          "height": 35
        }
      },
      "source": [
        "data.shape"
      ],
      "execution_count": 11,
      "outputs": [
        {
          "output_type": "execute_result",
          "data": {
            "text/plain": [
              "(248832, 64)"
            ]
          },
          "metadata": {
            "tags": []
          },
          "execution_count": 11
        }
      ]
    },
    {
      "cell_type": "code",
      "metadata": {
        "id": "olRSppU0ko2b"
      },
      "source": [
        "label=data['group'].values\n",
        "X=data.iloc[:,0:64].values\n"
      ],
      "execution_count": 12,
      "outputs": []
    },
    {
      "cell_type": "code",
      "metadata": {
        "id": "Hk39mja63746"
      },
      "source": [
        "X=X.reshape(-1,3072,64)\n",
        "for i in range(len(X)):\n",
        "  mu, sigma = np.mean(X[i]), np.std(X[i])\n",
        "  noise = np.random.normal(mu, sigma, X[i].shape)*0.1\n",
        "  X[i,:,:]=X[i,:,:]+noise\n",
        "X=X.reshape(-1,64)\n"
      ],
      "execution_count": 14,
      "outputs": []
    },
    {
      "cell_type": "code",
      "metadata": {
        "id": "apBV__zADYEX",
        "outputId": "5c9a7f8b-0e3c-419e-f2f4-3a7cf51d3c31",
        "colab": {
          "base_uri": "https://localhost:8080/",
          "height": 621
        }
      },
      "source": [
        "plt.figure(figsize=(20,10))\n",
        "pca = PCA().fit(X)\n",
        "plt.axhline(0.95)\n",
        "plt.axvline(15)\n",
        "#Plotting the Cumulative Summation of the Explained Variance\n",
        "plt.plot(np.cumsum(pca.explained_variance_ratio_)[0:25])\n",
        "plt.xlabel('Number of Components')\n",
        "plt.ylabel('Variance (%)') #for each component\n",
        "plt.title('Pulsar Dataset Explained Variance')\n",
        "plt.show()"
      ],
      "execution_count": 15,
      "outputs": [
        {
          "output_type": "display_data",
          "data": {
            "image/png": "[encoded data removed]",
            "text/plain": [
              "<Figure size 1440x720 with 1 Axes>"
            ]
          },
          "metadata": {
            "tags": [],
            "needs_background": "light"
          }
        }
      ]
    },
    {
      "cell_type": "code",
      "metadata": {
        "id": "q0LGyqIIb1jG",
        "outputId": "9345cde2-daa8-47e6-b337-577a27a64e4d",
        "colab": {
          "base_uri": "https://localhost:8080/",
          "height": 70
        }
      },
      "source": [
        "X_1=data.var()\n",
        "idx=X_1.sort_values()[-17::].index\n",
        "print(idx)\n",
        "ch=len(idx)"
      ],
      "execution_count": 17,
      "outputs": [
        {
          "output_type": "stream",
          "text": [
            "Index(['C2', 'F2', 'CP3', 'C3', 'FC1', 'CP1', 'CPz', 'AF3', 'AFz', 'FCz',\n",
            "       'AF8', 'AF4', 'Cz', 'C1', 'Fpz', 'Fp2', 'AF7'],\n",
            "      dtype='object')\n"
          ],
          "name": "stdout"
        }
      ]
    },
    {
      "cell_type": "code",
      "metadata": {
        "id": "hwU3YLbCn_2f",
        "outputId": "da50a4f1-a65f-4e13-f185-1c16a0543cb5",
        "colab": {
          "base_uri": "https://localhost:8080/",
          "height": 35
        }
      },
      "source": [
        "label=label.reshape(-1,3072)\n",
        "label.shape"
      ],
      "execution_count": 18,
      "outputs": [
        {
          "output_type": "execute_result",
          "data": {
            "text/plain": [
              "(81, 3072)"
            ]
          },
          "metadata": {
            "tags": []
          },
          "execution_count": 18
        }
      ]
    },
    {
      "cell_type": "code",
      "metadata": {
        "id": "bb_Hh_2foSU1"
      },
      "source": [
        "label=np.mean(label,axis=1)"
      ],
      "execution_count": 19,
      "outputs": []
    },
    {
      "cell_type": "code",
      "metadata": {
        "id": "gLxAWiUAmjVR",
        "outputId": "1eec4d91-8bc0-4416-c469-0c4e06956b94",
        "colab": {
          "base_uri": "https://localhost:8080/",
          "height": 35
        }
      },
      "source": [
        "X_data=data[idx].values.reshape(-1,3072,ch)\n",
        "X_data.shape"
      ],
      "execution_count": 20,
      "outputs": [
        {
          "output_type": "execute_result",
          "data": {
            "text/plain": [
              "(81, 3072, 17)"
            ]
          },
          "metadata": {
            "tags": []
          },
          "execution_count": 20
        }
      ]
    },
    {
      "cell_type": "markdown",
      "metadata": {
        "id": "f5ryNeW52a-G"
      },
      "source": [
        "# Feature Calculation"
      ]
    },
    {
      "cell_type": "code",
      "metadata": {
        "id": "o8C0CXGb2a-H"
      },
      "source": [
        "from scipy import stats\n",
        "import pyeeg\n",
        "from entropy import *\n",
        "def mean(data):\n",
        "    return np.mean(data,axis=0)\n",
        "    \n",
        "def std(data):\n",
        "    return np.std(data,axis=0)\n",
        "\n",
        "def ptp(data):\n",
        "    return np.ptp(data,axis=0)\n",
        "\n",
        "def var(data):\n",
        "        return np.var(data,axis=0)\n",
        "\n",
        "def minim(data):\n",
        "      return np.min(data,axis=0)\n",
        "\n",
        "\n",
        "def maxim(data):\n",
        "      return np.max(data,axis=0)\n",
        "\n",
        "def argminim(data):\n",
        "      return np.argmin(data,axis=0)\n",
        "\n",
        "\n",
        "def argmaxim(data):\n",
        "      return np.argmax(data,axis=0)\n",
        "\n",
        "def mean_square(data):\n",
        "      return np.mean(data**2,axis=0)\n",
        "\n",
        "def rms(data): #root mean square\n",
        "      return  np.sqrt(np.mean(data**2,axis=0))  \n",
        "\n",
        "def abs_diffs_signal(data):\n",
        "    return np.sum(np.abs(np.diff(data,axis=0)),axis=0)\n",
        "\n",
        "\n",
        "def skewness(data):\n",
        "    return stats.skew(data,axis=0)\n",
        "\n",
        "def kurtosis(data):\n",
        "    return stats.kurtosis(data,axis=0)\n",
        "\n",
        "def zero_crossing(data):\n",
        "    return np.argmax(np.diff(np.sign(data),axis=0),axis=0)\n",
        "\n",
        "def app_epy(data):\n",
        "    result=[]\n",
        "    for i in data.T:\n",
        "        result.append(app_entropy(i, order=2, metric='chebyshev'))\n",
        "    return np.array(result)\n",
        "\n",
        "def perm_epy(data):\n",
        "    result=[]\n",
        "    for i in data.T:\n",
        "        result.append(perm_entropy(i, order=3, normalize=True))\n",
        "    return np.array(result)\n",
        "\n",
        "def svd_epy(data):\n",
        "    result=[]\n",
        "    for i in data.T:\n",
        "        result.append(svd_entropy(i, order=3, delay=1, normalize=True))\n",
        "    return np.array(result)\n",
        "\n",
        "def spectral_epy(data):\n",
        "    result=[]\n",
        "    for i in data.T:\n",
        "        result.append(spectral_entropy(i, 100, method='welch', normalize=True))\n",
        "    return np.array(result)\n",
        "\n",
        "def sample_epy(data):\n",
        "    result=[]\n",
        "    for i in data.T:\n",
        "        result.append(sample_entropy(i, order=2, metric='chebyshev'))\n",
        "    return np.array(result)\n",
        "\n",
        "\n",
        "def katz(data):\n",
        "    result=[]\n",
        "    for i in data.T:\n",
        "        result.append(katz_fd(i))\n",
        "    return np.array(result)\n",
        "\n",
        "def higuchi(data):\n",
        "    result=[]\n",
        "    for i in data.T:\n",
        "        result.append(higuchi_fd(i))\n",
        "    return np.array(result)\n",
        "\n",
        "\n",
        "def petrosian(data):\n",
        "    result=[]\n",
        "    for i in data.T:\n",
        "        result.append(petrosian_fd(i))\n",
        "    return np.array(result)\n",
        "\n",
        "def autogressiveModelParameters(data):\n",
        "    feature = []\n",
        "    for i in data.T:\n",
        "        coeff, sig = alg.AR_est_YW(i, order=5)\n",
        "        feature.append(np.mean(coeff))\n",
        "    return np.array(feature)\n",
        "\n",
        "def teager(x):\n",
        "    for i in range(len(x)-1):\n",
        "        return x[i]**2 - (x[i-1]*x[i+1])\n",
        "\n",
        "\n",
        "def lziv_complex(data):\n",
        "    result=[]\n",
        "    for i in data.T:\n",
        "        result.append(lziv_complexity(i))\n",
        "    return np.array(result)\n",
        "\n",
        "        \n",
        "def hjorth_mobility(data):\n",
        "    return np.divide(np.std(np.diff(data,axis=0),axis=0),np.std(data,axis=0))\n",
        "\n",
        "def hjorth_complexity(data):\n",
        "    return np.divide(hjorth_mobility(np.diff(data,axis=0)),  hjorth_mobility(data))      \n",
        "\n",
        "\n",
        "\n",
        "\n",
        "def concatenate_features(data):\n",
        "    return np.concatenate((mean(data),std(data),ptp(data),var(data),minim(data),maxim(data),argminim(data),argmaxim(data),\n",
        "                          mean_square(data),rms(data),abs_diffs_signal(data),\n",
        "                          skewness(data),kurtosis(data),zero_crossing(data),\n",
        "                          app_epy(data),perm_epy(data),svd_epy(data),spectral_epy(data),sample_epy(data),\n",
        "                          katz(data),higuchi(data),petrosian(data),teager(data),lziv_complex(data),\n",
        "                          hjorth_mobility(data),hjorth_complexity(data)),axis=0)"
      ],
      "execution_count": 21,
      "outputs": []
    },
    {
      "cell_type": "code",
      "metadata": {
        "id": "v9NoaxInrqQl",
        "outputId": "efd72f54-8a76-47f4-9999-d8779d207961",
        "colab": {
          "base_uri": "https://localhost:8080/",
          "height": 35
        }
      },
      "source": [
        "X_var=X_data.copy()\n",
        "ch"
      ],
      "execution_count": 22,
      "outputs": [
        {
          "output_type": "execute_result",
          "data": {
            "text/plain": [
              "17"
            ]
          },
          "metadata": {
            "tags": []
          },
          "execution_count": 22
        }
      ]
    },
    {
      "cell_type": "code",
      "metadata": {
        "id": "PNiCROQRn9Vm"
      },
      "source": [
        "from scipy import signal\n",
        "nyq = 0.5 * 1024\n",
        "l=0.1\n",
        "low = l / nyq\n",
        "high = 60/ nyq\n",
        "b, a = signal.butter(3, [low,high], 'band')"
      ],
      "execution_count": 23,
      "outputs": []
    },
    {
      "cell_type": "code",
      "metadata": {
        "id": "4cGUc_pg2a-L"
      },
      "source": [
        "features=[]\n",
        "for i in range(len(X_var)):\n",
        "    data=X_var[i,:,:]\n",
        "    data=signal.filtfilt(b, a, data.T).T\n",
        "    data=data[1200:1800,:]\n",
        "    features.append(concatenate_features(data))\n",
        "    \n",
        "\n"
      ],
      "execution_count": 24,
      "outputs": []
    },
    {
      "cell_type": "code",
      "metadata": {
        "id": "UJvSX8Q52a-R",
        "outputId": "5d60ddca-256a-4139-fa30-c5b5dc5504fb",
        "colab": {
          "base_uri": "https://localhost:8080/",
          "height": 35
        }
      },
      "source": [
        "feature=np.array(features)\n",
        "from sklearn.preprocessing import scale,maxabs_scale\n",
        "feature=scale(feature)\n",
        "feature.shape,label.shape"
      ],
      "execution_count": 25,
      "outputs": [
        {
          "output_type": "execute_result",
          "data": {
            "text/plain": [
              "((81, 442), (81,))"
            ]
          },
          "metadata": {
            "tags": []
          },
          "execution_count": 25
        }
      ]
    },
    {
      "cell_type": "code",
      "metadata": {
        "id": "P1XnSb-p-NJH"
      },
      "source": [
        "# dem=pd.read_csv('demographic.csv')\n",
        "# print(dem.head())\n",
        "# from sklearn import preprocessing\n",
        "# le = preprocessing.LabelEncoder()\n",
        "# dem[' gender']=le.fit_transform(dem[' gender'])\n",
        "# print(dem.head())\n",
        "# non_eeg=dem[[' gender', ' age']].values\n",
        "# feature=np.concatenate((feature,non_eeg),1)"
      ],
      "execution_count": 26,
      "outputs": []
    },
    {
      "cell_type": "code",
      "metadata": {
        "id": "fjtNgIq1tvw2",
        "outputId": "db3272a8-0c77-45ba-a965-c37da2f9c566",
        "colab": {
          "base_uri": "https://localhost:8080/",
          "height": 35
        }
      },
      "source": [
        "\n",
        "\n",
        "\n",
        "from sklearn.svm import SVC, LinearSVC, NuSVC\n",
        "from sklearn.model_selection import cross_val_score\n",
        "from sklearn.model_selection import GridSearchCV\n",
        "def svc_param_selection(X, y):\n",
        "    Cs = [ 0.1, 1, 10,15,20,25,30,40,50,60,70,100,120]\n",
        "    gammas = [0.0001,0.0005,0.001,0.005,0.008, 0.01, 0.1,0.3,0.5, 1]\n",
        "    param_grid = {'C': Cs, 'gamma' : gammas}\n",
        "    grid_search = GridSearchCV(SVC(kernel='rbf'), param_grid, cv=10)\n",
        "    grid_search.fit(X, y)\n",
        "    grid_search.best_params_\n",
        "    return grid_search.best_score_\n",
        "\n",
        "\n",
        "svc_param_selection(feature,label)\n",
        "\n",
        "\n"
      ],
      "execution_count": 27,
      "outputs": [
        {
          "output_type": "execute_result",
          "data": {
            "text/plain": [
              "0.6902777777777778"
            ]
          },
          "metadata": {
            "tags": []
          },
          "execution_count": 27
        }
      ]
    },
    {
      "cell_type": "code",
      "metadata": {
        "id": "C6MMF3xOgem9",
        "outputId": "c95e428a-10dd-4571-8791-76c4bbb53401",
        "colab": {
          "base_uri": "https://localhost:8080/",
          "height": 35
        }
      },
      "source": [
        "def dtree_param_selection(X,y):\n",
        "    #create a dictionary of all values we want to test\n",
        "    param_grid = { 'criterion':['gini','entropy'],'max_features':[\"auto\", \"sqrt\", \"log2\"],'max_depth': np.arange(2, 20),'random_state':[10,20,30,40,50]}\n",
        "    # decision tree model\n",
        "    dtree_model=DecisionTreeClassifier()\n",
        "    #use gridsearch to test all values\n",
        "    dtree_gscv = GridSearchCV(dtree_model, param_grid, cv=10)\n",
        "    #fit model to data\n",
        "    dtree_gscv.fit(X, y)\n",
        "    #print(dtree_gscv.best_score_)\n",
        "    #print(dtree_gscv.best_estimator_)\n",
        "    return dtree_gscv.best_score_\n",
        "print(dtree_param_selection(feature,label))"
      ],
      "execution_count": 28,
      "outputs": [
        {
          "output_type": "stream",
          "text": [
            "0.6458333333333333\n"
          ],
          "name": "stdout"
        }
      ]
    },
    {
      "cell_type": "code",
      "metadata": {
        "id": "N0NPG_8YQX5Q"
      },
      "source": [
        ""
      ],
      "execution_count": 28,
      "outputs": []
    },
    {
      "cell_type": "code",
      "metadata": {
        "id": "oHEXuelZqE0_"
      },
      "source": [
        "\n",
        "feature_list=['mean','std','ptp','var','minim','maxim','argmin','argmax','mean_square','rms','abs_diffs_signal','skewness','kurtosis','zero_crossing',\n",
        "'app_epy','perm_epy','svd_epy','spectral_epy','sample_epy','katz','higuchi','petrosian','teager','lziv_complex',\n",
        "'hjorth_mobility','hjorth_complexity']"
      ],
      "execution_count": 29,
      "outputs": []
    },
    {
      "cell_type": "code",
      "metadata": {
        "id": "6-C6tNBTBT0a",
        "outputId": "3ca6649e-e7c0-43a1-92d4-577739ab3a44",
        "colab": {
          "base_uri": "https://localhost:8080/",
          "height": 479
        }
      },
      "source": [
        "feature_selected=[]\n",
        "feat_non_sorted=[]\n",
        "score_non_sorted=[]\n",
        "for i ,j in zip(range(0,feature.shape[1],ch),feature_list):\n",
        "  acc=svc_param_selection(feature[:,i:i+ch],label)\n",
        "  print(j,\" : \",acc)\n",
        "  feat_non_sorted.append(j)\n",
        "  score_non_sorted.append(acc)\n",
        "  #if acc>0.67:\n",
        "   # feature_selected.append(j)\n"
      ],
      "execution_count": 30,
      "outputs": [
        {
          "output_type": "stream",
          "text": [
            "mean  :  0.6555555555555556\n",
            "std  :  0.6055555555555555\n",
            "ptp  :  0.6055555555555555\n",
            "var  :  0.6055555555555555\n",
            "minim  :  0.6055555555555555\n",
            "maxim  :  0.6055555555555555\n",
            "argmin  :  0.6430555555555555\n",
            "argmax  :  0.6930555555555555\n",
            "mean_square  :  0.7027777777777777\n",
            "rms  :  0.6277777777777778\n",
            "abs_diffs_signal  :  0.6055555555555555\n",
            "skewness  :  0.6180555555555556\n",
            "kurtosis  :  0.6680555555555555\n",
            "zero_crossing  :  0.6541666666666666\n",
            "app_epy  :  0.6430555555555555\n",
            "perm_epy  :  0.6305555555555555\n",
            "svd_epy  :  0.6055555555555555\n",
            "spectral_epy  :  0.6055555555555555\n",
            "sample_epy  :  0.6305555555555555\n",
            "katz  :  0.6763888888888889\n",
            "higuchi  :  0.6680555555555555\n",
            "petrosian  :  0.6694444444444445\n",
            "teager  :  0.6305555555555555\n",
            "lziv_complex  :  0.6819444444444445\n",
            "hjorth_mobility  :  0.6430555555555555\n",
            "hjorth_complexity  :  0.6555555555555556\n"
          ],
          "name": "stdout"
        }
      ]
    },
    {
      "cell_type": "code",
      "metadata": {
        "id": "ly9GhnZkt_o5",
        "outputId": "68f20494-e9dc-43e2-de7f-c8c10f3b61a5",
        "colab": {
          "base_uri": "https://localhost:8080/",
          "height": 72
        }
      },
      "source": [
        "\n",
        "print(feat_non_sorted)\n",
        "print(score_non_sorted)"
      ],
      "execution_count": 31,
      "outputs": [
        {
          "output_type": "stream",
          "text": [
            "['mean', 'std', 'ptp', 'var', 'minim', 'maxim', 'argmin', 'argmax', 'mean_square', 'rms', 'abs_diffs_signal', 'skewness', 'kurtosis', 'zero_crossing', 'app_epy', 'perm_epy', 'svd_epy', 'spectral_epy', 'sample_epy', 'katz', 'higuchi', 'petrosian', 'teager', 'lziv_complex', 'hjorth_mobility', 'hjorth_complexity']\n",
            "[0.6555555555555556, 0.6055555555555555, 0.6055555555555555, 0.6055555555555555, 0.6055555555555555, 0.6055555555555555, 0.6430555555555555, 0.6930555555555555, 0.7027777777777777, 0.6277777777777778, 0.6055555555555555, 0.6180555555555556, 0.6680555555555555, 0.6541666666666666, 0.6430555555555555, 0.6305555555555555, 0.6055555555555555, 0.6055555555555555, 0.6305555555555555, 0.6763888888888889, 0.6680555555555555, 0.6694444444444445, 0.6305555555555555, 0.6819444444444445, 0.6430555555555555, 0.6555555555555556]\n"
          ],
          "name": "stdout"
        }
      ]
    },
    {
      "cell_type": "code",
      "metadata": {
        "id": "sHImIvikuPoE"
      },
      "source": [
        "score,feat  = zip(*sorted(zip(score_non_sorted, feat_non_sorted),reverse=True))"
      ],
      "execution_count": 32,
      "outputs": []
    },
    {
      "cell_type": "code",
      "metadata": {
        "id": "YNHrSbY7uUiB",
        "outputId": "6249d057-35ac-49cd-8f35-70995ea1ad65",
        "colab": {
          "base_uri": "https://localhost:8080/",
          "height": 72
        }
      },
      "source": [
        "print(feat)\n",
        "print(score)"
      ],
      "execution_count": 33,
      "outputs": [
        {
          "output_type": "stream",
          "text": [
            "('mean_square', 'argmax', 'lziv_complex', 'katz', 'petrosian', 'kurtosis', 'higuchi', 'mean', 'hjorth_complexity', 'zero_crossing', 'hjorth_mobility', 'argmin', 'app_epy', 'teager', 'sample_epy', 'perm_epy', 'rms', 'skewness', 'var', 'svd_epy', 'std', 'spectral_epy', 'ptp', 'minim', 'maxim', 'abs_diffs_signal')\n",
            "(0.7027777777777777, 0.6930555555555555, 0.6819444444444445, 0.6763888888888889, 0.6694444444444445, 0.6680555555555555, 0.6680555555555555, 0.6555555555555556, 0.6555555555555556, 0.6541666666666666, 0.6430555555555555, 0.6430555555555555, 0.6430555555555555, 0.6305555555555555, 0.6305555555555555, 0.6305555555555555, 0.6277777777777778, 0.6180555555555556, 0.6055555555555555, 0.6055555555555555, 0.6055555555555555, 0.6055555555555555, 0.6055555555555555, 0.6055555555555555, 0.6055555555555555, 0.6055555555555555)\n"
          ],
          "name": "stdout"
        }
      ]
    },
    {
      "cell_type": "code",
      "metadata": {
        "id": "1gzGBIQ6uVeW",
        "outputId": "a832d115-d983-4920-c2b0-760600a3ea4d",
        "colab": {
          "base_uri": "https://localhost:8080/",
          "height": 355
        }
      },
      "source": [
        "def del_item(a, b):\n",
        "     return [x for x in a if x not in b]\n",
        "\n",
        "\n",
        "\n",
        "#skf = StratifiedKFold(n_splits=10, random_state=2020, shuffle=False)\n",
        "acc=0\n",
        "deleted_item=[]\n",
        "for i in range(1,20):\n",
        "  feature_selected=list(feat[:i])\n",
        "  # feature_selected=del_item(feature_selected,deleted_item)\n",
        "\n",
        "  X_good=[]\n",
        "  for key,val in zip(feature_list,range(0,feature.shape[1],ch)):\n",
        "      for fe in feature_selected:\n",
        "          if key==fe:     \n",
        "              #print('key',key,'value',val,\":\",val+ch) \n",
        "              X_good.append(feature[:,val:val+ch])\n",
        "  good_feature=np.concatenate((X_good),axis=1)\n",
        "  #good_feature=np.concatenate((good_feature,non_eeg),1)\n",
        "\n",
        "\n",
        "  acc_new=svc_param_selection(good_feature,label)\n",
        "  print(i,' : ', acc_new)\n",
        "\n",
        "  # print(acc_new, good_feature.shape)\n",
        "  # if acc_new<(acc-0.01):\n",
        "  #   deleted_item.append(feature_selected.pop())\n",
        "  #   print('del item',deleted_item)\n",
        "  # else:\n",
        "  #   acc=acc_new\n"
      ],
      "execution_count": 34,
      "outputs": [
        {
          "output_type": "stream",
          "text": [
            "1  :  0.7027777777777777\n",
            "2  :  0.6666666666666666\n",
            "3  :  0.6444444444444445\n",
            "4  :  0.6902777777777778\n",
            "5  :  0.7041666666666666\n",
            "6  :  0.7027777777777777\n",
            "7  :  0.7041666666666666\n",
            "8  :  0.7152777777777778\n",
            "9  :  0.6916666666666667\n",
            "10  :  0.6916666666666667\n",
            "11  :  0.7027777777777777\n",
            "12  :  0.7027777777777777\n",
            "13  :  0.7027777777777777\n",
            "14  :  0.6916666666666667\n",
            "15  :  0.6902777777777778\n",
            "16  :  0.6902777777777778\n",
            "17  :  0.6666666666666666\n",
            "18  :  0.7041666666666666\n",
            "19  :  0.7027777777777777\n"
          ],
          "name": "stdout"
        }
      ]
    },
    {
      "cell_type": "code",
      "metadata": {
        "id": "NaDt8t63hwwF"
      },
      "source": [
        "# Result Section"
      ],
      "execution_count": null,
      "outputs": []
    },
    {
      "cell_type": "code",
      "metadata": {
        "id": "37N2yEdjKiQ2",
        "outputId": "5cca0eb3-051b-4591-8222-55d475c6c0e9",
        "colab": {
          "base_uri": "https://localhost:8080/",
          "height": 159
        }
      },
      "source": [
        "feature_selected=feat[:8]\n",
        "X_good=[]\n",
        "for key,val in zip(feature_list,range(0,feature.shape[1],ch)):\n",
        "    for fe in feature_selected:\n",
        "        if key==fe:     \n",
        "            print('key',key,'value',val,\":\",val+ch) \n",
        "            X_good.append(feature[:,val:val+ch])"
      ],
      "execution_count": 35,
      "outputs": [
        {
          "output_type": "stream",
          "text": [
            "key mean value 0 : 17\n",
            "key argmax value 119 : 136\n",
            "key mean_square value 136 : 153\n",
            "key kurtosis value 204 : 221\n",
            "key katz value 323 : 340\n",
            "key higuchi value 340 : 357\n",
            "key petrosian value 357 : 374\n",
            "key lziv_complex value 391 : 408\n"
          ],
          "name": "stdout"
        }
      ]
    },
    {
      "cell_type": "code",
      "metadata": {
        "id": "LBnaDZuoLEz5",
        "outputId": "e4a152d6-073b-4671-c283-c3dbbeb51565",
        "colab": {
          "base_uri": "https://localhost:8080/",
          "height": 35
        }
      },
      "source": [
        "good_feature=np.concatenate((X_good),axis=1)\n",
        "good_feature.shape"
      ],
      "execution_count": 36,
      "outputs": [
        {
          "output_type": "execute_result",
          "data": {
            "text/plain": [
              "(81, 136)"
            ]
          },
          "metadata": {
            "tags": []
          },
          "execution_count": 36
        }
      ]
    },
    {
      "cell_type": "code",
      "metadata": {
        "id": "4kHzUWB-LFRd",
        "outputId": "733fde7f-0b41-48a5-bed9-01e09cd2fa4e",
        "colab": {
          "base_uri": "https://localhost:8080/",
          "height": 52
        }
      },
      "source": [
        "def svc_param_selection(X, y, nfolds):\n",
        "    Cs = [ 0.1, 1, 10,15,20,25,30,40,50,60,70,80,100,120]\n",
        "    gammas = [0.0001,0.0005,0.001,0.005,0.008, 0.01, 0.1,0.3,0.5, 1]\n",
        "    param_grid = {'C': Cs, 'gamma' : gammas}\n",
        "    grid_search = GridSearchCV(SVC(kernel='rbf'), param_grid, cv=nfolds)\n",
        "    grid_search.fit(X, y)\n",
        "    print(grid_search.best_score_)\n",
        "    return grid_search.best_params_\n",
        "\n",
        "\n",
        "svc_param_selection(good_feature,label,10)"
      ],
      "execution_count": 37,
      "outputs": [
        {
          "output_type": "stream",
          "text": [
            "0.7152777777777778\n"
          ],
          "name": "stdout"
        },
        {
          "output_type": "execute_result",
          "data": {
            "text/plain": [
              "{'C': 15, 'gamma': 0.001}"
            ]
          },
          "metadata": {
            "tags": []
          },
          "execution_count": 37
        }
      ]
    },
    {
      "cell_type": "code",
      "metadata": {
        "id": "J1KC2XM6LJ4d",
        "outputId": "6f2b0843-1b6a-4930-c0bb-031cee57f98e",
        "colab": {
          "base_uri": "https://localhost:8080/",
          "height": 88
        }
      },
      "source": [
        "clf = SVC(kernel=\"rbf\", C=15,gamma=0.001, probability=True)\n",
        "acc = cross_val_score(clf,good_feature,label,cv=10)\n",
        "precision = cross_val_score(clf,good_feature,label,cv=10,scoring='precision')\n",
        "recall = cross_val_score(clf,good_feature,label,cv=10,scoring='recall')\n",
        "f1 = cross_val_score(clf,good_feature,label,cv=10,scoring='f1')\n",
        "\n",
        "print('average accuracy : ',np.array(acc).mean(),np.std(np.array(acc)))\n",
        "print('average precision : ',np.array(precision).mean(),np.std(np.array(precision)))\n",
        "print('average recall : ',np.array(recall).mean(),np.std(np.array(recall)))\n",
        "print('average f1 score : ',np.array(f1).mean(),np.std(np.array(f1)))"
      ],
      "execution_count": 38,
      "outputs": [
        {
          "output_type": "stream",
          "text": [
            "average accuracy :  0.7152777777777778 0.11372786719963485\n",
            "average precision :  0.7639285714285714 0.1427758201071044\n",
            "average recall :  0.8149999999999998 0.14150971698084905\n",
            "average f1 score :  0.7744483294483293 0.08994335605465108\n"
          ],
          "name": "stdout"
        }
      ]
    },
    {
      "cell_type": "code",
      "metadata": {
        "id": "NH217Zq1LW4V",
        "outputId": "001a69c4-3be0-4b59-8ace-eafe6d34df2a",
        "colab": {
          "base_uri": "https://localhost:8080/",
          "height": 52
        }
      },
      "source": [
        "def knn_param_selection(X, y, nfolds):\n",
        "    n_neighbors  = [ 3,4,5,6,7,8,9]\n",
        "    weights  = ['uniform','distance']\n",
        "    metric=['minkowski','manhattan','euclidean']\n",
        "    param_grid = {'n_neighbors': n_neighbors, 'weights' : weights,'metric':metric}\n",
        "    grid_search =GridSearchCV( KNeighborsClassifier(), param_grid, cv=nfolds,n_jobs=-1)\n",
        "    grid_search.fit(X, y)\n",
        "    print(grid_search.best_score_)\n",
        "    return grid_search.best_params_\n",
        "\n",
        "\n",
        "knn_param_selection(good_feature,label,10)"
      ],
      "execution_count": 39,
      "outputs": [
        {
          "output_type": "stream",
          "text": [
            "0.6319444444444444\n"
          ],
          "name": "stdout"
        },
        {
          "output_type": "execute_result",
          "data": {
            "text/plain": [
              "{'metric': 'minkowski', 'n_neighbors': 8, 'weights': 'distance'}"
            ]
          },
          "metadata": {
            "tags": []
          },
          "execution_count": 39
        }
      ]
    },
    {
      "cell_type": "code",
      "metadata": {
        "id": "JYrVr8vvLX5-",
        "outputId": "7a9b6ced-16df-453e-e4c6-7d26bee0d45d",
        "colab": {
          "base_uri": "https://localhost:8080/",
          "height": 88
        }
      },
      "source": [
        "clf = KNeighborsClassifier(metric= 'minkowski', n_neighbors=8, weights= 'distance')\n",
        "acc = cross_val_score(clf,good_feature,label,cv=10)\n",
        "precision = cross_val_score(clf,good_feature,label,cv=10,scoring='precision')\n",
        "recall = cross_val_score(clf,good_feature,label,cv=10,scoring='recall')\n",
        "f1 = cross_val_score(clf,good_feature,label,cv=10,scoring='f1')\n",
        "\n",
        "print('average accuracy : ',np.array(acc).mean(),np.std(np.array(acc)))\n",
        "print('average precision : ',np.array(precision).mean(),np.std(np.array(precision)))\n",
        "print('average recall : ',np.array(recall).mean(),np.std(np.array(recall)))\n",
        "print('average f1 score : ',np.array(f1).mean(),np.std(np.array(f1)))"
      ],
      "execution_count": null,
      "outputs": [
        {
          "output_type": "stream",
          "text": [
            "average accuracy :  0.6319444444444444 0.12534674130409437\n",
            "average precision :  0.6597619047619048 0.09781310560511774\n",
            "average recall :  0.8400000000000001 0.14966629547095767\n",
            "average f1 score :  0.730932400932401 0.09388917720534395\n"
          ],
          "name": "stdout"
        }
      ]
    },
    {
      "cell_type": "code",
      "metadata": {
        "id": "mfagVjquLaLu",
        "outputId": "69c8da17-8b18-40cf-af07-c0857e697aa7",
        "colab": {
          "base_uri": "https://localhost:8080/",
          "height": 52
        }
      },
      "source": [
        "from sklearn.linear_model import LogisticRegression\n",
        "def logistic_param_selection(X, y, nfolds):\n",
        "    C= [0.05,0.1,0.5,0.7, 1,2,3,4,5,8, 10,12,15]\n",
        "    max_it= [200,300,400,500]\n",
        "    param_grid = {'C': C,'max_iter':max_it}\n",
        "    grid_search = GridSearchCV(LogisticRegression(), param_grid, cv=nfolds)\n",
        "    grid_search.fit(X, y)\n",
        "    print(grid_search.best_score_)\n",
        "    return grid_search.best_params_\n",
        "\n",
        "\n",
        "logistic_param_selection(good_feature,label,10)"
      ],
      "execution_count": 40,
      "outputs": [
        {
          "output_type": "stream",
          "text": [
            "0.6916666666666667\n"
          ],
          "name": "stdout"
        },
        {
          "output_type": "execute_result",
          "data": {
            "text/plain": [
              "{'C': 0.5, 'max_iter': 200}"
            ]
          },
          "metadata": {
            "tags": []
          },
          "execution_count": 40
        }
      ]
    },
    {
      "cell_type": "code",
      "metadata": {
        "id": "vsWEiHrpLaO0",
        "outputId": "2b497e8f-7a55-456f-fe11-bf1af629eba9",
        "colab": {
          "base_uri": "https://localhost:8080/",
          "height": 88
        }
      },
      "source": [
        "clf = LogisticRegression(max_iter=200,C=0.5)\n",
        "acc = cross_val_score(clf,good_feature,label,cv=10)\n",
        "precision = cross_val_score(clf,good_feature,label,cv=10,scoring='precision')\n",
        "recall = cross_val_score(clf,good_feature,label,cv=10,scoring='recall')\n",
        "f1 = cross_val_score(clf,good_feature,label,cv=10,scoring='f1')\n",
        "\n",
        "print('average accuracy : ',np.array(acc).mean(),np.std(np.array(acc)))\n",
        "print('average precision : ',np.array(precision).mean(),np.std(np.array(precision)))\n",
        "print('average recall : ',np.array(recall).mean(),np.std(np.array(recall)))\n",
        "print('average f1 score : ',np.array(f1).mean(),np.std(np.array(f1)))"
      ],
      "execution_count": null,
      "outputs": [
        {
          "output_type": "stream",
          "text": [
            "average accuracy :  0.6916666666666667 0.12665570127975553\n",
            "average precision :  0.7775000000000001 0.1723227753052071\n",
            "average recall :  0.73 0.1676305461424021\n",
            "average f1 score :  0.7361149961149962 0.11747463698116616\n"
          ],
          "name": "stdout"
        }
      ]
    },
    {
      "cell_type": "code",
      "metadata": {
        "id": "2f5nwvMnLaSA",
        "outputId": "982cbb03-af79-4998-e577-0002c63661cd",
        "colab": {
          "base_uri": "https://localhost:8080/",
          "height": 106
        }
      },
      "source": [
        "from sklearn.tree import DecisionTreeClassifier\n",
        "from sklearn.model_selection import StratifiedKFold\n",
        "#skf = StratifiedKFold(n_splits=10, random_state=2020, shuffle=False)\n",
        "def dtree_param_selection(X,y):\n",
        "    #create a dictionary of all values we want to test\n",
        "    param_grid = { 'criterion':['gini','entropy'],'max_features':[\"auto\", \"sqrt\", \"log2\"],'max_depth': np.arange(2, 20),'random_state':[10,20,30,40]}\n",
        "    # decision tree model\n",
        "    dtree_model=DecisionTreeClassifier()\n",
        "    #use gridsearch to test all values\n",
        "    dtree_gscv = GridSearchCV(dtree_model, param_grid, cv=10)\n",
        "    #fit model to data\n",
        "    dtree_gscv.fit(X, y)\n",
        "    print(dtree_gscv.best_score_)\n",
        "    #print(dtree_gscv.best_estimator_)\n",
        "    return dtree_gscv.best_params_\n",
        "\n",
        "dtree_param_selection(good_feature,label)"
      ],
      "execution_count": 41,
      "outputs": [
        {
          "output_type": "stream",
          "text": [
            "0.6555555555555556\n"
          ],
          "name": "stdout"
        },
        {
          "output_type": "execute_result",
          "data": {
            "text/plain": [
              "{'criterion': 'gini',\n",
              " 'max_depth': 2,\n",
              " 'max_features': 'log2',\n",
              " 'random_state': 40}"
            ]
          },
          "metadata": {
            "tags": []
          },
          "execution_count": 41
        }
      ]
    },
    {
      "cell_type": "code",
      "metadata": {
        "id": "F8Kmob2oLaVl",
        "outputId": "a72d0c94-6be7-4948-c0c0-4fa8670c7136",
        "colab": {
          "base_uri": "https://localhost:8080/",
          "height": 88
        }
      },
      "source": [
        "clf = DecisionTreeClassifier(criterion= 'gini', max_depth= 2, max_features= 'log2',random_state=40)\n",
        "acc = cross_val_score(clf,good_feature,label,cv=10)\n",
        "precision = cross_val_score(clf,good_feature,label,cv=10,scoring='precision')\n",
        "recall = cross_val_score(clf,good_feature,label,cv=10,scoring='recall')\n",
        "f1 = cross_val_score(clf,good_feature,label,cv=10,scoring='f1')\n",
        "\n",
        "print('average accuracy : ',np.array(acc).mean(),np.std(np.array(acc)))\n",
        "print('average precision : ',np.array(precision).mean(),np.std(np.array(precision)))\n",
        "print('average recall : ',np.array(recall).mean(),np.std(np.array(recall)))\n",
        "print('average f1 score : ',np.array(f1).mean(),np.std(np.array(f1)))"
      ],
      "execution_count": null,
      "outputs": [
        {
          "output_type": "stream",
          "text": [
            "average accuracy :  0.6555555555555556 0.12936812246883356\n",
            "average precision :  0.763095238095238 0.13888628115465734\n",
            "average recall :  0.655 0.2173131381210073\n",
            "average f1 score :  0.6813852813852813 0.13768163305106712\n"
          ],
          "name": "stdout"
        }
      ]
    },
    {
      "cell_type": "code",
      "metadata": {
        "id": "0aFUd2ScLaYW"
      },
      "source": [
        "df=pd.DataFrame(list(zip(feat,score)), columns=['Feature','Accuracy'])\n",
        "df.to_csv('feature_acc_3_v1.csv')\n"
      ],
      "execution_count": null,
      "outputs": []
    },
    {
      "cell_type": "code",
      "metadata": {
        "id": "PiqSW4noNM0Q"
      },
      "source": [
        ""
      ],
      "execution_count": null,
      "outputs": []
    }
  ]
}