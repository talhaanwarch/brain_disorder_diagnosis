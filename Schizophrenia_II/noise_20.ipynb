{
  "nbformat": 4,
  "nbformat_minor": 0,
  "metadata": {
    "colab": {
      "name": "schizo14final gaussian_1.ipynb",
      "provenance": [],
      "collapsed_sections": [
        "rCn0gh3kDMOI",
        "FVH5rTmQDPZ4"
      ],
      "machine_shape": "hm",
      "include_colab_link": true
    },
    "kernelspec": {
      "name": "python3",
      "display_name": "Python 3"
    }
  },
  "cells": [
    {
      "cell_type": "markdown",
      "metadata": {
        "id": "view-in-github",
        "colab_type": "text"
      },
      "source": [
        "<a href=\"https://colab.research.google.com/github/talhaanwarch/Schizophrenia14/blob/master/schizo14final_gaussian_1.ipynb\" target=\"_parent\"><img src=\"https://colab.research.google.com/assets/colab-badge.svg\" alt=\"Open In Colab\"/></a>"
      ]
    },
    {
      "cell_type": "markdown",
      "metadata": {
        "id": "nAZkeuKAh84E"
      },
      "source": [
        "# Install Packages"
      ]
    },
    {
      "cell_type": "markdown",
      "metadata": {
        "id": "gZTedeQ8kjcX"
      },
      "source": [
        "In this approach data is segmented and feature are calculated for each segment. Then these features are averaged"
      ]
    },
    {
      "cell_type": "code",
      "metadata": {
        "id": "E2dWHVU6--Do"
      },
      "source": [
        "import warnings\n",
        "warnings.filterwarnings(\"ignore\", category=DeprecationWarning)"
      ],
      "execution_count": null,
      "outputs": []
    },
    {
      "cell_type": "code",
      "metadata": {
        "id": "T9bXPLMDCobm",
        "outputId": "62b7c6a6-4478-4678-d547-60deeefcd30c",
        "colab": {
          "base_uri": "https://localhost:8080/",
          "height": 710
        }
      },
      "source": [
        "!pip install wfdb\n",
        "!pip install mne\n",
        "# !pip install nitime\n",
        "# !pip install nolds"
      ],
      "execution_count": 1,
      "outputs": [
        {
          "output_type": "stream",
          "text": [
            "Collecting wfdb\n",
            "\u001b[?25l  Downloading https://files.pythonhosted.org/packages/b1/a0/922d06ec737e219a9f45545432842e68a84e8b52f292704056eea1d35e41/wfdb-3.1.1.tar.gz (113kB)\n",
            "\u001b[K     |████████████████████████████████| 122kB 7.1MB/s \n",
            "\u001b[?25hRequirement already satisfied: certifi>=2016.8.2 in /usr/local/lib/python3.6/dist-packages (from wfdb) (2020.6.20)\n",
            "Requirement already satisfied: chardet>=3.0.0 in /usr/local/lib/python3.6/dist-packages (from wfdb) (3.0.4)\n",
            "Requirement already satisfied: cycler>=0.10.0 in /usr/local/lib/python3.6/dist-packages (from wfdb) (0.10.0)\n",
            "Requirement already satisfied: idna>=2.2 in /usr/local/lib/python3.6/dist-packages (from wfdb) (2.10)\n",
            "Requirement already satisfied: joblib>=0.11 in /usr/local/lib/python3.6/dist-packages (from wfdb) (0.16.0)\n",
            "Requirement already satisfied: kiwisolver>=1.1.0 in /usr/local/lib/python3.6/dist-packages (from wfdb) (1.2.0)\n",
            "Requirement already satisfied: matplotlib>=2.0.0 in /usr/local/lib/python3.6/dist-packages (from wfdb) (3.2.2)\n",
            "Collecting mne>=0.18.0\n",
            "\u001b[?25l  Downloading https://files.pythonhosted.org/packages/c9/0d/ba12e84feae362d9808e51aa4e3d96a148db9a047e13e51bb070016fa1ab/mne-0.21.0-py3-none-any.whl (6.8MB)\n",
            "\u001b[K     |████████████████████████████████| 6.8MB 19.6MB/s \n",
            "\u001b[?25hCollecting nose>=1.3.7\n",
            "\u001b[?25l  Downloading https://files.pythonhosted.org/packages/15/d8/dd071918c040f50fa1cf80da16423af51ff8ce4a0f2399b7bf8de45ac3d9/nose-1.3.7-py3-none-any.whl (154kB)\n",
            "\u001b[K     |████████████████████████████████| 163kB 64.5MB/s \n",
            "\u001b[?25hRequirement already satisfied: numpy>=1.10.1 in /usr/local/lib/python3.6/dist-packages (from wfdb) (1.18.5)\n",
            "Requirement already satisfied: pandas>=0.17.0 in /usr/local/lib/python3.6/dist-packages (from wfdb) (1.1.2)\n",
            "Requirement already satisfied: pyparsing>=2.0.4 in /usr/local/lib/python3.6/dist-packages (from wfdb) (2.4.7)\n",
            "Requirement already satisfied: python-dateutil>=2.4.2 in /usr/local/lib/python3.6/dist-packages (from wfdb) (2.8.1)\n",
            "Requirement already satisfied: pytz>=2018.3 in /usr/local/lib/python3.6/dist-packages (from wfdb) (2018.9)\n",
            "Requirement already satisfied: requests>=2.8.1 in /usr/local/lib/python3.6/dist-packages (from wfdb) (2.23.0)\n",
            "Requirement already satisfied: scikit-learn>=0.18 in /usr/local/lib/python3.6/dist-packages (from wfdb) (0.22.2.post1)\n",
            "Requirement already satisfied: scipy>=0.17.0 in /usr/local/lib/python3.6/dist-packages (from wfdb) (1.4.1)\n",
            "Requirement already satisfied: six>=0.9.0 in /usr/local/lib/python3.6/dist-packages (from wfdb) (1.15.0)\n",
            "Requirement already satisfied: sklearn>=0.0 in /usr/local/lib/python3.6/dist-packages (from wfdb) (0.0)\n",
            "Collecting threadpoolctl>=1.0.0\n",
            "  Downloading https://files.pythonhosted.org/packages/f7/12/ec3f2e203afa394a149911729357aa48affc59c20e2c1c8297a60f33f133/threadpoolctl-2.1.0-py3-none-any.whl\n",
            "Requirement already satisfied: urllib3>=1.22 in /usr/local/lib/python3.6/dist-packages (from wfdb) (1.24.3)\n",
            "Building wheels for collected packages: wfdb\n",
            "  Building wheel for wfdb (setup.py) ... \u001b[?25l\u001b[?25hdone\n",
            "  Created wheel for wfdb: filename=wfdb-3.1.1-cp36-none-any.whl size=117828 sha256=9d3e0a28840a7c47b7ec4cf9bd6bc09bf09004cdca4bf1cd4998dd7d4cf217e5\n",
            "  Stored in directory: /root/.cache/pip/wheels/bc/d0/c1/90538d266ccba2d1076fbc9970192c7ea1a09c99df3e65c69b\n",
            "Successfully built wfdb\n",
            "Installing collected packages: mne, nose, threadpoolctl, wfdb\n",
            "Successfully installed mne-0.21.0 nose-1.3.7 threadpoolctl-2.1.0 wfdb-3.1.1\n",
            "Requirement already satisfied: mne in /usr/local/lib/python3.6/dist-packages (0.21.0)\n",
            "Requirement already satisfied: scipy>=0.17.1 in /usr/local/lib/python3.6/dist-packages (from mne) (1.4.1)\n",
            "Requirement already satisfied: numpy>=1.11.3 in /usr/local/lib/python3.6/dist-packages (from mne) (1.18.5)\n"
          ],
          "name": "stdout"
        }
      ]
    },
    {
      "cell_type": "code",
      "metadata": {
        "id": "wN2iOjELEkWh",
        "outputId": "eced1e11-3ec3-47e3-94ae-0ca5a20ce54c",
        "colab": {
          "base_uri": "https://localhost:8080/",
          "height": 390
        }
      },
      "source": [
        "!pip install git+https://github.com/forrestbao/pyeeg.git\n",
        "!pip install git+https://github.com/raphaelvallat/entropy.git"
      ],
      "execution_count": 2,
      "outputs": [
        {
          "output_type": "stream",
          "text": [
            "Collecting git+https://github.com/forrestbao/pyeeg.git\n",
            "  Cloning https://github.com/forrestbao/pyeeg.git to /tmp/pip-req-build-fo74s8dv\n",
            "  Running command git clone -q https://github.com/forrestbao/pyeeg.git /tmp/pip-req-build-fo74s8dv\n",
            "Requirement already satisfied: numpy>=1.9.2 in /usr/local/lib/python3.6/dist-packages (from pyeeg==0.4.4) (1.18.5)\n",
            "Building wheels for collected packages: pyeeg\n",
            "  Building wheel for pyeeg (setup.py) ... \u001b[?25l\u001b[?25hdone\n",
            "  Created wheel for pyeeg: filename=pyeeg-0.4.4-py2.py3-none-any.whl size=28122 sha256=fd91ad97393c7bebdd31623527455ba7f9002fc0f14536edd14bd049a3413f46\n",
            "  Stored in directory: /tmp/pip-ephem-wheel-cache-hganhvo6/wheels/2d/3f/ad/106d4fc80b61d1ea1fc18e76e7439fd98aa043d83d58eae741\n",
            "Successfully built pyeeg\n",
            "Installing collected packages: pyeeg\n",
            "Successfully installed pyeeg-0.4.4\n",
            "Collecting git+https://github.com/raphaelvallat/entropy.git\n",
            "  Cloning https://github.com/raphaelvallat/entropy.git to /tmp/pip-req-build-t5ndbv_d\n",
            "  Running command git clone -q https://github.com/raphaelvallat/entropy.git /tmp/pip-req-build-t5ndbv_d\n",
            "Building wheels for collected packages: entropy\n",
            "  Building wheel for entropy (setup.py) ... \u001b[?25l\u001b[?25hdone\n",
            "  Created wheel for entropy: filename=entropy-0.1.2-cp36-none-any.whl size=15611 sha256=78c5349913188c7858ecdee66d854df835831ccfa88c760526c3dbc28f8dbad0\n",
            "  Stored in directory: /tmp/pip-ephem-wheel-cache-5yarmfrz/wheels/60/ed/d3/b715e38438f1f39edb1383aea79c578073953b25fa576fc71e\n",
            "Successfully built entropy\n",
            "Installing collected packages: entropy\n",
            "Successfully installed entropy-0.1.2\n"
          ],
          "name": "stdout"
        }
      ]
    },
    {
      "cell_type": "markdown",
      "metadata": {
        "id": "M49QbDhkDHIT"
      },
      "source": [
        "# Download data"
      ]
    },
    {
      "cell_type": "code",
      "metadata": {
        "id": "DJx67zwDEJjM",
        "outputId": "8f1ed883-6b15-4636-8cc9-850faec3b5ac",
        "colab": {
          "base_uri": "https://localhost:8080/",
          "height": 35
        }
      },
      "source": [
        "from google.colab import drive\n",
        "drive.mount('/content/drive',force_remount=True)"
      ],
      "execution_count": 3,
      "outputs": [
        {
          "output_type": "stream",
          "text": [
            "Mounted at /content/drive\n"
          ],
          "name": "stdout"
        }
      ]
    },
    {
      "cell_type": "code",
      "metadata": {
        "id": "OJiEQY2LCZ4f",
        "outputId": "c579c87f-822b-4462-e378-de669dbe9e68",
        "colab": {
          "base_uri": "https://localhost:8080/",
          "height": 35
        }
      },
      "source": [
        "cd /content/drive/My Drive/dataset/SchizoPhrenia 14"
      ],
      "execution_count": 4,
      "outputs": [
        {
          "output_type": "stream",
          "text": [
            "/content/drive/My Drive/dataset/SchizoPhrenia 14\n"
          ],
          "name": "stdout"
        }
      ]
    },
    {
      "cell_type": "markdown",
      "metadata": {
        "id": "rCn0gh3kDMOI"
      },
      "source": [
        "# Read data"
      ]
    },
    {
      "cell_type": "code",
      "metadata": {
        "id": "CfgtZg96ER8W"
      },
      "source": [
        "import glob\n",
        "import os\n",
        "import mne\n",
        "import re\n",
        "import numpy as np\n",
        "from sklearn.preprocessing import MaxAbsScaler"
      ],
      "execution_count": 5,
      "outputs": []
    },
    {
      "cell_type": "code",
      "metadata": {
        "id": "Fx9M98nnyfak"
      },
      "source": [
        "from scipy import signal\n",
        "nyq = 0.5 * 250\n",
        "l=0.2\n",
        "low = l / nyq\n",
        "high = 45 / nyq\n",
        "b, a = signal.butter(4, [low,high], 'band')"
      ],
      "execution_count": 6,
      "outputs": []
    },
    {
      "cell_type": "code",
      "metadata": {
        "id": "hEMmTm3uKFLs"
      },
      "source": [
        "import numpy as np \n"
      ],
      "execution_count": 7,
      "outputs": []
    },
    {
      "cell_type": "code",
      "metadata": {
        "id": "i9B7Fx9tCGyW",
        "outputId": "a6453e71-8970-4cdc-a3a7-7dbf61ef7d58",
        "colab": {
          "base_uri": "https://localhost:8080/",
          "height": 1000
        }
      },
      "source": [
        "HC_files=glob.glob('HC/*.edf')    \n",
        "HC=[]\n",
        "for i in HC_files:\n",
        "    data=mne.io.read_raw_edf(i,preload=True)\n",
        "    #data.set_eeg_reference('average')\n",
        "    data=data.get_data()\n",
        "    \n",
        "    \n",
        "    mu, sigma = np.mean(data), np.std(data)\n",
        "    noise = np.random.normal(mu, sigma, data.shape)*0.2\n",
        "    data=data+noise\n",
        "    data=signal.filtfilt(b, a, data)\n",
        "   # data=mne.filter.filter_data(data, sfreq=250, l_freq=0.1, h_freq=45)\n",
        "    #scaler=StandardScaler()        \n",
        "    #data=scaler.fit_transform(data.T)     \n",
        "    #data=maxabs_scale(data.T)\n",
        "    HC.append(data.T)\n",
        "    "
      ],
      "execution_count": 103,
      "outputs": [
        {
          "output_type": "stream",
          "text": [
            "Extracting EDF parameters from /content/drive/My Drive/dataset/SchizoPhrenia 14/HC/h01.edf...\n",
            "EDF file detected\n",
            "Setting channel info structure...\n",
            "Creating raw.info structure...\n",
            "Reading 0 ... 231249  =      0.000 ...   924.996 secs...\n",
            "Extracting EDF parameters from /content/drive/My Drive/dataset/SchizoPhrenia 14/HC/h02.edf...\n",
            "EDF file detected\n",
            "Setting channel info structure...\n",
            "Creating raw.info structure...\n",
            "Reading 0 ... 227499  =      0.000 ...   909.996 secs...\n",
            "Extracting EDF parameters from /content/drive/My Drive/dataset/SchizoPhrenia 14/HC/h03.edf...\n",
            "EDF file detected\n",
            "Setting channel info structure...\n",
            "Creating raw.info structure...\n",
            "Reading 0 ... 227499  =      0.000 ...   909.996 secs...\n",
            "Extracting EDF parameters from /content/drive/My Drive/dataset/SchizoPhrenia 14/HC/h04.edf...\n",
            "EDF file detected\n",
            "Setting channel info structure...\n",
            "Creating raw.info structure...\n",
            "Reading 0 ... 231249  =      0.000 ...   924.996 secs...\n",
            "Extracting EDF parameters from /content/drive/My Drive/dataset/SchizoPhrenia 14/HC/h05.edf...\n",
            "EDF file detected\n",
            "Setting channel info structure...\n",
            "Creating raw.info structure...\n",
            "Reading 0 ... 236249  =      0.000 ...   944.996 secs...\n",
            "Extracting EDF parameters from /content/drive/My Drive/dataset/SchizoPhrenia 14/HC/h06.edf...\n",
            "EDF file detected\n",
            "Setting channel info structure...\n",
            "Creating raw.info structure...\n",
            "Reading 0 ... 232499  =      0.000 ...   929.996 secs...\n",
            "Extracting EDF parameters from /content/drive/My Drive/dataset/SchizoPhrenia 14/HC/h07.edf...\n",
            "EDF file detected\n",
            "Setting channel info structure...\n",
            "Creating raw.info structure...\n",
            "Reading 0 ... 227499  =      0.000 ...   909.996 secs...\n",
            "Extracting EDF parameters from /content/drive/My Drive/dataset/SchizoPhrenia 14/HC/h08.edf...\n",
            "EDF file detected\n",
            "Setting channel info structure...\n",
            "Creating raw.info structure...\n",
            "Reading 0 ... 227499  =      0.000 ...   909.996 secs...\n",
            "Extracting EDF parameters from /content/drive/My Drive/dataset/SchizoPhrenia 14/HC/h09.edf...\n",
            "EDF file detected\n",
            "Setting channel info structure...\n",
            "Creating raw.info structure...\n",
            "Reading 0 ... 226249  =      0.000 ...   904.996 secs...\n",
            "Extracting EDF parameters from /content/drive/My Drive/dataset/SchizoPhrenia 14/HC/h10.edf...\n",
            "EDF file detected\n",
            "Setting channel info structure...\n",
            "Creating raw.info structure...\n",
            "Reading 0 ... 278749  =      0.000 ...  1114.996 secs...\n",
            "Extracting EDF parameters from /content/drive/My Drive/dataset/SchizoPhrenia 14/HC/h11.edf...\n",
            "EDF file detected\n",
            "Setting channel info structure...\n",
            "Creating raw.info structure...\n",
            "Reading 0 ... 228749  =      0.000 ...   914.996 secs...\n",
            "Extracting EDF parameters from /content/drive/My Drive/dataset/SchizoPhrenia 14/HC/h12.edf...\n",
            "EDF file detected\n",
            "Setting channel info structure...\n",
            "Creating raw.info structure...\n",
            "Reading 0 ... 224999  =      0.000 ...   899.996 secs...\n",
            "Extracting EDF parameters from /content/drive/My Drive/dataset/SchizoPhrenia 14/HC/h13.edf...\n",
            "EDF file detected\n",
            "Setting channel info structure...\n",
            "Creating raw.info structure...\n",
            "Reading 0 ... 241249  =      0.000 ...   964.996 secs...\n",
            "Extracting EDF parameters from /content/drive/My Drive/dataset/SchizoPhrenia 14/HC/h14.edf...\n",
            "EDF file detected\n",
            "Setting channel info structure...\n",
            "Creating raw.info structure...\n",
            "Reading 0 ... 216249  =      0.000 ...   864.996 secs...\n"
          ],
          "name": "stdout"
        }
      ]
    },
    {
      "cell_type": "code",
      "metadata": {
        "id": "xkZFRQcvEGML",
        "outputId": "71b5a25a-a94d-4fc5-b261-baf9209ca4b6",
        "colab": {
          "base_uri": "https://localhost:8080/",
          "height": 299
        }
      },
      "source": [
        "import matplotlib.pyplot as plt\n",
        "fig,ax=plt.subplots(3)\n",
        "ax[0].plot(noise[0])\n",
        "ax[0].set_title('noise')\n",
        "ax[1].plot(data[0])\n",
        "ax[1].set_title('signal')\n",
        "ax[2].set_title('noise+signal')\n",
        "ax[2].plot(data[0]+noise[0])\n",
        "fig.tight_layout(pad=1.0)\n"
      ],
      "execution_count": 104,
      "outputs": [
        {
          "output_type": "display_data",
          "data": {
            "image/png": "[encoded data removed]",
            "text/plain": [
              "<Figure size 432x288 with 3 Axes>"
            ]
          },
          "metadata": {
            "tags": [],
            "needs_background": "light"
          }
        }
      ]
    },
    {
      "cell_type": "code",
      "metadata": {
        "id": "zAfS6jH9CQtg",
        "outputId": "21a67877-0a1f-40c4-83bb-7dd54eb4e851",
        "colab": {
          "base_uri": "https://localhost:8080/",
          "height": 1000
        }
      },
      "source": [
        "SZ_files=glob.glob('SZ/*.edf')\n",
        "SZ=[]\n",
        "for i in SZ_files:\n",
        "    data=mne.io.read_raw_edf(i,preload=True)\n",
        "    #data.set_eeg_reference('average')\n",
        "    data=data.get_data()\n",
        "    mu, sigma = np.mean(data), np.std(data)\n",
        "    noise = np.random.normal(mu, sigma, data.shape)*0.2\n",
        "    data=data+noise\n",
        "    data=signal.filtfilt(b, a, data)\n",
        "    #data=mne.filter.filter_data(data, sfreq=250, l_freq=0.1, h_freq=45)\n",
        "    #data=maxabs_scale(data.T)\n",
        "    SZ.append(data.T)"
      ],
      "execution_count": 105,
      "outputs": [
        {
          "output_type": "stream",
          "text": [
            "Extracting EDF parameters from /content/drive/My Drive/dataset/SchizoPhrenia 14/SZ/s01.edf...\n",
            "EDF file detected\n",
            "Setting channel info structure...\n",
            "Creating raw.info structure...\n",
            "Reading 0 ... 211249  =      0.000 ...   844.996 secs...\n",
            "Extracting EDF parameters from /content/drive/My Drive/dataset/SchizoPhrenia 14/SZ/s02.edf...\n",
            "EDF file detected\n",
            "Setting channel info structure...\n",
            "Creating raw.info structure...\n",
            "Reading 0 ... 286249  =      0.000 ...  1144.996 secs...\n",
            "Extracting EDF parameters from /content/drive/My Drive/dataset/SchizoPhrenia 14/SZ/s03.edf...\n",
            "EDF file detected\n",
            "Setting channel info structure...\n",
            "Creating raw.info structure...\n",
            "Reading 0 ... 240999  =      0.000 ...   963.996 secs...\n",
            "Extracting EDF parameters from /content/drive/My Drive/dataset/SchizoPhrenia 14/SZ/s04.edf...\n",
            "EDF file detected\n",
            "Setting channel info structure...\n",
            "Creating raw.info structure...\n",
            "Reading 0 ... 301249  =      0.000 ...  1204.996 secs...\n",
            "Extracting EDF parameters from /content/drive/My Drive/dataset/SchizoPhrenia 14/SZ/s05.edf...\n",
            "EDF file detected\n",
            "Setting channel info structure...\n",
            "Creating raw.info structure...\n",
            "Reading 0 ... 222499  =      0.000 ...   889.996 secs...\n",
            "Extracting EDF parameters from /content/drive/My Drive/dataset/SchizoPhrenia 14/SZ/s06.edf...\n",
            "EDF file detected\n",
            "Setting channel info structure...\n",
            "Creating raw.info structure...\n",
            "Reading 0 ... 184999  =      0.000 ...   739.996 secs...\n",
            "Extracting EDF parameters from /content/drive/My Drive/dataset/SchizoPhrenia 14/SZ/s07.edf...\n",
            "EDF file detected\n",
            "Setting channel info structure...\n",
            "Creating raw.info structure...\n",
            "Reading 0 ... 336499  =      0.000 ...  1345.996 secs...\n",
            "Extracting EDF parameters from /content/drive/My Drive/dataset/SchizoPhrenia 14/SZ/s08.edf...\n",
            "EDF file detected\n",
            "Setting channel info structure...\n",
            "Creating raw.info structure...\n",
            "Reading 0 ... 227749  =      0.000 ...   910.996 secs...\n",
            "Extracting EDF parameters from /content/drive/My Drive/dataset/SchizoPhrenia 14/SZ/s09.edf...\n",
            "EDF file detected\n",
            "Setting channel info structure...\n",
            "Creating raw.info structure...\n",
            "Reading 0 ... 296249  =      0.000 ...  1184.996 secs...\n",
            "Extracting EDF parameters from /content/drive/My Drive/dataset/SchizoPhrenia 14/SZ/s10.edf...\n",
            "EDF file detected\n",
            "Setting channel info structure...\n",
            "Creating raw.info structure...\n",
            "Reading 0 ... 212499  =      0.000 ...   849.996 secs...\n",
            "Extracting EDF parameters from /content/drive/My Drive/dataset/SchizoPhrenia 14/SZ/s11.edf...\n",
            "EDF file detected\n",
            "Setting channel info structure...\n",
            "Creating raw.info structure...\n",
            "Reading 0 ... 339999  =      0.000 ...  1359.996 secs...\n",
            "Extracting EDF parameters from /content/drive/My Drive/dataset/SchizoPhrenia 14/SZ/s12.edf...\n",
            "EDF file detected\n",
            "Setting channel info structure...\n",
            "Creating raw.info structure...\n",
            "Reading 0 ... 271749  =      0.000 ...  1086.996 secs...\n",
            "Extracting EDF parameters from /content/drive/My Drive/dataset/SchizoPhrenia 14/SZ/s13.edf...\n",
            "EDF file detected\n",
            "Setting channel info structure...\n",
            "Creating raw.info structure...\n",
            "Reading 0 ... 283749  =      0.000 ...  1134.996 secs...\n",
            "Extracting EDF parameters from /content/drive/My Drive/dataset/SchizoPhrenia 14/SZ/s14.edf...\n",
            "EDF file detected\n",
            "Setting channel info structure...\n",
            "Creating raw.info structure...\n",
            "Reading 0 ... 542499  =      0.000 ...  2169.996 secs...\n"
          ],
          "name": "stdout"
        }
      ]
    },
    {
      "cell_type": "code",
      "metadata": {
        "id": "0-LVKophBsz7",
        "outputId": "112acfc9-a4f4-4a92-cf63-0a315d3bfd13",
        "colab": {
          "base_uri": "https://localhost:8080/",
          "height": 35
        }
      },
      "source": [
        "len(HC),len(SZ)"
      ],
      "execution_count": 106,
      "outputs": [
        {
          "output_type": "execute_result",
          "data": {
            "text/plain": [
              "(14, 14)"
            ]
          },
          "metadata": {
            "tags": []
          },
          "execution_count": 106
        }
      ]
    },
    {
      "cell_type": "code",
      "metadata": {
        "id": "t1FSs_rIBvXO",
        "outputId": "5753a895-fc07-40ec-97d5-e1e03531c3b0",
        "colab": {
          "base_uri": "https://localhost:8080/",
          "height": 35
        }
      },
      "source": [
        "import numpy as np\n",
        "X1=np.concatenate(HC)\n",
        "X2=np.concatenate(SZ)\n",
        "X=np.concatenate((X1,X2))\n",
        "X.shape"
      ],
      "execution_count": 107,
      "outputs": [
        {
          "output_type": "execute_result",
          "data": {
            "text/plain": [
              "(7215750, 19)"
            ]
          },
          "metadata": {
            "tags": []
          },
          "execution_count": 107
        }
      ]
    },
    {
      "cell_type": "code",
      "metadata": {
        "id": "KC-R7WBQCCaJ",
        "outputId": "865af9ec-edb8-41cf-b23e-e0d23f57f39f",
        "colab": {
          "base_uri": "https://localhost:8080/",
          "height": 621
        }
      },
      "source": [
        "import matplotlib.pyplot as plt\n",
        "from sklearn.decomposition import PCA\n",
        "import pandas as pd\n",
        "plt.figure(figsize=(20,10))\n",
        "pca = PCA().fit(X)\n",
        "plt.axhline(0.95)\n",
        "plt.axvline(9)\n",
        "#Plotting the Cumulative Summation of the Explained Variance\n",
        "plt.plot(np.cumsum(pca.explained_variance_ratio_)[0:15])\n",
        "plt.xlabel('Number of Components')\n",
        "plt.ylabel('Variance (%)') #for each component\n",
        "plt.title('Pulsar Dataset Explained Variance')\n",
        "plt.show()"
      ],
      "execution_count": 108,
      "outputs": [
        {
          "output_type": "display_data",
          "data": {
            "image/png": "[encoded data removed]",
            "text/plain": [
              "<Figure size 1440x720 with 1 Axes>"
            ]
          },
          "metadata": {
            "tags": [],
            "needs_background": "light"
          }
        }
      ]
    },
    {
      "cell_type": "code",
      "metadata": {
        "id": "O0yI_rtzB1oa"
      },
      "source": [
        "channels=['Fp2', 'F8', 'T4', 'T6', 'O2', 'Fp1', 'F7', 'T3', 'T5', 'O1', 'F4', 'C4', 'P4', 'F3', 'C3', 'P3', 'Fz', 'Cz', 'Pz']"
      ],
      "execution_count": 109,
      "outputs": []
    },
    {
      "cell_type": "code",
      "metadata": {
        "id": "qZwzGJGbETyT",
        "outputId": "52644288-f047-43a4-a2fa-c99ef9c0e560",
        "colab": {
          "base_uri": "https://localhost:8080/",
          "height": 35
        }
      },
      "source": [
        "df1 = pd.DataFrame.from_records(X)\n",
        "df1.shape"
      ],
      "execution_count": 110,
      "outputs": [
        {
          "output_type": "execute_result",
          "data": {
            "text/plain": [
              "(7215750, 19)"
            ]
          },
          "metadata": {
            "tags": []
          },
          "execution_count": 110
        }
      ]
    },
    {
      "cell_type": "code",
      "metadata": {
        "id": "ie292I7xElTc"
      },
      "source": [
        "df1.columns=channels"
      ],
      "execution_count": 111,
      "outputs": []
    },
    {
      "cell_type": "code",
      "metadata": {
        "id": "Cs7ADYzbEjCL",
        "outputId": "8161dfca-bc00-4b93-9a6c-732f2043a4b2",
        "colab": {
          "base_uri": "https://localhost:8080/",
          "height": 305
        }
      },
      "source": [
        "df1.head()"
      ],
      "execution_count": 112,
      "outputs": [
        {
          "output_type": "execute_result",
          "data": {
            "text/html": [
              "<div>\n",
              "<style scoped>\n",
              "    .dataframe tbody tr th:only-of-type {\n",
              "        vertical-align: middle;\n",
              "    }\n",
              "\n",
              "    .dataframe tbody tr th {\n",
              "        vertical-align: top;\n",
              "    }\n",
              "\n",
              "    .dataframe thead th {\n",
              "        text-align: right;\n",
              "    }\n",
              "</style>\n",
              "<table border=\"1\" class=\"dataframe\">\n",
              "  <thead>\n",
              "    <tr style=\"text-align: right;\">\n",
              "      <th></th>\n",
              "      <th>Fp2</th>\n",
              "      <th>F8</th>\n",
              "      <th>T4</th>\n",
              "      <th>T6</th>\n",
              "      <th>O2</th>\n",
              "      <th>Fp1</th>\n",
              "      <th>F7</th>\n",
              "      <th>T3</th>\n",
              "      <th>T5</th>\n",
              "      <th>O1</th>\n",
              "      <th>F4</th>\n",
              "      <th>C4</th>\n",
              "      <th>P4</th>\n",
              "      <th>F3</th>\n",
              "      <th>C3</th>\n",
              "      <th>P3</th>\n",
              "      <th>Fz</th>\n",
              "      <th>Cz</th>\n",
              "      <th>Pz</th>\n",
              "    </tr>\n",
              "  </thead>\n",
              "  <tbody>\n",
              "    <tr>\n",
              "      <th>0</th>\n",
              "      <td>-0.000009</td>\n",
              "      <td>-0.000002</td>\n",
              "      <td>5.508326e-07</td>\n",
              "      <td>3.387149e-06</td>\n",
              "      <td>0.000008</td>\n",
              "      <td>-0.000002</td>\n",
              "      <td>-9.824414e-07</td>\n",
              "      <td>3.216623e-07</td>\n",
              "      <td>-0.000006</td>\n",
              "      <td>-4.232370e-06</td>\n",
              "      <td>1.020600e-06</td>\n",
              "      <td>7.372370e-07</td>\n",
              "      <td>0.000004</td>\n",
              "      <td>2.458923e-07</td>\n",
              "      <td>4.039001e-07</td>\n",
              "      <td>-1.068562e-06</td>\n",
              "      <td>2.218972e-07</td>\n",
              "      <td>0.000003</td>\n",
              "      <td>2.702733e-06</td>\n",
              "    </tr>\n",
              "    <tr>\n",
              "      <th>1</th>\n",
              "      <td>-0.000011</td>\n",
              "      <td>-0.000002</td>\n",
              "      <td>-1.488227e-06</td>\n",
              "      <td>2.481393e-06</td>\n",
              "      <td>0.000009</td>\n",
              "      <td>-0.000001</td>\n",
              "      <td>-2.547732e-06</td>\n",
              "      <td>2.238318e-07</td>\n",
              "      <td>-0.000003</td>\n",
              "      <td>-1.823699e-06</td>\n",
              "      <td>1.261289e-06</td>\n",
              "      <td>2.587038e-06</td>\n",
              "      <td>0.000003</td>\n",
              "      <td>4.824544e-07</td>\n",
              "      <td>-1.726662e-06</td>\n",
              "      <td>-6.889586e-07</td>\n",
              "      <td>-1.753970e-06</td>\n",
              "      <td>0.000003</td>\n",
              "      <td>4.080135e-07</td>\n",
              "    </tr>\n",
              "    <tr>\n",
              "      <th>2</th>\n",
              "      <td>-0.000012</td>\n",
              "      <td>-0.000003</td>\n",
              "      <td>-2.548152e-06</td>\n",
              "      <td>1.658558e-06</td>\n",
              "      <td>0.000010</td>\n",
              "      <td>-0.000001</td>\n",
              "      <td>-3.001086e-06</td>\n",
              "      <td>3.491559e-07</td>\n",
              "      <td>-0.000002</td>\n",
              "      <td>2.311267e-09</td>\n",
              "      <td>1.067610e-06</td>\n",
              "      <td>4.094281e-06</td>\n",
              "      <td>0.000003</td>\n",
              "      <td>8.505954e-07</td>\n",
              "      <td>-3.021770e-06</td>\n",
              "      <td>-4.197274e-07</td>\n",
              "      <td>-2.887287e-06</td>\n",
              "      <td>0.000003</td>\n",
              "      <td>-2.628368e-07</td>\n",
              "    </tr>\n",
              "    <tr>\n",
              "      <th>3</th>\n",
              "      <td>-0.000013</td>\n",
              "      <td>-0.000003</td>\n",
              "      <td>-2.732730e-06</td>\n",
              "      <td>1.024294e-06</td>\n",
              "      <td>0.000010</td>\n",
              "      <td>-0.000001</td>\n",
              "      <td>-2.147578e-06</td>\n",
              "      <td>9.608561e-07</td>\n",
              "      <td>-0.000002</td>\n",
              "      <td>7.920555e-07</td>\n",
              "      <td>5.326181e-07</td>\n",
              "      <td>4.796875e-06</td>\n",
              "      <td>0.000002</td>\n",
              "      <td>1.437726e-06</td>\n",
              "      <td>-3.211898e-06</td>\n",
              "      <td>-2.917463e-07</td>\n",
              "      <td>-3.150106e-06</td>\n",
              "      <td>0.000002</td>\n",
              "      <td>8.966000e-07</td>\n",
              "    </tr>\n",
              "    <tr>\n",
              "      <th>4</th>\n",
              "      <td>-0.000012</td>\n",
              "      <td>-0.000004</td>\n",
              "      <td>-2.860622e-06</td>\n",
              "      <td>6.767475e-07</td>\n",
              "      <td>0.000010</td>\n",
              "      <td>-0.000002</td>\n",
              "      <td>-7.052048e-07</td>\n",
              "      <td>2.070195e-06</td>\n",
              "      <td>-0.000002</td>\n",
              "      <td>4.427235e-07</td>\n",
              "      <td>1.680071e-07</td>\n",
              "      <td>4.294627e-06</td>\n",
              "      <td>0.000002</td>\n",
              "      <td>2.181075e-06</td>\n",
              "      <td>-2.723996e-06</td>\n",
              "      <td>-2.648519e-07</td>\n",
              "      <td>-3.140877e-06</td>\n",
              "      <td>0.000002</td>\n",
              "      <td>2.706547e-06</td>\n",
              "    </tr>\n",
              "  </tbody>\n",
              "</table>\n",
              "</div>"
            ],
            "text/plain": [
              "        Fp2        F8            T4  ...            Fz        Cz            Pz\n",
              "0 -0.000009 -0.000002  5.508326e-07  ...  2.218972e-07  0.000003  2.702733e-06\n",
              "1 -0.000011 -0.000002 -1.488227e-06  ... -1.753970e-06  0.000003  4.080135e-07\n",
              "2 -0.000012 -0.000003 -2.548152e-06  ... -2.887287e-06  0.000003 -2.628368e-07\n",
              "3 -0.000013 -0.000003 -2.732730e-06  ... -3.150106e-06  0.000002  8.966000e-07\n",
              "4 -0.000012 -0.000004 -2.860622e-06  ... -3.140877e-06  0.000002  2.706547e-06\n",
              "\n",
              "[5 rows x 19 columns]"
            ]
          },
          "metadata": {
            "tags": []
          },
          "execution_count": 112
        }
      ]
    },
    {
      "cell_type": "code",
      "metadata": {
        "id": "u2ajJZbeEkAy"
      },
      "source": [
        "ch=10"
      ],
      "execution_count": 113,
      "outputs": []
    },
    {
      "cell_type": "code",
      "metadata": {
        "id": "4D_5Vg3yCswg",
        "outputId": "ed0b4ba3-793e-43d0-ea84-cae4a902faa1",
        "colab": {
          "base_uri": "https://localhost:8080/",
          "height": 35
        }
      },
      "source": [
        "X_1=df1.var()\n",
        "idx=X_1.sort_values()[-ch::].index\n",
        "\n",
        "print(idx)\n",
        "ch=len(idx)"
      ],
      "execution_count": 114,
      "outputs": [
        {
          "output_type": "stream",
          "text": [
            "Index(['T6', 'F8', 'Fz', 'F7', 'P4', 'Pz', 'Fp1', 'O2', 'Fp2', 'T5'], dtype='object')\n"
          ],
          "name": "stdout"
        }
      ]
    },
    {
      "cell_type": "code",
      "metadata": {
        "id": "uW66yvqADmlb"
      },
      "source": [
        "indx=[]\n",
        "for i in idx:\n",
        "  indx.append(channels.index(i))\n",
        "indx=np.array(indx)  "
      ],
      "execution_count": 115,
      "outputs": []
    },
    {
      "cell_type": "code",
      "metadata": {
        "id": "KZB4etN3I4s4",
        "outputId": "9b1759d2-a3c0-4e6a-8539-33e5d6d76b65",
        "colab": {
          "base_uri": "https://localhost:8080/",
          "height": 35
        }
      },
      "source": [
        "indx"
      ],
      "execution_count": 116,
      "outputs": [
        {
          "output_type": "execute_result",
          "data": {
            "text/plain": [
              "array([ 3,  1, 16,  6, 12, 18,  5,  4,  0,  8])"
            ]
          },
          "metadata": {
            "tags": []
          },
          "execution_count": 116
        }
      ]
    },
    {
      "cell_type": "code",
      "metadata": {
        "id": "a_5zwqblI5zf"
      },
      "source": [
        ""
      ],
      "execution_count": 116,
      "outputs": []
    },
    {
      "cell_type": "code",
      "metadata": {
        "id": "VoG1aRXzI2hj"
      },
      "source": [
        ""
      ],
      "execution_count": 116,
      "outputs": []
    },
    {
      "cell_type": "code",
      "metadata": {
        "id": "7woBh5ZlEbRe"
      },
      "source": [
        "def reshape(data):   \n",
        "    shape=data.ravel().shape[0]\n",
        "    s=shape%19000\n",
        "    if s!=0:\n",
        "        d=data.ravel()[s//2:-s//2].reshape(-1,1000,19)[:,:,indx]\n",
        "        #return np.swapaxes(d,1,2)   \n",
        "        return d\n",
        "    else: \n",
        "        d1=data.reshape(-1,1000,19)[:,:,indx]\n",
        "        #return np.swapaxes(d1,1,2)   \n",
        "        return d1\n",
        "        "
      ],
      "execution_count": 117,
      "outputs": []
    },
    {
      "cell_type": "code",
      "metadata": {
        "id": "SFKvvEyvEcC4"
      },
      "source": [
        "HC_reshaped=[]\n",
        "for i in HC:\n",
        "    HC_reshaped.append(reshape(i))\n",
        "    \n",
        "    \n",
        "SZ_reshaped=[]\n",
        "for i in SZ:\n",
        "    SZ_reshaped.append(reshape(i))   "
      ],
      "execution_count": 118,
      "outputs": []
    },
    {
      "cell_type": "code",
      "metadata": {
        "id": "_8rXI4sQEe_p",
        "outputId": "32caca48-285c-49ba-b0e0-d6c7c9aeef05",
        "colab": {
          "base_uri": "https://localhost:8080/",
          "height": 35
        }
      },
      "source": [
        "HC_reshaped[0].shape"
      ],
      "execution_count": 119,
      "outputs": [
        {
          "output_type": "execute_result",
          "data": {
            "text/plain": [
              "(231, 1000, 10)"
            ]
          },
          "metadata": {
            "tags": []
          },
          "execution_count": 119
        }
      ]
    },
    {
      "cell_type": "markdown",
      "metadata": {
        "id": "FVH5rTmQDPZ4"
      },
      "source": [
        "# Libraries"
      ]
    },
    {
      "cell_type": "code",
      "metadata": {
        "id": "6vHod_4gETis"
      },
      "source": [
        "from scipy import stats\n",
        "import pyeeg\n",
        "from entropy import *\n",
        "import pywt\n",
        "#from nitime import algorithms as alg\n",
        "from sklearn import metrics\n",
        "from sklearn.model_selection import train_test_split\n",
        "from sklearn.preprocessing import StandardScaler,MaxAbsScaler\n",
        "from sklearn.preprocessing import StandardScaler,MaxAbsScaler\n",
        "from sklearn.svm import SVC\n",
        "from sklearn.linear_model import LogisticRegression\n",
        "from sklearn.neighbors import KNeighborsClassifier\n",
        "\n",
        "#import nolds\n",
        "np.warnings.filterwarnings('ignore')"
      ],
      "execution_count": 120,
      "outputs": []
    },
    {
      "cell_type": "markdown",
      "metadata": {
        "id": "XA0ZCARWd6T3"
      },
      "source": [
        "# Main Features"
      ]
    },
    {
      "cell_type": "code",
      "metadata": {
        "id": "LacFqUQwFbZg"
      },
      "source": [
        "\n",
        "from scipy import stats\n",
        "import pyeeg\n",
        "from entropy import *\n",
        "def mean(data):\n",
        "    return np.mean(data,axis=0)\n",
        "    \n",
        "def std(data):\n",
        "    return np.std(data,axis=0)\n",
        "\n",
        "def ptp(data):\n",
        "    return np.ptp(data,axis=0)\n",
        "\n",
        "def var(data):\n",
        "        return np.var(data,axis=0)\n",
        "\n",
        "def minim(data):\n",
        "      return np.min(data,axis=0)\n",
        "\n",
        "\n",
        "def maxim(data):\n",
        "      return np.max(data,axis=0)\n",
        "\n",
        "def argminim(data):\n",
        "      return np.argmin(data,axis=0)\n",
        "\n",
        "\n",
        "def argmaxim(data):\n",
        "      return np.argmax(data,axis=0)\n",
        "\n",
        "def mean_square(data):\n",
        "      return np.mean(data**2,axis=0)\n",
        "\n",
        "def rms(data): #root mean square\n",
        "      return  np.sqrt(np.mean(data**2,axis=0))  \n",
        "\n",
        "def abs_diffs_signal(data):\n",
        "    return np.sum(np.abs(np.diff(data,axis=0)),axis=0)\n",
        "\n",
        "\n",
        "def skewness(data):\n",
        "    return stats.skew(data,axis=0)\n",
        "\n",
        "def kurtosis(data):\n",
        "    return stats.kurtosis(data,axis=0)\n",
        "\n",
        "def zero_crossing(data):\n",
        "    return np.argmax(np.diff(np.sign(data),axis=0),axis=0)\n",
        "\n",
        "def app_epy(data):\n",
        "    result=[]\n",
        "    for i in data.T:\n",
        "        result.append(app_entropy(i, order=2, metric='chebyshev'))\n",
        "    return np.array(result)\n",
        "\n",
        "def perm_epy(data):\n",
        "    result=[]\n",
        "    for i in data.T:\n",
        "        result.append(perm_entropy(i, order=3, normalize=True))\n",
        "    return np.array(result)\n",
        "\n",
        "def svd_epy(data):\n",
        "    result=[]\n",
        "    for i in data.T:\n",
        "        result.append(svd_entropy(i, order=3, delay=1, normalize=True))\n",
        "    return np.array(result)\n",
        "\n",
        "def spectral_epy(data):\n",
        "    result=[]\n",
        "    for i in data.T:\n",
        "        result.append(spectral_entropy(i, 100, method='welch', normalize=True))\n",
        "    return np.array(result)\n",
        "\n",
        "def sample_epy(data):\n",
        "    result=[]\n",
        "    for i in data.T:\n",
        "        result.append(sample_entropy(i, order=2, metric='chebyshev'))\n",
        "    return np.array(result)\n",
        "\n",
        "\n",
        "def katz(data):\n",
        "    result=[]\n",
        "    for i in data.T:\n",
        "        result.append(katz_fd(i))\n",
        "    return np.array(result)\n",
        "\n",
        "def higuchi(data):\n",
        "    result=[]\n",
        "    for i in data.T:\n",
        "        result.append(higuchi_fd(i))\n",
        "    return np.array(result)\n",
        "\n",
        "\n",
        "def petrosian(data):\n",
        "    result=[]\n",
        "    for i in data.T:\n",
        "        result.append(petrosian_fd(i))\n",
        "    return np.array(result)\n",
        "\n",
        "def autogressiveModelParameters(data):\n",
        "    feature = []\n",
        "    for i in data.T:\n",
        "        coeff, sig = alg.AR_est_YW(i, order=5)\n",
        "        feature.append(np.mean(coeff))\n",
        "    return np.array(feature)\n",
        "\n",
        "def teager(x):\n",
        "    for i in range(len(x)-1):\n",
        "        return x[i]**2 - (x[i-1]*x[i+1])\n",
        "\n",
        "\n",
        "def lziv_complex(data):\n",
        "    result=[]\n",
        "    for i in data.T:\n",
        "        result.append(lziv_complexity(i))\n",
        "    return np.array(result)\n",
        "\n",
        "        \n",
        "def hjorth_mobility(data):\n",
        "    return np.divide(np.std(np.diff(data,axis=0),axis=0),np.std(data,axis=0))\n",
        "\n",
        "def hjorth_complexity(data):\n",
        "    return np.divide(hjorth_mobility(np.diff(data,axis=0)),  hjorth_mobility(data))      \n",
        "\n",
        "\n",
        "\n",
        "\n",
        "def concatenate_features(data):\n",
        "    return np.concatenate((mean(data),std(data),ptp(data),var(data),minim(data),maxim(data),argminim(data),argmaxim(data),\n",
        "                          mean_square(data),rms(data),abs_diffs_signal(data),\n",
        "                          skewness(data),kurtosis(data),zero_crossing(data),\n",
        "                          app_epy(data),perm_epy(data),svd_epy(data),spectral_epy(data),sample_epy(data),\n",
        "                          katz(data),higuchi(data),petrosian(data),teager(data),lziv_complex(data),\n",
        "                          hjorth_mobility(data),hjorth_complexity(data)),axis=0)"
      ],
      "execution_count": 121,
      "outputs": []
    },
    {
      "cell_type": "code",
      "metadata": {
        "id": "enEVrHoCWvtz"
      },
      "source": [
        "features1=[]\n",
        "for f in HC_reshaped:\n",
        "    feature=[]\n",
        "    for i in f:\n",
        "        feature.append(concatenate_features(i))\n",
        "    features1.append(np.mean(np.array(feature),axis=0))"
      ],
      "execution_count": 122,
      "outputs": []
    },
    {
      "cell_type": "code",
      "metadata": {
        "id": "RKWr72BTWvt5"
      },
      "source": [
        "features2=[]\n",
        "for f in SZ_reshaped:\n",
        "    feature=[]\n",
        "    for i in f:\n",
        "        feature.append(concatenate_features(i))\n",
        "    features2.append(np.mean(np.array(feature),axis=0))"
      ],
      "execution_count": 123,
      "outputs": []
    },
    {
      "cell_type": "code",
      "metadata": {
        "id": "3cVURnzepN0N",
        "outputId": "1a5d8bb2-47e2-44e0-b577-d65826e325ee",
        "colab": {
          "base_uri": "https://localhost:8080/",
          "height": 35
        }
      },
      "source": [
        "x1=np.array(features1)        \n",
        "x2=np.array(features2)      \n",
        "\n",
        "X=np.concatenate((x1,x2),axis=0)\n",
        "\n",
        "y=np.concatenate(((np.zeros(x1.shape[0])),(np.ones(x2.shape[0]))))\n",
        "X.shape,y.shape"
      ],
      "execution_count": 124,
      "outputs": [
        {
          "output_type": "execute_result",
          "data": {
            "text/plain": [
              "((28, 260), (28,))"
            ]
          },
          "metadata": {
            "tags": []
          },
          "execution_count": 124
        }
      ]
    },
    {
      "cell_type": "code",
      "metadata": {
        "id": "GJBuPvNEToHn"
      },
      "source": [
        "feature=X.copy()\n",
        "label=y.copy()\n",
        "from sklearn.preprocessing import scale,maxabs_scale\n",
        "feature=scale(feature)"
      ],
      "execution_count": 125,
      "outputs": []
    },
    {
      "cell_type": "code",
      "metadata": {
        "id": "l3a10gQQ_kqJ",
        "outputId": "b539dc6c-4da3-44e6-c110-d479d2a904db",
        "colab": {
          "base_uri": "https://localhost:8080/",
          "height": 35
        }
      },
      "source": [
        "\n",
        "from sklearn.svm import SVC, LinearSVC, NuSVC\n",
        "from sklearn.model_selection import cross_val_score\n",
        "from sklearn.model_selection import GridSearchCV\n",
        "def svc_param_selection(X, y):\n",
        "    Cs = [ 0.1, 1, 10,15,20,25,30,40,50,60,70,100,120]\n",
        "    gammas = [0.0001,0.0005,0.001,0.005,0.008, 0.01, 0.1,0.3,0.5, 1]\n",
        "    param_grid = {'C': Cs, 'gamma' : gammas}\n",
        "    grid_search = GridSearchCV(SVC(kernel='rbf'), param_grid, cv=10)\n",
        "    grid_search.fit(X, y)\n",
        "    grid_search.best_params_\n",
        "    return grid_search.best_score_\n",
        "\n",
        "\n",
        "svc_param_selection(feature,label)"
      ],
      "execution_count": 126,
      "outputs": [
        {
          "output_type": "execute_result",
          "data": {
            "text/plain": [
              "0.8166666666666667"
            ]
          },
          "metadata": {
            "tags": []
          },
          "execution_count": 126
        }
      ]
    },
    {
      "cell_type": "code",
      "metadata": {
        "id": "-pF-532Z4iEK"
      },
      "source": [
        "feature_list=['mean','std','ptp','var','minim','maxim','argmin','argmax','mean_square','rms','abs_diffs_signal','skewness','kurtosis','zero_crossing',\n",
        "'app_epy','perm_epy','svd_epy','spectral_epy','sample_epy','katz','higuchi','petrosian','teager','lziv_complex',\n",
        "'hjorth_mobility','hjorth_complexity']"
      ],
      "execution_count": 127,
      "outputs": []
    },
    {
      "cell_type": "code",
      "metadata": {
        "id": "6P73wA4E4llG",
        "outputId": "bcc15e89-6752-48f1-dabb-b296f28fa23c",
        "colab": {
          "base_uri": "https://localhost:8080/",
          "height": 479
        }
      },
      "source": [
        "feature_selected=[]\n",
        "feat_non_sorted=[]\n",
        "score_non_sorted=[]\n",
        "for i ,j in zip(range(0,feature.shape[1],ch),feature_list):\n",
        "  acc=svc_param_selection(feature[:,i:i+ch],label)\n",
        "  print(j,\" : \",acc)\n",
        "  feat_non_sorted.append(j)\n",
        "  score_non_sorted.append(acc)"
      ],
      "execution_count": 128,
      "outputs": [
        {
          "output_type": "stream",
          "text": [
            "mean  :  0.6833333333333333\n",
            "std  :  0.8833333333333332\n",
            "ptp  :  0.75\n",
            "var  :  0.5833333333333333\n",
            "minim  :  0.7833333333333333\n",
            "maxim  :  0.7833333333333333\n",
            "argmin  :  0.6\n",
            "argmax  :  0.5833333333333333\n",
            "mean_square  :  0.5833333333333333\n",
            "rms  :  0.8833333333333332\n",
            "abs_diffs_signal  :  0.75\n",
            "skewness  :  0.5\n",
            "kurtosis  :  0.7\n",
            "zero_crossing  :  0.7\n",
            "app_epy  :  0.8\n",
            "perm_epy  :  0.8333333333333333\n",
            "svd_epy  :  0.8\n",
            "spectral_epy  :  0.8166666666666667\n",
            "sample_epy  :  0.8333333333333333\n",
            "katz  :  0.85\n",
            "higuchi  :  0.8333333333333333\n",
            "petrosian  :  0.8333333333333333\n",
            "teager  :  0.7833333333333333\n",
            "lziv_complex  :  0.36666666666666664\n",
            "hjorth_mobility  :  0.7833333333333333\n",
            "hjorth_complexity  :  0.7833333333333333\n"
          ],
          "name": "stdout"
        }
      ]
    },
    {
      "cell_type": "code",
      "metadata": {
        "id": "qIz9Ex424loX",
        "outputId": "70bd9c7f-35c2-4316-dd6b-ab7fccfb8d12",
        "colab": {
          "base_uri": "https://localhost:8080/",
          "height": 72
        }
      },
      "source": [
        "print(feat_non_sorted)\n",
        "print(score_non_sorted)"
      ],
      "execution_count": 129,
      "outputs": [
        {
          "output_type": "stream",
          "text": [
            "['mean', 'std', 'ptp', 'var', 'minim', 'maxim', 'argmin', 'argmax', 'mean_square', 'rms', 'abs_diffs_signal', 'skewness', 'kurtosis', 'zero_crossing', 'app_epy', 'perm_epy', 'svd_epy', 'spectral_epy', 'sample_epy', 'katz', 'higuchi', 'petrosian', 'teager', 'lziv_complex', 'hjorth_mobility', 'hjorth_complexity']\n",
            "[0.6833333333333333, 0.8833333333333332, 0.75, 0.5833333333333333, 0.7833333333333333, 0.7833333333333333, 0.6, 0.5833333333333333, 0.5833333333333333, 0.8833333333333332, 0.75, 0.5, 0.7, 0.7, 0.8, 0.8333333333333333, 0.8, 0.8166666666666667, 0.8333333333333333, 0.85, 0.8333333333333333, 0.8333333333333333, 0.7833333333333333, 0.36666666666666664, 0.7833333333333333, 0.7833333333333333]\n"
          ],
          "name": "stdout"
        }
      ]
    },
    {
      "cell_type": "code",
      "metadata": {
        "id": "wGaBeLj24lrX"
      },
      "source": [
        "score,feat  = zip(*sorted(zip(score_non_sorted, feat_non_sorted),reverse=True))\n"
      ],
      "execution_count": 130,
      "outputs": []
    },
    {
      "cell_type": "code",
      "metadata": {
        "id": "ZTPuv_z34us1",
        "outputId": "4613e2b5-a184-45a6-9a39-0d8ff4f020db",
        "colab": {
          "base_uri": "https://localhost:8080/",
          "height": 72
        }
      },
      "source": [
        "print(feat)\n",
        "print(score)"
      ],
      "execution_count": 131,
      "outputs": [
        {
          "output_type": "stream",
          "text": [
            "('std', 'rms', 'katz', 'sample_epy', 'petrosian', 'perm_epy', 'higuchi', 'spectral_epy', 'svd_epy', 'app_epy', 'teager', 'minim', 'maxim', 'hjorth_mobility', 'hjorth_complexity', 'ptp', 'abs_diffs_signal', 'zero_crossing', 'kurtosis', 'mean', 'argmin', 'var', 'mean_square', 'argmax', 'skewness', 'lziv_complex')\n",
            "(0.8833333333333332, 0.8833333333333332, 0.85, 0.8333333333333333, 0.8333333333333333, 0.8333333333333333, 0.8333333333333333, 0.8166666666666667, 0.8, 0.8, 0.7833333333333333, 0.7833333333333333, 0.7833333333333333, 0.7833333333333333, 0.7833333333333333, 0.75, 0.75, 0.7, 0.7, 0.6833333333333333, 0.6, 0.5833333333333333, 0.5833333333333333, 0.5833333333333333, 0.5, 0.36666666666666664)\n"
          ],
          "name": "stdout"
        }
      ]
    },
    {
      "cell_type": "code",
      "metadata": {
        "id": "4tODTVwi4uwF",
        "outputId": "e1f32e95-5919-462f-ec3a-823bb20fb0bf",
        "colab": {
          "base_uri": "https://localhost:8080/",
          "height": 355
        }
      },
      "source": [
        "def del_item(a, b):\n",
        "     return [x for x in a if x not in b]\n",
        "\n",
        "\n",
        "\n",
        "#skf = StratifiedKFold(n_splits=10, random_state=2020, shuffle=False)\n",
        "acc=0\n",
        "deleted_item=[]\n",
        "for i in range(1,20):\n",
        "  feature_selected=list(feat[:i])\n",
        "  # feature_selected=del_item(feature_selected,deleted_item)\n",
        "\n",
        "  X_good=[]\n",
        "  for key,val in zip(feature_list,range(0,feature.shape[1],ch)):\n",
        "      for fe in feature_selected:\n",
        "          if key==fe:     \n",
        "              #print('key',key,'value',val,\":\",val+ch) \n",
        "              X_good.append(feature[:,val:val+ch])\n",
        "  good_feature=np.concatenate((X_good),axis=1)\n",
        "  #good_feature=np.concatenate((good_feature,non_eeg),1)\n",
        "\n",
        "\n",
        "  acc_new=svc_param_selection(good_feature,label)\n",
        "  print(i,' : ', acc_new)\n",
        "\n",
        "  # print(acc_new, good_feature.shape)\n",
        "  # if acc_new<(acc-0.01):\n",
        "  #   deleted_item.append(feature_selected.pop())\n",
        "  #   print('del item',deleted_item)\n",
        "  # else:\n",
        "  #   acc=acc_new\n"
      ],
      "execution_count": 132,
      "outputs": [
        {
          "output_type": "stream",
          "text": [
            "1  :  0.8833333333333332\n",
            "2  :  0.8833333333333332\n",
            "3  :  0.8166666666666667\n",
            "4  :  0.8166666666666667\n",
            "5  :  0.7833333333333333\n",
            "6  :  0.7833333333333333\n",
            "7  :  0.7833333333333333\n",
            "8  :  0.8666666666666666\n",
            "9  :  0.8333333333333333\n",
            "10  :  0.8333333333333333\n",
            "11  :  0.8166666666666667\n",
            "12  :  0.8166666666666667\n",
            "13  :  0.8166666666666667\n",
            "14  :  0.8166666666666667\n",
            "15  :  0.8166666666666667\n",
            "16  :  0.7833333333333333\n",
            "17  :  0.8166666666666667\n",
            "18  :  0.7833333333333333\n",
            "19  :  0.75\n"
          ],
          "name": "stdout"
        }
      ]
    },
    {
      "cell_type": "code",
      "metadata": {
        "id": "D_8pLs4P4uzW",
        "outputId": "ff4c6620-ed4d-4f4d-ffdc-5f940af8e323",
        "colab": {
          "base_uri": "https://localhost:8080/",
          "height": 159
        }
      },
      "source": [
        "\n",
        "feature_selected=feat[:8]\n",
        "X_good=[]\n",
        "for key,val in zip(feature_list,range(0,feature.shape[1],ch)):\n",
        "    for fe in feature_selected:\n",
        "        if key==fe:     \n",
        "            print('key',key,'value',val,\":\",val+ch) \n",
        "            X_good.append(feature[:,val:val+ch])"
      ],
      "execution_count": 133,
      "outputs": [
        {
          "output_type": "stream",
          "text": [
            "key std value 10 : 20\n",
            "key rms value 90 : 100\n",
            "key perm_epy value 150 : 160\n",
            "key spectral_epy value 170 : 180\n",
            "key sample_epy value 180 : 190\n",
            "key katz value 190 : 200\n",
            "key higuchi value 200 : 210\n",
            "key petrosian value 210 : 220\n"
          ],
          "name": "stdout"
        }
      ]
    },
    {
      "cell_type": "code",
      "metadata": {
        "id": "qGjz4Vnz4u2j",
        "outputId": "e0396856-ebd0-49d5-ee98-dc5b74679295",
        "colab": {
          "base_uri": "https://localhost:8080/",
          "height": 35
        }
      },
      "source": [
        "good_feature=np.concatenate((X_good),axis=1)\n",
        "good_feature.shape"
      ],
      "execution_count": 134,
      "outputs": [
        {
          "output_type": "execute_result",
          "data": {
            "text/plain": [
              "(28, 80)"
            ]
          },
          "metadata": {
            "tags": []
          },
          "execution_count": 134
        }
      ]
    },
    {
      "cell_type": "code",
      "metadata": {
        "id": "q1b3fldaWB2o",
        "outputId": "b4a31bf1-cfde-42ec-a90e-db41638b56f8",
        "colab": {
          "base_uri": "https://localhost:8080/",
          "height": 52
        }
      },
      "source": [
        "def svc_param_selection(X, y, nfolds):\n",
        "    Cs = [ 0.1, 1, 10,15,20,25,30,40,50,60,70,80,100,120]\n",
        "    gammas = [0.0001,0.0005,0.001,0.005,0.008, 0.01, 0.1,0.3,0.5, 1]\n",
        "    param_grid = {'C': Cs, 'gamma' : gammas}\n",
        "    grid_search = GridSearchCV(SVC(kernel='rbf'), param_grid, cv=nfolds)\n",
        "    grid_search.fit(X, y)\n",
        "    print(grid_search.best_score_)\n",
        "    return grid_search.best_params_\n",
        "\n",
        "\n",
        "svc_param_selection(good_feature,label,10)"
      ],
      "execution_count": 135,
      "outputs": [
        {
          "output_type": "stream",
          "text": [
            "0.8666666666666666\n"
          ],
          "name": "stdout"
        },
        {
          "output_type": "execute_result",
          "data": {
            "text/plain": [
              "{'C': 1, 'gamma': 0.1}"
            ]
          },
          "metadata": {
            "tags": []
          },
          "execution_count": 135
        }
      ]
    },
    {
      "cell_type": "code",
      "metadata": {
        "id": "GSRZnUauWCNh",
        "outputId": "0d24deed-a32a-4b0f-97d7-4cb271b2be28",
        "colab": {
          "base_uri": "https://localhost:8080/",
          "height": 88
        }
      },
      "source": [
        "clf = SVC(kernel=\"rbf\", C=1,gamma=0.1, probability=True)\n",
        "acc = cross_val_score(clf,good_feature,label,cv=10)\n",
        "precision = cross_val_score(clf,good_feature,label,cv=10,scoring='precision')\n",
        "recall = cross_val_score(clf,good_feature,label,cv=10,scoring='recall')\n",
        "f1 = cross_val_score(clf,good_feature,label,cv=10,scoring='f1')\n",
        "\n",
        "print('average accuracy : ',np.array(acc).mean(),np.std(np.array(acc)))\n",
        "print('average precision : ',np.array(precision).mean(),np.std(np.array(precision)))\n",
        "print('average recall : ',np.array(recall).mean(),np.std(np.array(recall)))\n",
        "print('average f1 score : ',np.array(f1).mean(),np.std(np.array(f1)))"
      ],
      "execution_count": 138,
      "outputs": [
        {
          "output_type": "stream",
          "text": [
            "average accuracy :  0.8666666666666666 0.16329931618554522\n",
            "average precision :  0.8833333333333332 0.18333333333333335\n",
            "average recall :  0.95 0.15\n",
            "average f1 score :  0.8933333333333333 0.13727506854649335\n"
          ],
          "name": "stdout"
        }
      ]
    },
    {
      "cell_type": "code",
      "metadata": {
        "id": "Sw-IOgoCWTAA",
        "outputId": "adb09c0d-d7de-4937-dd4a-dcea8652c253",
        "colab": {
          "base_uri": "https://localhost:8080/",
          "height": 52
        }
      },
      "source": [
        "def knn_param_selection(X, y, nfolds):\n",
        "    n_neighbors  = [ 3,4,5,6,7,8,9]\n",
        "    weights  = ['uniform','distance']\n",
        "    metric=['minkowski','manhattan','euclidean']\n",
        "    param_grid = {'n_neighbors': n_neighbors, 'weights' : weights,'metric':metric}\n",
        "    grid_search =GridSearchCV( KNeighborsClassifier(), param_grid, cv=nfolds,n_jobs=-1)\n",
        "    grid_search.fit(X, y)\n",
        "    print(grid_search.best_score_)\n",
        "    return grid_search.best_params_\n",
        "\n",
        "\n",
        "knn_param_selection(good_feature,label,10)"
      ],
      "execution_count": null,
      "outputs": [
        {
          "output_type": "stream",
          "text": [
            "0.6833333333333333\n"
          ],
          "name": "stdout"
        },
        {
          "output_type": "execute_result",
          "data": {
            "text/plain": [
              "{'metric': 'minkowski', 'n_neighbors': 4, 'weights': 'distance'}"
            ]
          },
          "metadata": {
            "tags": []
          },
          "execution_count": 132
        }
      ]
    },
    {
      "cell_type": "code",
      "metadata": {
        "id": "XqjadvBqWWSH",
        "outputId": "13ecb094-44d6-4aea-e552-005b56b8640c",
        "colab": {
          "base_uri": "https://localhost:8080/",
          "height": 88
        }
      },
      "source": [
        "clf = KNeighborsClassifier(metric= 'minkowski', n_neighbors=4, weights= 'distance')\n",
        "acc = cross_val_score(clf,good_feature,label,cv=10)\n",
        "precision = cross_val_score(clf,good_feature,label,cv=10,scoring='precision')\n",
        "recall = cross_val_score(clf,good_feature,label,cv=10,scoring='recall')\n",
        "f1 = cross_val_score(clf,good_feature,label,cv=10,scoring='f1')\n",
        "\n",
        "print('average accuracy : ',np.array(acc).mean(),np.std(np.array(acc)))\n",
        "print('average precision : ',np.array(precision).mean(),np.std(np.array(precision)))\n",
        "print('average recall : ',np.array(recall).mean(),np.std(np.array(recall)))\n",
        "print('average f1 score : ',np.array(f1).mean(),np.std(np.array(f1)))"
      ],
      "execution_count": null,
      "outputs": [
        {
          "output_type": "stream",
          "text": [
            "average accuracy :  0.6833333333333333 0.24094720491334934\n",
            "average precision :  0.7 0.24494897427831783\n",
            "average recall :  0.85 0.22912878474779197\n",
            "average f1 score :  0.7333333333333333 0.1855921454276674\n"
          ],
          "name": "stdout"
        }
      ]
    },
    {
      "cell_type": "code",
      "metadata": {
        "id": "wAQ5DweRWX8C",
        "outputId": "28ed8a0a-598e-4b9f-c998-fea509218b03",
        "colab": {
          "base_uri": "https://localhost:8080/",
          "height": 52
        }
      },
      "source": [
        "\n",
        "from sklearn.linear_model import LogisticRegression\n",
        "def logistic_param_selection(X, y, nfolds):\n",
        "    C= [0.01,0.05,0.1,0.5, 1,2,3,4,5,8, 10,12,15]\n",
        "    max_it= [200,300,400,500]\n",
        "    param_grid = {'C': C,'max_iter':max_it}\n",
        "    grid_search = GridSearchCV(LogisticRegression(), param_grid, cv=nfolds)\n",
        "    grid_search.fit(X, y)\n",
        "    print(grid_search.best_score_)\n",
        "    return grid_search.best_params_\n",
        "\n",
        "\n",
        "logistic_param_selection(good_feature,label,10)"
      ],
      "execution_count": null,
      "outputs": [
        {
          "output_type": "stream",
          "text": [
            "0.8166666666666667\n"
          ],
          "name": "stdout"
        },
        {
          "output_type": "execute_result",
          "data": {
            "text/plain": [
              "{'C': 0.5, 'max_iter': 200}"
            ]
          },
          "metadata": {
            "tags": []
          },
          "execution_count": 134
        }
      ]
    },
    {
      "cell_type": "code",
      "metadata": {
        "id": "M2glsDq64u69",
        "outputId": "7be031ce-4254-4ad8-c12a-0a335c91a761",
        "colab": {
          "base_uri": "https://localhost:8080/",
          "height": 88
        }
      },
      "source": [
        "clf = LogisticRegression(max_iter=200,C=0.5)\n",
        "acc = cross_val_score(clf,good_feature,label,cv=10)\n",
        "precision = cross_val_score(clf,good_feature,label,cv=10,scoring='precision')\n",
        "recall = cross_val_score(clf,good_feature,label,cv=10,scoring='recall')\n",
        "f1 = cross_val_score(clf,good_feature,label,cv=10,scoring='f1')\n",
        "\n",
        "print('average accuracy : ',np.array(acc).mean(),np.std(np.array(acc)))\n",
        "print('average precision : ',np.array(precision).mean(),np.std(np.array(precision)))\n",
        "print('average recall : ',np.array(recall).mean(),np.std(np.array(recall)))\n",
        "print('average f1 score : ',np.array(f1).mean(),np.std(np.array(f1)))"
      ],
      "execution_count": null,
      "outputs": [
        {
          "output_type": "stream",
          "text": [
            "average accuracy :  0.8166666666666667 0.24094720491334934\n",
            "average precision :  0.85 0.22912878474779202\n",
            "average recall :  0.9 0.2\n",
            "average f1 score :  0.85 0.18929694486000914\n"
          ],
          "name": "stdout"
        }
      ]
    },
    {
      "cell_type": "code",
      "metadata": {
        "id": "LZiWd84kWbAu",
        "outputId": "de083011-43c2-4d31-f51a-e52ee4c0c241",
        "colab": {
          "base_uri": "https://localhost:8080/",
          "height": 106
        }
      },
      "source": [
        "\n",
        "from sklearn.tree import DecisionTreeClassifier\n",
        "from sklearn.model_selection import StratifiedKFold\n",
        "#skf = StratifiedKFold(n_splits=10, random_state=2020, shuffle=False)\n",
        "def dtree_param_selection(X,y):\n",
        "    #create a dictionary of all values we want to test\n",
        "    param_grid = { 'criterion':['gini','entropy'],'max_features':[\"auto\", \"sqrt\", \"log2\"],'max_depth': np.arange(2, 20),'random_state':[10,20,30,40]}\n",
        "    # decision tree model\n",
        "    dtree_model=DecisionTreeClassifier()\n",
        "    #use gridsearch to test all values\n",
        "    dtree_gscv = GridSearchCV(dtree_model, param_grid, cv=10)\n",
        "    #fit model to data\n",
        "    dtree_gscv.fit(X, y)\n",
        "    print(dtree_gscv.best_score_)\n",
        "    #print(dtree_gscv.best_estimator_)\n",
        "    return dtree_gscv.best_params_\n",
        "\n",
        "dtree_param_selection(good_feature,label)"
      ],
      "execution_count": null,
      "outputs": [
        {
          "output_type": "stream",
          "text": [
            "0.75\n"
          ],
          "name": "stdout"
        },
        {
          "output_type": "execute_result",
          "data": {
            "text/plain": [
              "{'criterion': 'gini',\n",
              " 'max_depth': 2,\n",
              " 'max_features': 'auto',\n",
              " 'random_state': 30}"
            ]
          },
          "metadata": {
            "tags": []
          },
          "execution_count": 136
        }
      ]
    },
    {
      "cell_type": "code",
      "metadata": {
        "id": "AmcAY4EAWdyo",
        "outputId": "8e5768ed-36c0-47ac-c55f-b2b6cdf10a56",
        "colab": {
          "base_uri": "https://localhost:8080/",
          "height": 88
        }
      },
      "source": [
        "clf = DecisionTreeClassifier(criterion= 'gini', max_depth= 2, max_features= 'auto',random_state=10)\n",
        "acc = cross_val_score(clf,good_feature,label,cv=10)\n",
        "precision = cross_val_score(clf,good_feature,label,cv=10,scoring='precision')\n",
        "recall = cross_val_score(clf,good_feature,label,cv=10,scoring='recall')\n",
        "f1 = cross_val_score(clf,good_feature,label,cv=10,scoring='f1')\n",
        "\n",
        "print('average accuracy : ',np.array(acc).mean(),np.std(np.array(acc)))\n",
        "print('average precision : ',np.array(precision).mean(),np.std(np.array(precision)))\n",
        "print('average recall : ',np.array(recall).mean(),np.std(np.array(recall)))\n",
        "print('average f1 score : ',np.array(f1).mean(),np.std(np.array(f1)))"
      ],
      "execution_count": null,
      "outputs": [
        {
          "output_type": "stream",
          "text": [
            "average accuracy :  0.65 0.21666666666666667\n",
            "average precision :  0.5333333333333333 0.3929942040850532\n",
            "average recall :  0.65 0.45\n",
            "average f1 score :  0.56 0.38436094147732197\n"
          ],
          "name": "stdout"
        }
      ]
    },
    {
      "cell_type": "code",
      "metadata": {
        "id": "so882PGqWffP"
      },
      "source": [
        ""
      ],
      "execution_count": null,
      "outputs": []
    }
  ]
}